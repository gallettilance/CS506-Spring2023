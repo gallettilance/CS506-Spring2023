{
 "cells": [
  {
   "attachments": {},
   "cell_type": "markdown",
   "metadata": {},
   "source": [
    "# Worksheet 04\n",
    "\n",
    "Name:  lamya alzahrani\n",
    "UID: u57771896\n",
    "\n",
    "### Topics\n",
    "\n",
    "- Distance & Similarity\n",
    "- Cost Functions\n",
    "- K means"
   ]
  },
  {
   "cell_type": "markdown",
   "metadata": {},
   "source": [
    "### Distance & Similarity\n",
    "\n",
    "#### Part 1\n",
    "\n",
    "a) In the minkowski distance, describe what the parameters p and d are."
   ]
  },
  {
   "attachments": {},
   "cell_type": "markdown",
   "metadata": {},
   "source": [
    "p: the order or power of the Minkowski metric, which determines the level of \"normality\". \n",
    "\n",
    "d: the number of dimensions or features in the feature space. "
   ]
  },
  {
   "cell_type": "markdown",
   "metadata": {},
   "source": [
    "b) In your own words describe the difference between the Euclidean distance and the Manhattan distance."
   ]
  },
  {
   "attachments": {},
   "cell_type": "markdown",
   "metadata": {},
   "source": [
    "The Euclidean distance measures straight-line distance between two points in a multi-dimensional space. The Manhattan distance, on the other hand, measures the sum of absolute differences between the corresponding components of two points.\n",
    "\n",
    "the euclidean distance is used when the dimentions are as important. the manhattan distance is used when the dimentions are not equally important. "
   ]
  },
  {
   "attachments": {},
   "cell_type": "markdown",
   "metadata": {},
   "source": [
    "Consider A = (0, 0) and B = (1, 1). When:\n",
    "\n",
    "- p = 1, d(A, B) = 2\n",
    "- p = 2, d(A, B) = $\\sqrt{2} = 1.41$\n",
    "- p = 3, d(A, B) = $2^{1/3} = 1.26$\n",
    "- p = 4, d(A, B) = $2^{1/4} = 1.19$\n",
    "\n",
    "c) Describe what you think distance would look like when p is very large."
   ]
  },
  {
   "attachments": {},
   "cell_type": "markdown",
   "metadata": {},
   "source": [
    "the distance metric becomes more like the Manhattan distance, giving less weight to small differences & more weight to large differences between features"
   ]
  },
  {
   "cell_type": "markdown",
   "metadata": {},
   "source": [
    "d) Is the minkowski distance still a distance function when p < 1? Expain why / why not."
   ]
  },
  {
   "attachments": {},
   "cell_type": "markdown",
   "metadata": {},
   "source": [
    "no, because it may violate the properties of non-negativity, symmetry, and identity of indiscernibles, which are required for a distance function."
   ]
  },
  {
   "cell_type": "markdown",
   "metadata": {},
   "source": [
    "e) when would you use cosine similarity over the euclidan distance?"
   ]
  },
  {
   "attachments": {},
   "cell_type": "markdown",
   "metadata": {},
   "source": [
    "to compare the similarity of two vectors based on their orientation, while Euclidean distance is used to measure the straight-line distance between two points in a multi-dimensional space where all dimensions are equally important."
   ]
  },
  {
   "cell_type": "markdown",
   "metadata": {},
   "source": [
    "f) what does the jaccard distance account for that the manhattan distance doesn't?"
   ]
  },
  {
   "attachments": {},
   "cell_type": "markdown",
   "metadata": {},
   "source": [
    "the similarity between two sets based on the number of elements they share"
   ]
  },
  {
   "attachments": {},
   "cell_type": "markdown",
   "metadata": {},
   "source": [
    "#### Part 2\n",
    "\n",
    "Consider the following two sentences:"
   ]
  },
  {
   "cell_type": "code",
   "execution_count": 173,
   "metadata": {},
   "outputs": [],
   "source": [
    "s1 = \"hello my name is Alice\"  \n",
    "s2 = \"hello my name is Bob\""
   ]
  },
  {
   "cell_type": "markdown",
   "metadata": {},
   "source": [
    "using the union of words from both sentences, we can represent each sentence as a vector. Each element of the vector represents the presence or absence of the word at that index.\n",
    "\n",
    "In this example, the union of words is (\"hello\", \"my\", \"name\", \"is\", \"Alice\", \"Bob\") so we can represent the above sentences as such:"
   ]
  },
  {
   "cell_type": "code",
   "execution_count": 174,
   "metadata": {},
   "outputs": [],
   "source": [
    "v1 = [1,    1, 1,   1, 1,    0]\n",
    "#     hello my name is Alice\n",
    "v2 = [1,    1, 1,   1, 0, 1]\n",
    "#     hello my name is    Bob"
   ]
  },
  {
   "attachments": {},
   "cell_type": "markdown",
   "metadata": {},
   "source": [
    "Programmatically, we can do the following:"
   ]
  },
  {
   "cell_type": "code",
   "execution_count": 175,
   "metadata": {},
   "outputs": [
    {
     "name": "stdout",
     "output_type": "stream",
     "text": [
      "['Bob', 'is', 'name', 'hello', 'Alice', 'my']\n",
      "[0, 1, 1, 1, 1, 1]\n"
     ]
    }
   ],
   "source": [
    "corpus = [s1, s2]\n",
    "all_words = list(set([item for x in corpus for item in x.split()]))\n",
    "print(all_words)\n",
    "v1 = [1 if x in s1 else 0 for x in all_words]\n",
    "print(v1)"
   ]
  },
  {
   "cell_type": "markdown",
   "metadata": {},
   "source": [
    "Let's add a new sentence to our corpus:"
   ]
  },
  {
   "cell_type": "code",
   "execution_count": 176,
   "metadata": {},
   "outputs": [],
   "source": [
    "s3 = \"hi my name is Claude\"\n",
    "corpus.append(s3)"
   ]
  },
  {
   "cell_type": "markdown",
   "metadata": {},
   "source": [
    "a) What is the new union of words used to represent s1, s2, and s3?"
   ]
  },
  {
   "cell_type": "code",
   "execution_count": 177,
   "metadata": {},
   "outputs": [
    {
     "data": {
      "text/plain": [
       "('hello', 'my', 'name', 'is', 'Alice', 'Bob', 'hi', 'Claude')"
      ]
     },
     "execution_count": 177,
     "metadata": {},
     "output_type": "execute_result"
    }
   ],
   "source": [
    "(\"hello\", \"my\", \"name\", \"is\", \"Alice\", \"Bob\", \"hi\", \"Claude\")"
   ]
  },
  {
   "attachments": {},
   "cell_type": "markdown",
   "metadata": {},
   "source": [
    "b) Represent s1, s2, and s3 as vectors as above, using this new set of words."
   ]
  },
  {
   "cell_type": "code",
   "execution_count": 178,
   "metadata": {},
   "outputs": [],
   "source": [
    "v1 = [1, 1, 1, 1, 1, 0, 0, 0]\n",
    "v2 = [1, 1, 1, 1, 0, 1, 0, 0]\n",
    "v3 = [0, 1, 1, 1, 0, 0, 1, 1]"
   ]
  },
  {
   "cell_type": "markdown",
   "metadata": {},
   "source": [
    "c) Write a function that computes the manhattan distance between two vectors. Which pair of vectors are the most similar under that distance function?"
   ]
  },
  {
   "cell_type": "code",
   "execution_count": 179,
   "metadata": {},
   "outputs": [
    {
     "name": "stdout",
     "output_type": "stream",
     "text": [
      "v1 and v2's manhattan distance is:  2\n",
      "v1 and v3's manhattan distance is:  4\n",
      "v2 and v3's manhattan distance is:  4\n"
     ]
    }
   ],
   "source": [
    "def manhattan_distance(vectorA, vectorB):\n",
    "    return sum(abs(i - j) for i, j in zip(vectorA, vectorB))\n",
    "\n",
    "# testing, to find the smallest manhattan distance\n",
    "print(\"v1 and v2's manhattan distance is: \", manhattan_distance(v1, v2))\n",
    "print(\"v1 and v3's manhattan distance is: \", manhattan_distance(v1, v3))\n",
    "print(\"v2 and v3's manhattan distance is: \", manhattan_distance(v2, v3))"
   ]
  },
  {
   "attachments": {},
   "cell_type": "markdown",
   "metadata": {},
   "source": [
    "v1 and v2"
   ]
  },
  {
   "cell_type": "markdown",
   "metadata": {},
   "source": [
    "d) Create a matrix of all these vectors (row major) and add the following sentences in vector form:\n",
    "\n",
    "- \"hi Alice\"\n",
    "- \"hello Claude\"\n",
    "- \"Bob my name is Claude\"\n",
    "- \"hi Claude my name is Alice\"\n",
    "- \"hello Bob\""
   ]
  },
  {
   "cell_type": "code",
   "execution_count": 180,
   "metadata": {},
   "outputs": [],
   "source": [
    "v4 = [0, 1, 0, 0, 1, 0, 0, 0]\n",
    "v5 = [0, 0, 0, 0, 1, 0, 1, 1]\n",
    "v6 = [1, 1, 1, 1, 0, 1, 1, 0]\n",
    "v7 = [0, 1, 1, 0, 1, 0, 1, 0]\n",
    "v8 = [1, 1, 1, 0, 1, 1, 0, 1]\n",
    "\n",
    "# this matrix includes the previous vectors as well\n",
    "# i wasnt sure from the wording of the question if \n",
    "# they should be added or not. \n",
    "matrix = [v1, v2, v3, v4, v5, v6, v7, v8]\n"
   ]
  },
  {
   "cell_type": "markdown",
   "metadata": {},
   "source": [
    "e) How many rows and columns does this matrix have?"
   ]
  },
  {
   "cell_type": "code",
   "execution_count": 181,
   "metadata": {},
   "outputs": [
    {
     "name": "stdout",
     "output_type": "stream",
     "text": [
      "number of rows: 8\n",
      "number of columns: 8\n"
     ]
    }
   ],
   "source": [
    "# if the matrix did not include the previous e vectors\n",
    "# the new number of rows and columns would be: 5 rows and 8 columns \n",
    "\n",
    "rows = len(matrix)\n",
    "cols = len(matrix[0])\n",
    "print(\"number of rows:\", rows)\n",
    "print(\"number of columns:\", cols)\n"
   ]
  },
  {
   "attachments": {},
   "cell_type": "markdown",
   "metadata": {},
   "source": [
    "f) When using the Manhattan distance, which two sentences are the most similar?"
   ]
  },
  {
   "cell_type": "code",
   "execution_count": 182,
   "metadata": {},
   "outputs": [
    {
     "name": "stdout",
     "output_type": "stream",
     "text": [
      "vector 1 and 2's manhattan distance is: 2\n",
      "vector 1 and 3's manhattan distance is: 4\n",
      "vector 1 and 4's manhattan distance is: 3\n",
      "vector 1 and 5's manhattan distance is: 6\n",
      "vector 1 and 6's manhattan distance is: 3\n",
      "vector 1 and 7's manhattan distance is: 3\n",
      "vector 1 and 8's manhattan distance is: 3\n",
      "vector 2 and 3's manhattan distance is: 4\n",
      "vector 2 and 4's manhattan distance is: 5\n",
      "vector 2 and 5's manhattan distance is: 8\n",
      "vector 2 and 6's manhattan distance is: 1\n",
      "vector 2 and 7's manhattan distance is: 5\n",
      "vector 2 and 8's manhattan distance is: 3\n",
      "vector 3 and 4's manhattan distance is: 5\n",
      "vector 3 and 5's manhattan distance is: 4\n",
      "vector 3 and 6's manhattan distance is: 3\n",
      "vector 3 and 7's manhattan distance is: 3\n",
      "vector 3 and 8's manhattan distance is: 5\n",
      "vector 4 and 5's manhattan distance is: 3\n",
      "vector 4 and 6's manhattan distance is: 6\n",
      "vector 4 and 7's manhattan distance is: 2\n",
      "vector 4 and 8's manhattan distance is: 4\n",
      "vector 5 and 6's manhattan distance is: 7\n",
      "vector 5 and 7's manhattan distance is: 3\n",
      "vector 5 and 8's manhattan distance is: 5\n",
      "vector 6 and 7's manhattan distance is: 4\n",
      "vector 6 and 8's manhattan distance is: 4\n",
      "vector 7 and 8's manhattan distance is: 4\n",
      "\n",
      "vectors witht he min manhattan distance are:  (2, 6)\n"
     ]
    }
   ],
   "source": [
    "corpus = [s1, s2, s3, \"hi Alice\", \"hello Claude\", \"Bob my name is Claude\", \"hi Claude my name is Alice\", \"hello Bob\"]\n",
    "\n",
    "\n",
    "\n",
    "min_vectors = 0, 0\n",
    "min_distance = manhattan_distance(v1, v2)\n",
    "for i, v1 in enumerate(matrix):\n",
    "    for j, v2 in enumerate(matrix[i+1:]):\n",
    "        print(\"vector {} and {}'s manhattan distance is: {}\".format(i+1, j+i+2, manhattan_distance(v1, v2)))\n",
    "        if (min_distance > manhattan_distance(v1, v2)):\n",
    "            min_vectors = i+1, j+i+2\n",
    "            min_distance = manhattan_distance(v1, v2)\n",
    "\n",
    "print(\"\\nvectors witht he min manhattan distance are: \", min_vectors)"
   ]
  },
  {
   "attachments": {},
   "cell_type": "markdown",
   "metadata": {},
   "source": [
    "v2 and v6"
   ]
  },
  {
   "attachments": {},
   "cell_type": "markdown",
   "metadata": {},
   "source": [
    "### Cost Function\n",
    "\n",
    "Solving Data Science problems often starts by defining a metric with which to evaluate solutions were you able to find some. This metric is called a cost function. Data Science then backtracks and tries to find a process / algorithm to find solutions that can optimize for that cost function.\n",
    "\n",
    "For example suppose you are asked to cluster three points A, B, C into two non-empty clusters. If someone gave you the solution `{A, B}, {C}`, how would you evaluate that this is a good solution?\n",
    "\n",
    "Notice that because the clusters need to be non-empty and all points must be assigned to a cluster, it must be that two of the three points will be together in one cluster and the third will be alone in the other cluster.\n",
    "\n",
    "In the above solution, if A and B are closer than A and C, and B and C, then this is a good solution. The smaller the distance between the two points in the same cluster (here A and B), the better the solution. So we can define our cost function to be that distance (between A and B here)!\n",
    "\n",
    "The algorithm / process would involve clustering together the two closest points and put the third in its own cluster. This process optimizes for that cost function because no other pair of points could have a lower distance (although it could equal it)."
   ]
  },
  {
   "cell_type": "markdown",
   "metadata": {},
   "source": [
    "### K means\n",
    "\n",
    "a) (1-dimensional clustering) Walk through Lloyd's algorithm step by step on the following dataset:\n",
    "\n",
    "`[0, .5, 1.5, 2, 6, 6.5, 7]` (note: each of these are 1-dimensional data points)\n",
    "\n",
    "Given the initial centroids:\n",
    "\n",
    "`[0, 2]`"
   ]
  },
  {
   "attachments": {},
   "cell_type": "markdown",
   "metadata": {},
   "source": [
    "1. Assign data points to closest centroid: [0, .5, 1.5, 2] belong to centroid 0 and [6, 6.5, 7] belong to centroid 2.\n",
    "2. Calculate mean of data points in each cluster: mean of data points belonging to centroid 0 is 1 and mean of data points belonging to centroid 2 is 6.5.\n",
    "3. Replace the centroids with the mean values calculated in step 2: [1, 6.5]\n",
    "4. Repeat steps 1-3 until the centroids do not change anymore.\n",
    "\n",
    "\n"
   ]
  },
  {
   "cell_type": "markdown",
   "metadata": {},
   "source": [
    "b) Describe in plain english what the cost function for k means is."
   ]
  },
  {
   "attachments": {},
   "cell_type": "markdown",
   "metadata": {},
   "source": [
    "it is the sum of the squared distances between each data point and its assigned cluster centroid. The goal is to minimize this cost, which represents the overall variance of the data points within each cluster."
   ]
  },
  {
   "cell_type": "markdown",
   "metadata": {},
   "source": [
    "c) For the same number of clusters K, why could there be very different solutions to the K means algorithm on a given dataset?"
   ]
  },
  {
   "attachments": {},
   "cell_type": "markdown",
   "metadata": {},
   "source": [
    "The final solution depends on the randomly chosen initial centroids. because the algorithm is sensitive to initial conditions and can result in local optima. "
   ]
  },
  {
   "cell_type": "markdown",
   "metadata": {},
   "source": [
    "d) Does Lloyd's Algorithm always converge? Why / why not?"
   ]
  },
  {
   "attachments": {},
   "cell_type": "markdown",
   "metadata": {},
   "source": [
    "no as it depends on the initial centroids chosen and can get stuck in local optima."
   ]
  }
 ],
 "metadata": {
  "kernelspec": {
   "display_name": "Python 3",
   "language": "python",
   "name": "python3"
  },
  "language_info": {
   "codemirror_mode": {
    "name": "ipython",
    "version": 3
   },
   "file_extension": ".py",
   "mimetype": "text/x-python",
   "name": "python",
   "nbconvert_exporter": "python",
   "pygments_lexer": "ipython3",
   "version": "3.10.7"
  },
  "orig_nbformat": 4,
  "vscode": {
   "interpreter": {
    "hash": "aee8b7b246df8f9039afb4144a1f6fd8d2ca17a180786b69acc140d282b71a49"
   }
  }
 },
 "nbformat": 4,
 "nbformat_minor": 2
}
