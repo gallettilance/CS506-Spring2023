{
 "cells": [
  {
   "cell_type": "markdown",
   "metadata": {},
   "source": [
    "# Worksheet 04\n",
    "\n",
    "Name:  \n",
    "UID: \n",
    "\n",
    "### Topics\n",
    "\n",
    "- Distance & Similarity\n",
    "- Cost Functions\n",
    "- K means"
   ]
  },
  {
   "cell_type": "markdown",
   "metadata": {},
   "source": [
    "### Distance & Similarity\n",
    "\n",
    "#### Part 1\n",
    "\n",
    "a) In the minkowski distance, describe what the parameters p and d are."
   ]
  },
  {
   "cell_type": "markdown",
   "metadata": {},
   "source": [
    "In Minkowski distance, \"p\" and \"d\" are two parameters used to calculate the distance between two points in a d-dimensional space.\n",
    "\n",
    "\"p\" represents the power or order of the Minkowski distance formula, and determines the nature of the distance metric. For example, when \"p\" = 1, the Minkowski distance becomes the Manhattan distance, and when \"p\" = 2, it becomes the Euclidean distance. When \"p\" approaches infinity, the Minkowski distance becomes the Chebyshev distance.\n",
    "\n",
    "\"d\" is the number of dimensions or features in the data space. Each feature represents a different aspect of the data, and the Minkowski distance formula calculates the distance between the two points based on the values of these features. The value of \"d\" can be any positive integer and determines the number of terms in the formula.\n",
    "\n",
    "In summary, the Minkowski distance formula uses the values of \"p\" and \"d\" to calculate the distance between two points in a d-dimensional space, taking into account the order (or power) of the distance metric, and the number of features or dimensions in the data."
   ]
  },
  {
   "cell_type": "markdown",
   "metadata": {},
   "source": [
    "b) In your own words describe the difference between the Euclidean distance and the Manhattan distance."
   ]
  },
  {
   "cell_type": "markdown",
   "metadata": {},
   "source": [
    "The Euclidean distance is a straight-line distance between two points in a multi-dimensional space. It is calculated as the square root of the sum of the squares of the differences between the corresponding elements of the two points. The Euclidean distance is a good measure of similarity between two points when the dimensions are equally important and the relationships between dimensions are linear.\n",
    "\n",
    "On the other hand, the Manhattan distance (also known as the taxicab distance) is a distance metric that measures the absolute differences between the coordinates of two points and sums them up. It is calculated as the sum of the absolute differences between the corresponding elements of the two points. The Manhattan distance is useful when the dimensions are not equally important, and when the relationships between dimensions are not linear.\n",
    "\n",
    "In summary, the main difference between the Euclidean distance and the Manhattan distance is the way they measure the distance between two points. The Euclidean distance uses a straight-line distance measure, while the Manhattan distance uses a sum of absolute differences measure. The choice of distance metric depends on the characteristics of the data and the nature of the problem being solved."
   ]
  },
  {
   "cell_type": "markdown",
   "metadata": {},
   "source": [
    "Consider A = (0, 0) and B = (1, 1). When:\n",
    "\n",
    "- p = 1, d(A, B) = 2\n",
    "- p = 2, d(A, B) = $\\sqrt{2} = 1.41$\n",
    "- p = 3, d(A, B) = $2^{1/3} = 1.26$\n",
    "- p = 4, d(A, B) = $2^{1/4} = 1.19$\n",
    "\n",
    "c) Describe what you think distance would look like when p is very large."
   ]
  },
  {
   "cell_type": "markdown",
   "metadata": {},
   "source": [
    "When the value of \"p\" in the Minkowski distance formula is very large, the distance metric becomes increasingly sensitive to the largest differences between the elements of the two points being compared. This means that the distance between two points would be dominated by the largest difference in a single dimension, regardless of the differences in other dimensions.\n",
    "\n",
    "In other words, when \"p\" is very large, the Minkowski distance becomes equivalent to the Chebyshev distance, which is also known as the maximum metric or the L∞ metric. The Chebyshev distance measures the maximum difference between the elements of two points, rather than the sum of the differences, as in the Manhattan distance."
   ]
  },
  {
   "cell_type": "markdown",
   "metadata": {},
   "source": [
    "d) Is the minkowski distance still a distance function when p < 1? Expain why / why not."
   ]
  },
  {
   "cell_type": "markdown",
   "metadata": {},
   "source": [
    "The Minkowski distance is not always a valid distance function when \"p\" is less than 1. A distance function must satisfy the following properties:\n",
    "\n",
    "Non-negativity: The distance between two points must be non-negative, with zero distance only between the same point.\n",
    "Symmetry: The distance between two points must be the same in either direction.\n",
    "Triangle inequality: The distance between two points must be less than or equal to the sum of the distances between each point and a third point.\n",
    "For values of \"p\" greater than or equal to 1, the Minkowski distance satisfies these properties and is therefore a valid distance function. However, when \"p\" is less than 1, the Minkowski distance may not satisfy the triangle inequality, which is a crucial property for a valid distance function. This is because the Minkowski distance with \"p\" less than 1 is not a metric in the mathematical sense.\n",
    "\n",
    "In summary, the Minkowski distance is only a valid distance function when \"p\" is greater than or equal to 1, as it satisfies the necessary properties for a distance function in this case. When \"p\" is less than 1, the Minkowski distance may not satisfy the triangle inequality and is therefore not considered a valid distance function."
   ]
  },
  {
   "cell_type": "markdown",
   "metadata": {},
   "source": [
    "e) when would you use cosine similarity over the euclidan distance?"
   ]
  },
  {
   "cell_type": "markdown",
   "metadata": {},
   "source": [
    "Cosine similarity and Euclidean distance are two different measures used to determine the similarity between two vectors in a multi-dimensional space. The choice between these two measures depends on the nature of the data and the problem being solved.\n",
    "\n",
    "Euclidean distance is a measure of the straight-line distance between two points in a multi-dimensional space. It is appropriate for use when the dimensions are equally important and the relationships between dimensions are linear. In these cases, the Euclidean distance can be a good measure of the similarity between two vectors, as it takes into account the differences in all dimensions.\n",
    "\n",
    "Cosine similarity, on the other hand, is a measure of the cosine of the angle between two vectors. It is a measure of the similarity between two vectors, with values ranging from -1 (completely dissimilar) to 1 (identical). Cosine similarity is often used when the relationships between dimensions are not linear and when the length of the vectors is more important than the differences in individual dimensions."
   ]
  },
  {
   "cell_type": "markdown",
   "metadata": {},
   "source": [
    "f) what does the jaccard distance account for that the manhattan distance doesn't?"
   ]
  },
  {
   "cell_type": "markdown",
   "metadata": {},
   "source": [
    "The Jaccard distance and the Manhattan distance are both measures of the similarity between two sets of data. However, they differ in their definition and the information they take into account.\n",
    "\n",
    "The Manhattan distance, also known as the taxicab distance or L1 distance, measures the absolute differences between the elements of two sets and sums them up. It is a measure of the difference between two sets, with values ranging from 0 (identical) to infinity (completely dissimilar). The Manhattan distance does not take into account the size of the sets or the number of common elements between them."
   ]
  },
  {
   "cell_type": "markdown",
   "metadata": {},
   "source": [
    "#### Part 2\n",
    "\n",
    "Consider the following two sentences:"
   ]
  },
  {
   "cell_type": "code",
   "execution_count": 1,
   "metadata": {},
   "outputs": [],
   "source": [
    "s1 = \"hello my name is Alice\"  \n",
    "s2 = \"hello my name is Bob\""
   ]
  },
  {
   "cell_type": "markdown",
   "metadata": {},
   "source": [
    "using the union of words from both sentences, we can represent each sentence as a vector. Each element of the vector represents the presence or absence of the word at that index.\n",
    "\n",
    "In this example, the union of words is (\"hello\", \"my\", \"name\", \"is\", \"Alice\", \"Bob\") so we can represent the above sentences as such:"
   ]
  },
  {
   "cell_type": "code",
   "execution_count": 2,
   "metadata": {},
   "outputs": [],
   "source": [
    "v1 = [1,    1, 1,   1, 1,    0]\n",
    "#     hello my name is Alice\n",
    "v2 = [1,    1, 1,   1, 0, 1]\n",
    "#     hello my name is    Bob"
   ]
  },
  {
   "cell_type": "markdown",
   "metadata": {},
   "source": [
    "Programmatically, we can do the following:"
   ]
  },
  {
   "cell_type": "code",
   "execution_count": 3,
   "metadata": {},
   "outputs": [
    {
     "name": "stdout",
     "output_type": "stream",
     "text": [
      "['name', 'my', 'hello', 'Alice', 'is', 'Bob']\n",
      "[1, 1, 1, 1, 1, 0]\n"
     ]
    }
   ],
   "source": [
    "corpus = [s1, s2]\n",
    "all_words = list(set([item for x in corpus for item in x.split()]))\n",
    "print(all_words)\n",
    "v1 = [1 if x in s1 else 0 for x in all_words]\n",
    "print(v1)"
   ]
  },
  {
   "cell_type": "markdown",
   "metadata": {},
   "source": [
    "Let's add a new sentence to our corpus:"
   ]
  },
  {
   "cell_type": "code",
   "execution_count": 4,
   "metadata": {},
   "outputs": [],
   "source": [
    "s3 = \"hi my name is Claude\"\n",
    "corpus.append(s3)"
   ]
  },
  {
   "cell_type": "markdown",
   "metadata": {},
   "source": [
    "a) What is the new union of words used to represent s1, s2, and s3?"
   ]
  },
  {
   "cell_type": "code",
   "execution_count": 5,
   "metadata": {},
   "outputs": [
    {
     "name": "stdout",
     "output_type": "stream",
     "text": [
      "['name', 'Claude', 'hello', 'Alice', 'is', 'hi', 'my', 'Bob']\n"
     ]
    }
   ],
   "source": [
    "all_words = list(set([item for x in corpus for item in x.split()]))\n",
    "print(all_words)"
   ]
  },
  {
   "cell_type": "markdown",
   "metadata": {},
   "source": [
    "b) Represent s1, s2, and s3 as vectors as above, using this new set of words."
   ]
  },
  {
   "cell_type": "code",
   "execution_count": 6,
   "metadata": {},
   "outputs": [
    {
     "name": "stdout",
     "output_type": "stream",
     "text": [
      "[1, 0, 1, 1, 1, 0, 1, 0]\n",
      "[1, 0, 1, 0, 1, 0, 1, 1]\n",
      "[1, 1, 0, 0, 1, 1, 1, 0]\n"
     ]
    }
   ],
   "source": [
    "v1 = [1 if x in s1 else 0 for x in all_words]\n",
    "v2 = [1 if x in s2 else 0 for x in all_words]\n",
    "v3 = [1 if x in s3 else 0 for x in all_words]\n",
    "print(v1)\n",
    "print(v2)\n",
    "print(v3)"
   ]
  },
  {
   "cell_type": "markdown",
   "metadata": {},
   "source": [
    "c) Write a function that computes the manhattan distance between two vectors. Which pair of vectors are the most similar under that distance function?"
   ]
  },
  {
   "cell_type": "code",
   "execution_count": 7,
   "metadata": {},
   "outputs": [],
   "source": [
    "def manhattan_dist(x, y):\n",
    "    res = 0\n",
    "    for i in range(len(x)):\n",
    "        res += abs(x[i]- y[i])\n",
    "    return res"
   ]
  },
  {
   "cell_type": "markdown",
   "metadata": {},
   "source": []
  },
  {
   "cell_type": "markdown",
   "metadata": {},
   "source": [
    "d) Create a matrix of all these vectors (row major) and add the following sentences in vector form:\n",
    "\n",
    "- \"hi Alice\"\n",
    "- \"hello Claude\"\n",
    "- \"Bob my name is Claude\"\n",
    "- \"hi Claude my name is Alice\"\n",
    "- \"hello Bob\""
   ]
  },
  {
   "cell_type": "code",
   "execution_count": 8,
   "metadata": {},
   "outputs": [
    {
     "name": "stdout",
     "output_type": "stream",
     "text": [
      "[[1. 0. 0. 0. 1. 0. 0. 0.]\n",
      " [0. 0. 1. 1. 0. 0. 0. 0.]\n",
      " [0. 1. 1. 0. 0. 1. 1. 1.]\n",
      " [1. 0. 1. 0. 1. 1. 1. 1.]\n",
      " [0. 1. 0. 1. 0. 0. 0. 0.]]\n"
     ]
    }
   ],
   "source": [
    "import numpy as np\n",
    "\n",
    "sentences = [\"hi Alice\", \"hello Claude\", \"Bob my name is Claude\", \"hi Claude my name is Alice\", \"hello Bob\"]\n",
    "\n",
    "# Define a vocabulary of words\n",
    "vocab = sorted(set(word for sentence in sentences for word in sentence.split()))\n",
    "word_to_ix = {word: i for i, word in enumerate(vocab)}\n",
    "\n",
    "# Convert sentences to a matrix of word indices\n",
    "sentence_vectors = np.zeros((len(sentences), len(vocab)))\n",
    "for i, sentence in enumerate(sentences):\n",
    "    for word in sentence.split():\n",
    "        sentence_vectors[i, word_to_ix[word]] = 1\n",
    "\n",
    "print(sentence_vectors)"
   ]
  },
  {
   "cell_type": "markdown",
   "metadata": {},
   "source": [
    "e) How many rows and columns does this matrix have?"
   ]
  },
  {
   "cell_type": "markdown",
   "metadata": {},
   "source": [
    "The matrix created in the previous answer will have len(sentences) rows and len(vocab) columns.\n",
    "In this specific example, the number of rows is 5, which is the number of sentences, and the number of columns is 11, which is the size of the vocabulary."
   ]
  },
  {
   "cell_type": "markdown",
   "metadata": {},
   "source": [
    "f) When using the Manhattan distance, which two sentences are the most similar?"
   ]
  },
  {
   "cell_type": "markdown",
   "metadata": {},
   "source": [
    "In this example, the two most similar sentences will be \"hi Alice\" and \"hi Claude my name is Alice\", as they both contain the words \"hi\" and \"Alice\". The distance between these two sentences will be the smallest among all possible pairs, so they will be the most similar according to the Manhattan distance."
   ]
  },
  {
   "cell_type": "markdown",
   "metadata": {},
   "source": []
  },
  {
   "cell_type": "markdown",
   "metadata": {},
   "source": [
    "### Cost Function\n",
    "\n",
    "Solving Data Science problems often starts by defining a metric with which to evaluate solutions were you able to find some. This metric is called a cost function. Data Science then backtracks and tries to find a process / algorithm to find solutions that can optimize for that cost function.\n",
    "\n",
    "For example suppose you are asked to cluster three points A, B, C into two non-empty clusters. If someone gave you the solution `{A, B}, {C}`, how would you evaluate that this is a good solution?\n",
    "\n",
    "Notice that because the clusters need to be non-empty and all points must be assigned to a cluster, it must be that two of the three points will be together in one cluster and the third will be alone in the other cluster.\n",
    "\n",
    "In the above solution, if A and B are closer than A and C, and B and C, then this is a good solution. The smaller the distance between the two points in the same cluster (here A and B), the better the solution. So we can define our cost function to be that distance (between A and B here)!\n",
    "\n",
    "The algorithm / process would involve clustering together the two closest points and put the third in its own cluster. This process optimizes for that cost function because no other pair of points could have a lower distance (although it could equal it)."
   ]
  },
  {
   "cell_type": "markdown",
   "metadata": {},
   "source": [
    "### K means\n",
    "\n",
    "a) (1-dimensional clustering) Walk through Lloyd's algorithm step by step on the following dataset:\n",
    "\n",
    "`[0, .5, 1.5, 2, 6, 6.5, 7]` (note: each of these are 1-dimensional data points)\n",
    "\n",
    "Given the initial centroids:\n",
    "\n",
    "`[0, 2]`"
   ]
  },
  {
   "cell_type": "markdown",
   "metadata": {},
   "source": []
  },
  {
   "cell_type": "markdown",
   "metadata": {},
   "source": [
    "b) Describe in plain english what the cost function for k means is."
   ]
  },
  {
   "cell_type": "markdown",
   "metadata": {},
   "source": []
  },
  {
   "cell_type": "markdown",
   "metadata": {},
   "source": [
    "c) For the same number of clusters K, why could there be very different solutions to the K means algorithm on a given dataset?"
   ]
  },
  {
   "cell_type": "markdown",
   "metadata": {},
   "source": []
  },
  {
   "cell_type": "markdown",
   "metadata": {},
   "source": [
    "d) Does Lloyd's Algorithm always converge? Why / why not?"
   ]
  },
  {
   "cell_type": "markdown",
   "metadata": {},
   "source": []
  }
 ],
 "metadata": {
  "kernelspec": {
   "display_name": "Python 3 (ipykernel)",
   "language": "python",
   "name": "python3"
  },
  "language_info": {
   "codemirror_mode": {
    "name": "ipython",
    "version": 3
   },
   "file_extension": ".py",
   "mimetype": "text/x-python",
   "name": "python",
   "nbconvert_exporter": "python",
   "pygments_lexer": "ipython3",
   "version": "3.10.9"
  },
  "vscode": {
   "interpreter": {
    "hash": "76ca05dc3ea24b2e3b98cdb7774adfbb40773424bf5109b477fd793f623715af"
   }
  }
 },
 "nbformat": 4,
 "nbformat_minor": 2
}
