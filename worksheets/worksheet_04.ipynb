{
  "cells": [
    {
      "cell_type": "markdown",
      "metadata": {
        "id": "iluMRxUktw93"
      },
      "source": [
        "# Worksheet 04\n",
        "\n",
        "Name: Yingjie Ouyang  \n",
        "UID: U86074230\n",
        "\n",
        "### Topics\n",
        "\n",
        "- Distance & Similarity\n",
        "- Cost Functions\n",
        "- K means"
      ]
    },
    {
      "cell_type": "markdown",
      "metadata": {
        "id": "dIcjcr6Etw96"
      },
      "source": [
        "### Distance & Similarity\n",
        "\n",
        "#### Part 1\n",
        "\n",
        "a) In the minkowski distance, describe what the parameters p and d are."
      ]
    },
    {
      "cell_type": "markdown",
      "metadata": {
        "id": "0k_tQWtrtw97"
      },
      "source": [
        "p refers to a parameter that determines flexibility of distance  \n",
        "d refers to the dimension in real space we are operating in"
      ]
    },
    {
      "cell_type": "markdown",
      "metadata": {
        "id": "S1BA3_CGtw97"
      },
      "source": [
        "b) In your own words describe the difference between the Euclidean distance and the Manhattan distance."
      ]
    },
    {
      "cell_type": "markdown",
      "metadata": {
        "id": "KFfXEgKQtw97"
      },
      "source": [
        "Euclidean distance is the shortest distance between two points i.e. if you drew a line between the two points\n",
        "\n",
        "Manhattan distance is the shortest distance between two points along the x/y axis i.e. if you could only move horizontally or vertically"
      ]
    },
    {
      "cell_type": "markdown",
      "metadata": {
        "id": "qeFYuH45tw98"
      },
      "source": [
        "Consider A = (0, 0) and B = (1, 1). When:\n",
        "\n",
        "- p = 1, d(A, B) = 2\n",
        "- p = 2, d(A, B) = $\\sqrt{2} = 1.41$\n",
        "- p = 3, d(A, B) = $2^{1/3} = 1.26$\n",
        "- p = 4, d(A, B) = $2^{1/4} = 1.19$\n",
        "\n",
        "c) Describe what you think distance would look like when p is very large."
      ]
    },
    {
      "cell_type": "markdown",
      "metadata": {
        "id": "lhCXbi89tw98"
      },
      "source": [
        "The distance between A and B starts to converge at 1"
      ]
    },
    {
      "cell_type": "markdown",
      "metadata": {
        "id": "87JMT2_Htw98"
      },
      "source": [
        "d) Is the minkowski distance still a distance function when p < 1? Expain why / why not."
      ]
    },
    {
      "cell_type": "markdown",
      "metadata": {
        "id": "Dba-lQsytw98"
      },
      "source": [
        "No, because it violates the triangle inequality"
      ]
    },
    {
      "cell_type": "markdown",
      "metadata": {
        "id": "5HxSsOB4tw99"
      },
      "source": [
        "e) when would you use cosine similarity over the euclidan distance?"
      ]
    },
    {
      "cell_type": "markdown",
      "metadata": {
        "id": "wYE1Mzgdtw99"
      },
      "source": [
        "When direction matters more than magnitude"
      ]
    },
    {
      "cell_type": "markdown",
      "metadata": {
        "id": "F2j8hTBbtw99"
      },
      "source": [
        "f) what does the jaccard distance account for that the manhattan distance doesn't?"
      ]
    },
    {
      "cell_type": "markdown",
      "metadata": {
        "id": "oTm9o0gltw99"
      },
      "source": [
        "The size of the intersection"
      ]
    },
    {
      "cell_type": "markdown",
      "metadata": {
        "id": "UgBkojaFtw99"
      },
      "source": [
        "#### Part 2\n",
        "\n",
        "Consider the following two sentences:"
      ]
    },
    {
      "cell_type": "code",
      "execution_count": 1,
      "metadata": {
        "id": "8qEmbUU0tw9-"
      },
      "outputs": [],
      "source": [
        "s1 = \"hello my name is Alice\"  \n",
        "s2 = \"hello my name is Bob\""
      ]
    },
    {
      "cell_type": "markdown",
      "metadata": {
        "id": "Mg2LjIfJtw9-"
      },
      "source": [
        "using the union of words from both sentences, we can represent each sentence as a vector. Each element of the vector represents the presence or absence of the word at that index.\n",
        "\n",
        "In this example, the union of words is (\"hello\", \"my\", \"name\", \"is\", \"Alice\", \"Bob\") so we can represent the above sentences as such:"
      ]
    },
    {
      "cell_type": "code",
      "execution_count": 2,
      "metadata": {
        "id": "HPCjKltrtw9_"
      },
      "outputs": [],
      "source": [
        "v1 = [1,    1, 1,   1, 1,    0]\n",
        "#     hello my name is Alice\n",
        "v2 = [1,    1, 1,   1, 0, 1]\n",
        "#     hello my name is    Bob"
      ]
    },
    {
      "cell_type": "markdown",
      "metadata": {
        "id": "5EIBBz_ctw9_"
      },
      "source": [
        "Programmatically, we can do the following:"
      ]
    },
    {
      "cell_type": "code",
      "execution_count": 3,
      "metadata": {
        "id": "BhImzxZKtw9_",
        "outputId": "9f123e15-9760-4e58-e5b4-7e8f964b8030",
        "colab": {
          "base_uri": "https://localhost:8080/"
        }
      },
      "outputs": [
        {
          "output_type": "stream",
          "name": "stdout",
          "text": [
            "['hello', 'is', 'Alice', 'Bob', 'my', 'name']\n",
            "[1, 1, 1, 0, 1, 1]\n"
          ]
        }
      ],
      "source": [
        "corpus = [s1, s2]\n",
        "all_words = list(set([item for x in corpus for item in x.split()]))\n",
        "print(all_words)\n",
        "v1 = [1 if x in s1 else 0 for x in all_words]\n",
        "print(v1)"
      ]
    },
    {
      "cell_type": "markdown",
      "metadata": {
        "id": "Wu9RfMWktw9_"
      },
      "source": [
        "Let's add a new sentence to our corpus:"
      ]
    },
    {
      "cell_type": "code",
      "execution_count": 4,
      "metadata": {
        "id": "OFBGwDlMtw-A"
      },
      "outputs": [],
      "source": [
        "s3 = \"hi my name is Claude\"\n",
        "corpus.append(s3)"
      ]
    },
    {
      "cell_type": "markdown",
      "metadata": {
        "id": "FIl_S7Xbtw-A"
      },
      "source": [
        "a) What is the new union of words used to represent s1, s2, and s3?"
      ]
    },
    {
      "cell_type": "code",
      "execution_count": 5,
      "metadata": {
        "id": "3yu1hos_tw-A",
        "colab": {
          "base_uri": "https://localhost:8080/"
        },
        "outputId": "26f6391d-9c97-4d94-f2db-fb0b2f65655f"
      },
      "outputs": [
        {
          "output_type": "stream",
          "name": "stdout",
          "text": [
            "['hello', 'hi', 'is', 'Alice', 'Bob', 'my', 'Claude', 'name']\n"
          ]
        }
      ],
      "source": [
        "all_words = list(set([item for x in corpus for item in x.split()]))\n",
        "print(all_words)"
      ]
    },
    {
      "cell_type": "markdown",
      "metadata": {
        "id": "MYKwg8Wftw-A"
      },
      "source": [
        "b) Represent s1, s2, and s3 as vectors as above, using this new set of words."
      ]
    },
    {
      "cell_type": "code",
      "execution_count": 6,
      "metadata": {
        "id": "Dn3SkVlwtw-A",
        "colab": {
          "base_uri": "https://localhost:8080/"
        },
        "outputId": "a725b575-8546-410b-f2d0-11b153ac38b3"
      },
      "outputs": [
        {
          "output_type": "stream",
          "name": "stdout",
          "text": [
            "[1, 0, 1, 1, 0, 1, 0, 1]\n",
            "[1, 0, 1, 0, 1, 1, 0, 1]\n",
            "[0, 1, 1, 0, 0, 1, 1, 1]\n"
          ]
        }
      ],
      "source": [
        "v1 = [1 if x in s1 else 0 for x in all_words]\n",
        "print(v1)\n",
        "v2 = [1 if x in s2 else 0 for x in all_words]\n",
        "print(v2)\n",
        "v3 = [1 if x in s3 else 0 for x in all_words]\n",
        "print(v3)"
      ]
    },
    {
      "cell_type": "markdown",
      "metadata": {
        "id": "D0rYwHa-tw-A"
      },
      "source": [
        "c) Write a function that computes the manhattan distance between two vectors. Which pair of vectors are the most similar under that distance function?"
      ]
    },
    {
      "cell_type": "code",
      "execution_count": 9,
      "metadata": {
        "id": "wTJ8HCfztw-A",
        "colab": {
          "base_uri": "https://localhost:8080/"
        },
        "outputId": "0abee8dd-0de8-44d8-ee2a-11cf73638dc2"
      },
      "outputs": [
        {
          "output_type": "stream",
          "name": "stdout",
          "text": [
            "2\n",
            "4\n",
            "4\n"
          ]
        }
      ],
      "source": [
        "def manhattan_dist(x, y):\n",
        "  # TODO: check that x and y are of the same dimension\n",
        "  res = 0\n",
        "  for i in range (len(x)):\n",
        "    res += abs(x[i] - y[i])\n",
        "  return res\n",
        "\n",
        "print(manhattan_dist(v1, v2))\n",
        "print(manhattan_dist(v2, v3))\n",
        "print(manhattan_dist(v3, v1))"
      ]
    },
    {
      "cell_type": "markdown",
      "metadata": {
        "id": "sSag86M8tw-B"
      },
      "source": [
        "v1 and v2 are the most similar under manhattan distance"
      ]
    },
    {
      "cell_type": "markdown",
      "metadata": {
        "id": "JsRiKQTGtw-B"
      },
      "source": [
        "d) Create a matrix of all these vectors (row major) and add the following sentences in vector form:\n",
        "\n",
        "- \"hi Alice\"\n",
        "- \"hello Claude\"\n",
        "- \"Bob my name is Claude\"\n",
        "- \"hi Claude my name is Alice\"\n",
        "- \"hello Bob\""
      ]
    },
    {
      "cell_type": "code",
      "execution_count": 13,
      "metadata": {
        "id": "yfvCwpAstw-B",
        "colab": {
          "base_uri": "https://localhost:8080/"
        },
        "outputId": "bf5f780b-7b4b-4c04-e753-7932e19af389"
      },
      "outputs": [
        {
          "output_type": "stream",
          "name": "stdout",
          "text": [
            "['hello', 'hi', 'is', 'Alice', 'Bob', 'my', 'Claude', 'name']\n",
            "[[0, 1, 0, 1, 0, 0, 0, 0], [1, 0, 0, 0, 0, 0, 1, 0], [0, 0, 1, 0, 1, 1, 1, 1], [0, 1, 1, 1, 0, 1, 1, 1], [1, 0, 0, 0, 1, 0, 0, 0]]\n"
          ]
        }
      ],
      "source": [
        "sentences = [\"hi Alice\", \"hello Claude\", \"Bob my name is Claude\", \"hi Claude my name is Alice\", \"hello Bob\"]\n",
        "all_words = list(set([item for x in sentences for item in x.split()]))\n",
        "print(all_words)\n",
        "matrix = [[1 if x in s else 0 for x in all_words] for s in sentences]\n",
        "print(matrix)"
      ]
    },
    {
      "cell_type": "markdown",
      "metadata": {
        "id": "8mzDZ7dAtw-B"
      },
      "source": [
        "e) How many rows and columns does this matrix have?"
      ]
    },
    {
      "cell_type": "code",
      "execution_count": 15,
      "metadata": {
        "id": "-gJbOzHwtw-B",
        "colab": {
          "base_uri": "https://localhost:8080/"
        },
        "outputId": "60e5e950-e2d5-460e-a699-7bde168ce1b7"
      },
      "outputs": [
        {
          "output_type": "stream",
          "name": "stdout",
          "text": [
            "( 5 x 8 )\n"
          ]
        }
      ],
      "source": [
        "print(\"(\", len(matrix), \"x\", len(matrix[0]), \")\")"
      ]
    },
    {
      "cell_type": "markdown",
      "metadata": {
        "id": "QDgeLJwOtw-B"
      },
      "source": [
        "f) When using the Manhattan distance, which two sentences are the most similar?"
      ]
    },
    {
      "cell_type": "code",
      "execution_count": 18,
      "metadata": {
        "id": "oQUoolVgtw-B",
        "colab": {
          "base_uri": "https://localhost:8080/"
        },
        "outputId": "16cb318b-ad3f-4e79-a0d4-97d6909f7700"
      },
      "outputs": [
        {
          "output_type": "stream",
          "name": "stdout",
          "text": [
            "Manhattan distance for hi Alice and hello Claude\n",
            "4\n",
            "Manhattan distance for hi Alice and Bob my name is Claude\n",
            "7\n",
            "Manhattan distance for hi Alice and hi Claude my name is Alice\n",
            "4\n",
            "Manhattan distance for hi Alice and hello Bob\n",
            "4\n",
            "Manhattan distance for hello Claude and Bob my name is Claude\n",
            "5\n",
            "Manhattan distance for hello Claude and hi Claude my name is Alice\n",
            "6\n",
            "Manhattan distance for hello Claude and hello Bob\n",
            "2\n",
            "Manhattan distance for Bob my name is Claude and hi Claude my name is Alice\n",
            "3\n",
            "Manhattan distance for Bob my name is Claude and hello Bob\n",
            "5\n",
            "Manhattan distance for hi Claude my name is Alice and hello Bob\n",
            "8\n"
          ]
        }
      ],
      "source": [
        "for i in range(len(matrix)):\n",
        "  for j in range(i+1, len(matrix)):\n",
        "    print(\"Manhattan distance for\", sentences[i], \"and\", sentences[j])\n",
        "    print(manhattan_dist(matrix[i], matrix[j]))"
      ]
    },
    {
      "cell_type": "markdown",
      "metadata": {
        "id": "GsIjKrSgtw-B"
      },
      "source": [
        "\"hello Claude\" and \"hello Bob\""
      ]
    },
    {
      "cell_type": "markdown",
      "metadata": {
        "id": "reOdJRBvtw-B"
      },
      "source": [
        "### Cost Function\n",
        "\n",
        "Solving Data Science problems often starts by defining a metric with which to evaluate solutions were you able to find some. This metric is called a cost function. Data Science then backtracks and tries to find a process / algorithm to find solutions that can optimize for that cost function.\n",
        "\n",
        "For example suppose you are asked to cluster three points A, B, C into two non-empty clusters. If someone gave you the solution `{A, B}, {C}`, how would you evaluate that this is a good solution?\n",
        "\n",
        "Notice that because the clusters need to be non-empty and all points must be assigned to a cluster, it must be that two of the three points will be together in one cluster and the third will be alone in the other cluster.\n",
        "\n",
        "In the above solution, if A and B are closer than A and C, and B and C, then this is a good solution. The smaller the distance between the two points in the same cluster (here A and B), the better the solution. So we can define our cost function to be that distance (between A and B here)!\n",
        "\n",
        "The algorithm / process would involve clustering together the two closest points and put the third in its own cluster. This process optimizes for that cost function because no other pair of points could have a lower distance (although it could equal it)."
      ]
    },
    {
      "cell_type": "markdown",
      "metadata": {
        "id": "SFFIMvF7tw-C"
      },
      "source": [
        "### K means\n",
        "\n",
        "a) (1-dimensional clustering) Walk through Lloyd's algorithm step by step on the following dataset:\n",
        "\n",
        "`[0, .5, 1.5, 2, 6, 6.5, 7]` (note: each of these are 1-dimensional data points)\n",
        "\n",
        "Given the initial centroids:\n",
        "\n",
        "`[0, 2]`"
      ]
    },
    {
      "cell_type": "markdown",
      "metadata": {
        "id": "0ESAOyaYtw-C"
      },
      "source": [
        "For center 0, we have [0, 0.5]  \n",
        "For center 2 we have [1.5, 2, 6, 6.5, 7]\n",
        "\n",
        "The new centers are the mean of center 0 = (0 + 0.5) / 2 = 0.25  \n",
        "and the mean of center 2 = (1.5 + 2 + 6 + 6.5 + 7) / 5 = 4.6\n",
        "\n",
        "For center 0.25 we have [0, 0.5, 1.5, 2]  \n",
        "For center 4.6 we have [6, 6.5, 7]\n",
        "\n",
        "The new centers are (0 + 0.5 + 1.5 + 2) / 4 = 1  \n",
        "and (6 + 6.5 + 7) / 3 = 6.5\n",
        "\n",
        "For center 1 we have [0, 0.5, 1.5, 2]  \n",
        "For center 6.5 we have [6, 6.5, 7]  \n",
        "Since the values haven't moved to any other cluster, we have converged."
      ]
    },
    {
      "cell_type": "markdown",
      "metadata": {
        "id": "hT7x9EUptw-C"
      },
      "source": [
        "b) Describe in plain english what the cost function for k means is."
      ]
    },
    {
      "cell_type": "markdown",
      "metadata": {
        "id": "SOPv1JW3tw-C"
      },
      "source": [
        "Want to find k points such that the overall distance between the centers and their assigned data points are minimized"
      ]
    },
    {
      "cell_type": "markdown",
      "metadata": {
        "id": "qt1qlmUDtw-C"
      },
      "source": [
        "c) For the same number of clusters K, why could there be very different solutions to the K means algorithm on a given dataset?"
      ]
    },
    {
      "cell_type": "markdown",
      "metadata": {
        "id": "mnHiIGiitw-C"
      },
      "source": [
        "Depending on where the centers are, each cluster may have different data points"
      ]
    },
    {
      "cell_type": "markdown",
      "metadata": {
        "id": "q0uj6JSjtw-C"
      },
      "source": [
        "d) Does Lloyd's Algorithm always converge? Why / why not?"
      ]
    },
    {
      "cell_type": "markdown",
      "metadata": {
        "id": "OyKpmUGKtw-C"
      },
      "source": [
        "Yes, because it's a greedy algorithm so it always attempts to find the most optimal solution per iteration. However, it does not guarantee it will be the most optimal solution, as the algorithm could converge to a local optima."
      ]
    }
  ],
  "metadata": {
    "kernelspec": {
      "display_name": "Python 3",
      "language": "python",
      "name": "python3"
    },
    "language_info": {
      "codemirror_mode": {
        "name": "ipython",
        "version": 3
      },
      "file_extension": ".py",
      "mimetype": "text/x-python",
      "name": "python",
      "nbconvert_exporter": "python",
      "pygments_lexer": "ipython3",
      "version": "3.11.1 (main, Dec  7 2022, 00:00:00) [GCC 12.2.1 20221121 (Red Hat 12.2.1-4)]"
    },
    "orig_nbformat": 4,
    "vscode": {
      "interpreter": {
        "hash": "76ca05dc3ea24b2e3b98cdb7774adfbb40773424bf5109b477fd793f623715af"
      }
    },
    "colab": {
      "provenance": []
    }
  },
  "nbformat": 4,
  "nbformat_minor": 0
}