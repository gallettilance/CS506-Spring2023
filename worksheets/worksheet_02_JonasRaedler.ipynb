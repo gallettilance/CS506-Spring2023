{
 "cells": [
  {
   "cell_type": "markdown",
   "metadata": {},
   "source": [
    "# Worksheet 02\n",
    "\n",
    "Name: Jonas Raedler  \n",
    "UID: U06482163\n",
    "\n",
    "### Topics\n",
    "\n",
    "- Effective Programming\n",
    "\n",
    "### Effective Programming\n",
    "\n",
    "a) What is a drawback of the top down approach?"
   ]
  },
  {
   "cell_type": "markdown",
   "metadata": {},
   "source": [
    "Top-down: Writing code for the main task first. You code the high-level function first, and then write the helper functions later (this is a lot easier when you have typed languages, as you can state the type of helper functions as you \"create\" them).\n",
    "\n",
    "Advantage: You only write code for things you actual need. <br>\n",
    "Disadvantage: You don't get actual, runnable code until the very end."
   ]
  },
  {
   "cell_type": "markdown",
   "metadata": {},
   "source": [
    "b) What is a drawback of the bottom up approach?"
   ]
  },
  {
   "cell_type": "markdown",
   "metadata": {},
   "source": [
    "Divide and conquer approach; you divide problems into different parts and combine them once they're done.\n",
    "\n",
    "Advantage: Easier to determine where bugs are coming from, as you can (and should) test all the different components on their own. <br>\n",
    "Disadvantage: You need to know all of the parts you will need down the line, which is often difficult to determine."
   ]
  },
  {
   "cell_type": "markdown",
   "metadata": {},
   "source": [
    "c) What are 3 things you can do to have a better debugging experience?"
   ]
  },
  {
   "cell_type": "markdown",
   "metadata": {},
   "source": [
    "1. Split things up and check for errors as you proceed (test your code!)\n",
    "2. Read the error, go through your code carefully, look online for help\n",
    "3. Take breaks every once in a while, especially if you have been looking at the same problem for a long time. Get a mental reset on this issue"
   ]
  },
  {
   "cell_type": "code",
   "execution_count": null,
   "metadata": {},
   "outputs": [],
   "source": []
  },
  {
   "cell_type": "markdown",
   "metadata": {},
   "source": [
    "d) (Optional) Follow along with the live coding. You can write your code here:"
   ]
  },
  {
   "cell_type": "code",
   "execution_count": 95,
   "metadata": {},
   "outputs": [],
   "source": [
    "# 8-Queen Problem\n",
    "class Board:\n",
    "    \n",
    "    def __init__(self, n_board=8):\n",
    "        self.n_board = n_board\n",
    "        self.board = [[\"-\" for _ in range(n_board)] for _ in range(n_board)]\n",
    "        \n",
    "        \n",
    "    def __repr__(self):\n",
    "        return \"\\n\".join([\" \".join(self.board[idx]) for idx in range(len(self.board))])\n",
    "    \n",
    "    \n",
    "    def is_on_board(self, row, col):\n",
    "        if (0 <= row and row <= 7) and (0 <= col and col <= 7):\n",
    "            return True\n",
    "        else:\n",
    "            return False\n",
    "        \n",
    "        \n",
    "    def is_valid_move(self, row, col):\n",
    "        \n",
    "        if not self.is_valid_row(row):\n",
    "            return False\n",
    "        if not self.is_valid_col(col):\n",
    "            return False\n",
    "        if not self.is_valid_diag(row, col):\n",
    "            return False\n",
    "        \n",
    "        return True\n",
    "    \n",
    "    \n",
    "    def is_valid_row(self, row):\n",
    "        for col_idx in range(self.n_board):\n",
    "            if self.board[row][col_idx] == \"Q\":\n",
    "                return False\n",
    "        return True\n",
    "    \n",
    "    \n",
    "    def is_valid_col(self, col):\n",
    "        for row_idx in range(self.n_board):\n",
    "            if self.board[row_idx][col] == \"Q\":\n",
    "                return False\n",
    "        return True\n",
    "        \n",
    "        \n",
    "    def is_valid_diag(self, row, col):\n",
    "        for i in range(self.n_board):\n",
    "            if self.is_on_board(row - i, col - i) and self.board[row - i][col - i] == \"Q\":\n",
    "                return False\n",
    "            if self.is_on_board(row - i, col + i) and self.board[row - i][col + i] == \"Q\":\n",
    "                return False\n",
    "            if self.is_on_board(row + i, col - i) and self.board[row + i][col - i] == \"Q\":\n",
    "                return False\n",
    "            if self.is_on_board(row + i, col + i) and self.board[row + i][col + i] == \"Q\":\n",
    "                return False\n",
    "                \n",
    "        return True\n",
    "                \n",
    "    \n",
    "    def set_queen_at(self, row, col):\n",
    "        self.board[row][col] = \"Q\"\n",
    "        \n",
    "        \n",
    "    def unset_queen_at(self, row, col):\n",
    "        self.board[row][col] = \"-\"\n",
    "        \n",
    "        \n",
    "    def find_queen_on(self, row):\n",
    "        for col in range(self.n_board):\n",
    "            if self.board[row][col] == \"Q\":\n",
    "                return col\n",
    "        raise ValueError(\"programmer error\")\n",
    "    \n",
    "    \n",
    "    def search(self):\n",
    "        row = 0\n",
    "        col = 0\n",
    "        while row < 8:\n",
    "            if self.is_valid_move(row, col):\n",
    "                self.set_queen_at(row, col)\n",
    "                row += 1\n",
    "                col = 0\n",
    "            else:\n",
    "                col += 1\n",
    "                while col >= 8:\n",
    "                    # backtrack\n",
    "                    row -= 1 # go to previous row\n",
    "                    col = self.find_queen_on(row)\n",
    "                    self.unset_queen_at(row, col)\n",
    "                    col += 1 # need to go to next column\n",
    "        \n",
    "        # found a solution\n",
    "        print(self)\n",
    "                    "
   ]
  },
  {
   "cell_type": "code",
   "execution_count": 96,
   "metadata": {},
   "outputs": [
    {
     "name": "stdout",
     "output_type": "stream",
     "text": [
      "- - - - - - - -\n",
      "- - - - - - - -\n",
      "- - - - - - - -\n",
      "- - - - - - - -\n",
      "- - - - - - - -\n",
      "- - - - - - - -\n",
      "- - - - - - - -\n",
      "- - - - - - - -\n"
     ]
    }
   ],
   "source": [
    "board = Board()\n",
    "print(board)"
   ]
  },
  {
   "cell_type": "code",
   "execution_count": 97,
   "metadata": {},
   "outputs": [
    {
     "name": "stdout",
     "output_type": "stream",
     "text": [
      "Q - - - - - - -\n",
      "- - - - Q - - -\n",
      "- - - - - - - Q\n",
      "- - - - - Q - -\n",
      "- - Q - - - - -\n",
      "- - - - - - Q -\n",
      "- Q - - - - - -\n",
      "- - - Q - - - -\n"
     ]
    }
   ],
   "source": [
    "board.search()"
   ]
  }
 ],
 "metadata": {
  "kernelspec": {
   "display_name": "Python 3 (ipykernel)",
   "language": "python",
   "name": "python3"
  },
  "language_info": {
   "codemirror_mode": {
    "name": "ipython",
    "version": 3
   },
   "file_extension": ".py",
   "mimetype": "text/x-python",
   "name": "python",
   "nbconvert_exporter": "python",
   "pygments_lexer": "ipython3",
   "version": "3.10.4"
  },
  "vscode": {
   "interpreter": {
    "hash": "76ca05dc3ea24b2e3b98cdb7774adfbb40773424bf5109b477fd793f623715af"
   }
  }
 },
 "nbformat": 4,
 "nbformat_minor": 2
}
