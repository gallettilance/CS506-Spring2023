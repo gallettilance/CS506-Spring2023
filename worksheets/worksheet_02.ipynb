{
 "cells": [
  {
   "attachments": {},
   "cell_type": "markdown",
   "metadata": {},
   "source": [
    "# Worksheet 02\n",
    "\n",
    "Name: Pranesh Jayasundar\n",
    "UID: U08334002\n",
    "\n",
    "### Topics\n",
    "\n",
    "- Effective Programming\n",
    "\n",
    "### Effective Programming\n",
    "\n",
    "a) What is a drawback of the top down approach?"
   ]
  },
  {
   "cell_type": "markdown",
   "metadata": {},
   "source": [
    "- Debugging is real difficult, as there can be bugs at different levels and are hard to traceback.\n",
    "- We can't get to run the code until the end of development, and when we run there might be lot of bugs or the functionality might not work as expected.\n",
    "- The complexitiy of the code will be more, as we can only write a high level pseudo code, until we get to know all the functionalities needed.\n",
    "- It's actually a time consuming, as more design and planning is needed before you actually start implementing."
   ]
  },
  {
   "cell_type": "markdown",
   "metadata": {},
   "source": [
    "b) What is a drawback of the bottom up approach?"
   ]
  },
  {
   "cell_type": "markdown",
   "metadata": {},
   "source": [
    "- You might not know everything upfront, development phase will be slow.\n",
    "- There may be many different component developed, and it might be difficult to integrate everything in to a cohesive whole functionality.\n",
    "- If there are many different components serving multiple functionalities, then testing becomes a hectic task to test all the functionality if everything works fine."
   ]
  },
  {
   "cell_type": "markdown",
   "metadata": {},
   "source": []
  },
  {
   "cell_type": "markdown",
   "metadata": {},
   "source": [
    "c) What are 3 things you can do to have a better debugging experience?"
   ]
  },
  {
   "cell_type": "markdown",
   "metadata": {},
   "source": [
    "- Read the error carefully\n",
    "- Re-read your code, take enough time to understand the complex functionality if any.\n",
    "- Do enough sanity check wherever needed, inorder to avoid bugs at the end - piece of code meets certain minimum requirements before it is tested. This is done to prevent unexpected behavior, bugs, or errors in the system\n",
    "- Take breaks inbetween - very important, and don't do exhaustive work. Rather do smart work."
   ]
  },
  {
   "attachments": {},
   "cell_type": "markdown",
   "metadata": {},
   "source": [
    "d) (Optional) Follow along with the live coding. You can write your code here:"
   ]
  },
  {
   "cell_type": "code",
   "execution_count": 23,
   "metadata": {},
   "outputs": [
    {
     "name": "stdout",
     "output_type": "stream",
     "text": [
      "\n",
      "Q - - - - - - -\n",
      "- Q - - - - - -\n",
      "- - Q - - - - -\n",
      "- - - Q - - - -\n",
      "- - - - Q - - -\n",
      "- - - - - Q - -\n",
      "- - - - - - Q -\n",
      "- - - - - - - Q\n"
     ]
    }
   ],
   "source": [
    "#Executable code\n",
    "class Board():\n",
    "    def __init__(self):\n",
    "        self.queen = \"Q\"\n",
    "        self.blank = \"-\"\n",
    "        self.board = [[\"-\" for _ in range(8)] for _ in range(8)]\n",
    "\n",
    "    def is_queen(self, row, col):\n",
    "        return self.board[row][col] == self.queen\n",
    "\n",
    "    def __repr__(self):\n",
    "        return \"\\n\".join([\" \".join(x) for x in self.board])\n",
    "\n",
    "    def set_queen_at(self, row, col):\n",
    "        self.board[row][col] = self.queen\n",
    "    \n",
    "    def unset_queen_on(self, row):\n",
    "        self.board[row] = [\"-\" for _ in range(8)]\n",
    "\n",
    "    def is_valid_row(self, row):\n",
    "        for j in range(8):\n",
    "            if self.board[row][j] == \"Q\":\n",
    "                return False\n",
    "        return True\n",
    "    \n",
    "    def is_valid_col(self, col):\n",
    "        for i in range(8):\n",
    "            if self.board[i][col] == \"Q\":\n",
    "                return False\n",
    "        return True\n",
    "\n",
    "    def is_on_board(self, row, col):\n",
    "        return row >= 0 and row < 8 and col >= 0 and col < 8\n",
    "\n",
    "    def is_valid_diag(self, row, col):\n",
    "        for i in range(8):\n",
    "            if self.is_on_board[row - i][col] and self.is_queen(row - 1, col):\n",
    "                return False\n",
    "            if self.is_on_board[row][col - i] and self.is_queen(row, col - i):\n",
    "                return False\n",
    "            if self.is_on_board[row - i][col] and self.is_queen(row - 1, col):\n",
    "                return False\n",
    "            if self.is_on_board[row - i][col] and self.is_queen(row - 1, col):\n",
    "                return False\n",
    "\n",
    "        return True\n",
    "\n",
    "    def is_valid_move(self, row, col):\n",
    "        # if self.num_queens() > 8:\n",
    "        #     return False\n",
    "        if not self.is_valid_row(row):\n",
    "            return False\n",
    "        if not self.is_valid_col(col):\n",
    "            return False\n",
    "        if not self.is_valid_diag(row, col):\n",
    "            return False\n",
    "\n",
    "        return True\n",
    "\n",
    "    def find_queen_on(self, row, col):\n",
    "        for col in range(8):\n",
    "            if self.is_queen(self.board[row][col]):\n",
    "                return col\n",
    "        raise ValueError(\"Program error\")\n",
    "\n",
    "    \n",
    "\n",
    "    def search(self):\n",
    "        row = 0\n",
    "        col = 0\n",
    "        while row < 8:\n",
    "            if self.is_valid_move(row, col):\n",
    "                self.set_queen_at(row, col)\n",
    "                row += 1\n",
    "                col = 0\n",
    "            else:\n",
    "                col += 1\n",
    "                if col >= 8:\n",
    "                    # backtrack\n",
    "                    col = self.find_queen_on(row - 1)\n",
    "                    self.unset_queen_on(row - 1)\n",
    "                    row -= 1\n",
    "\n",
    "        #found a solution\n",
    "        print(self)\n",
    "\n",
    "    board = Board()\n",
    "    print()\n",
    "    board.search()"
   ]
  },
  {
   "cell_type": "code",
   "execution_count": null,
   "metadata": {},
   "outputs": [],
   "source": []
  }
 ],
 "metadata": {
  "kernelspec": {
   "display_name": "Python 3.9.6 64-bit",
   "language": "python",
   "name": "python3"
  },
  "language_info": {
   "codemirror_mode": {
    "name": "ipython",
    "version": 3
   },
   "file_extension": ".py",
   "mimetype": "text/x-python",
   "name": "python",
   "nbconvert_exporter": "python",
   "pygments_lexer": "ipython3",
   "version": "3.9.6"
  },
  "orig_nbformat": 4,
  "vscode": {
   "interpreter": {
    "hash": "31f2aee4e71d21fbe5cf8b01ff0e069b9275f58929596ceb00d14d90e3e16cd6"
   }
  }
 },
 "nbformat": 4,
 "nbformat_minor": 2
}
