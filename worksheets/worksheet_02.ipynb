{
 "cells": [
  {
   "attachments": {},
   "cell_type": "markdown",
   "metadata": {},
   "source": [
    "# Worksheet 02\n",
    "\n",
    "Name: Youheng Yang \n",
    "UID: U45006780\n",
    "\n",
    "### Topics\n",
    "\n",
    "- Effective Programming\n",
    "\n",
    "### Effective Programming\n",
    "\n",
    "a) What is a drawback of the top down approach?"
   ]
  },
  {
   "attachments": {},
   "cell_type": "markdown",
   "metadata": {},
   "source": [
    "If we use the top down approach, we don't know if the code is runable until the end when we are using the untype language. Thus, the debugging would be so stressful because we put the whole debugging process at the end."
   ]
  },
  {
   "cell_type": "markdown",
   "metadata": {},
   "source": [
    "b) What is a drawback of the bottom up approach?"
   ]
  },
  {
   "attachments": {},
   "cell_type": "markdown",
   "metadata": {},
   "source": [
    "    \n",
    "If we use the bottom up approach, we might write some codes that ends up with redundant. Also, we need a good organization and we cannot know everything we need for the \"up\" programs."
   ]
  },
  {
   "cell_type": "markdown",
   "metadata": {},
   "source": [
    "c) What are 3 things you can do to have a better debugging experience?"
   ]
  },
  {
   "attachments": {},
   "cell_type": "markdown",
   "metadata": {},
   "source": [
    "Don't Panic.\n",
    "Read the error.\n",
    "Re-read code"
   ]
  },
  {
   "cell_type": "code",
   "execution_count": null,
   "metadata": {},
   "outputs": [],
   "source": []
  },
  {
   "attachments": {},
   "cell_type": "markdown",
   "metadata": {},
   "source": [
    "d) (Optional) Follow along with the live coding. You can write your code here:"
   ]
  },
  {
   "cell_type": "code",
   "execution_count": 6,
   "metadata": {},
   "outputs": [
    {
     "ename": "TypeError",
     "evalue": "unsupported operand type(s) for +: 'NoneType' and 'int'",
     "output_type": "error",
     "traceback": [
      "\u001b[0;31m---------------------------------------------------------------------------\u001b[0m",
      "\u001b[0;31mTypeError\u001b[0m                                 Traceback (most recent call last)",
      "Cell \u001b[0;32mIn[6], line 73\u001b[0m\n\u001b[1;32m     70\u001b[0m                     row \u001b[39m-\u001b[39m\u001b[39m=\u001b[39m \u001b[39m1\u001b[39m\n\u001b[1;32m     72\u001b[0m board \u001b[39m=\u001b[39m Board()\n\u001b[0;32m---> 73\u001b[0m board\u001b[39m.\u001b[39;49msearch()\n",
      "Cell \u001b[0;32mIn[6], line 68\u001b[0m, in \u001b[0;36mBoard.search\u001b[0;34m(self)\u001b[0m\n\u001b[1;32m     66\u001b[0m col \u001b[39m+\u001b[39m\u001b[39m=\u001b[39m \u001b[39m1\u001b[39m\n\u001b[1;32m     67\u001b[0m \u001b[39mwhile\u001b[39;00m col \u001b[39m==\u001b[39m \u001b[39m8\u001b[39m:\n\u001b[0;32m---> 68\u001b[0m     col \u001b[39m=\u001b[39m \u001b[39mself\u001b[39;49m\u001b[39m.\u001b[39;49mfind_queen_on(row \u001b[39m-\u001b[39;49m \u001b[39m1\u001b[39;49m) \u001b[39m+\u001b[39;49m \u001b[39m1\u001b[39;49m\n\u001b[1;32m     69\u001b[0m     \u001b[39mself\u001b[39m\u001b[39m.\u001b[39munset_queen_on(row \u001b[39m-\u001b[39m \u001b[39m1\u001b[39m)\n\u001b[1;32m     70\u001b[0m     row \u001b[39m-\u001b[39m\u001b[39m=\u001b[39m \u001b[39m1\u001b[39m\n",
      "\u001b[0;31mTypeError\u001b[0m: unsupported operand type(s) for +: 'NoneType' and 'int'"
     ]
    }
   ],
   "source": [
    "class Board():\n",
    "\n",
    "    def __init__(self):\n",
    "        self.queen = \"Q\"\n",
    "        self.blank = \"-\"\n",
    "        self.board = [[self.blank for _ in range(8)] for _ in range(8)]\n",
    "    \n",
    "    def __repr__(self):\n",
    "        return \"\\n\".join([\" \".join(x) for x in self.board])\n",
    "    \n",
    "    def is_queen(self, row, col):\n",
    "        return self.board[row][col] == self.queen\n",
    "\n",
    "\n",
    "    def set_queen_at(self, row, col):\n",
    "        self.board[row][col] = self.queen\n",
    "    \n",
    "    def unset_queen_on(self, row):\n",
    "        self.board[row] = ['-' for _ in range(8)]\n",
    "    \n",
    "    def is_valid_row(self, row):\n",
    "        for j in range(8):\n",
    "            if self.is_queen(row, j):\n",
    "                return False\n",
    "        return True\n",
    "    \n",
    "    def is_valid_col(self, col):\n",
    "        for i in range(8):\n",
    "            if self.is_queen(i, col):\n",
    "                return False\n",
    "        return True\n",
    "    \n",
    "    def is_on_board(self, row, col):\n",
    "        return row>=0 and row<8 and col >=0 and col<8\n",
    "    \n",
    "    def is_valid_diag(self, row, col):\n",
    "        for i in range(8):\n",
    "            if self.is_on_board(row-i, col-i) and self.is_queen(row-i, col-i):\n",
    "                return False\n",
    "    \n",
    "    def is_valid_move(self, row, col):\n",
    "        if not self.is_valid_row(row):\n",
    "            return False\n",
    "        if not self.is_valid_col(col):\n",
    "            return False\n",
    "        if not self.is_valid_diag(row, col):\n",
    "            return False\n",
    "        return True\n",
    "    \n",
    "    \n",
    "    def find_queen_on(self, row):\n",
    "        for c in range(8):\n",
    "            if self.board[row][c] == \"Q\":\n",
    "                return c\n",
    "\n",
    "\n",
    "    def search(self):\n",
    "        row = 0\n",
    "        col = 0\n",
    "        while row < 8:\n",
    "            if self.is_valid_move(row, col):\n",
    "                self.set_queen_at(row, col)\n",
    "                row += 1\n",
    "                col = 0\n",
    "            else:\n",
    "                col += 1\n",
    "                while col == 8:\n",
    "                    col = self.find_queen_on(row - 1) + 1\n",
    "                    self.unset_queen_on(row - 1)\n",
    "                    row -= 1\n",
    "                    \n",
    "board = Board()\n",
    "board.search()\n",
    "        "
   ]
  }
 ],
 "metadata": {
  "kernelspec": {
   "display_name": "Python 3",
   "language": "python",
   "name": "python3"
  },
  "language_info": {
   "codemirror_mode": {
    "name": "ipython",
    "version": 3
   },
   "file_extension": ".py",
   "mimetype": "text/x-python",
   "name": "python",
   "nbconvert_exporter": "python",
   "pygments_lexer": "ipython3",
   "version": "3.9.7"
  },
  "orig_nbformat": 4,
  "vscode": {
   "interpreter": {
    "hash": "aee8b7b246df8f9039afb4144a1f6fd8d2ca17a180786b69acc140d282b71a49"
   }
  }
 },
 "nbformat": 4,
 "nbformat_minor": 2
}
