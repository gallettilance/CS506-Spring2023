{
 "cells": [
  {
   "attachments": {},
   "cell_type": "markdown",
   "metadata": {},
   "source": [
    "# Worksheet 02\n",
    "\n",
    "Name: Shivangi <br>\n",
    "\n",
    "UID: U35642613\n",
    "\n",
    "### Topics\n",
    "\n",
    "- Effective Programming\n",
    "\n",
    "### Effective Programming\n",
    "\n",
    "a) What is a drawback of the top down approach?"
   ]
  },
  {
   "attachments": {},
   "cell_type": "markdown",
   "metadata": {},
   "source": [
    "* u don't get runnable till the end. if you get bug, will have to do debugging later\n",
    "* You don't get a runnable till the end. Therefore, if you get a bug you will have to do the debugging later"
   ]
  },
  {
   "cell_type": "markdown",
   "metadata": {},
   "source": [
    "b) What is a drawback of the bottom up approach?"
   ]
  },
  {
   "attachments": {},
   "cell_type": "markdown",
   "metadata": {},
   "source": [
    "- Need good organisation but without knowing everything upfront."
   ]
  },
  {
   "cell_type": "markdown",
   "metadata": {},
   "source": [
    "c) What are 3 things you can do to have a better debugging experience?"
   ]
  },
  {
   "attachments": {},
   "cell_type": "markdown",
   "metadata": {},
   "source": [
    "1. Read the error and understand the cause\n",
    "2. Check if everything in your code is set up properly\n",
    "3. If you still can't solve it, take help. Try to look online."
   ]
  },
  {
   "attachments": {},
   "cell_type": "markdown",
   "metadata": {},
   "source": [
    "d) (Optional) Follow along with the live coding. You can write your code here:"
   ]
  },
  {
   "cell_type": "code",
   "execution_count": 6,
   "metadata": {},
   "outputs": [
    {
     "name": "stdout",
     "output_type": "stream",
     "text": [
      "Q - - - - - - -\n",
      "- - - - Q - - -\n",
      "- - - - - - - Q\n",
      "- - - - - Q - -\n",
      "- - Q - - - - -\n",
      "- - - - - - Q -\n",
      "- Q - - - - - -\n",
      "- - - Q - - - -\n"
     ]
    }
   ],
   "source": [
    "class Board: \n",
    "    def __init__(self, board_size): \n",
    "        self.blank = \"-\"\n",
    "        self.queen = \"Q\"\n",
    "        self.board_size = board_size\n",
    "        self.board = [[self.blank for row in range(self.board_size)] for col in range(self.board_size)] \n",
    "        self.queens = [] \n",
    " \n",
    "    def print_board(self): \n",
    "        for row in self.board: \n",
    "            print(*row) \n",
    " \n",
    "    def is_valid(self, row, col): \n",
    "        for r, c in self.queens: \n",
    "            if row == r or col == c: \n",
    "                return False \n",
    "            if abs(row - r) == abs(col - c): \n",
    "                return False \n",
    "        return True \n",
    " \n",
    "    def search(self): \n",
    "        for row in range(8): \n",
    "            for col in range(8): \n",
    "                if self.is_valid(row, col): \n",
    "                    self.board[row][col] = self.queen \n",
    "                    self.queens.append((row, col)) \n",
    "                    if len(self.queens) == self.board_size:\n",
    "                        return True \n",
    "                    if self.search() == True: \n",
    "                        return True \n",
    "                    self.board[row][col] = self.blank \n",
    "                    self.queens.pop() \n",
    "        return False \n",
    " \n",
    "b = Board(8) \n",
    "if b.search() == False: \n",
    "    print(\"Can't find answer\") \n",
    "else: \n",
    "    b.print_board()"
   ]
  }
 ],
 "metadata": {
  "kernelspec": {
   "display_name": "Python 3",
   "language": "python",
   "name": "python3"
  },
  "language_info": {
   "codemirror_mode": {
    "name": "ipython",
    "version": 3
   },
   "file_extension": ".py",
   "mimetype": "text/x-python",
   "name": "python",
   "nbconvert_exporter": "python",
   "pygments_lexer": "ipython3",
   "version": "3.9.6"
  },
  "orig_nbformat": 4,
  "vscode": {
   "interpreter": {
    "hash": "31f2aee4e71d21fbe5cf8b01ff0e069b9275f58929596ceb00d14d90e3e16cd6"
   }
  }
 },
 "nbformat": 4,
 "nbformat_minor": 2
}
