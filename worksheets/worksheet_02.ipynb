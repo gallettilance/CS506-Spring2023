{
 "cells": [
  {
   "cell_type": "markdown",
   "metadata": {
    "id": "wy32R_9t8GeC"
   },
   "source": [
    "# Worksheet 02\n",
    "\n",
    "Name: Yingjie Ouyang\n",
    "\n",
    "UID: U86074230\n",
    "\n",
    "### Topics\n",
    "\n",
    "- Effective Programming\n",
    "\n",
    "### Effective Programming\n",
    "\n",
    "a) What is a drawback of the top down approach?"
   ]
  },
  {
   "cell_type": "markdown",
   "metadata": {
    "id": "Ui1SKI9_8GeF"
   },
   "source": [
    "- Because you are starting at a high level, you often don't have code that is runnable until the end\n",
    "- This often means you don't catch errors early on"
   ]
  },
  {
   "cell_type": "markdown",
   "metadata": {
    "id": "HVe1Q3ic8GeF"
   },
   "source": [
    "b) What is a drawback of the bottom up approach?"
   ]
  },
  {
   "cell_type": "markdown",
   "metadata": {
    "id": "vwb2T4hC8GeF"
   },
   "source": [
    "- Might throw away code that is unnecessary because you don't plan out the process beforehand\n",
    "- This can waste time and code"
   ]
  },
  {
   "cell_type": "markdown",
   "metadata": {
    "id": "Z9uxLyBt8GeF"
   },
   "source": [
    "c) What are 3 things you can do to have a better debugging experience?"
   ]
  },
  {
   "cell_type": "markdown",
   "metadata": {
    "id": "sHRVEGW_8GeF"
   },
   "source": [
    "- Read the error - what is it telling you? Where did it occur?\n",
    "- Re-read the code - take your time and try to trace through it\n",
    "- Sanity check where you can - make sure everything is set up properly and things that are supposed to communicate are actually communicating"
   ]
  },
  {
   "cell_type": "markdown",
   "metadata": {
    "id": "iZSAGZWt8GeG"
   },
   "source": [
    "d) (Optional) Follow along with the live coding. You can write your code here:"
   ]
  },
  {
   "cell_type": "code",
   "execution_count": 14,
   "metadata": {
    "id": "cX1D-d1l8GeG"
   },
   "outputs": [
    {
     "name": "stdout",
     "output_type": "stream",
     "text": [
      "- - - - - - - -\n",
      "- - - - - - - -\n",
      "- - - - - - - -\n",
      "- - - - - - - -\n",
      "- - - - - - - -\n",
      "- - - - - - - -\n",
      "- - - - - - - -\n",
      "- - - - - - - -\n",
      "\n",
      "no more solutions found\n"
     ]
    }
   ],
   "source": [
    "import os\n",
    "import time\n",
    "\n",
    "class Board():\n",
    "    def __init__(self, n):\n",
    "        self.queen = \"Q\"\n",
    "        self.blank = \"-\"\n",
    "        self.n = n\n",
    "        self.board = [[self.blank for _ in range(n)] for _ in range(n)]\n",
    "    \n",
    "    def __repr__(self):\n",
    "        return \"\\n\".join([\" \".join(x) for x in self.board])\n",
    "\n",
    "    def is_queen(self, row, col):\n",
    "        return self.board[row][col] == self.queen\n",
    "\n",
    "    def is_valid_row(self, row):\n",
    "        for j in range(self.n):\n",
    "            if self.is_queen(row, j):\n",
    "                return False\n",
    "        return True\n",
    "\n",
    "    def is_valid_col(self, col):\n",
    "        for i in range(self.n):\n",
    "            if self.is_queen(i, col):\n",
    "                return False\n",
    "        return True\n",
    "\n",
    "    def is_on_board(self, row, col):\n",
    "        return row >= 0 and row < self.n and col >= 0 and col < self.n\n",
    "    \n",
    "    def is_valid_diag(self, row, col):\n",
    "        for i in range(self.n):\n",
    "            if self.is_on_board(row - i, col - i) and self.is_queen(row - i, col - i):\n",
    "                return False\n",
    "            if self.is_on_board(row - i, col + i) and self.is_queen(row - i, col + i):\n",
    "                return False\n",
    "            if self.is_on_board(row + i, col - i) and self.is_queen(row + i, col - i):\n",
    "                return False\n",
    "            if self.is_on_board(row + i, col + i) and self.is_queen(row + i, col + i):\n",
    "                return False\n",
    "    \n",
    "    def is_valid_move(self, row, col):\n",
    "        # if self.num_queens() > self.n:\n",
    "            # return False\n",
    "        if not self.is_valid_row(row):\n",
    "            return False\n",
    "        if not self.is_valid_col(col):\n",
    "            return False\n",
    "        if not self.is_valid_diag(row, col):\n",
    "            return False\n",
    "        return True\n",
    "\n",
    "    def set_queen_at(self, row, col):\n",
    "        self.board[row][col] = self.queen\n",
    "        \n",
    "    def unset_queen_on(self, row):\n",
    "        self.board[row] = [self.blank for _ in range(self.n)]\n",
    "        \n",
    "    def find_queen_on(self, row):\n",
    "        for col in range(self.n):\n",
    "            if self.is_queen(row, col):\n",
    "                return col\n",
    "        raise ValueError(\"programmer error\")  \n",
    "        \n",
    "    def search(self):\n",
    "        row = 0\n",
    "        col = 0\n",
    "        nsols = 0\n",
    "        while row >= 0:\n",
    "            while row < self.n:\n",
    "                while col == self.n:\n",
    "                    # backtrack\n",
    "                    row -= 1\n",
    "                    if row < 0:\n",
    "                        print(\"no more solutions found\")\n",
    "                        return\n",
    "                    col = self.find_queen_on(row) + 1 # consider if this is out of bounds\n",
    "                    self.unset_queen_on(row)\n",
    "                if self.is_valid_move(row, col):\n",
    "                    self.set_queen_at(row, col)\n",
    "                    row += 1\n",
    "                    col = 0\n",
    "#                     os.system(\"clear\")\n",
    "#                     print(self)\n",
    "#                     time.sleep(.1)\n",
    "                else:\n",
    "                    col += 1\n",
    "            else:\n",
    "                # found a solution\n",
    "                nsols += 1\n",
    "                print(\"found a solution\", nsols)\n",
    "                print(self)\n",
    "                # reset row and col to find next solution\n",
    "                col = self.find_queen_on(row - 1) + 1 # consider if this is out of bounds\n",
    "                self.unset_queen_on(row - 1)\n",
    "                row -= 1\n",
    "        \n",
    "        print(\"no more solutions found\")\n",
    "\n",
    "\n",
    "board = Board(8)\n",
    "print(board)\n",
    "print()\n",
    "board.search()"
   ]
  },
  {
   "cell_type": "code",
   "execution_count": null,
   "metadata": {},
   "outputs": [],
   "source": []
  }
 ],
 "metadata": {
  "colab": {
   "provenance": []
  },
  "kernelspec": {
   "display_name": "Python 3",
   "language": "python",
   "name": "python3"
  },
  "language_info": {
   "codemirror_mode": {
    "name": "ipython",
    "version": 3
   },
   "file_extension": ".py",
   "mimetype": "text/x-python",
   "name": "python",
   "nbconvert_exporter": "python",
   "pygments_lexer": "ipython3",
   "version": "3.8.8"
  },
  "vscode": {
   "interpreter": {
    "hash": "76ca05dc3ea24b2e3b98cdb7774adfbb40773424bf5109b477fd793f623715af"
   }
  }
 },
 "nbformat": 4,
 "nbformat_minor": 1
}
