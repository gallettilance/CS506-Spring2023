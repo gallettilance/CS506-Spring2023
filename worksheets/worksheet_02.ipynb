{
 "cells": [
  {
   "attachments": {},
   "cell_type": "markdown",
   "metadata": {},
   "source": [
    "# Worksheet 02\n",
    "\n",
    "Name: Shivangi <br>\n",
    "\n",
    "UID: U35642613\n",
    "\n",
    "### Topics\n",
    "\n",
    "- Effective Programming\n",
    "\n",
    "### Effective Programming\n",
    "\n",
    "a) What is a drawback of the top down approach?"
   ]
  },
  {
   "attachments": {},
   "cell_type": "markdown",
   "metadata": {},
   "source": [
    "* u don't get runnable till the end. if you get bug, will have to do debugging later\n",
    "* You don't get a runnable till the end. Therefore, if you get a bug you will have to do the debugging later"
   ]
  },
  {
   "cell_type": "markdown",
   "metadata": {},
   "source": [
    "b) What is a drawback of the bottom up approach?"
   ]
  },
  {
   "attachments": {},
   "cell_type": "markdown",
   "metadata": {},
   "source": [
    "- Need good organisation but without knowing everything upfront."
   ]
  },
  {
   "cell_type": "markdown",
   "metadata": {},
   "source": [
    "c) What are 3 things you can do to have a better debugging experience?"
   ]
  },
  {
   "attachments": {},
   "cell_type": "markdown",
   "metadata": {},
   "source": [
    "1. Read the error and understand the cause\n",
    "2. Check if everything in your code is set up properly\n",
    "3. If you still can't solve it, take help. Try to look online."
   ]
  },
  {
   "attachments": {},
   "cell_type": "markdown",
   "metadata": {},
   "source": [
    "d) (Optional) Follow along with the live coding. You can write your code here:"
   ]
  }
 ],
 "metadata": {
  "kernelspec": {
   "display_name": "Python 3",
   "language": "python",
   "name": "python3"
  },
  "language_info": {
   "codemirror_mode": {
    "name": "ipython",
    "version": 3
   },
   "file_extension": ".py",
   "mimetype": "text/x-python",
   "name": "python",
   "nbconvert_exporter": "python",
   "pygments_lexer": "ipython3",
   "version": "3.9.6"
  },
  "orig_nbformat": 4,
  "vscode": {
   "interpreter": {
    "hash": "31f2aee4e71d21fbe5cf8b01ff0e069b9275f58929596ceb00d14d90e3e16cd6"
   }
  }
 },
 "nbformat": 4,
 "nbformat_minor": 2
}
