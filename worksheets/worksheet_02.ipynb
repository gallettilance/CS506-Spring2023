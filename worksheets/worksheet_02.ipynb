{
  "cells": [
    {
      "cell_type": "markdown",
      "metadata": {
        "id": "k82xiT60ka6R"
      },
      "source": [
        "# Worksheet 02\n",
        "\n",
        "Name:  \n",
        "UID: \n",
        "\n",
        "### Topics\n",
        "\n",
        "- Effective Programming\n",
        "\n",
        "### Effective Programming\n",
        "\n",
        "a) What is a drawback of the top down approach?"
      ]
    },
    {
      "cell_type": "markdown",
      "metadata": {
        "id": "bwxxOJtdka6Z"
      },
      "source": [
        "The top down approach sometimes is harder to test individual functions since you're working with the big picture more and like placeholder functions."
      ]
    },
    {
      "cell_type": "markdown",
      "metadata": {
        "id": "FjtD8WoRka6c"
      },
      "source": [
        "b) What is a drawback of the bottom up approach?"
      ]
    },
    {
      "cell_type": "markdown",
      "metadata": {
        "id": "ubcACq3Ika6f"
      },
      "source": [
        "Getting too stuck in the weeds can often be detrimental to the overall logic and bugs may arise more often."
      ]
    },
    {
      "cell_type": "markdown",
      "metadata": {
        "id": "HUvj4bivka6h"
      },
      "source": [
        "c) What are 3 things you can do to have a better debugging experience?"
      ]
    },
    {
      "cell_type": "markdown",
      "metadata": {
        "id": "VgOX5PkYka6j"
      },
      "source": [
        "1) Plan the overall structure and logic of the code before you get started\n",
        "\n",
        "2) Test frequently and try not to write giant chunks of code at a time\n",
        "\n",
        "3) Take breaks "
      ]
    },
    {
      "cell_type": "code",
      "execution_count": null,
      "metadata": {
        "id": "sD5aiEyeka6l"
      },
      "outputs": [],
      "source": []
    },
    {
      "cell_type": "markdown",
      "metadata": {
        "id": "xxX6GAvbka6n"
      },
      "source": [
        "d) (Optional) Follow along with the live coding. You can write your code here:"
      ]
    },
    {
      "cell_type": "code",
      "execution_count": null,
      "metadata": {
        "id": "ZgoxDXHcka6q"
      },
      "outputs": [],
      "source": [
        "class Board():\n",
        "\n",
        "    def __init__(self):\n",
        "        self.board = [[\"-\" for _ in range(8)] for _ in range(8)]\n",
        "    \n",
        "    def __repr__(self):\n",
        "        return \"\\n\".join([\" \".join(x) for x in self.board])\n",
        "\n",
        "\n",
        "    \n",
        "    def is_valid_move(self, row, col):\n",
        "        return True\n",
        "\n",
        "    def is_valid_row(self, row, col):\n",
        "        return True\n",
        "\n",
        "    def is_valid_col(self, row, col):\n",
        "        return True\n",
        "\n",
        "\n",
        "\n",
        "    def set_queen_at(self, row, col):\n",
        "        self.board[row][col] = \"Q\"\n",
        "\n",
        "    def unset_queen_on(self, row, col):\n",
        "        self.board[row] = [\"-\" for _ in range(8)]\n",
        "\n",
        "    def find_queen_on(self, row):\n",
        "        #\n",
        "\n",
        "    def search(self):\n",
        "        row = 0\n",
        "        col = 0\n",
        "        while row < 8:\n",
        "            if self.is_valid_move(row, col):\n",
        "                self.set_queen_at(row, col)\n",
        "                row += 1\n",
        "                col = 0\n",
        "            else: \n",
        "                col += 1\n",
        "                if col >= 8:\n",
        "                    # TODO: backtrack\n",
        "                    col = self.find_queen_on(row - 1) + 1 # TODO: consider if OOB\n",
        "                    self.unset_queen_on(row - 1)\n",
        "                    row -= 1\n",
        "\n",
        "    board = Board()\n",
        "    print(board)"
      ]
    }
  ],
  "metadata": {
    "kernelspec": {
      "display_name": "Python 3",
      "language": "python",
      "name": "python3"
    },
    "language_info": {
      "name": "python",
      "version": "3.11.1 (main, Dec  7 2022, 00:00:00) [GCC 12.2.1 20221121 (Red Hat 12.2.1-4)]"
    },
    "orig_nbformat": 4,
    "vscode": {
      "interpreter": {
        "hash": "76ca05dc3ea24b2e3b98cdb7774adfbb40773424bf5109b477fd793f623715af"
      }
    },
    "colab": {
      "provenance": []
    }
  },
  "nbformat": 4,
  "nbformat_minor": 0
}