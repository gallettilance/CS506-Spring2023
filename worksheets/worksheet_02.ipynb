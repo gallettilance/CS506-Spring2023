{
 "cells": [
  {
   "cell_type": "markdown",
   "metadata": {},
   "source": [
    "# Worksheet 02\n",
    "\n",
    "Name:Yicun Wu\n",
    "UID: U60263210\n",
    "\n",
    "### Topics\n",
    "\n",
    "- Effective Programming\n",
    "\n",
    "### Effective Programming\n",
    "\n",
    "a) What is a drawback of the top down approach?"
   ]
  },
  {
   "cell_type": "markdown",
   "metadata": {},
   "source": [
    "dis: you dont have code to run to check untill you reach to the end, so alot debug later\n",
    "adv: only run the code you need"
   ]
  },
  {
   "cell_type": "markdown",
   "metadata": {},
   "source": [
    "b) What is a drawback of the bottom up approach?"
   ]
  },
  {
   "cell_type": "markdown",
   "metadata": {},
   "source": [
    "combine every step to higher structure\n",
    "drawback: need to know everything before coding, so the processs be hard \n",
    "adv: know the error during the way you build, minimize debug process, debug quickly"
   ]
  },
  {
   "cell_type": "markdown",
   "metadata": {},
   "source": [
    "c) What are 3 things you can do to have a better debugging experience?"
   ]
  },
  {
   "cell_type": "markdown",
   "metadata": {},
   "source": [
    "1.boring code, clen and neat, no need to flex your skill but more readable and \n",
    "ppl can understand w/out high level knowledge\n",
    "\n",
    "2.check the soundness by reading code before testing, walk through the code first, spot any red flags before run it.\n",
    "\n",
    "3.construct the problem at least 90% first, then improve by testing. \n"
   ]
  },
  {
   "cell_type": "code",
   "execution_count": null,
   "metadata": {},
   "outputs": [],
   "source": []
  },
  {
   "cell_type": "markdown",
   "metadata": {},
   "source": [
    "d) (Optional) Follow along with the live coding. You can write your code here:"
   ]
  },
  {
   "cell_type": "code",
   "execution_count": 16,
   "metadata": {},
   "outputs": [],
   "source": [
    "# class Board():\n",
    "#     def _int_(self):\n",
    "#         self.board =[[\"-\" for _ in range(8)] for _ in range(8)]\n",
    "        \n",
    "#     def _repr_(self):\n",
    "#         return \"\\n\".join([\" \".join(x) for x in self.board])\n",
    "    \n",
    "#     def is_queen(self, row, col):\n",
    "#         return self.board[row][col] == \"Q\"\n",
    "    \n",
    "#     def set_queen_at(self, row, col):\n",
    "#         return self.board[row][col] == \"Q\"\n",
    "    \n",
    "#     def is_valid_row(self, row, col):\n",
    "#         for j in range(8):\n",
    "#             if self.board[row][j] == \"Q\" and j != col:\n",
    "#                 return False\n",
    "#         return True\n",
    "    \n",
    "#     def is_valid_col(self, row, col):\n",
    "#         for i in range(8):\n",
    "#             if self.board[i][col] == \"Q\" and i != row:\n",
    "#                 return False\n",
    "#         return True\n",
    "\n",
    "#     def is_valid_diag(self, row, col):\n",
    "#         for i in range(8):\n",
    "#             if self.board[row - i][col - i] == \"Q\":\n",
    "#                 return False\n",
    "#         return True\n",
    "    \n",
    "#     def is_valid_move(self, row, col):\n",
    "#         #if self.num_queens() > 8:\n",
    "#         #    return False\n",
    "#         if not self.is_valid_row(row, col):\n",
    "#             return False\n",
    "#         if not self.is_valid_col(row, col):\n",
    "#             return False\n",
    "#         #if not self.is_valid_diag(row, col):\n",
    "#         #    return False\n",
    "#         return True\n",
    "    \n",
    "#     def set_queen_at(self, row, col):\n",
    "#         self.board[row][col] = \"Q\"\n",
    "        \n",
    "#     def unset_queen_on(self, row):\n",
    "#         self.board[row] = [\"-\" for _ in range(8)]\n",
    "        \n",
    "#     def find_queen_on(self, row):\n",
    "#         for col in range(8):\n",
    "#             if self.board[row][col]:\n",
    "#                 return col\n",
    "#         raise ValueError(\"programmer error\")\n",
    "        \n",
    "#     def search(self):\n",
    "#         row = 0\n",
    "#         col = 0\n",
    "#         while row < 8:\n",
    "#             if self.is_valid_move(row, col):\n",
    "#                 self.set_queen_at(row, col)\n",
    "#                 row += 1\n",
    "#                 col = 0\n",
    "#             else:\n",
    "#                 col += 1\n",
    "#                 if col >= 8:\n",
    "#                     #backtrack\n",
    "#                     col = self.find_queen_on(row -1 ) +1\n",
    "#                     self.unset_queen_on(row-1)\n",
    "#                     row -= 1\n",
    "#         print(self)\n",
    "                    \n",
    "            \n",
    "# board = Board()\n",
    "# board.search()\n",
    "# print(board)"
   ]
  },
  {
   "cell_type": "code",
   "execution_count": null,
   "metadata": {},
   "outputs": [],
   "source": []
  },
  {
   "cell_type": "code",
   "execution_count": null,
   "metadata": {},
   "outputs": [],
   "source": []
  }
 ],
 "metadata": {
  "kernelspec": {
   "display_name": "Python 3 (ipykernel)",
   "language": "python",
   "name": "python3"
  },
  "language_info": {
   "codemirror_mode": {
    "name": "ipython",
    "version": 3
   },
   "file_extension": ".py",
   "mimetype": "text/x-python",
   "name": "python",
   "nbconvert_exporter": "python",
   "pygments_lexer": "ipython3",
   "version": "3.7.13"
  },
  "vscode": {
   "interpreter": {
    "hash": "76ca05dc3ea24b2e3b98cdb7774adfbb40773424bf5109b477fd793f623715af"
   }
  }
 },
 "nbformat": 4,
 "nbformat_minor": 2
}
