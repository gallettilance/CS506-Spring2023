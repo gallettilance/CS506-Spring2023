{
 "cells": [
  {
   "attachments": {},
   "cell_type": "markdown",
   "metadata": {},
   "source": [
    "# Worksheet 07\n",
    "\n",
    "Name:  Youheng Yang\\\n",
    "UID: U45006780\n",
    "\n",
    "### Topics\n",
    "\n",
    "- Soft Clustering\n",
    "- Clustering Aggregation\n",
    "\n",
    "### Probability Review\n",
    "\n",
    "Read through [the following](https://medium.com/@gallettilance/overview-of-probability-3272b72c82c8)\n",
    "\n",
    "### Soft Clustering\n",
    "\n",
    "We generate 10 data points that come from a normal distribution with mean 5 and variance 1."
   ]
  },
  {
   "cell_type": "code",
   "execution_count": 63,
   "metadata": {},
   "outputs": [
    {
     "name": "stdout",
     "output_type": "stream",
     "text": [
      "[4.409816497085763, 5.6809071480568365, 3.55980228508167, 5.208295959299781, 4.9028302440935665, 4.952126529239965, 3.139123241718978, 5.087253309004788, 5.014886484647079, 5.965525024480413]\n"
     ]
    }
   ],
   "source": [
    "import random\n",
    "import numpy as np\n",
    "from sklearn.cluster import KMeans\n",
    "\n",
    "mean = 5\n",
    "stdev = 1\n",
    "\n",
    "c1 = np.random.normal(mean, stdev, 10).tolist()\n",
    "print(c1)"
   ]
  },
  {
   "cell_type": "markdown",
   "metadata": {},
   "source": [
    "a) Generate 10 more data points, this time coming from a normal distribution with mean 8 and variance 1."
   ]
  },
  {
   "cell_type": "code",
   "execution_count": 65,
   "metadata": {},
   "outputs": [
    {
     "name": "stdout",
     "output_type": "stream",
     "text": [
      "[8.680916892710403, 7.450710831740215, 7.252335555291618, 9.362664410426387, 7.910160792592792, 9.650914522243188, 7.771500770008955, 8.974692325667657, 7.436611466327474, 8.9064522697171]\n"
     ]
    }
   ],
   "source": [
    "c2 = np.random.normal(8, 1, 10).tolist()\n",
    "print(c2)"
   ]
  },
  {
   "cell_type": "markdown",
   "metadata": {},
   "source": [
    "b) Flip a fair coin 10 times. If the coin lands on H, then pick the last data point of `c1` and remove it from `c1`, if T then pick the last data point from `c2` and remove it from `c2`. Add these 10 points to a list called `data`."
   ]
  },
  {
   "cell_type": "code",
   "execution_count": 66,
   "metadata": {},
   "outputs": [
    {
     "name": "stdout",
     "output_type": "stream",
     "text": [
      "[5.965525024480413, 8.9064522697171, 5.014886484647079, 7.436611466327474, 8.974692325667657, 5.087253309004788, 7.771500770008955, 3.139123241718978, 4.952126529239965, 9.650914522243188]\n"
     ]
    }
   ],
   "source": [
    "data = []\n",
    "for i in range(10):\n",
    "    # flip coin\n",
    "    coin_output = random.choice([0, 1])\n",
    "    if coin_output == 0:\n",
    "        p1 = c1.pop()\n",
    "        data.append(p1)\n",
    "    else:\n",
    "        p2 = c2.pop()\n",
    "        data.append(p2)\n",
    "print(data)"
   ]
  },
  {
   "cell_type": "markdown",
   "metadata": {},
   "source": [
    "c) This `data` is a Gaussian Mixture Distribution with 2 mixture components. Over the next few questions we will walk through the GMM algorithm to see if we can uncover the parameters we used to generate this data. First, please list all these parameters of the GMM that created `data` and the values we know they have."
   ]
  },
  {
   "attachments": {},
   "cell_type": "markdown",
   "metadata": {},
   "source": [
    "- The mean and var of these two normal distribution.\n",
    "- The probability of each distribution."
   ]
  },
  {
   "cell_type": "markdown",
   "metadata": {},
   "source": [
    "d) Let's assume there are two mixture components (note: we could plot the data and make the observation that there are two clusters). The EM algorithm asks us to start with a random `mean_j`, `variance_j`, `P(C_j)` for each component j. One method we could use to find sensible values for these is to apply K means with k=2 here.\n",
    "\n",
    "1. the centroids would be the estimates of the `mean_j`\n",
    "2. the intra-cluster variance could be the estimate of `variance_j`\n",
    "3. the proportion of points in each cluster could be the estimate of `P(C_j)`\n",
    "\n",
    "Go through this process and list the parameter estimates it gives. Are they close or far from the true values?"
   ]
  },
  {
   "cell_type": "code",
   "execution_count": 67,
   "metadata": {},
   "outputs": [
    {
     "name": "stdout",
     "output_type": "stream",
     "text": [
      "[5.965525024480413, 5.014886484647079, 5.087253309004788, 3.139123241718978, 4.952126529239965]\n",
      "[8.9064522697171, 7.436611466327474, 8.974692325667657, 7.771500770008955, 9.650914522243188]\n",
      "P(C_1) = 0.5,  P(C_2) = 0.5\n",
      "mean_1 = 4.831782917818244,  mean_2 = 8.548034270792874\n",
      "var_1 = 0.8527485130559429,  var_2 = 0.6730220669813904\n"
     ]
    }
   ],
   "source": [
    "kmeans = KMeans(2, init='k-means++', n_init='auto').fit(X=np.array(data).reshape(-1, 1))\n",
    "\n",
    "c1 = [x[0] for x in filter(lambda x: x[1] == 0, zip(data, kmeans.labels_))]\n",
    "print(c1)\n",
    "c2 = [x[0] for x in filter(lambda x: x[1] == 1, zip(data, kmeans.labels_))]\n",
    "print(c2)\n",
    "\n",
    "prob_c = [ len(c1) / (len(c1) + len(c2)) , len(c2) / (len(c1) + len(c2)) ]\n",
    "mean = [ sum(c1)/len(c1) , sum(c2)/len(c2) ]\n",
    "var = [ sum(map(lambda x : (x - mean[0])**2, c1)) / len(c1) , sum(map(lambda x : (x - mean[1])**2, c2)) / len(c2) ]\n",
    "\n",
    "print(\"P(C_1) = \" + str(prob_c[0]) + \",  P(C_2) = \" + str(prob_c[1]))\n",
    "print(\"mean_1 = \" + str(mean[0]) + \",  mean_2 = \" + str(mean[1]))\n",
    "print(\"var_1 = \" + str(var[0]) + \",  var_2 = \" + str(var[1]))"
   ]
  },
  {
   "attachments": {},
   "cell_type": "markdown",
   "metadata": {},
   "source": [
    "The propability is exactly the same; the mean is close; the variance is kind of close "
   ]
  },
  {
   "cell_type": "markdown",
   "metadata": {},
   "source": [
    "e) For each data point, compute `P(C_j | X_i)`. Comment on which cluster you think each point belongs to based on the estimated probabilities. How does that compare to the truth?"
   ]
  },
  {
   "cell_type": "code",
   "execution_count": 72,
   "metadata": {},
   "outputs": [
    {
     "name": "stdout",
     "output_type": "stream",
     "text": [
      "point =  5.965525024480413\n",
      "probability of observing that point if it came from cluster 0 =  0.19331133398721742\n",
      "probability of observing that point if it came from cluster 1 =  0.000376365274823408\n",
      "point =  8.9064522697171\n",
      "probability of observing that point if it came from cluster 0 =  5.154617455402042e-06\n",
      "probability of observing that point if it came from cluster 1 =  0.5143937786919358\n",
      "point =  5.014886484647079\n",
      "probability of observing that point if it came from cluster 0 =  0.457169698698438\n",
      "probability of observing that point if it came from cluster 1 =  6.144671452408216e-07\n",
      "point =  7.436611466327474\n",
      "probability of observing that point if it came from cluster 0 =  0.004404975036798033\n",
      "probability of observing that point if it came from cluster 1 =  0.15160026918091593\n",
      "point =  8.974692325667657\n",
      "probability of observing that point if it came from cluster 0 =  3.5054389065113286e-06\n",
      "probability of observing that point if it came from cluster 1 =  0.48485585528195285\n",
      "point =  5.087253309004788\n",
      "probability of observing that point if it came from cluster 0 =  0.44730104946005367\n",
      "probability of observing that point if it came from cluster 1 =  1.0743241306077842e-06\n",
      "point =  7.771500770008955\n",
      "probability of observing that point if it came from cluster 0 =  0.0012287722189918409\n",
      "probability of observing that point if it came from cluster 1 =  0.304650613249596\n",
      "point =  3.139123241718978\n",
      "probability of observing that point if it came from cluster 0 =  0.06524192003927481\n",
      "probability of observing that point if it came from cluster 1 =  5.590834771113133e-15\n",
      "point =  4.952126529239965\n",
      "probability of observing that point if it came from cluster 0 =  0.46319554151924397\n",
      "probability of observing that point if it came from cluster 1 =  3.749790856344227e-07\n",
      "point =  9.650914522243188\n",
      "probability of observing that point if it came from cluster 0 =  5.432922358751445e-08\n",
      "probability of observing that point if it came from cluster 1 =  0.1547990029371347\n",
      "5.965525024480413\n",
      "Probability of coming from C_1 = 0.9980568447234524\n",
      "Probability of coming from C_2 = 0.0019431552765476448\n",
      "\n",
      "8.9064522697171\n",
      "Probability of coming from C_1 = 1.002066124484309e-05\n",
      "Probability of coming from C_2 = 0.9999899793387551\n",
      "\n",
      "5.014886484647079\n",
      "Probability of coming from C_1 = 0.9999986559338445\n",
      "Probability of coming from C_2 = 1.3440661555341779e-06\n",
      "\n",
      "7.436611466327474\n",
      "Probability of coming from C_1 = 0.02823607026088588\n",
      "Probability of coming from C_2 = 0.9717639297391141\n",
      "\n",
      "8.974692325667657\n",
      "Probability of coming from C_1 = 7.229805569391618e-06\n",
      "Probability of coming from C_2 = 0.9999927701944306\n",
      "\n",
      "5.087253309004788\n",
      "Probability of coming from C_1 = 0.9999975982136603\n",
      "Probability of coming from C_2 = 2.401786339664525e-06\n",
      "\n",
      "7.771500770008955\n",
      "Probability of coming from C_1 = 0.004017178918773619\n",
      "Probability of coming from C_2 = 0.9959828210812265\n",
      "\n",
      "3.139123241718978\n",
      "Probability of coming from C_1 = 0.9999999999999143\n",
      "Probability of coming from C_2 = 8.569390305722214e-14\n",
      "\n",
      "4.952126529239965\n",
      "Probability of coming from C_1 = 0.9999991904525228\n",
      "Probability of coming from C_2 = 8.095474771651511e-07\n",
      "\n",
      "9.650914522243188\n",
      "Probability of coming from C_1 = 3.5096611405088673e-07\n",
      "Probability of coming from C_2 = 0.9999996490338859\n",
      "\n"
     ]
    }
   ],
   "source": [
    "from scipy.stats import norm\n",
    "\n",
    "prob_c0_x = [] # P(C_0 | X_i)\n",
    "prob_c1_x = [] # P(C_1 | X_i)\n",
    "prob_x = [] # P(X_i)\n",
    "\n",
    "k = 2\n",
    "\n",
    "for p in data:\n",
    "    print(\"point = \", p)\n",
    "    pdf_i = []\n",
    "\n",
    "    for j in range(k):\n",
    "        # P(X_i | C_j)\n",
    "        pdf_i.append(norm.pdf(p, mean[j], var[j]))\n",
    "        print(\"probability of observing that point if it came from cluster \" + str(j) + \" = \", pdf_i[j])\n",
    "        # P(C_j) already computed\n",
    "        prob_c[j]\n",
    "\n",
    "    # P(X_i) = P(C_0)P(X_i | C_0) + P(C_1)P(X_i | C_1)\n",
    "    prob_x = prob_c[0] * pdf_i[0] + prob_c[1] * pdf_i[1]\n",
    "\n",
    "    # P(C_j | X_i) = P(X_i | C_j)P(C_j) / P(X_i)\n",
    "    prob_c0_x.append(pdf_i[0] * prob_c[0] / prob_x)\n",
    "    prob_c1_x.append(pdf_i[1] * prob_c[1] / prob_x)\n",
    "\n",
    "probs = zip(data, prob_c0_x, prob_c1_x)\n",
    "for p in probs:\n",
    "    print(p[0])\n",
    "    print(\"Probability of coming from C_1 = \" + str(p[1]))\n",
    "    print(\"Probability of coming from C_2 = \" + str(p[2]))\n",
    "    print()\n"
   ]
  },
  {
   "cell_type": "markdown",
   "metadata": {},
   "source": [
    "f) Having computed `P(C_j | X_i)`, update the estimates of `mean_j`, `var_j`, and `P(C_j)`. How different are these values from the original ones you got from K means? briefly comment."
   ]
  },
  {
   "cell_type": "code",
   "execution_count": 110,
   "metadata": {},
   "outputs": [
    {
     "name": "stdout",
     "output_type": "stream",
     "text": [
      "P(C_1) = 0.5033373433835514,  P(C_2) = 0.4966626566164486\n",
      "mean_1 = 4.849884059810831,  mean_2 = 8.55466135679956\n",
      "var_1 = 0.8954031438399681,  var_2 = 0.6628469963381958\n"
     ]
    }
   ],
   "source": [
    "prob_c = [sum(prob_c0_x)/ len(prob_c0_x), sum(prob_c1_x)/ len(prob_c1_x) ]\n",
    "mean = [sum([x[0] * x[1] for x in zip(prob_c0_x, data)]) / sum(prob_c0_x), sum([x[0] * x[1] for x in zip(prob_c1_x, data)]) / sum(prob_c1_x)]\n",
    "\n",
    "# c_0 = [x[0] for x in filter(lambda x: x[1] > x[2], zip(data, prob_c0_x, prob_c1_x))]\n",
    "# c_1 = [x[0] for x in filter(lambda x: x[1] < x[2], zip(data, prob_c0_x, prob_c1_x))]\n",
    "#var = [ sum(map(lambda x : (x - mean[0])**2, c_0)) / len(c_0) , sum(map(lambda x : (x - mean[1])**2, c_1)) / len(c_1) ]\n",
    "var = [sum(map(lambda x : (x[0] * x[1]), zip(prob_c0_x, ((data-mean[0])*np.transpose(data-mean[0]))))) / sum(prob_c0_x)  , sum(map(lambda x : (x[0] * x[1]), zip(prob_c1_x, ((data - mean[1])*np.transpose(data - mean[1]))))) / sum(prob_c0_x) ]\n",
    "\n",
    "\n",
    "print(\"P(C_1) = \" + str(prob_c[0]) + \",  P(C_2) = \" + str(prob_c[1]))\n",
    "print(\"mean_1 = \" + str(mean[0]) + \",  mean_2 = \" + str(mean[1]))\n",
    "print(\"var_1 = \" + str(var[0]) + \",  var_2 = \" + str(var[1]))"
   ]
  },
  {
   "attachments": {},
   "cell_type": "markdown",
   "metadata": {},
   "source": [
    "They are relatively close"
   ]
  },
  {
   "cell_type": "markdown",
   "metadata": {},
   "source": [
    "g) Update `P(C_j | X_i)`. Comment on any differences or lack thereof you observe."
   ]
  },
  {
   "cell_type": "code",
   "execution_count": 112,
   "metadata": {},
   "outputs": [
    {
     "name": "stdout",
     "output_type": "stream",
     "text": [
      "point =  5.965525024480413\n",
      "probability of observing that point if it came from cluster 0 =  0.20501509200272683\n",
      "probability of observing that point if it came from cluster 1 =  0.0002926669652388562\n",
      "point =  8.9064522697171\n",
      "probability of observing that point if it came from cluster 0 =  1.5558702295951553e-05\n",
      "probability of observing that point if it came from cluster 1 =  0.5227964385908351\n",
      "point =  5.014886484647079\n",
      "probability of observing that point if it came from cluster 0 =  0.43804380477541116\n",
      "probability of observing that point if it came from cluster 1 =  3.861992439997545e-07\n",
      "point =  7.436611466327474\n",
      "probability of observing that point if it came from cluster 0 =  0.0068649941653084355\n",
      "probability of observing that point if it came from cluster 1 =  0.14510876745958953\n",
      "point =  8.974692325667657\n",
      "probability of observing that point if it came from cluster 0 =  1.0984051530742384e-05\n",
      "probability of observing that point if it came from cluster 1 =  0.492381831719739\n",
      "point =  5.087253309004788\n",
      "probability of observing that point if it came from cluster 0 =  0.43016101486559766\n",
      "probability of observing that point if it came from cluster 1 =  6.877467064144291e-07\n",
      "point =  7.771500770008955\n",
      "probability of observing that point if it came from cluster 0 =  0.002172804340137998\n",
      "probability of observing that point if it came from cluster 1 =  0.29947905506742123\n",
      "point =  3.139123241718978\n",
      "probability of observing that point if it came from cluster 0 =  0.07181505739496798\n",
      "probability of observing that point if it came from cluster 1 =  1.9263665965668486e-15\n",
      "point =  4.952126529239965\n",
      "probability of observing that point if it came from cluster 0 =  0.44264971707263484\n",
      "probability of observing that point if it came from cluster 1 =  2.3188518848026486e-07\n",
      "point =  9.650914522243188\n",
      "probability of observing that point if it came from cluster 0 =  2.5468112577003416e-07\n",
      "probability of observing that point if it came from cluster 1 =  0.1533018404522837\n",
      "5.965525024480413\n",
      "Probability of coming from C_1 = 0.9985933731401164\n",
      "Probability of coming from C_2 = 0.0014066268598835652\n",
      "\n",
      "8.9064522697171\n",
      "Probability of coming from C_1 = 3.0159580577333253e-05\n",
      "Probability of coming from C_2 = 0.9999698404194226\n",
      "\n",
      "5.014886484647079\n",
      "Probability of coming from C_1 = 0.9999991300468728\n",
      "Probability of coming from C_2 = 8.69953127206389e-07\n",
      "\n",
      "7.436611466327474\n",
      "Probability of coming from C_1 = 0.045751531481700546\n",
      "Probability of coming from C_2 = 0.9542484685182995\n",
      "\n",
      "8.974692325667657\n",
      "Probability of coming from C_1 = 2.2607282907058696e-05\n",
      "Probability of coming from C_2 = 0.999977392717093\n",
      "\n",
      "5.087253309004788\n",
      "Probability of coming from C_1 = 0.9999984223918519\n",
      "Probability of coming from C_2 = 1.5776081480594527e-06\n",
      "\n",
      "7.771500770008955\n",
      "Probability of coming from C_1 = 0.007299115237028473\n",
      "Probability of coming from C_2 = 0.9927008847629716\n",
      "\n",
      "3.139123241718978\n",
      "Probability of coming from C_1 = 0.9999999999999735\n",
      "Probability of coming from C_2 = 2.6468283741626855e-14\n",
      "\n",
      "4.952126529239965\n",
      "Probability of coming from C_1 = 0.9999994830899829\n",
      "Probability of coming from C_2 = 5.169100171694309e-07\n",
      "\n",
      "9.650914522243188\n",
      "Probability of coming from C_1 = 1.6836286455950793e-06\n",
      "Probability of coming from C_2 = 0.9999983163713544\n",
      "\n"
     ]
    }
   ],
   "source": [
    "prob_c0_x = [] # P(C_0 | X_i)\n",
    "prob_c1_x = [] # P(C_1 | X_i)\n",
    "prob_x = [] # P(X_i)\n",
    "\n",
    "k = 2\n",
    "\n",
    "for p in data:\n",
    "    print(\"point = \", p)\n",
    "    pdf_i = []\n",
    "\n",
    "    for j in range(k):\n",
    "        # P(X_i | C_j)\n",
    "        pdf_i.append(norm.pdf(p, mean[j], var[j]))\n",
    "        print(\"probability of observing that point if it came from cluster \" + str(j) + \" = \", pdf_i[j])\n",
    "        # P(C_j) already computed\n",
    "        prob_c[j]\n",
    "\n",
    "    # P(X_i) = P(C_0)P(X_i | C_0) + P(C_1)P(X_i | C_1)\n",
    "    prob_x = prob_c[0] * pdf_i[0] + prob_c[1] * pdf_i[1]\n",
    "\n",
    "    # P(C_j | X_i) = P(X_i | C_j)P(C_j) / P(X_i)\n",
    "    prob_c0_x.append(pdf_i[0] * prob_c[0] / prob_x)\n",
    "    prob_c1_x.append(pdf_i[1] * prob_c[1] / prob_x)\n",
    "\n",
    "probs = zip(data, prob_c0_x, prob_c1_x)\n",
    "for p in probs:\n",
    "    print(p[0])\n",
    "    print(\"Probability of coming from C_1 = \" + str(p[1]))\n",
    "    print(\"Probability of coming from C_2 = \" + str(p[2]))\n",
    "    print()"
   ]
  },
  {
   "attachments": {},
   "cell_type": "markdown",
   "metadata": {},
   "source": [
    "They are pretty much the same"
   ]
  },
  {
   "cell_type": "markdown",
   "metadata": {},
   "source": [
    "h) Use `P(C_j | X_i)` to create a hard assignment - label each point as belonging to a specific cluster (0 or 1)"
   ]
  },
  {
   "cell_type": "code",
   "execution_count": 109,
   "metadata": {},
   "outputs": [
    {
     "data": {
      "text/plain": [
       "{5.965525024480413: 0,\n",
       " 8.9064522697171: 1,\n",
       " 5.014886484647079: 0,\n",
       " 7.436611466327474: 1,\n",
       " 8.974692325667657: 1,\n",
       " 5.087253309004788: 0,\n",
       " 7.771500770008955: 1,\n",
       " 3.139123241718978: 0,\n",
       " 4.952126529239965: 0,\n",
       " 9.650914522243188: 1}"
      ]
     },
     "execution_count": 109,
     "metadata": {},
     "output_type": "execute_result"
    }
   ],
   "source": [
    "probs = zip(data, prob_c0_x, prob_c1_x)\n",
    "\n",
    "labels = {}\n",
    "for p in probs:\n",
    "\n",
    "    if p[1] > p[2]:\n",
    "        labels[p[0]] = 0\n",
    "    else:\n",
    "        labels[p[0]] = 1\n",
    "labels"
   ]
  },
  {
   "cell_type": "markdown",
   "metadata": {},
   "source": [
    "### Clustering Aggregation\n",
    "\n",
    "| Point | C | P |\n",
    "|-------|---|---|\n",
    "| A     | 0 | a |\n",
    "| B     | 0 | b |\n",
    "| C     | 2 | b |\n",
    "| D     | 1 | c |\n",
    "| E     | 1 | d |\n",
    "\n",
    "a) Fill in the following table where for each pair of points determine whether C and P agree or disagree on how to cluster that pair."
   ]
  },
  {
   "cell_type": "markdown",
   "metadata": {},
   "source": [
    "| Pair | Disagreement |\n",
    "|------|--------------|\n",
    "| A  B |      ?       |\n",
    "| A  C |      ?       |\n",
    "| A  D |      ?       |\n",
    "| A  E |      ?       |\n",
    "| B  C |      ?       |\n",
    "| B  D |      ?       |\n",
    "| B  E |      ?       |\n",
    "| C  D |      ?       |\n",
    "| C  E |      ?       |\n",
    "| D  E |      ?       |\n"
   ]
  },
  {
   "cell_type": "markdown",
   "metadata": {},
   "source": [
    "As datasets become very large, this process can become computationally challenging.\n",
    "\n",
    "b) Given N points, what is the formula for the number of unique pairs of points one can create?"
   ]
  },
  {
   "cell_type": "markdown",
   "metadata": {},
   "source": []
  },
  {
   "cell_type": "markdown",
   "metadata": {},
   "source": [
    "Assume that clustering C clusters all points in the same cluster and clustering P clusters points as such:\n",
    "\n",
    "| Point | P |\n",
    "|-------|---|\n",
    "| A     | 0 |\n",
    "| B     | 0 |\n",
    "| C     | 0 |\n",
    "| D     | 1 |\n",
    "| E     | 1 |\n",
    "| F     | 2 |\n",
    "| G     | 2 |\n",
    "| H     | 2 |\n",
    "| I     | 2 |\n",
    "\n",
    "c) What is the maximum number of disagreements there could be for a dataset of this size? (use the formula from b)?"
   ]
  },
  {
   "cell_type": "markdown",
   "metadata": {},
   "source": []
  },
  {
   "cell_type": "markdown",
   "metadata": {},
   "source": [
    "d) If we look at cluster 0. There are (3 x 2) / 2 = 3 pairs that agree with C (since all points in C are in the same cluster). For each cluster, determine how many agreements there are. How many total agreements are there? How many disagreements does that mean there are between C and P?"
   ]
  },
  {
   "cell_type": "markdown",
   "metadata": {},
   "source": []
  },
  {
   "cell_type": "markdown",
   "metadata": {},
   "source": [
    "e) Assuming that filtering the dataset by cluster number is a computationally easy operation, describe an algorithm inspired by the above process that can efficiently compute disagreement distances on large datasets."
   ]
  },
  {
   "cell_type": "markdown",
   "metadata": {},
   "source": []
  }
 ],
 "metadata": {
  "kernelspec": {
   "display_name": "Python 3",
   "language": "python",
   "name": "python3"
  },
  "language_info": {
   "codemirror_mode": {
    "name": "ipython",
    "version": 3
   },
   "file_extension": ".py",
   "mimetype": "text/x-python",
   "name": "python",
   "nbconvert_exporter": "python",
   "pygments_lexer": "ipython3",
   "version": "3.9.7"
  },
  "orig_nbformat": 4,
  "vscode": {
   "interpreter": {
    "hash": "aee8b7b246df8f9039afb4144a1f6fd8d2ca17a180786b69acc140d282b71a49"
   }
  }
 },
 "nbformat": 4,
 "nbformat_minor": 2
}
