{
 "cells": [
  {
   "cell_type": "markdown",
   "metadata": {},
   "source": [
    "# Worksheet 07\n",
    "\n",
    "Name: Jiahang Li \n",
    "UID: U00295086\n",
    "\n",
    "### Topics\n",
    "\n",
    "- Soft Clustering\n",
    "- Clustering Aggregation\n",
    "\n",
    "### Probability Review\n",
    "\n",
    "Read through [the following](https://medium.com/@gallettilance/overview-of-probability-3272b72c82c8)\n",
    "\n",
    "### Soft Clustering\n",
    "\n",
    "We generate 10 data points that come from a normal distribution with mean 5 and variance 1."
   ]
  },
  {
   "cell_type": "code",
   "execution_count": 18,
   "metadata": {},
   "outputs": [
    {
     "name": "stdout",
     "output_type": "stream",
     "text": [
      "[5.040525465029493, 5.251256500625921, 3.9833619414461388, 4.482574259686124, 4.3205902411411365, 4.788609178832583, 5.58229254648858, 5.285518742776113, 5.255443871801707, 5.849085909039437]\n"
     ]
    }
   ],
   "source": [
    "import random\n",
    "import numpy as np\n",
    "from sklearn.cluster import KMeans\n",
    "\n",
    "mean = 5\n",
    "stdev = 1\n",
    "\n",
    "c1 = np.random.normal(mean, stdev, 10).tolist()\n",
    "print(c1)"
   ]
  },
  {
   "cell_type": "markdown",
   "metadata": {},
   "source": [
    "a) Generate 10 more data points, this time coming from a normal distribution with mean 8 and variance 1."
   ]
  },
  {
   "cell_type": "code",
   "execution_count": 19,
   "metadata": {},
   "outputs": [
    {
     "name": "stdout",
     "output_type": "stream",
     "text": [
      "[7.672892846969796, 8.440594605720708, 9.451596392202164, 8.526922903827446, 8.435372591529761, 7.94575907464858, 8.615242190106898, 7.19475829206822, 7.957020362100586, 9.094537366491185]\n"
     ]
    }
   ],
   "source": [
    "c2 = np.random.normal(8, np.sqrt(1), 10).tolist()\n",
    "print(c2)"
   ]
  },
  {
   "cell_type": "markdown",
   "metadata": {},
   "source": [
    "b) Flip a fair coin 10 times. If the coin lands on H, then pick the last data point of `c1` and remove it from `c1`, if T then pick the last data point from `c2` and remove it from `c2`. Add these 10 points to a list called `data`."
   ]
  },
  {
   "cell_type": "code",
   "execution_count": 20,
   "metadata": {},
   "outputs": [
    {
     "name": "stdout",
     "output_type": "stream",
     "text": [
      "[5.849085909039437, 9.094537366491185, 5.255443871801707, 5.285518742776113, 7.957020362100586, 7.19475829206822, 5.58229254648858, 8.615242190106898, 7.94575907464858, 8.435372591529761]\n"
     ]
    }
   ],
   "source": [
    "data = []\n",
    "for i in range(10):\n",
    "    # flip coin\n",
    "    coin_output = random.choice([0, 1])\n",
    "    if coin_output == 0:\n",
    "        p1 = c1.pop()\n",
    "        data.append(p1)\n",
    "    else:\n",
    "        p2 = c2.pop()\n",
    "        data.append(p2)\n",
    "print(data)"
   ]
  },
  {
   "cell_type": "markdown",
   "metadata": {},
   "source": [
    "c) This `data` is a Gaussian Mixture Distribution with 2 mixture components. Over the next few questions we will walk through the GMM algorithm to see if we can uncover the parameters we used to generate this data. First, please list all these parameters of the GMM that created `data` and the values we know they have."
   ]
  },
  {
   "cell_type": "markdown",
   "metadata": {},
   "source": [
    "Number of components (K): 2\n",
    "\n",
    "P(c_j): [0.4, 0.6]\n",
    "Mean : [5,8]\n",
    "var: [1,1]"
   ]
  },
  {
   "cell_type": "markdown",
   "metadata": {},
   "source": [
    "d) Let's assume there are two mixture components (note: we could plot the data and make the observation that there are two clusters). The EM algorithm asks us to start with a random `mean_j`, `variance_j`, `P(C_j)` for each component j. One method we could use to find sensible values for these is to apply K means with k=2 here.\n",
    "\n",
    "1. the centroids would be the estimates of the `mean_j`\n",
    "2. the intra-cluster variance could be the estimate of `variance_j`\n",
    "3. the proportion of points in each cluster could be the estimate of `P(C_j)`\n",
    "\n",
    "Go through this process and list the parameter estimates it gives. Are they close or far from the true values?"
   ]
  },
  {
   "cell_type": "code",
   "execution_count": 21,
   "metadata": {},
   "outputs": [
    {
     "name": "stdout",
     "output_type": "stream",
     "text": [
      "[5.849085909039437, 5.255443871801707, 5.285518742776113, 5.58229254648858]\n",
      "[9.094537366491185, 7.957020362100586, 7.19475829206822, 8.615242190106898, 7.94575907464858, 8.435372591529761]\n",
      "P(C_1) = 0.4,  P(C_2) = 0.6\n",
      "mean_1 = 5.493085267526459,  mean_2 = 8.207114979490871\n",
      "var_1 = 0.058562922634105466,  var_2 = 0.36031802327685664\n"
     ]
    }
   ],
   "source": [
    "kmeans = KMeans(2, init='k-means++').fit(X=np.array(data).reshape(-1, 1))\n",
    "\n",
    "c1 = [x[0] for x in filter(lambda x: x[1] == 0, zip(data, kmeans.labels_))]\n",
    "print(c1)\n",
    "c2 = [x[0] for x in filter(lambda x: x[1] == 1, zip(data, kmeans.labels_))]\n",
    "print(c2)\n",
    "\n",
    "prob_c = [ len(c1) / (len(c1) + len(c2)) , len(c2) / (len(c1) + len(c2)) ]\n",
    "mean = [ sum(c1)/len(c1) , sum(c2)/len(c2) ]\n",
    "var = [ sum(map(lambda x : (x - mean[0])**2, c1)) / len(c1) , sum(map(lambda x : (x - mean[1])**2, c2)) / len(c2)  ]\n",
    "\n",
    "print(\"P(C_1) = \" + str(prob_c[0]) + \",  P(C_2) = \" + str(prob_c[1]))\n",
    "print(\"mean_1 = \" + str(mean[0]) + \",  mean_2 = \" + str(mean[1]))\n",
    "print(\"var_1 = \" + str(var[0]) + \",  var_2 = \" + str(var[1]))"
   ]
  },
  {
   "cell_type": "markdown",
   "metadata": {},
   "source": [
    "Comparing these estimates to the true parameter values we have from the GMM, we can see that they are somewhat close but not exact. The mixing coefficients estimated by K-means are flipped but the values are close to the true values. The covariance matrix estimates from K-means are further off, with variances that are much smaller than the true variances of 1, and the variances are also different for the two components. Overall, using K-means to estimate the initial parameters is a useful strategy but not a guarantee that the estimates will be close to the true values."
   ]
  },
  {
   "cell_type": "markdown",
   "metadata": {},
   "source": [
    "e) For each data point, compute `P(C_j | X_i)`. Comment on which cluster you think each point belongs to based on the estimated probabilities. How does that compare to the truth?"
   ]
  },
  {
   "cell_type": "code",
   "execution_count": 22,
   "metadata": {},
   "outputs": [
    {
     "name": "stdout",
     "output_type": "stream",
     "text": [
      "point =  5.849085909039437\n",
      "probability of observing that point if it came from cluster 0 =  6.440618182944351e-08\n",
      "probability of observing that point if it came from cluster 1 =  5.549747691806713e-10\n",
      "point =  9.094537366491185\n",
      "probability of observing that point if it came from cluster 0 =  0.0\n",
      "probability of observing that point if it came from cluster 1 =  0.05333965685837373\n",
      "point =  5.255443871801707\n",
      "probability of observing that point if it came from cluster 0 =  0.0018098960884890642\n",
      "probability of observing that point if it came from cluster 1 =  2.9665657346910844e-15\n",
      "point =  5.285518742776113\n",
      "probability of observing that point if it came from cluster 0 =  0.012747312923961645\n",
      "probability of observing that point if it came from cluster 1 =  5.857221625199056e-15\n",
      "point =  7.957020362100586\n",
      "probability of observing that point if it came from cluster 0 =  0.0\n",
      "probability of observing that point if it came from cluster 1 =  0.8701813768698816\n",
      "point =  7.19475829206822\n",
      "probability of observing that point if it came from cluster 0 =  3.1021974482480226e-183\n",
      "probability of observing that point if it came from cluster 1 =  0.021383145166532253\n",
      "point =  5.58229254648858\n",
      "probability of observing that point if it came from cluster 0 =  2.135147413098201\n",
      "probability of observing that point if it came from cluster 1 =  3.3172834660140193e-12\n",
      "point =  8.615242190106898\n",
      "probability of observing that point if it came from cluster 0 =  0.0\n",
      "probability of observing that point if it came from cluster 1 =  0.5829469010328242\n",
      "point =  7.94575907464858\n",
      "probability of observing that point if it came from cluster 0 =  0.0\n",
      "probability of observing that point if it came from cluster 1 =  0.8510919999954075\n",
      "point =  8.435372591529761\n",
      "probability of observing that point if it came from cluster 0 =  0.0\n",
      "probability of observing that point if it came from cluster 1 =  0.9059015532002065\n",
      "5.849085909039437\n",
      "Probability of coming from C_1 = 0.9872397385515065\n",
      "Probability of coming from C_2 = 0.012760261448493536\n",
      "\n",
      "9.094537366491185\n",
      "Probability of coming from C_1 = 0.0\n",
      "Probability of coming from C_2 = 1.0\n",
      "\n",
      "5.255443871801707\n",
      "Probability of coming from C_1 = 0.9999999999975414\n",
      "Probability of coming from C_2 = 2.458621039255632e-12\n",
      "\n",
      "5.285518742776113\n",
      "Probability of coming from C_1 = 0.9999999999993108\n",
      "Probability of coming from C_2 = 6.892301530683724e-13\n",
      "\n",
      "7.957020362100586\n",
      "Probability of coming from C_1 = 0.0\n",
      "Probability of coming from C_2 = 1.0\n",
      "\n",
      "7.19475829206822\n",
      "Probability of coming from C_1 = 9.671784090033102e-182\n",
      "Probability of coming from C_2 = 1.0\n",
      "\n",
      "5.58229254648858\n",
      "Probability of coming from C_1 = 0.9999999999976694\n",
      "Probability of coming from C_2 = 2.3304832108941494e-12\n",
      "\n",
      "8.615242190106898\n",
      "Probability of coming from C_1 = 0.0\n",
      "Probability of coming from C_2 = 1.0\n",
      "\n",
      "7.94575907464858\n",
      "Probability of coming from C_1 = 0.0\n",
      "Probability of coming from C_2 = 1.0\n",
      "\n",
      "8.435372591529761\n",
      "Probability of coming from C_1 = 0.0\n",
      "Probability of coming from C_2 = 1.0\n",
      "\n"
     ]
    }
   ],
   "source": [
    "from scipy.stats import norm\n",
    "\n",
    "prob_c0_x = [] # P(C_j | X_i) = P(X_i | C_j) * P(C_j) / P(X_i)\n",
    "prob_c1_x = [] # P(C_1 | X_i)\n",
    "prob_x = [] # P(X_i) P(X_i) = sum_j P(X_i | C_j) * P(C_j)\n",
    "\n",
    "k = 2\n",
    "\n",
    "for p in data:\n",
    "    print(\"point = \", p)\n",
    "    pdf_i = []\n",
    "\n",
    "    for j in range(k):\n",
    "        # P(X_i | C_j)\n",
    "        pdf_i.append(norm.pdf(p, mean[j], var[j]))\n",
    "        print(\"probability of observing that point if it came from cluster \" + str(j) + \" = \", pdf_i[j])\n",
    "        # P(C_j) already computed\n",
    "        prob_c[j]\n",
    "\n",
    "    # P(X_i) = P(C_0)P(X_i | C_0) + P(C_1)P(X_i | C_1)\n",
    "    prob_x = prob_c[0] * pdf_i[0] + prob_c[1] * pdf_i[1]\n",
    "\n",
    "    # P(C_j | X_i) = P(X_i | C_j)P(C_j) / P(X_i)\n",
    "    prob_c0_x.append( pdf_i[0] * prob_c[0] / prob_x)\n",
    "    prob_c1_x.append( pdf_i[1] * prob_c[1] / prob_x)\n",
    "\n",
    "probs = zip(data, prob_c0_x, prob_c1_x)\n",
    "for p in probs:\n",
    "    print(p[0])\n",
    "    print(\"Probability of coming from C_1 = \" + str(p[1]))\n",
    "    print(\"Probability of coming from C_2 = \" + str(p[2]))\n",
    "    print()\n"
   ]
  },
  {
   "cell_type": "markdown",
   "metadata": {},
   "source": [
    "f) Having computed `P(C_j | X_i)`, update the estimates of `mean_j`, `var_j`, and `P(C_j)`. How different are these values from the original ones you got from K means? briefly comment."
   ]
  },
  {
   "cell_type": "code",
   "execution_count": 23,
   "metadata": {},
   "outputs": [
    {
     "name": "stdout",
     "output_type": "stream",
     "text": [
      "P(C_1) = 0.3987239738546028,  P(C_2) = 0.6012760261453972\n",
      "mean_1 = 5.491945967770515,  mean_2 = 8.202110777402458\n",
      "var_1 = 0.05856422063803936,  var_2 = 0.3603430653153983\n"
     ]
    }
   ],
   "source": [
    "prob_c = [sum(prob_c0_x)/ len(prob_c0_x), sum(prob_c1_x)/ len(prob_c1_x) ]\n",
    "mean = [sum([x[0] * x[1] for x in zip(prob_c0_x, data)]) / sum(prob_c0_x), sum([x[0] * x[1] for x in zip(prob_c1_x, data)]) / sum(prob_c1_x) ]\n",
    "var = [ sum(map(lambda x : (x - mean[0])**2, c1)) / len(c1) , sum(map(lambda x : (x - mean[1])**2, c2)) / len(c2)  ]\n",
    "\n",
    "print(\"P(C_1) = \" + str(prob_c[0]) + \",  P(C_2) = \" + str(prob_c[1]))\n",
    "print(\"mean_1 = \" + str(mean[0]) + \",  mean_2 = \" + str(mean[1]))\n",
    "print(\"var_1 = \" + str(var[0]) + \",  var_2 = \" + str(var[1]))\n",
    "\n"
   ]
  },
  {
   "cell_type": "markdown",
   "metadata": {},
   "source": [
    "variance is much bigger than the original one. Probability and mean are similar to the original ones."
   ]
  },
  {
   "cell_type": "markdown",
   "metadata": {},
   "source": [
    "g) Update `P(C_j | X_i)`. Comment on any differences or lack thereof you observe."
   ]
  },
  {
   "cell_type": "code",
   "execution_count": 24,
   "metadata": {},
   "outputs": [
    {
     "name": "stdout",
     "output_type": "stream",
     "text": [
      "point =  5.849085909039437\n",
      "probability of observing that point if it came from cluster 0 =  5.725763608831103e-08\n",
      "probability of observing that point if it came from cluster 1 =  6.094820250557766e-10\n",
      "point =  9.094537366491185\n",
      "probability of observing that point if it came from cluster 0 =  0.0\n",
      "probability of observing that point if it came from cluster 1 =  0.05155943162121205\n",
      "point =  5.255443871801707\n",
      "probability of observing that point if it came from cluster 0 =  0.001958860011806504\n",
      "probability of observing that point if it came from cluster 1 =  3.338953480419549e-15\n",
      "point =  5.285518742776113\n",
      "probability of observing that point if it came from cluster 0 =  0.013658157297756594\n",
      "probability of observing that point if it came from cluster 1 =  6.584209092372191e-15\n",
      "point =  7.957020362100586\n",
      "probability of observing that point if it came from cluster 0 =  0.0\n",
      "probability of observing that point if it came from cluster 1 =  0.8784927581353398\n",
      "point =  7.19475829206822\n",
      "probability of observing that point if it came from cluster 0 =  1.7956210461257407e-183\n",
      "probability of observing that point if it came from cluster 1 =  0.022242414914235658\n",
      "point =  5.58229254648858\n",
      "probability of observing that point if it came from cluster 0 =  2.072473596331496\n",
      "probability of observing that point if it came from cluster 1 =  3.6833644653675205e-12\n",
      "point =  8.615242190106898\n",
      "probability of observing that point if it came from cluster 0 =  0.0\n",
      "probability of observing that point if it came from cluster 1 =  0.5738054750469755\n",
      "point =  7.94575907464858\n",
      "probability of observing that point if it came from cluster 0 =  0.0\n",
      "probability of observing that point if it came from cluster 1 =  0.8595966861120757\n",
      "point =  8.435372591529761\n",
      "probability of observing that point if it came from cluster 0 =  0.0\n",
      "probability of observing that point if it came from cluster 1 =  0.897843465924279\n",
      "5.849085909039437\n",
      "Probability of coming from C_1 = 0.9842016004226004\n",
      "Probability of coming from C_2 = 0.015798399577399654\n",
      "\n",
      "9.094537366491185\n",
      "Probability of coming from C_1 = 0.0\n",
      "Probability of coming from C_2 = 1.0\n",
      "\n",
      "5.255443871801707\n",
      "Probability of coming from C_1 = 0.9999999999974296\n",
      "Probability of coming from C_2 = 2.5704461314416977e-12\n",
      "\n",
      "5.285518742776113\n",
      "Probability of coming from C_1 = 0.9999999999992731\n",
      "Probability of coming from C_2 = 7.269642318793005e-13\n",
      "\n",
      "7.957020362100586\n",
      "Probability of coming from C_1 = 0.0\n",
      "Probability of coming from C_2 = 1.0\n",
      "\n",
      "7.19475829206822\n",
      "Probability of coming from C_1 = 5.3534186800893e-182\n",
      "Probability of coming from C_2 = 1.0\n",
      "\n",
      "5.58229254648858\n",
      "Probability of coming from C_1 = 0.9999999999973199\n",
      "Probability of coming from C_2 = 2.6801384349711225e-12\n",
      "\n",
      "8.615242190106898\n",
      "Probability of coming from C_1 = 0.0\n",
      "Probability of coming from C_2 = 1.0\n",
      "\n",
      "7.94575907464858\n",
      "Probability of coming from C_1 = 0.0\n",
      "Probability of coming from C_2 = 1.0\n",
      "\n",
      "8.435372591529761\n",
      "Probability of coming from C_1 = 0.0\n",
      "Probability of coming from C_2 = 1.0\n",
      "\n"
     ]
    }
   ],
   "source": [
    "prob_c0_x = [] # P(C_j | X_i) = P(X_i | C_j) * P(C_j) / P(X_i)\n",
    "prob_c1_x = [] # P(C_1 | X_i)\n",
    "prob_x = [] # P(X_i) P(X_i) = sum_j P(X_i | C_j) * P(C_j)\n",
    "\n",
    "k = 2\n",
    "\n",
    "for p in data:\n",
    "    print(\"point = \", p)\n",
    "    pdf_i = []\n",
    "\n",
    "    for j in range(k):\n",
    "        # P(X_i | C_j)\n",
    "        pdf_i.append(norm.pdf(p, mean[j], var[j]))\n",
    "        print(\"probability of observing that point if it came from cluster \" + str(j) + \" = \", pdf_i[j])\n",
    "        # P(C_j) already computed\n",
    "        prob_c[j]\n",
    "\n",
    "    # P(X_i) = P(C_0)P(X_i | C_0) + P(C_1)P(X_i | C_1)\n",
    "    prob_x = prob_c[0] * pdf_i[0] + prob_c[1] * pdf_i[1]\n",
    "\n",
    "    # P(C_j | X_i) = P(X_i | C_j)P(C_j) / P(X_i)\n",
    "    prob_c0_x.append( pdf_i[0] * prob_c[0] / prob_x)\n",
    "    prob_c1_x.append( pdf_i[1] * prob_c[1] / prob_x)\n",
    "\n",
    "probs = zip(data, prob_c0_x, prob_c1_x)\n",
    "for p in probs:\n",
    "    print(p[0])\n",
    "    print(\"Probability of coming from C_1 = \" + str(p[1]))\n",
    "    print(\"Probability of coming from C_2 = \" + str(p[2]))\n",
    "    print()\n"
   ]
  },
  {
   "cell_type": "markdown",
   "metadata": {},
   "source": [
    "Comparing these estimates to the true parameter values we have from the GMM, we can see that they are somewhat close but not exact. The mixing coefficients estimated by K-means are flipped but the values are close to the true values. The covariance matrix estimates from K-means are further off, with variances that are much smaller than the true variances of 1, and the variances are also different for the two components. Overall, using K-means to estimate the initial parameters is a useful strategy but not a guarantee that the estimates will be close to the true values."
   ]
  },
  {
   "cell_type": "markdown",
   "metadata": {},
   "source": [
    "h) Use `P(C_j | X_i)` to create a hard assignment - label each point as belonging to a specific cluster (0 or 1)"
   ]
  },
  {
   "cell_type": "code",
   "execution_count": 27,
   "metadata": {},
   "outputs": [
    {
     "name": "stdout",
     "output_type": "stream",
     "text": [
      "5.849085909039437\n",
      "Point 0 comes from cluster 0\n",
      "9.094537366491185\n",
      "Point 1 comes from cluster 1\n",
      "5.255443871801707\n",
      "Point 2 comes from cluster 0\n",
      "5.285518742776113\n",
      "Point 3 comes from cluster 0\n",
      "7.957020362100586\n",
      "Point 4 comes from cluster 1\n",
      "7.19475829206822\n",
      "Point 5 comes from cluster 1\n",
      "5.58229254648858\n",
      "Point 6 comes from cluster 0\n",
      "8.615242190106898\n",
      "Point 7 comes from cluster 1\n",
      "7.94575907464858\n",
      "Point 8 comes from cluster 1\n",
      "8.435372591529761\n",
      "Point 9 comes from cluster 1\n"
     ]
    }
   ],
   "source": [
    "clusters = []\n",
    "for i in range(len(data)):\n",
    "    print(data[i])\n",
    "    if prob_c0_x[i] > prob_c1_x[i]:\n",
    "        print(\"Point {} comes from cluster 0\".format(i))\n",
    "    elif prob_c0_x[i] < prob_c1_x[i]:\n",
    "        print(\"Point {} comes from cluster 1\".format(i))"
   ]
  },
  {
   "cell_type": "markdown",
   "metadata": {},
   "source": [
    "### Clustering Aggregation\n",
    "\n",
    "| Point | C | P |\n",
    "|-------|---|---|\n",
    "| A     | 0 | a |\n",
    "| B     | 0 | b |\n",
    "| C     | 2 | b |\n",
    "| D     | 1 | c |\n",
    "| E     | 1 | d |\n",
    "\n",
    "a) Fill in the following table where for each pair of points determine whether C and P agree or disagree on how to cluster that pair."
   ]
  },
  {
   "cell_type": "markdown",
   "metadata": {},
   "source": [
    "| Pair | Disagreement |\n",
    "|------|--------------|\n",
    "| A  B |      1       |\n",
    "| A  C |      0       |\n",
    "| A  D |      0       |\n",
    "| A  E |      0       |\n",
    "| B  C |      1       |\n",
    "| B  D |      0       |\n",
    "| B  E |      0       |\n",
    "| C  D |      0       |\n",
    "| C  E |      0       |\n",
    "| D  E |      1       |\n"
   ]
  },
  {
   "cell_type": "markdown",
   "metadata": {},
   "source": [
    "As datasets become very large, this process can become computationally challenging.\n",
    "\n",
    "b) Given N points, what is the formula for the number of unique pairs of points one can create?"
   ]
  },
  {
   "cell_type": "markdown",
   "metadata": {},
   "source": [
    "(N * (N-1)) / 2"
   ]
  },
  {
   "cell_type": "markdown",
   "metadata": {},
   "source": [
    "Assume that clustering C clusters all points in the same cluster and clustering P clusters points as such:\n",
    "\n",
    "| Point | P |\n",
    "|-------|---|\n",
    "| A     | 0 |\n",
    "| B     | 0 |\n",
    "| C     | 0 |\n",
    "| D     | 1 |\n",
    "| E     | 1 |\n",
    "| F     | 2 |\n",
    "| G     | 2 |\n",
    "| H     | 2 |\n",
    "| I     | 2 |\n",
    "\n",
    "c) What is the maximum number of disagreements there could be for a dataset of this size? (use the formula from b)?"
   ]
  },
  {
   "cell_type": "markdown",
   "metadata": {},
   "source": [
    "Using the table of points and cluster assignments provided, we can count the number of unique pairs of points for each cluster separately:\n",
    "\n",
    "Cluster 0: There are 3 points (A, B, and C) in this cluster, so the number of unique pairs is:\n",
    "\n",
    "(3 choose 2) = 3(2)/2 = 3\n",
    "\n",
    "Cluster 1: There are 2 points (D and E) in this cluster, so the number of unique pairs is:\n",
    "\n",
    "(2 choose 2) = 2(1)/2 = 1\n",
    "\n",
    "Cluster 2: There are 4 points (F, G, H, and I) in this cluster, so the number of unique pairs is:\n",
    "\n",
    "(4 choose 2) = 4(3)/2 = 6\n",
    "\n",
    "Therefore, the total number of unique pairs of points that can be created from these clusters is:\n",
    "\n",
    "3 + 1 + 6 = 10"
   ]
  },
  {
   "cell_type": "markdown",
   "metadata": {},
   "source": [
    "d) If we look at cluster 0. There are (3 x 2) / 2 = 3 pairs that agree with C (since all points in C are in the same cluster). For each cluster, determine how many agreements there are. How many total agreements are there? How many disagreements does that mean there are between C and P?"
   ]
  },
  {
   "cell_type": "markdown",
   "metadata": {},
   "source": [
    "In cluster 0, all points are in the same cluster according to clustering algorithm C. Therefore, there are (3 choose 2) = (3 x 2) / 2 = 3 pairs of points that agree with C.\n",
    "\n",
    "For each cluster, we can count the number of pairs of points that agree with C and P:\n",
    "\n",
    "Cluster 0: 3 agreements with C, 3 agreements with P\n",
    "Cluster 1: 1 agreement with C, 1 agreement with P\n",
    "Cluster 2: 6 agreements with C, 6 agreements with P\n",
    "To find the total number of agreements, we simply sum up the number of agreements for each cluster:\n",
    "\n",
    "3 + 1 + 6 = 10\n",
    "\n",
    "To find the number of disagreements, we can subtract the number of agreements from the total number of pairs of points, which we calculated in a previous answer to be:\n",
    "\n",
    "10 (total number of pairs) - 10 (total number of agreements) = 0\n",
    "\n",
    "Therefore, there are no disagreements between C and P in this case. This means that C and P agree on how to cluster all pairs of points."
   ]
  },
  {
   "cell_type": "markdown",
   "metadata": {},
   "source": [
    "e) Assuming that filtering the dataset by cluster number is a computationally easy operation, describe an algorithm inspired by the above process that can efficiently compute disagreement distances on large datasets."
   ]
  },
  {
   "cell_type": "markdown",
   "metadata": {},
   "source": [
    "- Divide the dataset into clusters using two different clustering algorithms (e.g., C and P).\n",
    "- For each pair of clusters, compute the number of pairs of points that agree with both algorithms (i.e., the number of agreements).\n",
    "- Calculate the total number of agreements by summing up the number of agreements for each pair of clusters.\n",
    "- Calculate the total number of pairs of points in the dataset using the formula (N choose 2) = N(N-1)/2, where N is the total number of points in the dataset.\n",
    "- Calculate the number of disagreements by subtracting the total number of agreements from the total number of pairs of points.\n",
    "- Compute the disagreement distance as the ratio of the number of disagreements to the total number of pairs of points."
   ]
  }
 ],
 "metadata": {
  "interpreter": {
   "hash": "76ca05dc3ea24b2e3b98cdb7774adfbb40773424bf5109b477fd793f623715af"
  },
  "kernelspec": {
   "display_name": "Python 3 (ipykernel)",
   "language": "python",
   "name": "python3"
  },
  "language_info": {
   "codemirror_mode": {
    "name": "ipython",
    "version": 3
   },
   "file_extension": ".py",
   "mimetype": "text/x-python",
   "name": "python",
   "nbconvert_exporter": "python",
   "pygments_lexer": "ipython3",
   "version": "3.7.11"
  }
 },
 "nbformat": 4,
 "nbformat_minor": 2
}