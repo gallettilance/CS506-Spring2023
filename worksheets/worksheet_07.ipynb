{
 "cells": [
  {
<<<<<<< HEAD
   "attachments": {},
=======
>>>>>>> 6790e947cbba2af4525c97763c9c1b35e5e737b6
   "cell_type": "markdown",
   "metadata": {},
   "source": [
    "# Worksheet 07\n",
    "\n",
<<<<<<< HEAD
    "Name:  lamya alzahrani\n",
    "UID: u57771896\n",
=======
    "Name:  \n",
    "UID: \n",
>>>>>>> 6790e947cbba2af4525c97763c9c1b35e5e737b6
    "\n",
    "### Topics\n",
    "\n",
    "- Soft Clustering\n",
    "- Clustering Aggregation\n",
    "\n",
    "### Probability Review\n",
    "\n",
    "Read through [the following](https://medium.com/@gallettilance/overview-of-probability-3272b72c82c8)\n",
    "\n",
    "### Soft Clustering\n",
    "\n",
    "We generate 10 data points that come from a normal distribution with mean 5 and variance 1."
   ]
  },
  {
   "cell_type": "code",
<<<<<<< HEAD
   "execution_count": 76,
   "metadata": {},
   "outputs": [
    {
     "name": "stdout",
     "output_type": "stream",
     "text": [
      "[6.413900925772729, 6.933433388642108, 5.42079433234633, 4.273606306478184, 5.452070917157057, 4.6528221867989314, 4.193628409343623, 6.570353322705904, 6.287983426790631, 3.4009116961018178]\n"
     ]
    }
   ],
=======
   "execution_count": null,
   "metadata": {},
   "outputs": [],
>>>>>>> 6790e947cbba2af4525c97763c9c1b35e5e737b6
   "source": [
    "import random\n",
    "import numpy as np\n",
    "from sklearn.cluster import KMeans\n",
    "\n",
    "mean = 5\n",
    "stdev = 1\n",
    "\n",
    "c1 = np.random.normal(mean, stdev, 10).tolist()\n",
    "print(c1)"
   ]
  },
  {
   "cell_type": "markdown",
   "metadata": {},
   "source": [
    "a) Generate 10 more data points, this time coming from a normal distribution with mean 8 and variance 1."
   ]
  },
  {
   "cell_type": "code",
<<<<<<< HEAD
   "execution_count": 77,
   "metadata": {},
   "outputs": [
    {
     "name": "stdout",
     "output_type": "stream",
     "text": [
      "[8.81493437747992, 8.579266622884367, 8.990628594176233, 8.527759920829435, 9.974628871465944, 9.309805537651572, 6.6307950116504895, 7.092461913577381, 7.312149781823801, 7.65487653994622]\n"
     ]
    }
   ],
   "source": [
    "c2 = np.random.normal( 8 , 1 , 10 ).tolist()\n",
=======
   "execution_count": null,
   "metadata": {},
   "outputs": [],
   "source": [
    "c2 = np.random.normal( ... , ... , ... ).tolist()\n",
>>>>>>> 6790e947cbba2af4525c97763c9c1b35e5e737b6
    "print(c2)"
   ]
  },
  {
   "cell_type": "markdown",
   "metadata": {},
   "source": [
    "b) Flip a fair coin 10 times. If the coin lands on H, then pick the last data point of `c1` and remove it from `c1`, if T then pick the last data point from `c2` and remove it from `c2`. Add these 10 points to a list called `data`."
   ]
  },
  {
   "cell_type": "code",
<<<<<<< HEAD
   "execution_count": 78,
   "metadata": {},
   "outputs": [
    {
     "name": "stdout",
     "output_type": "stream",
     "text": [
      "[7.65487653994622, 7.312149781823801, 3.4009116961018178, 6.287983426790631, 6.570353322705904, 7.092461913577381, 6.6307950116504895, 9.309805537651572, 9.974628871465944, 4.193628409343623]\n"
     ]
    }
   ],
=======
   "execution_count": null,
   "metadata": {},
   "outputs": [],
>>>>>>> 6790e947cbba2af4525c97763c9c1b35e5e737b6
   "source": [
    "data = []\n",
    "for i in range(10):\n",
    "    # flip coin\n",
    "    coin_output = random.choice([0, 1])\n",
    "    if coin_output == 0:\n",
<<<<<<< HEAD
    "        p1 = c1.pop()\n",
    "        data.append(p1)\n",
    "    else:\n",
    "        p2 = c2.pop()\n",
=======
    "        p1 = ...\n",
    "        data.append(p1)\n",
    "    else:\n",
    "        p2 = ...\n",
>>>>>>> 6790e947cbba2af4525c97763c9c1b35e5e737b6
    "        data.append(p2)\n",
    "print(data)"
   ]
  },
  {
   "cell_type": "markdown",
   "metadata": {},
   "source": [
    "c) This `data` is a Gaussian Mixture Distribution with 2 mixture components. Over the next few questions we will walk through the GMM algorithm to see if we can uncover the parameters we used to generate this data. First, please list all these parameters of the GMM that created `data` and the values we know they have."
   ]
  },
  {
<<<<<<< HEAD
   "attachments": {},
   "cell_type": "markdown",
   "metadata": {},
   "source": [
    "The mean of the first set is 5 with a standard deviation of 1, while the mean of the second set is 8 with a standard deviation of 1."
   ]
=======
   "cell_type": "markdown",
   "metadata": {},
   "source": []
>>>>>>> 6790e947cbba2af4525c97763c9c1b35e5e737b6
  },
  {
   "cell_type": "markdown",
   "metadata": {},
   "source": [
    "d) Let's assume there are two mixture components (note: we could plot the data and make the observation that there are two clusters). The EM algorithm asks us to start with a random `mean_j`, `variance_j`, `P(C_j)` for each component j. One method we could use to find sensible values for these is to apply K means with k=2 here.\n",
    "\n",
    "1. the centroids would be the estimates of the `mean_j`\n",
    "2. the intra-cluster variance could be the estimate of `variance_j`\n",
    "3. the proportion of points in each cluster could be the estimate of `P(C_j)`\n",
    "\n",
    "Go through this process and list the parameter estimates it gives. Are they close or far from the true values?"
   ]
  },
  {
   "cell_type": "code",
<<<<<<< HEAD
   "execution_count": 79,
   "metadata": {},
   "outputs": [
    {
     "name": "stdout",
     "output_type": "stream",
     "text": [
      "[3.4009116961018178, 4.193628409343623]\n",
      "[7.65487653994622, 7.312149781823801, 6.287983426790631, 6.570353322705904, 7.092461913577381, 6.6307950116504895, 9.309805537651572, 9.974628871465944]\n",
      "P(C_1) = 0.2,  P(C_2) = 0.8\n",
      "mean_1 = 3.7972700527227206,  mean_2 = 7.604131800701493\n",
      "var_1 = 0.15709994686322276,  var_2 = 1.578317856169725\n"
     ]
    },
    {
     "name": "stderr",
     "output_type": "stream",
     "text": [
      "/Library/Frameworks/Python.framework/Versions/3.10/lib/python3.10/site-packages/sklearn/cluster/_kmeans.py:870: FutureWarning: The default value of `n_init` will change from 10 to 'auto' in 1.4. Set the value of `n_init` explicitly to suppress the warning\n",
      "  warnings.warn(\n"
     ]
    }
   ],
=======
   "execution_count": null,
   "metadata": {},
   "outputs": [],
>>>>>>> 6790e947cbba2af4525c97763c9c1b35e5e737b6
   "source": [
    "kmeans = KMeans(2, init='k-means++').fit(X=np.array(data).reshape(-1, 1))\n",
    "\n",
    "c1 = [x[0] for x in filter(lambda x: x[1] == 0, zip(data, kmeans.labels_))]\n",
    "print(c1)\n",
<<<<<<< HEAD
    "c2 = [x[0] for x in filter(lambda x: x[1] == 1, zip(data, kmeans.labels_))]\n",
    "print(c2)\n",
    "\n",
    "prob_c = [ len(c1) / (len(c1) + len(c2)) , len(c2) / (len(c1) + len(c2)) ]\n",
    "mean = [ sum(c1)/len(c1) ,  sum(c2)/len(c2) ]\n",
    "var = [ sum(map(lambda x : (x - mean[0]) **2, c1)) / len(c1) , sum(map(lambda x : (x - mean[1]) **2, c2)) / len(c2) ]\n",
=======
    "c2 = ...\n",
    "print(c2)\n",
    "\n",
    "prob_c = [ len(c1) / (len(c1) + len(c2)) , ... ]\n",
    "mean = [ sum(c1)/len(c1) , ... ]\n",
    "var = [ sum(map(lambda x : (x - mean[0])**2, c1)) / len(c1) , ... ]\n",
>>>>>>> 6790e947cbba2af4525c97763c9c1b35e5e737b6
    "\n",
    "print(\"P(C_1) = \" + str(prob_c[0]) + \",  P(C_2) = \" + str(prob_c[1]))\n",
    "print(\"mean_1 = \" + str(mean[0]) + \",  mean_2 = \" + str(mean[1]))\n",
    "print(\"var_1 = \" + str(var[0]) + \",  var_2 = \" + str(var[1]))"
   ]
  },
  {
<<<<<<< HEAD
   "attachments": {},
   "cell_type": "markdown",
   "metadata": {},
   "source": [
    "K-means algorithm was used to estimate the parameters for the EM algorithm with k=2.\n",
    "\n",
    "\n",
    "One cluster is near, while the other cluster is distant."
   ]
=======
   "cell_type": "markdown",
   "metadata": {},
   "source": []
>>>>>>> 6790e947cbba2af4525c97763c9c1b35e5e737b6
  },
  {
   "cell_type": "markdown",
   "metadata": {},
   "source": [
    "e) For each data point, compute `P(C_j | X_i)`. Comment on which cluster you think each point belongs to based on the estimated probabilities. How does that compare to the truth?"
   ]
  },
  {
   "cell_type": "code",
<<<<<<< HEAD
   "execution_count": 80,
   "metadata": {},
   "outputs": [
    {
     "name": "stdout",
     "output_type": "stream",
     "text": [
      "point =  7.65487653994622\n",
      "probability of observing that point if it came from cluster 0 =  2.985796200578023e-131\n",
      "probability of observing that point if it came from cluster 1 =  0.252633612088018\n",
      "point =  7.312149781823801\n",
      "probability of observing that point if it came from cluster 0 =  5.08542806989852e-109\n",
      "probability of observing that point if it came from cluster 1 =  0.24847578822489688\n",
      "point =  3.4009116961018178\n",
      "probability of observing that point if it came from cluster 0 =  0.10531991779418956\n",
      "probability of observing that point if it came from cluster 1 =  0.0072892687685080825\n",
      "point =  6.287983426790631\n",
      "probability of observing that point if it came from cluster 0 =  6.64808185658797e-55\n",
      "probability of observing that point if it came from cluster 1 =  0.17853207208428426\n",
      "point =  6.570353322705904\n",
      "probability of observing that point if it came from cluster 0 =  5.5634821559176105e-68\n",
      "probability of observing that point if it came from cluster 1 =  0.20396589462483358\n",
      "point =  7.092461913577381\n",
      "probability of observing that point if it came from cluster 0 =  7.404272591608173e-96\n",
      "probability of observing that point if it came from cluster 1 =  0.2398247764215906\n",
      "point =  6.6307950116504895\n",
      "probability of observing that point if it came from cluster 0 =  5.805206575418437e-71\n",
      "probability of observing that point if it came from cluster 1 =  0.2089933205415118\n",
      "point =  9.309805537651572\n",
      "probability of observing that point if it came from cluster 0 =  1.0950597365723435e-267\n",
      "probability of observing that point if it came from cluster 1 =  0.14096486971117564\n",
      "point =  9.974628871465944\n",
      "probability of observing that point if it came from cluster 0 =  0.0\n",
      "probability of observing that point if it came from cluster 1 =  0.08182516740903913\n",
      "point =  4.193628409343623\n",
      "probability of observing that point if it came from cluster 0 =  0.10531991779418956\n",
      "probability of observing that point if it came from cluster 1 =  0.024479285086390468\n",
      "7.65487653994622\n",
      "Probability of coming from C_1 = 2.9546703780827135e-131\n",
      "Probability of coming from C_2 = 1.0\n",
      "\n",
      "7.312149781823801\n",
      "Probability of coming from C_1 = 5.1166233400733485e-109\n",
      "Probability of coming from C_2 = 1.0\n",
      "\n",
      "3.4009116961018178\n",
      "Probability of coming from C_1 = 0.783181684449144\n",
      "Probability of coming from C_2 = 0.21681831555085584\n",
      "\n",
      "6.287983426790631\n",
      "Probability of coming from C_1 = 9.309366349382644e-55\n",
      "Probability of coming from C_2 = 1.0\n",
      "\n",
      "6.570353322705904\n",
      "Probability of coming from C_1 = 6.8191328826699785e-68\n",
      "Probability of coming from C_2 = 1.0\n",
      "\n",
      "7.092461913577381\n",
      "Probability of coming from C_1 = 7.71841915385769e-96\n",
      "Probability of coming from C_2 = 1.0\n",
      "\n",
      "6.6307950116504895\n",
      "Probability of coming from C_1 = 6.9442489362541185e-71\n",
      "Probability of coming from C_2 = 1.0\n",
      "\n",
      "9.309805537651572\n",
      "Probability of coming from C_1 = 1.94207914854251e-267\n",
      "Probability of coming from C_2 = 1.0\n",
      "\n",
      "9.974628871465944\n",
      "Probability of coming from C_1 = 0.0\n",
      "Probability of coming from C_2 = 1.0\n",
      "\n",
      "4.193628409343623\n",
      "Probability of coming from C_1 = 0.518212174286486\n",
      "Probability of coming from C_2 = 0.481787825713514\n",
      "\n"
     ]
    }
   ],
=======
   "execution_count": null,
   "metadata": {},
   "outputs": [],
>>>>>>> 6790e947cbba2af4525c97763c9c1b35e5e737b6
   "source": [
    "from scipy.stats import norm\n",
    "\n",
    "prob_c0_x = [] # P(C_0 | X_i)\n",
    "prob_c1_x = [] # P(C_1 | X_i)\n",
    "prob_x = [] # P(X_i)\n",
    "\n",
    "k = 2\n",
    "\n",
    "for p in data:\n",
    "    print(\"point = \", p)\n",
    "    pdf_i = []\n",
    "\n",
    "    for j in range(k):\n",
    "        # P(X_i | C_j)\n",
    "        pdf_i.append(norm.pdf(p, mean[j], var[j]))\n",
    "        print(\"probability of observing that point if it came from cluster \" + str(j) + \" = \", pdf_i[j])\n",
    "        # P(C_j) already computed\n",
    "        prob_c[j]\n",
    "\n",
    "    # P(X_i) = P(C_0)P(X_i | C_0) + P(C_1)P(X_i | C_1)\n",
    "    prob_x = prob_c[0] * pdf_i[0] + prob_c[1] * pdf_i[1]\n",
    "\n",
    "    # P(C_j | X_i) = P(X_i | C_j)P(C_j) / P(X_i)\n",
<<<<<<< HEAD
    "    prob_c0_x.append(pdf_i[0] * prob_c[0] / prob_x)\n",
    "    prob_c1_x.append(pdf_i[1] * prob_c[1] / prob_x)\n",
=======
    "    prob_c0_x.append( ... )\n",
    "    prob_c1_x.append( ... )\n",
>>>>>>> 6790e947cbba2af4525c97763c9c1b35e5e737b6
    "\n",
    "probs = zip(data, prob_c0_x, prob_c1_x)\n",
    "for p in probs:\n",
    "    print(p[0])\n",
    "    print(\"Probability of coming from C_1 = \" + str(p[1]))\n",
    "    print(\"Probability of coming from C_2 = \" + str(p[2]))\n",
    "    print()\n"
   ]
  },
  {
   "cell_type": "markdown",
   "metadata": {},
   "source": [
    "f) Having computed `P(C_j | X_i)`, update the estimates of `mean_j`, `var_j`, and `P(C_j)`. How different are these values from the original ones you got from K means? briefly comment."
   ]
  },
  {
   "cell_type": "code",
<<<<<<< HEAD
   "execution_count": 81,
   "metadata": {},
   "outputs": [
    {
     "name": "stdout",
     "output_type": "stream",
     "text": [
      "P(C_1) = 0.13013938587356302,  P(C_2) = 0.8698606141264371\n",
      "mean_1 = 3.7165697490462053,  mean_2 = 7.310467037060594\n",
      "var_1 = 13.066685124646913,  var_2 = 2.4499163050385575\n"
     ]
    }
   ],
   "source": [
    "prob_c = [sum(prob_c0_x)/ len(prob_c0_x), sum(prob_c1_x)/ len(prob_c1_x)]\n",
    "mean = [sum([x[0] * x[1] for x in zip(prob_c0_x, data)]) / sum(prob_c0_x), sum([x[0] * x[1] for x in zip(prob_c1_x, data)]) / sum(prob_c1_x)]\n",
    "var = [sum([x * (data[i] - mean[j])**2 for i, x in enumerate(prob_c0_x)]) / sum(prob_c0_x), sum([x * (data[i] - mean[j])**2 for i, x in enumerate(prob_c1_x)]) / sum(prob_c1_x)]\n",
    "\n",
    "print(\"P(C_1) = \" + str(prob_c[0]) + \",  P(C_2) = \" + str(prob_c[1]))\n",
    "print(\"mean_1 = \" + str(mean[0]) + \",  mean_2 = \" + str(mean[1]))\n",
    "print(\"var_1 = \" + str(var[0]) + \",  var_2 = \" + str(var[1]))\n"
   ]
  },
  {
   "attachments": {},
   "cell_type": "markdown",
   "metadata": {},
   "source": [
    "this shows us that one cluster is getting closer to the mean while the other is getting further away"
   ]
=======
   "execution_count": null,
   "metadata": {},
   "outputs": [],
   "source": [
    "prob_c = [sum(prob_c0_x)/ len(prob_c0_x), ... ]\n",
    "mean = [sum([x[0] * x[1] for x in zip(prob_c0_x, data)]) / sum(prob_c0_x), ... ]\n",
    "var = [ ... , ... ]\n",
    "\n",
    "print(\"P(C_1) = \" + str(prob_c[0]) + \",  P(C_2) = \" + str(prob_c[1]))\n",
    "print(\"mean_1 = \" + str(mean[0]) + \",  mean_2 = \" + str(mean[1]))\n",
    "print(\"var_1 = \" + str(var[0]) + \",  var_2 = \" + str(var[1]))"
   ]
  },
  {
   "cell_type": "markdown",
   "metadata": {},
   "source": []
>>>>>>> 6790e947cbba2af4525c97763c9c1b35e5e737b6
  },
  {
   "cell_type": "markdown",
   "metadata": {},
   "source": [
    "g) Update `P(C_j | X_i)`. Comment on any differences or lack thereof you observe."
   ]
  },
  {
   "cell_type": "code",
<<<<<<< HEAD
   "execution_count": 82,
   "metadata": {},
   "outputs": [
    {
     "name": "stdout",
     "output_type": "stream",
     "text": [
      "point =  7.65487653994622\n",
      "probability of observing that point if it came from cluster 0 =  0.029175511581804175\n",
      "probability of observing that point if it came from cluster 1 =  0.16123799437138997\n",
      "point =  7.312149781823801\n",
      "probability of observing that point if it came from cluster 0 =  0.029396957522957505\n",
      "probability of observing that point if it came from cluster 1 =  0.1628391082077672\n",
      "point =  3.4009116961018178\n",
      "probability of observing that point if it came from cluster 0 =  0.030522346374909397\n",
      "probability of observing that point if it came from cluster 1 =  0.04558085609846566\n",
      "point =  6.287983426790631\n",
      "probability of observing that point if it came from cluster 0 =  0.029945749992372844\n",
      "probability of observing that point if it came from cluster 1 =  0.14925712517464151\n",
      "point =  6.570353322705904\n",
      "probability of observing that point if it came from cluster 0 =  0.029811709972138632\n",
      "probability of observing that point if it came from cluster 1 =  0.15557554258262607\n",
      "point =  7.092461913577381\n",
      "probability of observing that point if it came from cluster 0 =  0.02952910120315235\n",
      "probability of observing that point if it came from cluster 1 =  0.1621957181190532\n",
      "point =  6.6307950116504895\n",
      "probability of observing that point if it came from cluster 0 =  0.029781289435391423\n",
      "probability of observing that point if it came from cluster 1 =  0.15669168979374992\n",
      "point =  9.309805537651572\n",
      "probability of observing that point if it came from cluster 0 =  0.027858444204224224\n",
      "probability of observing that point if it came from cluster 1 =  0.11671861072056047\n",
      "point =  9.974628871465944\n",
      "probability of observing that point if it came from cluster 0 =  0.02722301468861719\n",
      "probability of observing that point if it came from cluster 1 =  0.0901512645815191\n",
      "point =  4.193628409343623\n",
      "probability of observing that point if it came from cluster 0 =  0.030510912356420374\n",
      "probability of observing that point if it came from cluster 1 =  0.07249284359507481\n",
      "7.65487653994622\n",
      "Probability of coming from C_1 = 0.026357824178352172\n",
      "Probability of coming from C_2 = 0.9736421758216477\n",
      "\n",
      "7.312149781823801\n",
      "Probability of coming from C_1 = 0.026298359452734014\n",
      "Probability of coming from C_2 = 0.9737016405472659\n",
      "\n",
      "3.4009116961018178\n",
      "Probability of coming from C_1 = 0.09106039917626689\n",
      "Probability of coming from C_2 = 0.9089396008237332\n",
      "\n",
      "6.287983426790631\n",
      "Probability of coming from C_1 = 0.029141711245882062\n",
      "Probability of coming from C_2 = 0.9708582887541178\n",
      "\n",
      "6.570353322705904\n",
      "Probability of coming from C_1 = 0.027869502549488785\n",
      "Probability of coming from C_2 = 0.9721304974505112\n",
      "\n",
      "7.092461913577381\n",
      "Probability of coming from C_1 = 0.026515449433776338\n",
      "Probability of coming from C_2 = 0.9734845505662236\n",
      "\n",
      "6.6307950116504895\n",
      "Probability of coming from C_1 = 0.027649015835342412\n",
      "Probability of coming from C_2 = 0.9723509841646576\n",
      "\n",
      "9.309805537651572\n",
      "Probability of coming from C_1 = 0.03447768908443888\n",
      "Probability of coming from C_2 = 0.9655223109155612\n",
      "\n",
      "9.974628871465944\n",
      "Probability of coming from C_1 = 0.04322483784783448\n",
      "Probability of coming from C_2 = 0.9567751621521655\n",
      "\n",
      "4.193628409343623\n",
      "Probability of coming from C_1 = 0.05923781058261906\n",
      "Probability of coming from C_2 = 0.9407621894173809\n",
      "\n"
     ]
    }
   ],
   "source": [
    "prob_c0_x = [] # P(C_0 | X_i)\n",
    "prob_c1_x = [] # P(C_1 | X_i)\n",
    "prob_x = [] # P(X_i)\n",
    "\n",
    "k = 2\n",
    "\n",
    "for p in data:\n",
    "    print(\"point = \", p)\n",
    "    pdf_i = []\n",
    "\n",
    "    for j in range(k):\n",
    "        # P(X_i | C_j)\n",
    "        pdf_i.append(norm.pdf(p, mean[j], var[j]))\n",
    "        print(\"probability of observing that point if it came from cluster \" + str(j) + \" = \", pdf_i[j])\n",
    "        # CC\n",
    "        prob_c[j]\n",
    "\n",
    "    # P(X_i) = P(C_0)P(X_i | C_0) + P(C_1)P(X_i | C_1)\n",
    "    prob_x = prob_c[0] * pdf_i[0] + prob_c[1] * pdf_i[1]\n",
    "\n",
    "    # P(C_j | X_i) = P(X_i | C_j)P(C_j) / P(X_i)\n",
    "    prob_c0_x.append(pdf_i[0] * prob_c[0] / prob_x)\n",
    "    prob_c1_x.append(pdf_i[1] * prob_c[1] / prob_x)\n",
    "\n",
    "probs = zip(data, prob_c0_x, prob_c1_x)\n",
    "for p in probs:\n",
    "    print(p[0])\n",
    "    print(\"Probability of coming from C_1 = \" + str(p[1]))\n",
    "    print(\"Probability of coming from C_2 = \" + str(p[2]))\n",
    "    print()"
   ]
  },
  {
   "attachments": {},
   "cell_type": "markdown",
   "metadata": {},
   "source": [
    "The probability of belonging to a certain cluster is increasing for some of the data points."
   ]
=======
   "execution_count": null,
   "metadata": {},
   "outputs": [],
   "source": []
  },
  {
   "cell_type": "markdown",
   "metadata": {},
   "source": []
>>>>>>> 6790e947cbba2af4525c97763c9c1b35e5e737b6
  },
  {
   "cell_type": "markdown",
   "metadata": {},
   "source": [
    "h) Use `P(C_j | X_i)` to create a hard assignment - label each point as belonging to a specific cluster (0 or 1)"
   ]
  },
  {
   "cell_type": "code",
<<<<<<< HEAD
   "execution_count": 83,
   "metadata": {},
   "outputs": [
    {
     "name": "stdout",
     "output_type": "stream",
     "text": [
      "points in cluster 0[]\n",
      "points in cluster 1[7.65487653994622, 7.312149781823801, 3.4009116961018178, 6.287983426790631, 6.570353322705904, 7.092461913577381, 6.6307950116504895, 9.309805537651572, 9.974628871465944, 4.193628409343623]\n"
     ]
    }
   ],
   "source": [
    "cluster1 = []\n",
    "cluster2 = []\n",
    "\n",
    "\n",
    "probability = zip(data, prob_c0_x, prob_c1_x)\n",
    "\n",
    "for p in probability:\n",
    "    if p[1] < p[2]:\n",
    "        cluster2.append(p[0])\n",
    "    else:\n",
    "        cluster1.append(p[0])\n",
    "\n",
    "print(\"points in cluster 0\"+ str(cluster1))\n",
    "print(\"points in cluster 1\"+ str(cluster2))\n"
   ]
=======
   "execution_count": null,
   "metadata": {},
   "outputs": [],
   "source": []
>>>>>>> 6790e947cbba2af4525c97763c9c1b35e5e737b6
  },
  {
   "cell_type": "markdown",
   "metadata": {},
   "source": [
    "### Clustering Aggregation\n",
    "\n",
    "| Point | C | P |\n",
    "|-------|---|---|\n",
    "| A     | 0 | a |\n",
    "| B     | 0 | b |\n",
    "| C     | 2 | b |\n",
    "| D     | 1 | c |\n",
    "| E     | 1 | d |\n",
    "\n",
    "a) Fill in the following table where for each pair of points determine whether C and P agree or disagree on how to cluster that pair."
   ]
  },
  {
   "cell_type": "markdown",
   "metadata": {},
   "source": [
    "| Pair | Disagreement |\n",
    "|------|--------------|\n",
    "| A  B |      ?       |\n",
    "| A  C |      ?       |\n",
    "| A  D |      ?       |\n",
    "| A  E |      ?       |\n",
    "| B  C |      ?       |\n",
    "| B  D |      ?       |\n",
    "| B  E |      ?       |\n",
    "| C  D |      ?       |\n",
    "| C  E |      ?       |\n",
    "| D  E |      ?       |\n"
   ]
  },
  {
   "cell_type": "markdown",
   "metadata": {},
   "source": [
    "As datasets become very large, this process can become computationally challenging.\n",
    "\n",
    "b) Given N points, what is the formula for the number of unique pairs of points one can create?"
   ]
  },
  {
   "cell_type": "markdown",
   "metadata": {},
   "source": []
  },
  {
   "cell_type": "markdown",
   "metadata": {},
   "source": [
    "Assume that clustering C clusters all points in the same cluster and clustering P clusters points as such:\n",
    "\n",
    "| Point | P |\n",
    "|-------|---|\n",
    "| A     | 0 |\n",
    "| B     | 0 |\n",
    "| C     | 0 |\n",
    "| D     | 1 |\n",
    "| E     | 1 |\n",
    "| F     | 2 |\n",
    "| G     | 2 |\n",
    "| H     | 2 |\n",
    "| I     | 2 |\n",
    "\n",
    "c) What is the maximum number of disagreements there could be for a dataset of this size? (use the formula from b)?"
   ]
  },
  {
   "cell_type": "markdown",
   "metadata": {},
   "source": []
  },
  {
   "cell_type": "markdown",
   "metadata": {},
   "source": [
    "d) If we look at cluster 0. There are (3 x 2) / 2 = 3 pairs that agree with C (since all points in C are in the same cluster). For each cluster, determine how many agreements there are. How many total agreements are there? How many disagreements does that mean there are between C and P?"
   ]
  },
  {
   "cell_type": "markdown",
   "metadata": {},
   "source": []
  },
  {
   "cell_type": "markdown",
   "metadata": {},
   "source": [
    "e) Assuming that filtering the dataset by cluster number is a computationally easy operation, describe an algorithm inspired by the above process that can efficiently compute disagreement distances on large datasets."
   ]
  },
  {
   "cell_type": "markdown",
   "metadata": {},
   "source": []
  }
 ],
 "metadata": {
<<<<<<< HEAD
  "kernelspec": {
   "display_name": "Python 3",
=======
  "interpreter": {
   "hash": "76ca05dc3ea24b2e3b98cdb7774adfbb40773424bf5109b477fd793f623715af"
  },
  "kernelspec": {
   "display_name": "Python 3.9.9 64-bit ('env': venv)",
>>>>>>> 6790e947cbba2af4525c97763c9c1b35e5e737b6
   "language": "python",
   "name": "python3"
  },
  "language_info": {
   "codemirror_mode": {
    "name": "ipython",
    "version": 3
   },
   "file_extension": ".py",
   "mimetype": "text/x-python",
   "name": "python",
   "nbconvert_exporter": "python",
   "pygments_lexer": "ipython3",
<<<<<<< HEAD
   "version": "3.10.7"
  },
  "orig_nbformat": 4,
  "vscode": {
   "interpreter": {
    "hash": "aee8b7b246df8f9039afb4144a1f6fd8d2ca17a180786b69acc140d282b71a49"
   }
  }
=======
   "version": "3.9.9"
  },
  "orig_nbformat": 4
>>>>>>> 6790e947cbba2af4525c97763c9c1b35e5e737b6
 },
 "nbformat": 4,
 "nbformat_minor": 2
}
