{
 "cells": [
  {
   "attachments": {},
   "cell_type": "markdown",
   "metadata": {},
   "source": [
    "# Worksheet 07\n",
    "\n",
    "Name:  Tianyi Bao\n",
    "UID: U89641075\n",
    "\n",
    "### Topics\n",
    "\n",
    "- Soft Clustering\n",
    "- Clustering Aggregation\n",
    "\n",
    "### Probability Review\n",
    "\n",
    "Read through [the following](https://medium.com/@gallettilance/overview-of-probability-3272b72c82c8)\n",
    "\n",
    "### Soft Clustering\n",
    "\n",
    "We generate 10 data points that come from a normal distribution with mean 5 and variance 1."
   ]
  },
  {
   "cell_type": "code",
   "execution_count": 1,
   "metadata": {},
   "outputs": [
    {
     "name": "stdout",
     "output_type": "stream",
     "text": [
      "[5.310979740095483, 6.597493215171307, 5.463725605679677, 4.338444936876503, 3.4185419986565946, 4.174862337597262, 6.118435247944875, 4.3119045875574065, 6.1162087132004705, 5.479291923284024]\n"
     ]
    }
   ],
   "source": [
    "import random\n",
    "import numpy as np\n",
    "from sklearn.cluster import KMeans\n",
    "\n",
    "mean = 5\n",
    "stdev = 1\n",
    "\n",
    "c1 = np.random.normal(mean, stdev, 10).tolist()\n",
    "print(c1)"
   ]
  },
  {
   "cell_type": "markdown",
   "metadata": {},
   "source": [
    "a) Generate 10 more data points, this time coming from a normal distribution with mean 8 and variance 1."
   ]
  },
  {
   "cell_type": "code",
   "execution_count": 2,
   "metadata": {},
   "outputs": [
    {
     "name": "stdout",
     "output_type": "stream",
     "text": [
      "[8.422969201242056, 7.539026959411371, 9.090407678298297, 8.822124084362363, 7.144341114858729, 7.09236370095041, 7.96382912600709, 8.53950221559923, 5.710003725483641, 5.386750050545731]\n"
     ]
    }
   ],
   "source": [
    "c2 = np.random.normal(8, 1, 10).tolist()\n",
    "print(c2)"
   ]
  },
  {
   "cell_type": "markdown",
   "metadata": {},
   "source": [
    "b) Flip a fair coin 10 times. If the coin lands on H, then pick the last data point of `c1` and remove it from `c1`, if T then pick the last data point from `c2` and remove it from `c2`. Add these 10 points to a list called `data`."
   ]
  },
  {
   "cell_type": "code",
   "execution_count": 3,
   "metadata": {},
   "outputs": [
    {
     "name": "stdout",
     "output_type": "stream",
     "text": [
      "[5.479291923284024, 5.386750050545731, 6.1162087132004705, 4.3119045875574065, 5.710003725483641, 6.118435247944875, 4.174862337597262, 8.53950221559923, 7.96382912600709, 7.09236370095041]\n"
     ]
    }
   ],
   "source": [
    "data = []\n",
    "for i in range(10):\n",
    "    # flip coin\n",
    "    coin_output = random.choice([0, 1])\n",
    "    if coin_output == 0:\n",
    "        p1 = c1.pop()\n",
    "        data.append(p1)\n",
    "    else:\n",
    "        p2 = c2.pop()\n",
    "        data.append(p2)\n",
    "print(data)"
   ]
  },
  {
   "cell_type": "markdown",
   "metadata": {},
   "source": [
    "c) This `data` is a Gaussian Mixture Distribution with 2 mixture components. Over the next few questions we will walk through the GMM algorithm to see if we can uncover the parameters we used to generate this data. First, please list all these parameters of the GMM that created `data` and the values we know they have."
   ]
  },
  {
   "attachments": {},
   "cell_type": "markdown",
   "metadata": {},
   "source": [
    "1. mean\n",
    "2. variance\n",
    "3. P(Cj) "
   ]
  },
  {
   "cell_type": "markdown",
   "metadata": {},
   "source": [
    "d) Let's assume there are two mixture components (note: we could plot the data and make the observation that there are two clusters). The EM algorithm asks us to start with a random `mean_j`, `variance_j`, `P(C_j)` for each component j. One method we could use to find sensible values for these is to apply K means with k=2 here.\n",
    "\n",
    "1. the centroids would be the estimates of the `mean_j`\n",
    "2. the intra-cluster variance could be the estimate of `variance_j`\n",
    "3. the proportion of points in each cluster could be the estimate of `P(C_j)`\n",
    "\n",
    "Go through this process and list the parameter estimates it gives. Are they close or far from the true values?"
   ]
  },
  {
   "cell_type": "code",
   "execution_count": 4,
   "metadata": {},
   "outputs": [
    {
     "name": "stderr",
     "output_type": "stream",
     "text": [
      "/home/codespace/.local/lib/python3.10/site-packages/sklearn/cluster/_kmeans.py:870: FutureWarning: The default value of `n_init` will change from 10 to 'auto' in 1.4. Set the value of `n_init` explicitly to suppress the warning\n",
      "  warnings.warn(\n"
     ]
    },
    {
     "name": "stdout",
     "output_type": "stream",
     "text": [
      "[5.479291923284024, 5.386750050545731, 6.1162087132004705, 4.3119045875574065, 5.710003725483641, 6.118435247944875, 4.174862337597262]\n",
      "[8.53950221559923, 7.96382912600709, 7.09236370095041]\n",
      "P(C_1) = 0.7,  P(C_2) = 0.3\n",
      "mean_1 = 5.328208083659058,  mean_2 = 7.865231680852244\n",
      "var_1 = 0.5400720814398821,  var_2 = 0.3538957081921967\n"
     ]
    }
   ],
   "source": [
    "kmeans = KMeans(2, init='k-means++').fit(X=np.array(data).reshape(-1, 1))\n",
    "\n",
    "c1 = [x[0] for x in filter(lambda x: x[1] == 0, zip(data, kmeans.labels_))]\n",
    "print(c1)\n",
    "c2 = [x[0] for x in filter(lambda x: x[1] == 1, zip(data, kmeans.labels_))]\n",
    "print(c2)\n",
    "\n",
    "prob_c = [ len(c1) / (len(c1) + len(c2)) ,len(c2) /(len(c1)+len(c2))]\n",
    "mean = [ sum(c1)/len(c1) , sum(c2)/len(c2) ]\n",
    "var = [ sum(map(lambda x : (x - mean[0])**2, c1)) / len(c1) , sum(map(lambda x : (x - mean[1])**2, c2)) / len(c2)]\n",
    "\n",
    "print(\"P(C_1) = \" + str(prob_c[0]) + \",  P(C_2) = \" + str(prob_c[1]))\n",
    "print(\"mean_1 = \" + str(mean[0]) + \",  mean_2 = \" + str(mean[1]))\n",
    "print(\"var_1 = \" + str(var[0]) + \",  var_2 = \" + str(var[1]))"
   ]
  },
  {
   "attachments": {},
   "cell_type": "markdown",
   "metadata": {},
   "source": [
    "The means for c1 and c2 are close but the variance is far from the true values. "
   ]
  },
  {
   "cell_type": "markdown",
   "metadata": {},
   "source": [
    "e) For each data point, compute `P(C_j | X_i)`. Comment on which cluster you think each point belongs to based on the estimated probabilities. How does that compare to the truth?"
   ]
  },
  {
   "cell_type": "code",
   "execution_count": 5,
   "metadata": {},
   "outputs": [
    {
     "name": "stdout",
     "output_type": "stream",
     "text": [
      "point =  5.479291923284024\n",
      "probability of observing that point if it came from cluster 0 =  0.7103373976533739\n",
      "probability of observing that point if it came from cluster 1 =  1.5202301274022228e-10\n",
      "point =  5.386750050545731\n",
      "probability of observing that point if it came from cluster 0 =  0.7343564229635331\n",
      "probability of observing that point if it came from cluster 1 =  2.5200480069446346e-11\n",
      "point =  6.1162087132004705\n",
      "probability of observing that point if it came from cluster 0 =  0.2547883258100726\n",
      "probability of observing that point if it came from cluster 1 =  5.599404366192115e-06\n",
      "point =  4.3119045875574065\n",
      "probability of observing that point if it came from cluster 0 =  0.1257503055333961\n",
      "probability of observing that point if it came from cluster 1 =  1.4474595542324495e-22\n",
      "point =  5.710003725483641\n",
      "probability of observing that point if it came from cluster 0 =  0.5753572454833955\n",
      "probability of observing that point if it came from cluster 1 =  9.963985137704596e-09\n",
      "point =  6.118435247944875\n",
      "probability of observing that point if it came from cluster 0 =  0.25325816223969055\n",
      "probability of observing that point if it came from cluster 1 =  5.776132147992006e-06\n",
      "point =  4.174862337597262\n",
      "probability of observing that point if it came from cluster 0 =  0.07553552088237417\n",
      "probability of observing that point if it came from cluster 1 =  2.7507905724192226e-24\n",
      "point =  8.53950221559923\n",
      "probability of observing that point if it came from cluster 0 =  1.5527937609459566e-08\n",
      "probability of observing that point if it came from cluster 1 =  0.1835566208257434\n",
      "point =  7.96382912600709\n",
      "probability of observing that point if it came from cluster 0 =  4.9768573313868375e-06\n",
      "probability of observing that point if it came from cluster 1 =  1.0843750733421984\n",
      "point =  7.09236370095041\n",
      "probability of observing that point if it came from cluster 0 =  0.0035601291227051026\n",
      "probability of observing that point if it came from cluster 1 =  0.10384403744404373\n",
      "5.479291923284024\n",
      "Probability of coming from C_1 = 0.9999999999082791\n",
      "Probability of coming from C_2 = 9.172080754169517e-11\n",
      "\n",
      "5.386750050545731\n",
      "Probability of coming from C_1 = 0.9999999999852929\n",
      "Probability of coming from C_2 = 1.4707035175514376e-11\n",
      "\n",
      "6.1162087132004705\n",
      "Probability of coming from C_1 = 0.9999905815067517\n",
      "Probability of coming from C_2 = 9.41849324830274e-06\n",
      "\n",
      "4.3119045875574065\n",
      "Probability of coming from C_1 = 1.0\n",
      "Probability of coming from C_2 = 4.933107767217452e-22\n",
      "\n",
      "5.710003725483641\n",
      "Probability of coming from C_1 = 0.9999999925780385\n",
      "Probability of coming from C_2 = 7.4219614796871965e-09\n",
      "\n",
      "6.118435247944875\n",
      "Probability of coming from C_1 = 0.9999902255430275\n",
      "Probability of coming from C_2 = 9.77445697254886e-06\n",
      "\n",
      "4.174862337597262\n",
      "Probability of coming from C_1 = 1.0\n",
      "Probability of coming from C_2 = 1.5607362358146084e-23\n",
      "\n",
      "8.53950221559923\n",
      "Probability of coming from C_1 = 1.973878528998445e-07\n",
      "Probability of coming from C_2 = 0.9999998026121472\n",
      "\n",
      "7.96382912600709\n",
      "Probability of coming from C_1 = 1.0708972413987789e-05\n",
      "Probability of coming from C_2 = 0.9999892910275859\n",
      "\n",
      "7.09236370095041\n",
      "Probability of coming from C_1 = 0.07406949160706434\n",
      "Probability of coming from C_2 = 0.9259305083929356\n",
      "\n"
     ]
    }
   ],
   "source": [
    "from scipy.stats import norm\n",
    "\n",
    "prob_c0_x = [] # P(C_0 | X_i)\n",
    "prob_c1_x = [] # P(C_1 | X_i)\n",
    "prob_x = [] # P(X_i)\n",
    "\n",
    "k = 2\n",
    "\n",
    "for p in data:\n",
    "    print(\"point = \", p)\n",
    "    pdf_i = []\n",
    "\n",
    "    for j in range(k):\n",
    "        # P(X_i | C_j)\n",
    "        pdf_i.append(norm.pdf(p, mean[j], var[j]))\n",
    "        print(\"probability of observing that point if it came from cluster \" + str(j) + \" = \", pdf_i[j])\n",
    "        # P(C_j) already computed\n",
    "        prob_c[j]\n",
    "\n",
    "    # P(X_i) = P(C_0)P(X_i | C_0) + P(C_1)P(X_i | C_1)\n",
    "    prob_x = prob_c[0] * pdf_i[0] + prob_c[1] * pdf_i[1]\n",
    "\n",
    "    # P(C_j | X_i) = P(X_i | C_j)P(C_j) / P(X_i)\n",
    "    prob_c0_x.append( pdf_i[0]*prob_c[0] /prob_x)\n",
    "    prob_c1_x.append( pdf_i[1]*prob_c[1]/prob_x )\n",
    "\n",
    "probs = zip(data, prob_c0_x, prob_c1_x)\n",
    "for p in probs:\n",
    "    print(p[0])\n",
    "    print(\"Probability of coming from C_1 = \" + str(p[1]))\n",
    "    print(\"Probability of coming from C_2 = \" + str(p[2]))\n",
    "    print()\n"
   ]
  },
  {
   "attachments": {},
   "cell_type": "markdown",
   "metadata": {},
   "source": [
    "The estimated probabilities does seem correct. "
   ]
  },
  {
   "cell_type": "markdown",
   "metadata": {},
   "source": [
    "f) Having computed `P(C_j | X_i)`, update the estimates of `mean_j`, `var_j`, and `P(C_j)`. How different are these values from the original ones you got from K means? briefly comment."
   ]
  },
  {
   "cell_type": "code",
   "execution_count": 6,
   "metadata": {},
   "outputs": [
    {
     "name": "stdout",
     "output_type": "stream",
     "text": [
      "P(C_1) = 0.707406119748872,  P(C_2) = 0.29259388025112787\n",
      "mean_1 = 5.346681746246257,  mean_2 = 7.884784784947439\n",
      "var_1 = 4.00867724151313,  var_2 = 1.0163833935269675\n"
     ]
    }
   ],
   "source": [
    "prob_c = [sum(prob_c0_x)/ len(prob_c0_x), sum(prob_c1_x)/ len(prob_c1_x) ]\n",
    "mean = [sum([x[0] * x[1] for x in zip(prob_c0_x, data)]) / sum(prob_c0_x), sum([x[0] * x[1] for x in zip(prob_c1_x, data)]) / sum(prob_c1_x)]\n",
    "var = [ sum(map(lambda x: x[0]*(x[1] - mean[0])**2, zip(prob_c0_x, data))) ,  sum(map(lambda x: x[0]*(x[1] - mean[1])**2, zip(prob_c1_x, data)))]\n",
    "\n",
    "print(\"P(C_1) = \" + str(prob_c[0]) + \",  P(C_2) = \" + str(prob_c[1]))\n",
    "print(\"mean_1 = \" + str(mean[0]) + \",  mean_2 = \" + str(mean[1]))\n",
    "print(\"var_1 = \" + str(var[0]) + \",  var_2 = \" + str(var[1]))"
   ]
  },
  {
   "attachments": {},
   "cell_type": "markdown",
   "metadata": {},
   "source": [
    "The means are similar, but the varience is far different from the ones produced from K means. "
   ]
  },
  {
   "cell_type": "markdown",
   "metadata": {},
   "source": [
    "g) Update `P(C_j | X_i)`. Comment on any differences or lack thereof you observe."
   ]
  },
  {
   "cell_type": "code",
   "execution_count": 8,
   "metadata": {},
   "outputs": [
    {
     "name": "stdout",
     "output_type": "stream",
     "text": [
      "point =  5.479291923284024\n",
      "probability of observing that point if it came from cluster 0 =  0.03988398172468397\n",
      "probability of observing that point if it came from cluster 1 =  0.11012387021975929\n",
      "point =  5.386750050545731\n",
      "probability of observing that point if it came from cluster 0 =  0.03987625893988555\n",
      "probability of observing that point if it came from cluster 1 =  0.10810808877604801\n",
      "point =  6.1162087132004705\n",
      "probability of observing that point if it came from cluster 0 =  0.03984452983486243\n",
      "probability of observing that point if it came from cluster 1 =  0.12195227656183504\n",
      "point =  4.3119045875574065\n",
      "probability of observing that point if it came from cluster 0 =  0.03953789971401451\n",
      "probability of observing that point if it came from cluster 1 =  0.08150822911088179\n",
      "point =  5.710003725483641\n",
      "probability of observing that point if it came from cluster 0 =  0.039888368405237865\n",
      "probability of observing that point if it came from cluster 1 =  0.11485037010541055\n",
      "point =  6.118435247944875\n",
      "probability of observing that point if it came from cluster 0 =  0.039844108550906955\n",
      "probability of observing that point if it came from cluster 1 =  0.1219863912656188\n",
      "point =  4.174862337597262\n",
      "probability of observing that point if it came from cluster 0 =  0.03946219111623848\n",
      "probability of observing that point if it came from cluster 1 =  0.0779223962122095\n",
      "point =  8.53950221559923\n",
      "probability of observing that point if it came from cluster 0 =  0.03825024685007292\n",
      "probability of observing that point if it came from cluster 1 =  0.1203946022439447\n",
      "point =  7.96382912600709\n",
      "probability of observing that point if it came from cluster 0 =  0.03882900563654094\n",
      "probability of observing that point if it came from cluster 1 =  0.12791255639056925\n",
      "point =  7.09236370095041\n",
      "probability of observing that point if it came from cluster 0 =  0.039472225274495405\n",
      "probability of observing that point if it came from cluster 1 =  0.1309536253407459\n",
      "5.479291923284024\n",
      "Probability of coming from C_1 = 0.4907821140685831\n",
      "Probability of coming from C_2 = 0.5092178859314169\n",
      "5.386750050545731\n",
      "Probability of coming from C_1 = 0.495351360113528\n",
      "Probability of coming from C_2 = 0.504648639886472\n",
      "6.1162087132004705\n",
      "Probability of coming from C_1 = 0.4650845835809392\n",
      "Probability of coming from C_2 = 0.5349154164190609\n",
      "4.3119045875574065\n",
      "Probability of coming from C_1 = 0.5634832925236815\n",
      "Probability of coming from C_2 = 0.43651670747631854\n",
      "5.710003725483641\n",
      "Probability of coming from C_1 = 0.48031266655929467\n",
      "Probability of coming from C_2 = 0.5196873334407054\n",
      "6.118435247944875\n",
      "Probability of coming from C_1 = 0.4650123701110152\n",
      "Probability of coming from C_2 = 0.5349876298889847\n",
      "4.174862337597262\n",
      "Probability of coming from C_1 = 0.5740476536136813\n",
      "Probability of coming from C_2 = 0.42595234638631874\n",
      "8.53950221559923\n",
      "Probability of coming from C_1 = 0.4581309353960969\n",
      "Probability of coming from C_2 = 0.5418690646039032\n",
      "7.96382912600709\n",
      "Probability of coming from C_1 = 0.4468456060241708\n",
      "Probability of coming from C_2 = 0.5531543939758292\n",
      "7.09236370095041\n",
      "Probability of coming from C_1 = 0.44509957353235774\n",
      "Probability of coming from C_2 = 0.5549004264676424\n",
      "P(C_1) = 0.4884150155523348,  P(C_2) = 0.5115849844476652\n",
      "mean_1 = 5.987456866037004,  mean_2 = 6.186560240601412\n",
      "var_1 = 9.098705907609634,  var_2 = 9.161059945814143\n"
     ]
    }
   ],
   "source": [
    "from scipy.stats import norm\n",
    "\n",
    "prob_c0_x = [] # P(C_0 | X_i)\n",
    "prob_c1_x = [] # P(C_1 | X_i)\n",
    "prob_x = [] # P(X_i)\n",
    "\n",
    "k = 2\n",
    "\n",
    "for p in data:\n",
    "    print(\"point = \", p)\n",
    "    pdf_i = []\n",
    "\n",
    "    for j in range(k):\n",
    "        # P(X_i | C_j)\n",
    "        pdf_i.append(norm.pdf(p, mean[j], var[j]))\n",
    "        print(\"probability of observing that point if it came from cluster \" + str(j) + \" = \", pdf_i[j])\n",
    "        # P(C_j) already computed\n",
    "        prob_c[j]\n",
    "\n",
    "    # P(X_i) = P(C_0)P(X_i | C_0) + P(C_1)P(X_i | C_1)\n",
    "    prob_x = prob_c[0] * pdf_i[0] + prob_c[1] * pdf_i[1]\n",
    "\n",
    "    # P(C_j | X_i) = P(X_i | C_j)P(C_j) / P(X_i)\n",
    "    prob_c0_x.append( pdf_i[0]*prob_c[0] /prob_x)\n",
    "    prob_c1_x.append( pdf_i[1]*prob_c[1]/prob_x )\n",
    "\n",
    "probs = zip(data, prob_c0_x, prob_c1_x)\n",
    "for p in probs:\n",
    "    print(p[0])\n",
    "    print(\"Probability of coming from C_1 = \" + str(p[1]))\n",
    "    print(\"Probability of coming from C_2 = \" + str(p[2]))\n",
    "\n",
    "prob_c = [sum(prob_c0_x)/ len(prob_c0_x), sum(prob_c1_x)/ len(prob_c1_x) ]\n",
    "mean = [sum([x[0] * x[1] for x in zip(prob_c0_x, data)]) / sum(prob_c0_x), sum([x[0] * x[1] for x in zip(prob_c1_x, data)]) / sum(prob_c1_x)]\n",
    "var = [ sum(map(lambda x: x[0]*(x[1] - mean[0])**2, zip(prob_c0_x, data))) ,  sum(map(lambda x: x[0]*(x[1] - mean[1])**2, zip(prob_c1_x, data)))]\n",
    "\n",
    "print(\"P(C_1) = \" + str(prob_c[0]) + \",  P(C_2) = \" + str(prob_c[1]))\n",
    "print(\"mean_1 = \" + str(mean[0]) + \",  mean_2 = \" + str(mean[1]))\n",
    "print(\"var_1 = \" + str(var[0]) + \",  var_2 = \" + str(var[1]))"
   ]
  },
  {
   "attachments": {},
   "cell_type": "markdown",
   "metadata": {},
   "source": [
    "Variance becomes larger while means are still similar. "
   ]
  },
  {
   "cell_type": "markdown",
   "metadata": {},
   "source": [
    "h) Use `P(C_j | X_i)` to create a hard assignment - label each point as belonging to a specific cluster (0 or 1)"
   ]
  },
  {
   "cell_type": "code",
   "execution_count": 9,
   "metadata": {},
   "outputs": [],
   "source": [
    "label = []\n",
    "for p in probs:\n",
    "  if p[1] > p[2]:\n",
    "    label.append(0)\n",
    "  else:\n",
    "    label.append(1)\n"
   ]
  },
  {
   "cell_type": "markdown",
   "metadata": {},
   "source": [
    "### Clustering Aggregation\n",
    "\n",
    "| Point | C | P |\n",
    "|-------|---|---|\n",
    "| A     | 0 | a |\n",
    "| B     | 0 | b |\n",
    "| C     | 2 | b |\n",
    "| D     | 1 | c |\n",
    "| E     | 1 | d |\n",
    "\n",
    "a) Fill in the following table where for each pair of points determine whether C and P agree or disagree on how to cluster that pair."
   ]
  },
  {
   "attachments": {},
   "cell_type": "markdown",
   "metadata": {},
   "source": [
    "| Pair | Disagreement |\n",
    "|------|--------------|\n",
    "| A  B |      1       |\n",
    "| A  C |      0       |\n",
    "| A  D |      0       |\n",
    "| A  E |      0       |\n",
    "| B  C |      1       |\n",
    "| B  D |      0       |\n",
    "| B  E |      0       |\n",
    "| C  D |      0       |\n",
    "| C  E |      0       |\n",
    "| D  E |      1       |\n"
   ]
  },
  {
   "cell_type": "markdown",
   "metadata": {},
   "source": [
    "As datasets become very large, this process can become computationally challenging.\n",
    "\n",
    "b) Given N points, what is the formula for the number of unique pairs of points one can create?"
   ]
  },
  {
   "attachments": {},
   "cell_type": "markdown",
   "metadata": {},
   "source": [
    "N!/(2!(N-2)!)"
   ]
  },
  {
   "cell_type": "markdown",
   "metadata": {},
   "source": [
    "Assume that clustering C clusters all points in the same cluster and clustering P clusters points as such:\n",
    "\n",
    "| Point | P |\n",
    "|-------|---|\n",
    "| A     | 0 |\n",
    "| B     | 0 |\n",
    "| C     | 0 |\n",
    "| D     | 1 |\n",
    "| E     | 1 |\n",
    "| F     | 2 |\n",
    "| G     | 2 |\n",
    "| H     | 2 |\n",
    "| I     | 2 |\n",
    "\n",
    "c) What is the maximum number of disagreements there could be for a dataset of this size? (use the formula from b)?"
   ]
  },
  {
   "attachments": {},
   "cell_type": "markdown",
   "metadata": {},
   "source": [
    "9!/(2!7!) = 36"
   ]
  },
  {
   "cell_type": "markdown",
   "metadata": {},
   "source": [
    "d) If we look at cluster 0. There are (3 x 2) / 2 = 3 pairs that agree with C (since all points in C are in the same cluster). For each cluster, determine how many agreements there are. How many total agreements are there? How many disagreements does that mean there are between C and P?"
   ]
  },
  {
   "attachments": {},
   "cell_type": "markdown",
   "metadata": {},
   "source": [
    "For cluster 1, there is 1 pair that agrees with C. For cluster 2, there are 6 pairs that agree with C. There are 36-10 = 26 pairs of disagreements between C and P."
   ]
  },
  {
   "cell_type": "markdown",
   "metadata": {},
   "source": [
    "e) Assuming that filtering the dataset by cluster number is a computationally easy operation, describe an algorithm inspired by the above process that can efficiently compute disagreement distances on large datasets."
   ]
  },
  {
   "attachments": {},
   "cell_type": "markdown",
   "metadata": {},
   "source": [
    "Group the same cluster of C and P using filtering and calculate the agreements for each cluster. Use the maximum number of disagreements to minus the total number of agreements at the end. "
   ]
  }
 ],
 "metadata": {
  "kernelspec": {
   "display_name": "Python 3",
   "language": "python",
   "name": "python3"
  },
  "language_info": {
   "codemirror_mode": {
    "name": "ipython",
    "version": 3
   },
   "file_extension": ".py",
   "mimetype": "text/x-python",
   "name": "python",
   "nbconvert_exporter": "python",
   "pygments_lexer": "ipython3",
   "version": "3.10.4"
  },
  "orig_nbformat": 4,
  "vscode": {
   "interpreter": {
    "hash": "3ad933181bd8a04b432d3370b9dc3b0662ad032c4dfaa4e4f1596c548f763858"
   }
  }
 },
 "nbformat": 4,
 "nbformat_minor": 2
}
