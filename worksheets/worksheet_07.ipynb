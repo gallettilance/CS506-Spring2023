{
 "cells": [
  {
   "attachments": {},
   "cell_type": "markdown",
   "metadata": {},
   "source": [
    "# Worksheet 07\n",
    "\n",
    "Name:  Zhengxu Wang  \n",
    "UID: U81066856\n",
    "\n",
    "### Topics\n",
    "\n",
    "- Soft Clustering\n",
    "- Clustering Aggregation\n",
    "\n",
    "### Probability Review\n",
    "\n",
    "Read through [the following](https://medium.com/@gallettilance/overview-of-probability-3272b72c82c8)\n",
    "\n",
    "### Soft Clustering\n",
    "\n",
    "We generate 10 data points that come from a normal distribution with mean 5 and variance 1."
   ]
  },
  {
   "cell_type": "code",
   "execution_count": 1,
   "metadata": {},
   "outputs": [
    {
     "name": "stdout",
     "output_type": "stream",
     "text": [
      "[5.5748006736896984, 5.22017210623626, 6.052945758152454, 4.766009824263725, 6.460686352971145, 4.093002571237734, 4.64187016682607, 3.810158202666821, 4.201807099416523, 5.450693033707913]\n"
     ]
    }
   ],
   "source": [
    "import random\n",
    "import numpy as np\n",
    "from sklearn.cluster import KMeans\n",
    "\n",
    "mean = 5\n",
    "stdev = 1\n",
    "\n",
    "c1 = np.random.normal(mean, stdev, 10).tolist()\n",
    "print(c1)"
   ]
  },
  {
   "cell_type": "markdown",
   "metadata": {},
   "source": [
    "a) Generate 10 more data points, this time coming from a normal distribution with mean 8 and variance 1."
   ]
  },
  {
   "cell_type": "code",
   "execution_count": 2,
   "metadata": {},
   "outputs": [
    {
     "name": "stdout",
     "output_type": "stream",
     "text": [
      "[6.5457936171092665, 9.347198536249596, 7.852211386850938, 7.264315336111502, 9.173653674651003, 8.796941397022959, 7.411845946032614, 7.671464387804637, 9.105995451013433, 7.983190961684002]\n"
     ]
    }
   ],
   "source": [
    "mean, stdev = 8, 1\n",
    "c2 = np.random.normal( mean , stdev , 10 ).tolist()\n",
    "print(c2)"
   ]
  },
  {
   "cell_type": "markdown",
   "metadata": {},
   "source": [
    "b) Flip a fair coin 10 times. If the coin lands on H, then pick the last data point of `c1` and remove it from `c1`, if T then pick the last data point from `c2` and remove it from `c2`. Add these 10 points to a list called `data`."
   ]
  },
  {
   "cell_type": "code",
   "execution_count": 3,
   "metadata": {},
   "outputs": [
    {
     "name": "stdout",
     "output_type": "stream",
     "text": [
      "[5.450693033707913, 4.201807099416523, 3.810158202666821, 7.983190961684002, 9.105995451013433, 7.671464387804637, 7.411845946032614, 8.796941397022959, 9.173653674651003, 7.264315336111502]\n"
     ]
    }
   ],
   "source": [
    "data = []\n",
    "for i in range(10):\n",
    "    # flip coin\n",
    "    coin_output = random.choice([0, 1])\n",
    "    if coin_output == 0:\n",
    "        p1 = c1.pop()\n",
    "        data.append(p1)\n",
    "    else:\n",
    "        p2 = c2.pop()\n",
    "        data.append(p2)\n",
    "print(data)"
   ]
  },
  {
   "cell_type": "markdown",
   "metadata": {},
   "source": [
    "c) This `data` is a Gaussian Mixture Distribution with 2 mixture components. Over the next few questions we will walk through the GMM algorithm to see if we can uncover the parameters we used to generate this data. First, please list all these parameters of the GMM that created `data` and the values we know they have."
   ]
  },
  {
   "attachments": {},
   "cell_type": "markdown",
   "metadata": {},
   "source": [
    "    mean,stdev  \n",
    "c1 : 5, 1  \n",
    "c2 : 8, 1  "
   ]
  },
  {
   "cell_type": "markdown",
   "metadata": {},
   "source": [
    "d) Let's assume there are two mixture components (note: we could plot the data and make the observation that there are two clusters). The EM algorithm asks us to start with a random `mean_j`, `variance_j`, `P(C_j)` for each component j. One method we could use to find sensible values for these is to apply K means with k=2 here.\n",
    "\n",
    "1. the centroids would be the estimates of the `mean_j`\n",
    "2. the intra-cluster variance could be the estimate of `variance_j`\n",
    "3. the proportion of points in each cluster could be the estimate of `P(C_j)`\n",
    "\n",
    "Go through this process and list the parameter estimates it gives. Are they close or far from the true values?"
   ]
  },
  {
   "cell_type": "code",
   "execution_count": 5,
   "metadata": {},
   "outputs": [
    {
     "name": "stdout",
     "output_type": "stream",
     "text": [
      "[7.983190961684002, 9.105995451013433, 7.671464387804637, 7.411845946032614, 8.796941397022959, 9.173653674651003, 7.264315336111502]\n",
      "[5.450693033707913, 4.201807099416523, 3.810158202666821]\n",
      "P(C_1) = 0.7,  P(C_2) = 0.3\n",
      "mean_1 = 8.20105816490288,  mean_2 = 4.4875527785970855\n",
      "var_1 = 0.564029869197574,  var_2 = 0.4893843852283513\n"
     ]
    }
   ],
   "source": [
    "kmeans = KMeans(2, init='k-means++').fit(X=np.array(data).reshape(-1, 1))\n",
    "\n",
    "c1 = [x[0] for x in filter(lambda x: x[1] == 0, zip(data, kmeans.labels_))]\n",
    "print(c1)\n",
    "c2 = [x[0] for x in filter(lambda x: x[1] == 1, zip(data, kmeans.labels_))]\n",
    "print(c2)\n",
    "\n",
    "prob_c = [len(c1) / (len(c1) + len(c2)), len(c2) / (len(c1) + len(c2))]\n",
    "mean = [sum(c1)/len(c1), sum(c2)/len(c2)]\n",
    "var = [ sum(map(lambda x : (x - mean[0])**2, c1)) / len(c1) , sum(map(lambda x : (x - mean[1])**2, c2)) / len(c2) ]\n",
    "\n",
    "print(\"P(C_1) = \" + str(prob_c[0]) + \",  P(C_2) = \" + str(prob_c[1]))\n",
    "print(\"mean_1 = \" + str(mean[0]) + \",  mean_2 = \" + str(mean[1]))\n",
    "print(\"var_1 = \" + str(var[0]) + \",  var_2 = \" + str(var[1]))"
   ]
  },
  {
   "attachments": {},
   "cell_type": "markdown",
   "metadata": {},
   "source": [
    "It is close to the true values."
   ]
  },
  {
   "cell_type": "markdown",
   "metadata": {},
   "source": [
    "e) For each data point, compute `P(C_j | X_i)`. Comment on which cluster you think each point belongs to based on the estimated probabilities. How does that compare to the truth?"
   ]
  },
  {
   "cell_type": "code",
   "execution_count": 6,
   "metadata": {},
   "outputs": [
    {
     "name": "stdout",
     "output_type": "stream",
     "text": [
      "point =  5.450693033707913\n",
      "probability of observing that point if it came from cluster 0 =  4.855867969867283e-06\n",
      "probability of observing that point if it came from cluster 1 =  0.11754061796403166\n",
      "point =  4.201807099416523\n",
      "probability of observing that point if it came from cluster 0 =  8.560595422357825e-12\n",
      "probability of observing that point if it came from cluster 1 =  0.6874308006613035\n",
      "point =  3.810158202666821\n",
      "probability of observing that point if it came from cluster 0 =  4.892923447891249e-14\n",
      "probability of observing that point if it came from cluster 1 =  0.31276461956040574\n",
      "point =  7.983190961684002\n",
      "probability of observing that point if it came from cluster 0 =  0.6564607986902339\n",
      "probability of observing that point if it came from cluster 1 =  6.793514381708171e-12\n",
      "point =  9.105995451013433\n",
      "probability of observing that point if it came from cluster 0 =  0.19527192027498866\n",
      "probability of observing that point if it came from cluster 1 =  3.73044987990739e-20\n",
      "point =  7.671464387804637\n",
      "probability of observing that point if it came from cluster 0 =  0.455162595309717\n",
      "probability of observing that point if it came from cluster 1 =  5.247804880601057e-10\n",
      "point =  7.411845946032614\n",
      "probability of observing that point if it came from cluster 0 =  0.26574331098871923\n",
      "probability of observing that point if it came from cluster 1 =  1.4381142691893498e-08\n",
      "point =  8.796941397022959\n",
      "probability of observing that point if it came from cluster 0 =  0.4048009730460329\n",
      "probability of observing that point if it came from cluster 1 =  1.1842874334766088e-17\n",
      "point =  9.173653674651003\n",
      "probability of observing that point if it came from cluster 0 =  0.15993075378667895\n",
      "probability of observing that point if it came from cluster 1 =  1.0022587874760844e-20\n",
      "point =  7.264315336111502\n",
      "probability of observing that point if it came from cluster 0 =  0.17809739101078206\n",
      "probability of observing that point if it came from cluster 1 =  8.324997809326845e-08\n",
      "5.450693033707913\n",
      "Probability of coming from C_1 = 9.638597027128958e-05\n",
      "Probability of coming from C_2 = 0.9999036140297287\n",
      "\n",
      "4.201807099416523\n",
      "Probability of coming from C_1 = 2.9057066736567972e-11\n",
      "Probability of coming from C_2 = 0.9999999999709429\n",
      "\n",
      "3.810158202666821\n",
      "Probability of coming from C_1 = 3.6502918375023427e-13\n",
      "Probability of coming from C_2 = 0.999999999999635\n",
      "\n",
      "7.983190961684002\n",
      "Probability of coming from C_1 = 0.9999999999955649\n",
      "Probability of coming from C_2 = 4.435156172897636e-12\n",
      "\n",
      "9.105995451013433\n",
      "Probability of coming from C_1 = 1.0\n",
      "Probability of coming from C_2 = 8.187373955224026e-20\n",
      "\n",
      "7.671464387804637\n",
      "Probability of coming from C_1 = 0.9999999995058779\n",
      "Probability of coming from C_2 = 4.941221569188083e-10\n",
      "\n",
      "7.411845946032614\n",
      "Probability of coming from C_1 = 0.9999999768071426\n",
      "Probability of coming from C_2 = 2.3192857431020585e-08\n",
      "\n",
      "8.796941397022959\n",
      "Probability of coming from C_1 = 1.0\n",
      "Probability of coming from C_2 = 1.253830378383363e-17\n",
      "\n",
      "9.173653674651003\n",
      "Probability of coming from C_1 = 1.0\n",
      "Probability of coming from C_2 = 2.6857841295478892e-20\n",
      "\n",
      "7.264315336111502\n",
      "Probability of coming from C_1 = 0.9999997996682899\n",
      "Probability of coming from C_2 = 2.0033171002636899e-07\n",
      "\n"
     ]
    }
   ],
   "source": [
    "from scipy.stats import norm\n",
    "\n",
    "prob_c0_x = [] # P(C_0 | X_i)\n",
    "prob_c1_x = [] # P(C_1 | X_i)\n",
    "prob_x = [] # P(X_i)\n",
    "\n",
    "k = 2\n",
    "\n",
    "for p in data:\n",
    "    print(\"point = \", p)\n",
    "    pdf_i = []\n",
    "\n",
    "    for j in range(k):\n",
    "        # P(X_i | C_j)\n",
    "        pdf_i.append(norm.pdf(p, mean[j], var[j]))\n",
    "        print(\"probability of observing that point if it came from cluster \" + str(j) + \" = \", pdf_i[j])\n",
    "        # P(C_j) already computed\n",
    "        prob_c[j]\n",
    "\n",
    "    # P(X_i) = P(C_0)P(X_i | C_0) + P(C_1)P(X_i | C_1)\n",
    "    prob_x = prob_c[0] * pdf_i[0] + prob_c[1] * pdf_i[1]\n",
    "\n",
    "    # P(C_j | X_i) = P(X_i | C_j)P(C_j) / P(X_i)\n",
    "    prob_c0_x.append(pdf_i[0] * prob_c[0] / prob_x)\n",
    "    prob_c1_x.append(pdf_i[1] * prob_c[1] / prob_x)\n",
    "\n",
    "probs = zip(data, prob_c0_x, prob_c1_x)\n",
    "for p in probs:\n",
    "    print(p[0])\n",
    "    print(\"Probability of coming from C_1 = \" + str(p[1]))\n",
    "    print(\"Probability of coming from C_2 = \" + str(p[2]))\n",
    "    print()\n"
   ]
  },
  {
   "cell_type": "markdown",
   "metadata": {},
   "source": [
    "f) Having computed `P(C_j | X_i)`, update the estimates of `mean_j`, `var_j`, and `P(C_j)`. How different are these values from the original ones you got from K means? briefly comment."
   ]
  },
  {
   "cell_type": "code",
   "execution_count": 7,
   "metadata": {},
   "outputs": [
    {
     "name": "stdout",
     "output_type": "stream",
     "text": [
      "P(C_1) = 0.7000096161976568,  P(C_2) = 0.2999903838023431\n",
      "mean_1 = 8.20102032392221,  mean_2 = 4.487522041773716\n",
      "var_1 = 0.5641262499200231,  var_2 = 0.4893708494511041\n"
     ]
    }
   ],
   "source": [
    "prob_c = [sum(prob_c0_x) / len(prob_c0_x), sum(prob_c1_x) / len(prob_c1_x)]\n",
    "mean = [sum([x[0] * x[1] for x in zip(prob_c0_x, data)]) / sum(prob_c0_x), sum([x[0] * x[1] for x in zip(prob_c1_x, data)]) / sum(prob_c1_x)]\n",
    "var = [sum([prob_c0_x[i] * (data[i] - mean[0])**2 for i in range(len(data))]) / sum(prob_c0_x), sum([prob_c1_x[i] * (data[i] - mean[1])**2 for i in range(len(data))]) / sum(prob_c1_x)]\n",
    "\n",
    "print(\"P(C_1) = \" + str(prob_c[0]) + \",  P(C_2) = \" + str(prob_c[1]))\n",
    "print(\"mean_1 = \" + str(mean[0]) + \",  mean_2 = \" + str(mean[1]))\n",
    "print(\"var_1 = \" + str(var[0]) + \",  var_2 = \" + str(var[1]))"
   ]
  },
  {
   "attachments": {},
   "cell_type": "markdown",
   "metadata": {},
   "source": [
    "Only have slighty differences"
   ]
  },
  {
   "cell_type": "markdown",
   "metadata": {},
   "source": [
    "g) Update `P(C_j | X_i)`. Comment on any differences or lack thereof you observe."
   ]
  },
  {
   "cell_type": "code",
   "execution_count": 8,
   "metadata": {},
   "outputs": [
    {
     "name": "stdout",
     "output_type": "stream",
     "text": [
      "5.450693033707913\n",
      "Probability of coming from C_1 = 9.681746536963193e-05\n",
      "Probability of coming from C_2 = 0.9999031825346304\n",
      "\n",
      "4.201807099416523\n",
      "Probability of coming from C_1 = 2.931636900080027e-11\n",
      "Probability of coming from C_2 = 0.9999999999706837\n",
      "\n",
      "3.810158202666821\n",
      "Probability of coming from C_1 = 3.6895181756902443e-13\n",
      "Probability of coming from C_2 = 0.999999999999631\n",
      "\n",
      "7.983190961684002\n",
      "Probability of coming from C_1 = 0.9999999999955727\n",
      "Probability of coming from C_2 = 4.427363517366729e-12\n",
      "\n",
      "9.105995451013433\n",
      "Probability of coming from C_1 = 1.0\n",
      "Probability of coming from C_2 = 8.160925557434552e-20\n",
      "\n",
      "7.671464387804637\n",
      "Probability of coming from C_1 = 0.9999999995066877\n",
      "Probability of coming from C_2 = 4.933123281007401e-10\n",
      "\n",
      "7.411845946032614\n",
      "Probability of coming from C_1 = 0.9999999768451137\n",
      "Probability of coming from C_2 = 2.315488630812912e-08\n",
      "\n",
      "8.796941397022959\n",
      "Probability of coming from C_1 = 1.0\n",
      "Probability of coming from C_2 = 1.2504934197701962e-17\n",
      "\n",
      "9.173653674651003\n",
      "Probability of coming from C_1 = 1.0\n",
      "Probability of coming from C_2 = 2.676729061496915e-20\n",
      "\n",
      "7.264315336111502\n",
      "Probability of coming from C_1 = 0.9999998000039123\n",
      "Probability of coming from C_2 = 1.9999608771580895e-07\n",
      "\n"
     ]
    }
   ],
   "source": [
    "from scipy.stats import norm\n",
    "\n",
    "prob_c0_x = []\n",
    "prob_c1_x = []\n",
    "\n",
    "for p in data:\n",
    "    pdf_i = [norm.pdf(p, mean[j], var[j]) for j in range(k)]\n",
    "    prob_x = sum(prob_c[j] * pdf_i[j] for j in range(k))\n",
    "\n",
    "    prob_c0_x.append(pdf_i[0] * prob_c[0] / prob_x)\n",
    "    prob_c1_x.append(pdf_i[1] * prob_c[1] / prob_x)\n",
    "\n",
    "probs = zip(data, prob_c0_x, prob_c1_x)\n",
    "\n",
    "for datapoint, prob_0, prob_1 in probs:\n",
    "    print(datapoint)\n",
    "    print(\"Probability of coming from C_1 = \" + str(prob_0))\n",
    "    print(\"Probability of coming from C_2 = \" + str(prob_1))\n",
    "    print()\n"
   ]
  },
  {
   "attachments": {},
   "cell_type": "markdown",
   "metadata": {},
   "source": [
    "There are some probability nearly reach 1, that means these points been classified in a high confidence interval. Which is not happend in kmeans."
   ]
  },
  {
   "cell_type": "markdown",
   "metadata": {},
   "source": [
    "h) Use `P(C_j | X_i)` to create a hard assignment - label each point as belonging to a specific cluster (0 or 1)"
   ]
  },
  {
   "cell_type": "code",
   "execution_count": 9,
   "metadata": {},
   "outputs": [
    {
     "name": "stdout",
     "output_type": "stream",
     "text": [
      "[1, 1, 1, 0, 0, 0, 0, 0, 0, 0]\n"
     ]
    }
   ],
   "source": [
    "labels = []\n",
    "\n",
    "for i in range(len(data)):\n",
    "    if prob_c0_x[i] > prob_c1_x[i]:\n",
    "        labels.append(0)\n",
    "    else:\n",
    "        labels.append(1)\n",
    "\n",
    "print(labels)"
   ]
  },
  {
   "cell_type": "markdown",
   "metadata": {},
   "source": [
    "### Clustering Aggregation\n",
    "\n",
    "| Point | C | P |\n",
    "|-------|---|---|\n",
    "| A     | 0 | a |\n",
    "| B     | 0 | b |\n",
    "| C     | 2 | b |\n",
    "| D     | 1 | c |\n",
    "| E     | 1 | d |\n",
    "\n",
    "a) Fill in the following table where for each pair of points determine whether C and P agree or disagree on how to cluster that pair."
   ]
  },
  {
   "attachments": {},
   "cell_type": "markdown",
   "metadata": {},
   "source": [
    "| Pair | Disagreement |\n",
    "|------|--------------|\n",
    "| A  B |      Dis       |\n",
    "| A  C |      Agree       |\n",
    "| A  D |      Agree       |\n",
    "| A  E |      Agree       |\n",
    "| B  C |      Dis       |\n",
    "| B  D |      Agree       |\n",
    "| B  E |      Agree       |\n",
    "| C  D |      Agree       |\n",
    "| C  E |      Agree       |\n",
    "| D  E |      Dis       |\n"
   ]
  },
  {
   "cell_type": "markdown",
   "metadata": {},
   "source": [
    "As datasets become very large, this process can become computationally challenging.\n",
    "\n",
    "b) Given N points, what is the formula for the number of unique pairs of points one can create?"
   ]
  },
  {
   "attachments": {},
   "cell_type": "markdown",
   "metadata": {},
   "source": [
    "nC2 = n! / (2! * (n-2)!)"
   ]
  },
  {
   "cell_type": "markdown",
   "metadata": {},
   "source": [
    "Assume that clustering C clusters all points in the same cluster and clustering P clusters points as such:\n",
    "\n",
    "| Point | P |\n",
    "|-------|---|\n",
    "| A     | 0 |\n",
    "| B     | 0 |\n",
    "| C     | 0 |\n",
    "| D     | 1 |\n",
    "| E     | 1 |\n",
    "| F     | 2 |\n",
    "| G     | 2 |\n",
    "| H     | 2 |\n",
    "| I     | 2 |\n",
    "\n",
    "c) What is the maximum number of disagreements there could be for a dataset of this size? (use the formula from b)?"
   ]
  },
  {
   "attachments": {},
   "cell_type": "markdown",
   "metadata": {},
   "source": [
    "nC2 = (n * (n-1)) / 2 = (9 * 8) / 2 = 36"
   ]
  },
  {
   "cell_type": "markdown",
   "metadata": {},
   "source": [
    "d) If we look at cluster 0. There are (3 x 2) / 2 = 3 pairs that agree with C (since all points in C are in the same cluster). For each cluster, determine how many agreements there are. How many total agreements are there? How many disagreements does that mean there are between C and P?"
   ]
  },
  {
   "attachments": {},
   "cell_type": "markdown",
   "metadata": {},
   "source": [
    "In cluster 0, there are (3 x 2) / 2 = 3 pairs that agree with C.  \n",
    "In cluster 1, there are (2 x 1) / 2 = 1 pairs that agree with C.  \n",
    "In cluster 2, there are (4 x 3) / 2 = 6 pairs that agree with C.  \n",
    "36 - 10 = 26"
   ]
  },
  {
   "cell_type": "markdown",
   "metadata": {},
   "source": [
    "e) Assuming that filtering the dataset by cluster number is a computationally easy operation, describe an algorithm inspired by the above process that can efficiently compute disagreement distances on large datasets."
   ]
  },
  {
   "attachments": {},
   "cell_type": "markdown",
   "metadata": {},
   "source": [
    "cluster it using a clustering algorithm (e.g., k-means) and return the cluster labels.\n",
    "\n",
    "Once the clustering of each subset is complete, merge the resulting clusters together to form larger clusters.\n",
    "\n",
    "For each pair of clusters, compute the number of disagreements between them using the formula from part (b).\n",
    "\n",
    "Continue merging clusters until there are no more clusters left.\n",
    "\n",
    "The total number of disagreements between the original clusters is the sum of the disagreements between all pairs of clusters."
   ]
  }
 ],
 "metadata": {
  "kernelspec": {
   "display_name": "Python 3",
   "language": "python",
   "name": "python3"
  },
  "language_info": {
   "codemirror_mode": {
    "name": "ipython",
    "version": 3
   },
   "file_extension": ".py",
   "mimetype": "text/x-python",
   "name": "python",
   "nbconvert_exporter": "python",
   "pygments_lexer": "ipython3",
   "version": "3.9.6"
  },
  "orig_nbformat": 4,
  "vscode": {
   "interpreter": {
    "hash": "31f2aee4e71d21fbe5cf8b01ff0e069b9275f58929596ceb00d14d90e3e16cd6"
   }
  }
 },
 "nbformat": 4,
 "nbformat_minor": 2
}
