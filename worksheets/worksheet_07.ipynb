{
  "cells": [
    {
      "cell_type": "markdown",
      "metadata": {
        "id": "LZfNmYXU3XHh"
      },
      "source": [
        "# Worksheet 07\n",
        "\n",
        "Name: Yingjie Ouyang  \n",
        "UID: U86074230 \n",
        "\n",
        "### Topics\n",
        "\n",
        "- Soft Clustering\n",
        "- Clustering Aggregation\n",
        "\n",
        "### Probability Review\n",
        "\n",
        "Read through [the following](https://medium.com/@gallettilance/overview-of-probability-3272b72c82c8)\n",
        "\n",
        "### Soft Clustering\n",
        "\n",
        "We generate 10 data points that come from a normal distribution with mean 5 and variance 1."
      ]
    },
    {
      "cell_type": "code",
      "execution_count": null,
      "metadata": {
        "colab": {
          "base_uri": "https://localhost:8080/"
        },
        "id": "ZB_e0K_e3XHp",
        "outputId": "e8ad3c90-2c29-4902-dbad-68ca83446c21"
      },
      "outputs": [
        {
          "output_type": "stream",
          "name": "stdout",
          "text": [
            "[3.3055984886409684, 4.655116228257954, 4.452668282508901, 6.6811478024877875, 4.173826866765857, 5.790206314269063, 4.848784943960292, 5.667773160161924, 4.691199199587158, 6.625822230922454]\n"
          ]
        }
      ],
      "source": [
        "import random\n",
        "import numpy as np\n",
        "from sklearn.cluster import KMeans\n",
        "\n",
        "mean = 5\n",
        "stdev = 1\n",
        "\n",
        "c1 = np.random.normal(mean, stdev, 10).tolist()\n",
        "print(c1)"
      ]
    },
    {
      "cell_type": "markdown",
      "metadata": {
        "id": "6fL-y3G43XHr"
      },
      "source": [
        "a) Generate 10 more data points, this time coming from a normal distribution with mean 8 and variance 1."
      ]
    },
    {
      "cell_type": "code",
      "execution_count": null,
      "metadata": {
        "colab": {
          "base_uri": "https://localhost:8080/"
        },
        "id": "znHtkFYm3XHt",
        "outputId": "93ce0329-688d-4112-ea82-681fa9273196"
      },
      "outputs": [
        {
          "output_type": "stream",
          "name": "stdout",
          "text": [
            "[7.030069693246384, 8.732465012625477, 8.627035775294003, 7.218006926069083, 7.814285366763424, 7.760242148085559, 7.837158928872747, 7.737096197823686, 7.57954830484593, 5.900519992309928]\n"
          ]
        }
      ],
      "source": [
        "c2 = np.random.normal(8, 1, 10).tolist()\n",
        "print(c2)"
      ]
    },
    {
      "cell_type": "markdown",
      "metadata": {
        "id": "dKQA3B3z3XHt"
      },
      "source": [
        "b) Flip a fair coin 10 times. If the coin lands on H, then pick the last data point of `c1` and remove it from `c1`, if T then pick the last data point from `c2` and remove it from `c2`. Add these 10 points to a list called `data`."
      ]
    },
    {
      "cell_type": "code",
      "execution_count": null,
      "metadata": {
        "colab": {
          "base_uri": "https://localhost:8080/"
        },
        "id": "qhDa-X-o3XHu",
        "outputId": "87c758ef-6a39-475a-f09d-43e15fe6acf1"
      },
      "outputs": [
        {
          "output_type": "stream",
          "name": "stdout",
          "text": [
            "[6.625822230922454, 5.900519992309928, 7.57954830484593, 4.691199199587158, 7.737096197823686, 7.837158928872747, 5.667773160161924, 4.848784943960292, 5.790206314269063, 4.173826866765857]\n"
          ]
        }
      ],
      "source": [
        "data = []\n",
        "for i in range(10):\n",
        "    # flip coin\n",
        "    coin_output = random.choice([0, 1])\n",
        "    if coin_output == 0:\n",
        "        p1 = c1.pop()\n",
        "        data.append(p1)\n",
        "    else:\n",
        "        p2 = c2.pop()\n",
        "        data.append(p2)\n",
        "print(data)"
      ]
    },
    {
      "cell_type": "markdown",
      "metadata": {
        "id": "dkQaO5QS3XHv"
      },
      "source": [
        "c) This `data` is a Gaussian Mixture Distribution with 2 mixture components. Over the next few questions we will walk through the GMM algorithm to see if we can uncover the parameters we used to generate this data. First, please list all these parameters of the GMM that created `data` and the values we know they have."
      ]
    },
    {
      "cell_type": "markdown",
      "metadata": {
        "id": "rnAClX743XHw"
      },
      "source": [
        "Mean1 = 5  \n",
        "Mean2 = 8  \n",
        "Stdev1 = 1  \n",
        "Stdev2 = 2   \n",
        "P(C_1) = 0.5  \n",
        "P(C_2) = 0.5"
      ]
    },
    {
      "cell_type": "markdown",
      "metadata": {
        "id": "aPYl7JXP3XHx"
      },
      "source": [
        "d) Let's assume there are two mixture components (note: we could plot the data and make the observation that there are two clusters). The EM algorithm asks us to start with a random `mean_j`, `variance_j`, `P(C_j)` for each component j. One method we could use to find sensible values for these is to apply K means with k=2 here.\n",
        "\n",
        "1. the centroids would be the estimates of the `mean_j`\n",
        "2. the intra-cluster variance could be the estimate of `variance_j`\n",
        "3. the proportion of points in each cluster could be the estimate of `P(C_j)`\n",
        "\n",
        "Go through this process and list the parameter estimates it gives. Are they close or far from the true values?"
      ]
    },
    {
      "cell_type": "code",
      "execution_count": null,
      "metadata": {
        "colab": {
          "base_uri": "https://localhost:8080/"
        },
        "id": "glqcI7-73XHz",
        "outputId": "ec1cc2d7-ee11-430a-be5b-dcd633445ec9"
      },
      "outputs": [
        {
          "output_type": "stream",
          "name": "stdout",
          "text": [
            "[5.900519992309928, 4.691199199587158, 5.667773160161924, 4.848784943960292, 5.790206314269063, 4.173826866765857]\n",
            "[6.625822230922454, 7.57954830484593, 7.737096197823686, 7.837158928872747]\n",
            "P(C_1) = 0.6,  P(C_2) = 0.4\n",
            "mean_1 = 5.178718412842371,  mean_2 = 7.444906415616204\n",
            "var_1 = 0.4150712693577434,  var_2 = 0.2320660607333263\n"
          ]
        }
      ],
      "source": [
        "kmeans = KMeans(2, init='k-means++').fit(X=np.array(data).reshape(-1, 1))\n",
        "\n",
        "c1 = [x[0] for x in filter(lambda x: x[1] == 0, zip(data, kmeans.labels_))]\n",
        "print(c1)\n",
        "c2 = [x[0] for x in filter(lambda x: x[1] == 1, zip(data, kmeans.labels_))]\n",
        "print(c2)\n",
        "\n",
        "prob_c = [ len(c1) / (len(c1) + len(c2)) , len(c2) / (len(c1) + len(c2)) ]\n",
        "mean = [ sum(c1)/len(c1) , sum(c2)/len(c2) ]\n",
        "var = [ sum(map(lambda x : (x - mean[0])**2, c1)) / len(c1) , sum(map(lambda x : (x - mean[1])**2, c2)) / len(c2) ]\n",
        "\n",
        "print(\"P(C_1) = \" + str(prob_c[0]) + \",  P(C_2) = \" + str(prob_c[1]))\n",
        "print(\"mean_1 = \" + str(mean[0]) + \",  mean_2 = \" + str(mean[1]))\n",
        "print(\"var_1 = \" + str(var[0]) + \",  var_2 = \" + str(var[1]))"
      ]
    },
    {
      "cell_type": "markdown",
      "metadata": {
        "id": "ysdhbhXZ3XH0"
      },
      "source": [
        "Pretty close to the true values, may be dependent on the samples we chose."
      ]
    },
    {
      "cell_type": "markdown",
      "metadata": {
        "id": "rk0ngS6C3XH0"
      },
      "source": [
        "e) For each data point, compute `P(C_j | X_i)`. Comment on which cluster you think each point belongs to based on the estimated probabilities. How does that compare to the truth?"
      ]
    },
    {
      "cell_type": "code",
      "execution_count": null,
      "metadata": {
        "colab": {
          "base_uri": "https://localhost:8080/"
        },
        "id": "oNwaJWRB3XH1",
        "outputId": "1264d55a-3d73-4fa4-c66a-b8eef9d53aea"
      },
      "outputs": [
        {
          "output_type": "stream",
          "name": "stdout",
          "text": [
            "point =  6.625822230922454\n",
            "probability of observing that point if it came from cluster 0 =  0.002204795610606134\n",
            "probability of observing that point if it came from cluster 1 =  0.0033897562138826614\n",
            "point =  5.900519992309928\n",
            "probability of observing that point if it came from cluster 0 =  0.21189526358090194\n",
            "probability of observing that point if it came from cluster 1 =  4.151675339415515e-10\n",
            "point =  7.57954830484593\n",
            "probability of observing that point if it came from cluster 0 =  5.222183511917164e-08\n",
            "probability of observing that point if it came from cluster 1 =  1.4527898589233195\n",
            "point =  4.691199199587158\n",
            "probability of observing that point if it came from cluster 0 =  0.48219360599687144\n",
            "probability of observing that point if it came from cluster 1 =  4.573938945187746e-31\n",
            "point =  7.737096197823686\n",
            "probability of observing that point if it came from cluster 0 =  5.408592644104536e-09\n",
            "probability of observing that point if it came from cluster 1 =  0.778141569699048\n",
            "point =  7.837158928872747\n",
            "probability of observing that point if it came from cluster 0 =  1.1888940392685412e-09\n",
            "probability of observing that point if it came from cluster 1 =  0.41201371183394864\n",
            "point =  5.667773160161924\n",
            "probability of observing that point if it came from cluster 0 =  0.4800996573929267\n",
            "probability of observing that point if it came from cluster 1 =  3.1704194297762933e-13\n",
            "point =  4.848784943960292\n",
            "probability of observing that point if it came from cluster 0 =  0.7007853113469312\n",
            "probability of observing that point if it came from cluster 1 =  1.1470373366465392e-27\n",
            "point =  5.790206314269063\n",
            "probability of observing that point if it came from cluster 0 =  0.3247141471571414\n",
            "probability of observing that point if it came from cluster 1 =  1.567775880760715e-11\n",
            "point =  4.173826866765857\n",
            "probability of observing that point if it came from cluster 0 =  0.05128908377528429\n",
            "probability of observing that point if it came from cluster 1 =  1.235969622577581e-43\n",
            "6.625822230922454\n",
            "Probability of coming from C_1 = 0.493835790730292\n",
            "Probability of coming from C_2 = 0.506164209269708\n",
            "\n",
            "5.900519992309928\n",
            "Probability of coming from C_1 = 0.9999999986937963\n",
            "Probability of coming from C_2 = 1.3062035975798536e-09\n",
            "\n",
            "7.57954830484593\n",
            "Probability of coming from C_1 = 5.391884309627506e-08\n",
            "Probability of coming from C_2 = 0.9999999460811568\n",
            "\n",
            "4.691199199587158\n",
            "Probability of coming from C_1 = 1.0\n",
            "Probability of coming from C_2 = 6.32379316565419e-31\n",
            "\n",
            "7.737096197823686\n",
            "Probability of coming from C_1 = 1.0425980563806276e-08\n",
            "Probability of coming from C_2 = 0.9999999895740195\n",
            "\n",
            "7.837158928872747\n",
            "Probability of coming from C_1 = 4.328353644459798e-09\n",
            "Probability of coming from C_2 = 0.9999999956716464\n",
            "\n",
            "5.667773160161924\n",
            "Probability of coming from C_1 = 0.9999999999995597\n",
            "Probability of coming from C_2 = 4.40244628513331e-13\n",
            "\n",
            "4.848784943960292\n",
            "Probability of coming from C_1 = 1.0\n",
            "Probability of coming from C_2 = 1.091192331492506e-27\n",
            "\n",
            "5.790206314269063\n",
            "Probability of coming from C_1 = 0.9999999999678122\n",
            "Probability of coming from C_2 = 3.2187815949013686e-11\n",
            "\n",
            "4.173826866765857\n",
            "Probability of coming from C_1 = 1.0\n",
            "Probability of coming from C_2 = 1.606540198680878e-42\n",
            "\n"
          ]
        }
      ],
      "source": [
        "from scipy.stats import norm\n",
        "\n",
        "prob_c0_x = [] # P(C_0 | X_i)\n",
        "prob_c1_x = [] # P(C_1 | X_i)\n",
        "prob_x = [] # P(X_i)\n",
        "\n",
        "k = 2\n",
        "\n",
        "for p in data:\n",
        "    print(\"point = \", p)\n",
        "    pdf_i = []\n",
        "\n",
        "    for j in range(k):\n",
        "        # P(X_i | C_j)\n",
        "        pdf_i.append(norm.pdf(p, mean[j], var[j]))\n",
        "        print(\"probability of observing that point if it came from cluster \" + str(j) + \" = \", pdf_i[j])\n",
        "        # P(C_j) already computed\n",
        "        prob_c[j]\n",
        "\n",
        "    # P(X_i) = P(C_0)P(X_i | C_0) + P(C_1)P(X_i | C_1)\n",
        "    prob_x = prob_c[0] * pdf_i[0] + prob_c[1] * pdf_i[1]\n",
        "\n",
        "    # P(C_j | X_i) = P(X_i | C_j)P(C_j) / P(X_i)\n",
        "    prob_c0_x.append( pdf_i[0] * prob_c[0] / prob_x )\n",
        "    prob_c1_x.append( pdf_i[1] * prob_c[1] / prob_x )\n",
        "\n",
        "probs = zip(data, prob_c0_x, prob_c1_x)\n",
        "for p in probs:\n",
        "    print(p[0])\n",
        "    print(\"Probability of coming from C_1 = \" + str(p[1]))\n",
        "    print(\"Probability of coming from C_2 = \" + str(p[2]))\n",
        "    print()\n"
      ]
    },
    {
      "cell_type": "markdown",
      "metadata": {
        "id": "3pwyOrSd3XH3"
      },
      "source": [
        "f) Having computed `P(C_j | X_i)`, update the estimates of `mean_j`, `var_j`, and `P(C_j)`. How different are these values from the original ones you got from K means? briefly comment."
      ]
    },
    {
      "cell_type": "code",
      "execution_count": null,
      "metadata": {
        "colab": {
          "base_uri": "https://localhost:8080/"
        },
        "id": "MG4OAgLc3XH4",
        "outputId": "4f716f42-6b74-4d0f-876b-935984e28e47"
      },
      "outputs": [
        {
          "output_type": "stream",
          "name": "stdout",
          "text": [
            "P(C_1) = 0.6493835858064638,  P(C_2) = 0.35061641419353623\n",
            "mean_1 = 5.288766132026775,  mean_2 = 7.560272683586877\n",
            "var_1 = 0.42718176985543305,  var_2 = 0.24537543651880744\n"
          ]
        }
      ],
      "source": [
        "prob_c = [sum(prob_c0_x)/ len(prob_c0_x), sum(prob_c1_x)/ len(prob_c1_x)]\n",
        "mean = [sum([x[0] * x[1] for x in zip(prob_c0_x, data)]) / sum(prob_c0_x), sum([x[0] * x[1] for x in zip(prob_c1_x, data)]) / sum(prob_c1_x)]\n",
        "var = [sum(map(lambda x : (x - mean[0])**2, c1)) / len(c1) , sum(map(lambda x : (x - mean[1])**2, c2)) / len(c2)]\n",
        "\n",
        "print(\"P(C_1) = \" + str(prob_c[0]) + \",  P(C_2) = \" + str(prob_c[1]))\n",
        "print(\"mean_1 = \" + str(mean[0]) + \",  mean_2 = \" + str(mean[1]))\n",
        "print(\"var_1 = \" + str(var[0]) + \",  var_2 = \" + str(var[1]))"
      ]
    },
    {
      "cell_type": "markdown",
      "metadata": {
        "id": "pWUY90AQ3XH4"
      },
      "source": [
        "I ran the code above multiple times, and it seems to either perform better or worse depending on the values we randomly chose. Overall, they stay around the same as kmeans."
      ]
    },
    {
      "cell_type": "markdown",
      "metadata": {
        "id": "poSW08g13XH5"
      },
      "source": [
        "g) Update `P(C_j | X_i)`. Comment on any differences or lack thereof you observe."
      ]
    },
    {
      "cell_type": "code",
      "execution_count": null,
      "metadata": {
        "colab": {
          "base_uri": "https://localhost:8080/"
        },
        "id": "tGwWb-1A3XH6",
        "outputId": "549ca205-3a8c-44a7-ea3e-2cbcf4ffa776"
      },
      "outputs": [
        {
          "output_type": "stream",
          "name": "stdout",
          "text": [
            "point =  6.625822230922454\n",
            "probability of observing that point if it came from cluster 0 =  0.006966268854429181\n",
            "probability of observing that point if it came from cluster 1 =  0.001153046017568211\n",
            "point =  5.900519992309928\n",
            "probability of observing that point if it came from cluster 0 =  0.3349399622024166\n",
            "probability of observing that point if it came from cluster 1 =  1.8872372375746418e-10\n",
            "point =  7.57954830484593\n",
            "probability of observing that point if it came from cluster 0 =  5.31880921955346e-07\n",
            "probability of observing that point if it came from cluster 1 =  1.620835603563353\n",
            "point =  4.691199199587158\n",
            "probability of observing that point if it came from cluster 0 =  0.35106085674707427\n",
            "probability of observing that point if it came from cluster 1 =  3.337733959057534e-30\n",
            "point =  7.737096197823686\n",
            "probability of observing that point if it came from cluster 0 =  6.876273923908426e-08\n",
            "probability of observing that point if it came from cluster 1 =  1.2540490896648842\n",
            "point =  7.837158928872747\n",
            "probability of observing that point if it came from cluster 0 =  1.7474103139101304e-08\n",
            "probability of observing that point if it came from cluster 1 =  0.8601597661899865\n",
            "point =  5.667773160161924\n",
            "probability of observing that point if it came from cluster 0 =  0.6300359580501852\n",
            "probability of observing that point if it came from cluster 1 =  1.967968801110891e-13\n",
            "point =  4.848784943960292\n",
            "probability of observing that point if it came from cluster 0 =  0.5494682945299528\n",
            "probability of observing that point if it came from cluster 1 =  4.95580362560133e-27\n",
            "point =  5.790206314269063\n",
            "probability of observing that point if it came from cluster 0 =  0.46891434358590345\n",
            "probability of observing that point if it came from cluster 1 =  8.152038755034888e-12\n",
            "point =  4.173826866765857\n",
            "probability of observing that point if it came from cluster 0 =  0.030980064031598763\n",
            "probability of observing that point if it came from cluster 1 =  7.097258586721845e-42\n",
            "6.625822230922454\n",
            "Probability of coming from C_1 = 0.9179642568322716\n",
            "Probability of coming from C_2 = 0.08203574316772844\n",
            "\n",
            "5.900519992309928\n",
            "Probability of coming from C_1 = 0.9999999996957781\n",
            "Probability of coming from C_2 = 3.0422189478250405e-10\n",
            "\n",
            "7.57954830484593\n",
            "Probability of coming from C_1 = 6.077769762239011e-07\n",
            "Probability of coming from C_2 = 0.9999993922230237\n",
            "\n",
            "4.691199199587158\n",
            "Probability of coming from C_1 = 1.0\n",
            "Probability of coming from C_2 = 5.1333425503736944e-30\n",
            "\n",
            "7.737096197823686\n",
            "Probability of coming from C_1 = 1.0155648260009288e-07\n",
            "Probability of coming from C_2 = 0.9999998984435173\n",
            "\n",
            "7.837158928872747\n",
            "Probability of coming from C_1 = 3.7625719793025904e-08\n",
            "Probability of coming from C_2 = 0.9999999623742802\n",
            "\n",
            "5.667773160161924\n",
            "Probability of coming from C_1 = 0.9999999999998314\n",
            "Probability of coming from C_2 = 1.686490151310911e-13\n",
            "\n",
            "4.848784943960292\n",
            "Probability of coming from C_1 = 1.0\n",
            "Probability of coming from C_2 = 4.869702029898154e-27\n",
            "\n",
            "5.790206314269063\n",
            "Probability of coming from C_1 = 0.9999999999906136\n",
            "Probability of coming from C_2 = 9.386499362463917e-12\n",
            "\n",
            "4.173826866765857\n",
            "Probability of coming from C_1 = 1.0\n",
            "Probability of coming from C_2 = 1.236913286969557e-40\n",
            "\n"
          ]
        }
      ],
      "source": [
        "prob_c0_x = [] # P(C_0 | X_i)\n",
        "prob_c1_x = [] # P(C_1 | X_i)\n",
        "prob_x = [] # P(X_i)\n",
        "\n",
        "k = 2\n",
        "\n",
        "for p in data:\n",
        "    print(\"point = \", p)\n",
        "    pdf_i = []\n",
        "\n",
        "    for j in range(k):\n",
        "        # P(X_i | C_j)\n",
        "        pdf_i.append(norm.pdf(p, mean[j], var[j]))\n",
        "        print(\"probability of observing that point if it came from cluster \" + str(j) + \" = \", pdf_i[j])\n",
        "        # P(C_j) already computed\n",
        "        prob_c[j]\n",
        "\n",
        "    # P(X_i) = P(C_0)P(X_i | C_0) + P(C_1)P(X_i | C_1)\n",
        "    prob_x = prob_c[0] * pdf_i[0] + prob_c[1] * pdf_i[1]\n",
        "\n",
        "    # P(C_j | X_i) = P(X_i | C_j)P(C_j) / P(X_i)\n",
        "    prob_c0_x.append( pdf_i[0] * prob_c[0] / prob_x )\n",
        "    prob_c1_x.append( pdf_i[1] * prob_c[1] / prob_x )\n",
        "\n",
        "probs = zip(data, prob_c0_x, prob_c1_x)\n",
        "for p in probs:\n",
        "    print(p[0])\n",
        "    print(\"Probability of coming from C_1 = \" + str(p[1]))\n",
        "    print(\"Probability of coming from C_2 = \" + str(p[2]))\n",
        "    print()"
      ]
    },
    {
      "cell_type": "markdown",
      "metadata": {
        "id": "aQgNPpxf3XH7"
      },
      "source": [
        "The probabilities have stayed around the same, there are no extreme changes."
      ]
    },
    {
      "cell_type": "markdown",
      "metadata": {
        "id": "1Iz-pFg33XH7"
      },
      "source": [
        "h) Use `P(C_j | X_i)` to create a hard assignment - label each point as belonging to a specific cluster (0 or 1)"
      ]
    },
    {
      "cell_type": "code",
      "execution_count": null,
      "metadata": {
        "colab": {
          "base_uri": "https://localhost:8080/"
        },
        "id": "NqHTHxzP3XH8",
        "outputId": "d40abd0a-7b4b-486d-c5b1-3022e882541b"
      },
      "outputs": [
        {
          "output_type": "stream",
          "name": "stdout",
          "text": [
            "[0, 0, 1, 0, 1, 1, 0, 0, 0, 0]\n",
            "point 6.625822230922454 was assigned to cluster 0\n",
            "point 5.900519992309928 was assigned to cluster 0\n",
            "point 7.57954830484593 was assigned to cluster 1\n",
            "point 4.691199199587158 was assigned to cluster 0\n",
            "point 7.737096197823686 was assigned to cluster 1\n",
            "point 7.837158928872747 was assigned to cluster 1\n",
            "point 5.667773160161924 was assigned to cluster 0\n",
            "point 4.848784943960292 was assigned to cluster 0\n",
            "point 5.790206314269063 was assigned to cluster 0\n",
            "point 4.173826866765857 was assigned to cluster 0\n"
          ]
        }
      ],
      "source": [
        "labels = []\n",
        "probs = zip(data, prob_c0_x, prob_c1_x)\n",
        "for p in probs:\n",
        "  if p[1] > p[2]:\n",
        "    labels.append(0)\n",
        "  else:\n",
        "    labels.append(1)\n",
        "\n",
        "print(labels)\n",
        "\n",
        "label_pairs = zip(data, labels)\n",
        "for p in label_pairs:\n",
        "  print(\"point\", p[0], \"was assigned to cluster\", p[1])"
      ]
    },
    {
      "cell_type": "markdown",
      "source": [
        "Remaining to be completed tomorrow!"
      ],
      "metadata": {
        "id": "XTINx6KDM2wv"
      }
    },
    {
      "cell_type": "markdown",
      "metadata": {
        "id": "HsS3w4bG3XH8"
      },
      "source": [
        "### Clustering Aggregation\n",
        "\n",
        "| Point | C | P |\n",
        "|-------|---|---|\n",
        "| A     | 0 | a |\n",
        "| B     | 0 | b |\n",
        "| C     | 2 | b |\n",
        "| D     | 1 | c |\n",
        "| E     | 1 | d |\n",
        "\n",
        "a) Fill in the following table where for each pair of points determine whether C and P agree or disagree on how to cluster that pair."
      ]
    },
    {
      "cell_type": "markdown",
      "metadata": {
        "id": "nVx7JurR3XH9"
      },
      "source": [
        "| Pair | Disagreement |\n",
        "|------|--------------|\n",
        "| A  B |      ?       |\n",
        "| A  C |      ?       |\n",
        "| A  D |      ?       |\n",
        "| A  E |      ?       |\n",
        "| B  C |      ?       |\n",
        "| B  D |      ?       |\n",
        "| B  E |      ?       |\n",
        "| C  D |      ?       |\n",
        "| C  E |      ?       |\n",
        "| D  E |      ?       |\n"
      ]
    },
    {
      "cell_type": "markdown",
      "metadata": {
        "id": "1gxRflkO3XH9"
      },
      "source": [
        "As datasets become very large, this process can become computationally challenging.\n",
        "\n",
        "b) Given N points, what is the formula for the number of unique pairs of points one can create?"
      ]
    },
    {
      "cell_type": "markdown",
      "metadata": {
        "id": "1g_Nc9EK3XH-"
      },
      "source": []
    },
    {
      "cell_type": "markdown",
      "metadata": {
        "id": "0gu30y4q3XH-"
      },
      "source": [
        "Assume that clustering C clusters all points in the same cluster and clustering P clusters points as such:\n",
        "\n",
        "| Point | P |\n",
        "|-------|---|\n",
        "| A     | 0 |\n",
        "| B     | 0 |\n",
        "| C     | 0 |\n",
        "| D     | 1 |\n",
        "| E     | 1 |\n",
        "| F     | 2 |\n",
        "| G     | 2 |\n",
        "| H     | 2 |\n",
        "| I     | 2 |\n",
        "\n",
        "c) What is the maximum number of disagreements there could be for a dataset of this size? (use the formula from b)?"
      ]
    },
    {
      "cell_type": "markdown",
      "metadata": {
        "id": "PvQqjybY3XH_"
      },
      "source": []
    },
    {
      "cell_type": "markdown",
      "metadata": {
        "id": "EJORWcYE3XH_"
      },
      "source": [
        "d) If we look at cluster 0. There are (3 x 2) / 2 = 3 pairs that agree with C (since all points in C are in the same cluster). For each cluster, determine how many agreements there are. How many total agreements are there? How many disagreements does that mean there are between C and P?"
      ]
    },
    {
      "cell_type": "markdown",
      "metadata": {
        "id": "K5FsYojm3XH_"
      },
      "source": []
    },
    {
      "cell_type": "markdown",
      "metadata": {
        "id": "b7y2yANl3XH_"
      },
      "source": [
        "e) Assuming that filtering the dataset by cluster number is a computationally easy operation, describe an algorithm inspired by the above process that can efficiently compute disagreement distances on large datasets."
      ]
    },
    {
      "cell_type": "markdown",
      "metadata": {
        "id": "9qHIZrkF3XIA"
      },
      "source": []
    }
  ],
  "metadata": {
    "interpreter": {
      "hash": "76ca05dc3ea24b2e3b98cdb7774adfbb40773424bf5109b477fd793f623715af"
    },
    "kernelspec": {
      "display_name": "Python 3.9.9 64-bit ('env': venv)",
      "language": "python",
      "name": "python3"
    },
    "language_info": {
      "codemirror_mode": {
        "name": "ipython",
        "version": 3
      },
      "file_extension": ".py",
      "mimetype": "text/x-python",
      "name": "python",
      "nbconvert_exporter": "python",
      "pygments_lexer": "ipython3",
      "version": "3.9.9"
    },
    "orig_nbformat": 4,
    "colab": {
      "provenance": []
    }
  },
  "nbformat": 4,
  "nbformat_minor": 0
}