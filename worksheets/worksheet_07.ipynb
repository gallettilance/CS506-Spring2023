{
 "cells": [
  {
   "cell_type": "markdown",
   "metadata": {},
   "source": [
    "# Worksheet 07\n",
    "\n",
    "Name:  Yuanyuan Wang\n",
    "UID: U26234904\n",
    "\n",
    "### Topics\n",
    "\n",
    "- Soft Clustering\n",
    "- Clustering Aggregation\n",
    "\n",
    "### Probability Review\n",
    "\n",
    "Read through [the following](https://medium.com/@gallettilance/overview-of-probability-3272b72c82c8)\n",
    "\n",
    "### Soft Clustering\n",
    "\n",
    "We generate 10 data points that come from a normal distribution with mean 5 and variance 1."
   ]
  },
  {
   "cell_type": "code",
   "execution_count": 1,
   "metadata": {},
   "outputs": [
    {
     "name": "stdout",
     "output_type": "stream",
     "text": [
      "[6.326320013253751, 5.141294243646965, 4.8018199571564955, 5.293795243018996, 5.306637742428527, 4.707778647500695, 5.209742271540497, 3.7353702380870484, 5.876773529640368, 5.084208667216384]\n"
     ]
    }
   ],
   "source": [
    "import random\n",
    "import numpy as np\n",
    "from sklearn.cluster import KMeans\n",
    "\n",
    "mean = 5\n",
    "stdev = 1\n",
    "\n",
    "c1 = np.random.normal(mean, stdev, 10).tolist()\n",
    "print(c1)"
   ]
  },
  {
   "cell_type": "markdown",
   "metadata": {},
   "source": [
    "a) Generate 10 more data points, this time coming from a normal distribution with mean 8 and variance 1."
   ]
  },
  {
   "cell_type": "code",
   "execution_count": 2,
   "metadata": {},
   "outputs": [
    {
     "name": "stdout",
     "output_type": "stream",
     "text": [
      "[8.949667056012537, 8.968662737528597, 7.770260170299656, 8.049897227585596, 6.01517330161005, 7.711751398665243, 8.840306653567517, 6.873278345963023, 7.274541548096861, 6.510801096326982]\n"
     ]
    }
   ],
   "source": [
    "mean1 = 8\n",
    "stdev1 = 1\n",
    "c2 = np.random.normal(mean1 , stdev1 , 10).tolist()\n",
    "print(c2)"
   ]
  },
  {
   "cell_type": "markdown",
   "metadata": {},
   "source": [
    "b) Flip a fair coin 10 times. If the coin lands on H, then pick the last data point of `c1` and remove it from `c1`, if T then pick the last data point from `c2` and remove it from `c2`. Add these 10 points to a list called `data`."
   ]
  },
  {
   "cell_type": "code",
   "execution_count": 3,
   "metadata": {},
   "outputs": [
    {
     "name": "stdout",
     "output_type": "stream",
     "text": [
      "[6.510801096326982, 5.084208667216384, 5.876773529640368, 7.274541548096861, 3.7353702380870484, 5.209742271540497, 4.707778647500695, 5.306637742428527, 5.293795243018996, 6.873278345963023]\n"
     ]
    }
   ],
   "source": [
    "data = []\n",
    "for i in range(10):\n",
    "    # flip coin\n",
    "    coin_output = random.choice([0, 1])\n",
    "    if coin_output == 0:\n",
    "        p1 = c1.pop()\n",
    "        data.append(p1)\n",
    "    else:\n",
    "        p2 = c2.pop()\n",
    "        data.append(p2)\n",
    "print(data)"
   ]
  },
  {
   "cell_type": "markdown",
   "metadata": {},
   "source": [
    "c) This `data` is a Gaussian Mixture Distribution with 2 mixture components. Over the next few questions we will walk through the GMM algorithm to see if we can uncover the parameters we used to generate this data. First, please list all these parameters of the GMM that created `data` and the values we know they have."
   ]
  },
  {
   "cell_type": "markdown",
   "metadata": {},
   "source": []
  },
  {
   "cell_type": "markdown",
   "metadata": {},
   "source": [
    "d) Let's assume there are two mixture components (note: we could plot the data and make the observation that there are two clusters). The EM algorithm asks us to start with a random `mean_j`, `variance_j`, `P(C_j)` for each component j. One method we could use to find sensible values for these is to apply K means with k=2 here.\n",
    "\n",
    "1. the centroids would be the estimates of the `mean_j`\n",
    "2. the intra-cluster variance could be the estimate of `variance_j`\n",
    "3. the proportion of points in each cluster could be the estimate of `P(C_j)`\n",
    "\n",
    "Go through this process and list the parameter estimates it gives. Are they close or far from the true values?"
   ]
  },
  {
   "cell_type": "code",
   "execution_count": 5,
   "metadata": {},
   "outputs": [
    {
     "name": "stdout",
     "output_type": "stream",
     "text": [
      "[5.084208667216384, 3.7353702380870484, 5.209742271540497, 4.707778647500695, 5.306637742428527, 5.293795243018996]\n",
      "[6.510801096326982, 5.876773529640368, 7.274541548096861, 6.873278345963023]\n",
      "P(C_1) = 0.6,  P(C_2) = 0.4\n",
      "mean_1 = 4.8895888016320255,  mean_2 = 6.633848630006808\n",
      "var_1 = 0.30716053787163317,  var_2 = 0.2640293518282912\n"
     ]
    },
    {
     "name": "stderr",
     "output_type": "stream",
     "text": [
      "/Users/wangyuanyuan/opt/anaconda3/envs/cs542/lib/python3.10/site-packages/sklearn/cluster/_kmeans.py:870: FutureWarning: The default value of `n_init` will change from 10 to 'auto' in 1.4. Set the value of `n_init` explicitly to suppress the warning\n",
      "  warnings.warn(\n"
     ]
    }
   ],
   "source": [
    "kmeans = KMeans(2, init='k-means++').fit(X=np.array(data).reshape(-1, 1))\n",
    "\n",
    "c1 = [x[0] for x in filter(lambda x: x[1] == 0, zip(data, kmeans.labels_))]\n",
    "print(c1)\n",
    "c2 = [x[0] for x in filter(lambda x: x[1] == 1, zip(data, kmeans.labels_))]\n",
    "print(c2)\n",
    "\n",
    "prob_c = [ len(c1) / (len(c1) + len(c2)) , len(c2) / (len(c1) + len(c2)) ]\n",
    "mean = [ sum(c1)/len(c1) , sum(c2)/len(c2) ]\n",
    "var = [ sum(map(lambda x : (x - mean[0])**2, c1)) / len(c1) , sum(map(lambda x : (x - mean[1])**2, c2)) / len(c2) ]\n",
    "\n",
    "print(\"P(C_1) = \" + str(prob_c[0]) + \",  P(C_2) = \" + str(prob_c[1]))\n",
    "print(\"mean_1 = \" + str(mean[0]) + \",  mean_2 = \" + str(mean[1]))\n",
    "print(\"var_1 = \" + str(var[0]) + \",  var_2 = \" + str(var[1]))"
   ]
  },
  {
   "cell_type": "markdown",
   "metadata": {},
   "source": [
    "The mean for c1 is 5 and stdev for c1 is 1. The mean for c2 is 8 and stdev for c2 is 1."
   ]
  },
  {
   "cell_type": "markdown",
   "metadata": {},
   "source": [
    "e) For each data point, compute `P(C_j | X_i)`. Comment on which cluster you think each point belongs to based on the estimated probabilities. How does that compare to the truth?"
   ]
  },
  {
   "cell_type": "code",
   "execution_count": 6,
   "metadata": {},
   "outputs": [
    {
     "name": "stdout",
     "output_type": "stream",
     "text": [
      "point =  6.510801096326982\n",
      "probability of observing that point if it came from cluster 0 =  1.159499795340993e-06\n",
      "probability of observing that point if it came from cluster 1 =  1.3554873696065204\n",
      "point =  5.084208667216384\n",
      "probability of observing that point if it came from cluster 0 =  1.0625967191905694\n",
      "probability of observing that point if it came from cluster 1 =  5.0013483348347743e-08\n",
      "point =  5.876773529640368\n",
      "probability of observing that point if it came from cluster 0 =  0.007423194181896028\n",
      "probability of observing that point if it came from cluster 1 =  0.02476792050674197\n",
      "point =  7.274541548096861\n",
      "probability of observing that point if it came from cluster 0 =  1.052535713395418e-13\n",
      "probability of observing that point if it came from cluster 1 =  0.07954512454130702\n",
      "point =  3.7353702380870484\n",
      "probability of observing that point if it came from cluster 0 =  0.0011151953484808564\n",
      "probability of observing that point if it came from cluster 1 =  1.0234883498508462e-26\n",
      "point =  5.209742271540497\n",
      "probability of observing that point if it came from cluster 0 =  0.754463351720372\n",
      "probability of observing that point if it came from cluster 1 =  7.276300686910437e-07\n",
      "point =  4.707778647500695\n",
      "probability of observing that point if it came from cluster 0 =  1.0901004798766192\n",
      "probability of observing that point if it came from cluster 1 =  4.203561029542556e-12\n",
      "point =  5.306637742428527\n",
      "probability of observing that point if it came from cluster 0 =  0.5166942736779018\n",
      "probability of observing that point if it came from cluster 1 =  4.924061362951822e-06\n",
      "point =  5.293795243018996\n",
      "probability of observing that point if it came from cluster 0 =  0.5463968695506581\n",
      "probability of observing that point if it came from cluster 1 =  3.851440484348962e-06\n",
      "point =  6.873278345963023\n",
      "probability of observing that point if it came from cluster 0 =  1.1397925447616923e-09\n",
      "probability of observing that point if it came from cluster 1 =  1.0015874745827793\n",
      "6.510801096326982\n",
      "Probability of coming from C_1 = 1.2831159480721324e-06\n",
      "Probability of coming from C_2 = 0.9999987168840521\n",
      "\n",
      "5.084208667216384\n",
      "Probability of coming from C_1 = 0.9999999686218481\n",
      "Probability of coming from C_2 = 3.137815182735537e-08\n",
      "\n",
      "5.876773529640368\n",
      "Probability of coming from C_1 = 0.3101378898954143\n",
      "Probability of coming from C_2 = 0.6898621101045858\n",
      "\n",
      "7.274541548096861\n",
      "Probability of coming from C_1 = 1.9847898651162915e-12\n",
      "Probability of coming from C_2 = 0.9999999999980153\n",
      "\n",
      "3.7353702380870484\n",
      "Probability of coming from C_1 = 1.0\n",
      "Probability of coming from C_2 = 6.1184398544767036e-24\n",
      "\n",
      "5.209742271540497\n",
      "Probability of coming from C_1 = 0.9999993570444483\n",
      "Probability of coming from C_2 = 6.429555517380376e-07\n",
      "\n",
      "4.707778647500695\n",
      "Probability of coming from C_1 = 0.9999999999974293\n",
      "Probability of coming from C_2 = 2.5707483589081754e-12\n",
      "\n",
      "5.306637742428527\n",
      "Probability of coming from C_1 = 0.9999936467522736\n",
      "Probability of coming from C_2 = 6.35324772632016e-06\n",
      "\n",
      "5.293795243018996\n",
      "Probability of coming from C_1 = 0.9999953008242417\n",
      "Probability of coming from C_2 = 4.699175758358582e-06\n",
      "\n",
      "6.873278345963023\n",
      "Probability of coming from C_1 = 1.706979028403208e-09\n",
      "Probability of coming from C_2 = 0.999999998293021\n",
      "\n"
     ]
    }
   ],
   "source": [
    "from scipy.stats import norm\n",
    "\n",
    "prob_c0_x = [] # P(C_0 | X_i)\n",
    "prob_c1_x = [] # P(C_1 | X_i)\n",
    "prob_x = [] # P(X_i)\n",
    "\n",
    "k = 2\n",
    "\n",
    "for p in data:\n",
    "    print(\"point = \", p)\n",
    "    pdf_i = []\n",
    "\n",
    "    for j in range(k):\n",
    "        # P(X_i | C_j)\n",
    "        pdf_i.append(norm.pdf(p, mean[j], var[j]))\n",
    "        print(\"probability of observing that point if it came from cluster \" + str(j) + \" = \", pdf_i[j])\n",
    "        # P(C_j) already computed\n",
    "        prob_c[j]\n",
    "\n",
    "    # P(X_i) = P(C_0)P(X_i | C_0) + P(C_1)P(X_i | C_1)\n",
    "    prob_x = prob_c[0] * pdf_i[0] + prob_c[1] * pdf_i[1]\n",
    "\n",
    "    # P(C_j | X_i) = P(X_i | C_j)P(C_j) / P(X_i)\n",
    "    prob_c0_x.append( pdf_i[0] * prob_c[0] /  prob_x)\n",
    "    prob_c1_x.append( pdf_i[1] * prob_c[1] /  prob_x )\n",
    "\n",
    "probs = zip(data, prob_c0_x, prob_c1_x)\n",
    "for p in probs:\n",
    "    print(p[0])\n",
    "    print(\"Probability of coming from C_1 = \" + str(p[1]))\n",
    "    print(\"Probability of coming from C_2 = \" + str(p[2]))\n",
    "    print()\n"
   ]
  },
  {
   "cell_type": "markdown",
   "metadata": {},
   "source": [
    "f) Having computed `P(C_j | X_i)`, update the estimates of `mean_j`, `var_j`, and `P(C_j)`. How different are these values from the original ones you got from K means? briefly comment."
   ]
  },
  {
   "cell_type": "code",
   "execution_count": 7,
   "metadata": {},
   "outputs": [
    {
     "name": "stdout",
     "output_type": "stream",
     "text": [
      "P(C_1) = 0.6310127447960567,  P(C_2) = 0.3689872552039433\n",
      "mean_1 = 4.938107744172796,  mean_2 = 6.697477423351363\n",
      "var_1 = 0.3376080612538115,  var_2 = 3.3293843355241677\n"
     ]
    }
   ],
   "source": [
    "prob_c = [sum(prob_c0_x)/ len(prob_c0_x), sum(prob_c1_x) / len(prob_c1_x) ]\n",
    "mean = [sum([x[0] * x[1] for x in zip(prob_c0_x, data)]) / sum(prob_c0_x), sum([x[0] * x[1] for x in zip(prob_c1_x, data)]) / sum(prob_c1_x) ]\n",
    "var = [ sum([prob_c0_x[i] * (data[i] - mean[0])**2 for i in range(len(data))]) / sum(prob_c0_x) , sum([prob_c1_x[i] * (data[i] - mean[0])**2 for i in range(len(data))]) / sum(prob_c1_x) ]\n",
    "\n",
    "print(\"P(C_1) = \" + str(prob_c[0]) + \",  P(C_2) = \" + str(prob_c[1]))\n",
    "print(\"mean_1 = \" + str(mean[0]) + \",  mean_2 = \" + str(mean[1]))\n",
    "print(\"var_1 = \" + str(var[0]) + \",  var_2 = \" + str(var[1]))"
   ]
  },
  {
   "cell_type": "markdown",
   "metadata": {},
   "source": [
    "These values are not very different to each other and the variances are much more closer."
   ]
  },
  {
   "cell_type": "markdown",
   "metadata": {},
   "source": [
    "g) Update `P(C_j | X_i)`. Comment on any differences or lack thereof you observe."
   ]
  },
  {
   "cell_type": "code",
   "execution_count": 8,
   "metadata": {},
   "outputs": [
    {
     "name": "stdout",
     "output_type": "stream",
     "text": [
      "6.510801096326982\n",
      "Probability of coming from C_1 = 0.0003276372294729917\n",
      "Probability of coming from C_2 = 0.999672362770527\n",
      "\n",
      "5.084208667216384\n",
      "Probability of coming from C_1 = 0.9452659341141126\n",
      "Probability of coming from C_2 = 0.05473406588588728\n",
      "\n",
      "5.876773529640368\n",
      "Probability of coming from C_1 = 0.2670684750776249\n",
      "Probability of coming from C_2 = 0.7329315249223752\n",
      "\n",
      "7.274541548096861\n",
      "Probability of coming from C_1 = 6.814683340414045e-10\n",
      "Probability of coming from C_2 = 0.9999999993185317\n",
      "\n",
      "3.7353702380870484\n",
      "Probability of coming from C_1 = 0.04209562567710054\n",
      "Probability of coming from C_2 = 0.9579043743228994\n",
      "\n",
      "5.209742271540497\n",
      "Probability of coming from C_1 = 0.9309503135558403\n",
      "Probability of coming from C_2 = 0.06904968644415956\n",
      "\n",
      "4.707778647500695\n",
      "Probability of coming from C_1 = 0.9410923310948419\n",
      "Probability of coming from C_2 = 0.058907668905158146\n",
      "\n",
      "5.306637742428527\n",
      "Probability of coming from C_1 = 0.910250018796049\n",
      "Probability of coming from C_2 = 0.08974998120395099\n",
      "\n",
      "5.293795243018996\n",
      "Probability of coming from C_1 = 0.9136556654385\n",
      "Probability of coming from C_2 = 0.08634433456150008\n",
      "\n",
      "6.873278345963023\n",
      "Probability of coming from C_1 = 1.2388606189157527e-06\n",
      "Probability of coming from C_2 = 0.9999987611393811\n",
      "\n"
     ]
    }
   ],
   "source": [
    "prob_c0_x = []\n",
    "prob_c1_x = []\n",
    "\n",
    "for p in data:\n",
    "    pdf_i = [norm.pdf(p, mean[j], var[j]) for j in range(k)]\n",
    "    prob_x = prob_c[0] * pdf_i[0] + prob_c[1] * pdf_i[1]\n",
    "\n",
    "    prob_c0_x.append(pdf_i[0] * prob_c[0] / prob_x)\n",
    "    prob_c1_x.append(pdf_i[1] * prob_c[1] / prob_x)\n",
    "\n",
    "probs = zip(data, prob_c0_x, prob_c1_x)\n",
    "for p in probs:\n",
    "    print(p[0])\n",
    "    print(\"Probability of coming from C_1 = \" + str(p[1]))\n",
    "    print(\"Probability of coming from C_2 = \" + str(p[2]))\n",
    "    print()"
   ]
  },
  {
   "cell_type": "markdown",
   "metadata": {},
   "source": [
    "There seem to be a lot more definitive decisions being made(probability of 1) which wasn't really happening with the kmeans implementation."
   ]
  },
  {
   "cell_type": "markdown",
   "metadata": {},
   "source": [
    "h) Use `P(C_j | X_i)` to create a hard assignment - label each point as belonging to a specific cluster (0 or 1)"
   ]
  },
  {
   "cell_type": "code",
   "execution_count": 9,
   "metadata": {},
   "outputs": [
    {
     "name": "stdout",
     "output_type": "stream",
     "text": [
      "[1, 0, 1, 1, 1, 0, 0, 0, 0, 1]\n"
     ]
    }
   ],
   "source": [
    "labels = []\n",
    "\n",
    "for i in range(len(data)):\n",
    "    if prob_c0_x[i] > prob_c1_x[i]:\n",
    "        labels.append(0)\n",
    "    else:\n",
    "        labels.append(1)\n",
    "\n",
    "print(labels)"
   ]
  },
  {
   "cell_type": "markdown",
   "metadata": {},
   "source": [
    "### Clustering Aggregation\n",
    "\n",
    "| Point | C | P |\n",
    "|-------|---|---|\n",
    "| A     | 0 | a |\n",
    "| B     | 0 | b |\n",
    "| C     | 2 | b |\n",
    "| D     | 1 | c |\n",
    "| E     | 1 | d |\n",
    "\n",
    "a) Fill in the following table where for each pair of points determine whether C and P agree or disagree on how to cluster that pair."
   ]
  },
  {
   "cell_type": "markdown",
   "metadata": {},
   "source": [
    "| Pair | Disagreement |\n",
    "|------|--------------|\n",
    "| A  B |      ?       |\n",
    "| A  C |      ?       |\n",
    "| A  D |      ?       |\n",
    "| A  E |      ?       |\n",
    "| B  C |      ?       |\n",
    "| B  D |      ?       |\n",
    "| B  E |      ?       |\n",
    "| C  D |      ?       |\n",
    "| C  E |      ?       |\n",
    "| D  E |      ?       |\n"
   ]
  },
  {
   "cell_type": "markdown",
   "metadata": {},
   "source": [
    "As datasets become very large, this process can become computationally challenging.\n",
    "\n",
    "b) Given N points, what is the formula for the number of unique pairs of points one can create?"
   ]
  },
  {
   "cell_type": "markdown",
   "metadata": {},
   "source": []
  },
  {
   "cell_type": "markdown",
   "metadata": {},
   "source": [
    "Assume that clustering C clusters all points in the same cluster and clustering P clusters points as such:\n",
    "\n",
    "| Point | P |\n",
    "|-------|---|\n",
    "| A     | 0 |\n",
    "| B     | 0 |\n",
    "| C     | 0 |\n",
    "| D     | 1 |\n",
    "| E     | 1 |\n",
    "| F     | 2 |\n",
    "| G     | 2 |\n",
    "| H     | 2 |\n",
    "| I     | 2 |\n",
    "\n",
    "c) What is the maximum number of disagreements there could be for a dataset of this size? (use the formula from b)?"
   ]
  },
  {
   "cell_type": "markdown",
   "metadata": {},
   "source": []
  },
  {
   "cell_type": "markdown",
   "metadata": {},
   "source": [
    "d) If we look at cluster 0. There are (3 x 2) / 2 = 3 pairs that agree with C (since all points in C are in the same cluster). For each cluster, determine how many agreements there are. How many total agreements are there? How many disagreements does that mean there are between C and P?"
   ]
  },
  {
   "cell_type": "markdown",
   "metadata": {},
   "source": []
  },
  {
   "cell_type": "markdown",
   "metadata": {},
   "source": [
    "e) Assuming that filtering the dataset by cluster number is a computationally easy operation, describe an algorithm inspired by the above process that can efficiently compute disagreement distances on large datasets."
   ]
  },
  {
   "cell_type": "markdown",
   "metadata": {},
   "source": []
  }
 ],
 "metadata": {
  "kernelspec": {
   "display_name": "Python 3.10.9 ('cs542')",
   "language": "python",
   "name": "python3"
  },
  "language_info": {
   "codemirror_mode": {
    "name": "ipython",
    "version": 3
   },
   "file_extension": ".py",
   "mimetype": "text/x-python",
   "name": "python",
   "nbconvert_exporter": "python",
   "pygments_lexer": "ipython3",
   "version": "3.10.9"
  },
  "orig_nbformat": 4,
  "vscode": {
   "interpreter": {
    "hash": "14c444db5a0e8352dac8d0b98541726cd84ef8959480aedf2945f20ba17e9cae"
   }
  }
 },
 "nbformat": 4,
 "nbformat_minor": 2
}
