{
 "cells": [
  {
   "attachments": {},
   "cell_type": "markdown",
   "metadata": {},
   "source": [
    "# Worksheet 07\n",
    "\n",
    "Name: Shivangi\n",
    "UID: U35642613\n",
    "\n",
    "### Topics\n",
    "\n",
    "- Soft Clustering\n",
    "- Clustering Aggregation\n",
    "\n",
    "### Probability Review\n",
    "\n",
    "Read through [the following](https://medium.com/@gallettilance/overview-of-probability-3272b72c82c8)\n",
    "\n",
    "### Soft Clustering\n",
    "\n",
    "We generate 10 data points that come from a normal distribution with mean 5 and variance 1."
   ]
  },
  {
   "cell_type": "code",
   "execution_count": 1,
   "metadata": {},
   "outputs": [
    {
     "name": "stdout",
     "output_type": "stream",
     "text": [
      "[4.364736777835721, 4.142142303238222, 4.904372236371267, 5.995438076678698, 3.7336059807255064, 4.566764387506843, 6.212205935971271, 4.226828072827067, 4.7504478694790695, 4.408188508044759]\n"
     ]
    }
   ],
   "source": [
    "import random\n",
    "import numpy as np\n",
    "from sklearn.cluster import KMeans\n",
    "\n",
    "mean = 5\n",
    "stdev = 1\n",
    "\n",
    "c1 = np.random.normal(mean, stdev, 10).tolist()\n",
    "print(c1)"
   ]
  },
  {
   "cell_type": "markdown",
   "metadata": {},
   "source": [
    "a) Generate 10 more data points, this time coming from a normal distribution with mean 8 and variance 1."
   ]
  },
  {
   "cell_type": "code",
   "execution_count": 2,
   "metadata": {},
   "outputs": [
    {
     "name": "stdout",
     "output_type": "stream",
     "text": [
      "[7.637599186894538, 9.658829466846022, 8.55394551327187, 7.454787785669766, 6.784462657941731, 8.882138684400621, 7.91909287826638, 7.348539400792135, 8.667906931409279, 8.619104709369406]\n"
     ]
    }
   ],
   "source": [
    "c2 = np.random.normal(8, 1, 10).tolist()\n",
    "print(c2)"
   ]
  },
  {
   "cell_type": "markdown",
   "metadata": {},
   "source": [
    "b) Flip a fair coin 10 times. If the coin lands on H, then pick the last data point of `c1` and remove it from `c1`, if T then pick the last data point from `c2` and remove it from `c2`. Add these 10 points to a list called `data`."
   ]
  },
  {
   "cell_type": "code",
   "execution_count": 3,
   "metadata": {},
   "outputs": [
    {
     "name": "stdout",
     "output_type": "stream",
     "text": [
      "[8.619104709369406, 8.667906931409279, 4.408188508044759, 4.7504478694790695, 7.348539400792135, 7.91909287826638, 4.226828072827067, 6.212205935971271, 4.566764387506843, 8.882138684400621]\n"
     ]
    }
   ],
   "source": [
    "data = []\n",
    "for i in range(10):\n",
    "    # flip coin\n",
    "    coin_output = random.choice([0, 1])\n",
    "    if coin_output == 0:\n",
    "        p1 = c1.pop()\n",
    "        data.append(p1)\n",
    "    else:\n",
    "        p2 = c2.pop()\n",
    "        data.append(p2)\n",
    "print(data)"
   ]
  },
  {
   "cell_type": "markdown",
   "metadata": {},
   "source": [
    "c) This `data` is a Gaussian Mixture Distribution with 2 mixture components. Over the next few questions we will walk through the GMM algorithm to see if we can uncover the parameters we used to generate this data. First, please list all these parameters of the GMM that created `data` and the values we know they have."
   ]
  },
  {
   "attachments": {},
   "cell_type": "markdown",
   "metadata": {},
   "source": [
    "c1 = [6.201965597819907, 5.9833374131375034, 5.371864977398792, 3.865299608808478, 6.186975859415653, 6.654768094026854, 4.210830965466652, 3.2130158785226683, 3.5613384874433383, 8.357196861603997]\n",
    "\n",
    "c2 = [7.914524653792445, 9.747176655148124, 9.05984533837469, 7.208736703051519, 6.685070547267801, 8.166563875054502, 7.578130450948437, 7.270265942252881, 9.490677786351522, 7.564693234490808]\n",
    "\n",
    "data = [7.564693234490808, 8.357196861603997, 9.490677786351522, 7.270265942252881, 7.578130450948437, 3.5613384874433383, 3.2130158785226683, 8.166563875054502, 6.685070547267801, 4.210830965466652]"
   ]
  },
  {
   "cell_type": "markdown",
   "metadata": {},
   "source": [
    "d) Let's assume there are two mixture components (note: we could plot the data and make the observation that there are two clusters). The EM algorithm asks us to start with a random `mean_j`, `variance_j`, `P(C_j)` for each component j. One method we could use to find sensible values for these is to apply K means with k=2 here.\n",
    "\n",
    "1. the centroids would be the estimates of the `mean_j`\n",
    "2. the intra-cluster variance could be the estimate of `variance_j`\n",
    "3. the proportion of points in each cluster could be the estimate of `P(C_j)`\n",
    "\n",
    "Go through this process and list the parameter estimates it gives. Are they close or far from the true values?"
   ]
  },
  {
   "cell_type": "code",
   "execution_count": 12,
   "metadata": {},
   "outputs": [
    {
     "name": "stdout",
     "output_type": "stream",
     "text": [
      "[3.5613384874433383, 3.2130158785226683, 4.210830965466652]\n",
      "[7.564693234490808, 8.357196861603997, 9.490677786351522, 7.270265942252881, 7.578130450948437, 8.166563875054502, 6.685070547267801]\n",
      "P(C_1) = 0.3,  P(C_2) = 0.7\n",
      "mean_1 = 3.6617284438108864,  mean_2 = 7.8732283854242775\n",
      "var_1 = 0.17097822962524403,  var_2 = 0.6991390352162233\n"
     ]
    }
   ],
   "source": [
    "kmeans = KMeans(2, init='k-means++').fit(X=np.array(data).reshape(-1, 1))\n",
    "\n",
    "c1 = [x[0] for x in filter(lambda x: x[1] == 0, zip(data, kmeans.labels_))]\n",
    "print(c1)\n",
    "c2 = [x[0] for x in filter(lambda x: x[1] == 1, zip(data, kmeans.labels_))]\n",
    "print(c2)\n",
    "\n",
    "prob_c = [ len(c1) / (len(c1) + len(c2)) , len(c2) / (len(c1) + len(c2)) ]\n",
    "mean = [ sum(c1)/len(c1) , sum(c2)/len(c2) ]\n",
    "var = [ sum(map(lambda x : (x - mean[0])**2, c1)) / len(c1) , sum(map(lambda x : (x - mean[1])**2, c2)) / len(c2) ]\n",
    "\n",
    "print(\"P(C_1) = \" + str(prob_c[0]) + \",  P(C_2) = \" + str(prob_c[1]))\n",
    "print(\"mean_1 = \" + str(mean[0]) + \",  mean_2 = \" + str(mean[1]))\n",
    "print(\"var_1 = \" + str(var[0]) + \",  var_2 = \" + str(var[1]))"
   ]
  },
  {
   "cell_type": "markdown",
   "metadata": {},
   "source": [
    "e) For each data point, compute `P(C_j | X_i)`. Comment on which cluster you think each point belongs to based on the estimated probabilities. How does that compare to the truth?"
   ]
  },
  {
   "cell_type": "code",
   "execution_count": 13,
   "metadata": {},
   "outputs": [
    {
     "name": "stdout",
     "output_type": "stream",
     "text": [
      "point =  7.564693234490808\n",
      "probability of observing that point if it came from cluster 0 =  1.644535414953089e-113\n",
      "probability of observing that point if it came from cluster 1 =  0.5176743287667553\n",
      "point =  8.357196861603997\n",
      "probability of observing that point if it came from cluster 0 =  3.975656547383265e-164\n",
      "probability of observing that point if it came from cluster 1 =  0.4490471001412495\n",
      "point =  9.490677786351522\n",
      "probability of observing that point if it came from cluster 0 =  9.74880633102309e-253\n",
      "probability of observing that point if it came from cluster 1 =  0.039275866607428406\n",
      "point =  7.270265942252881\n",
      "probability of observing that point if it came from cluster 0 =  4.403247431616752e-97\n",
      "probability of observing that point if it came from cluster 1 =  0.39339915296847433\n",
      "point =  7.578130450948437\n",
      "probability of observing that point if it came from cluster 0 =  2.726327090779439e-114\n",
      "probability of observing that point if it came from cluster 1 =  0.5219873819572628\n",
      "point =  3.5613384874433383\n",
      "probability of observing that point if it came from cluster 0 =  1.9638515924860556\n",
      "probability of observing that point if it came from cluster 1 =  3.13819188831172e-09\n",
      "point =  3.2130158785226683\n",
      "probability of observing that point if it came from cluster 0 =  0.07454027324795214\n",
      "probability of observing that point if it came from cluster 1 =  1.2832647789454565e-10\n",
      "point =  8.166563875054502\n",
      "probability of observing that point if it came from cluster 0 =  4.239001380017557e-151\n",
      "probability of observing that point if it came from cluster 1 =  0.5225414283834651\n",
      "point =  6.685070547267801\n",
      "probability of observing that point if it came from cluster 0 =  2.961337456853498e-68\n",
      "probability of observing that point if it came from cluster 1 =  0.13464512975082563\n",
      "point =  4.210830965466652\n",
      "probability of observing that point if it came from cluster 0 =  0.013437618757863395\n",
      "probability of observing that point if it came from cluster 1 =  6.274159022904697e-07\n",
      "7.564693234490808\n",
      "Probability of coming from C_1 = 1.361475454658501e-113\n",
      "Probability of coming from C_2 = 1.0\n",
      "\n",
      "8.357196861603997\n",
      "Probability of coming from C_1 = 3.7943743662645765e-164\n",
      "Probability of coming from C_2 = 1.0\n",
      "\n",
      "9.490677786351522\n",
      "Probability of coming from C_1 = 1.0637727991882272e-251\n",
      "Probability of coming from C_2 = 1.0\n",
      "\n",
      "7.270265942252881\n",
      "Probability of coming from C_1 = 4.796924517711636e-97\n",
      "Probability of coming from C_2 = 1.0\n",
      "\n",
      "7.578130450948437\n",
      "Probability of coming from C_1 = 2.238417893680033e-114\n",
      "Probability of coming from C_2 = 1.0\n",
      "\n",
      "3.5613384874433383\n",
      "Probability of coming from C_1 = 0.9999999962713844\n",
      "Probability of coming from C_2 = 3.728615614391653e-09\n",
      "\n",
      "3.2130158785226683\n",
      "Probability of coming from C_1 = 0.9999999959829978\n",
      "Probability of coming from C_2 = 4.017002275022221e-09\n",
      "\n",
      "8.166563875054502\n",
      "Probability of coming from C_1 = 3.4766906095284606e-151\n",
      "Probability of coming from C_2 = 1.0\n",
      "\n",
      "6.685070547267801\n",
      "Probability of coming from C_1 = 9.425848723340122e-68\n",
      "Probability of coming from C_2 = 1.0\n",
      "\n",
      "4.210830965466652\n",
      "Probability of coming from C_1 = 0.9998910661934096\n",
      "Probability of coming from C_2 = 0.00010893380659043865\n",
      "\n"
     ]
    }
   ],
   "source": [
    "from scipy.stats import norm\n",
    "\n",
    "prob_c0_x = [] # P(C_0 | X_i)\n",
    "prob_c1_x = [] # P(C_1 | X_i)\n",
    "prob_x = [] # P(X_i)\n",
    "\n",
    "k = 2\n",
    "\n",
    "for p in data:\n",
    "    print(\"point = \", p)\n",
    "    pdf_i = []\n",
    "\n",
    "    for j in range(k):\n",
    "        # P(X_i | C_j)\n",
    "        pdf_i.append(norm.pdf(p, mean[j], var[j]))\n",
    "        print(\"probability of observing that point if it came from cluster \" + str(j) + \" = \", pdf_i[j])\n",
    "        # P(C_j) already computed\n",
    "        prob_c[j]\n",
    "\n",
    "    # P(X_i) = P(C_0)P(X_i | C_0) + P(C_1)P(X_i | C_1)\n",
    "    prob_x = prob_c[0] * pdf_i[0] + prob_c[1] * pdf_i[1]\n",
    "\n",
    "    # P(C_j | X_i) = P(X_i | C_j)P(C_j) / P(X_i)\n",
    "    prob_c0_x.append(pdf_i[0] * prob_c[0]/ prob_x)\n",
    "    prob_c1_x.append(pdf_i[1] * prob_c[1]/ prob_x)\n",
    "\n",
    "probs = zip(data, prob_c0_x, prob_c1_x)\n",
    "for p in probs:\n",
    "    print(p[0])\n",
    "    print(\"Probability of coming from C_1 = \" + str(p[1]))\n",
    "    print(\"Probability of coming from C_2 = \" + str(p[2]))\n",
    "    print()\n"
   ]
  },
  {
   "cell_type": "markdown",
   "metadata": {},
   "source": [
    "f) Having computed `P(C_j | X_i)`, update the estimates of `mean_j`, `var_j`, and `P(C_j)`. How different are these values from the original ones you got from K means? briefly comment."
   ]
  },
  {
   "cell_type": "code",
   "execution_count": 22,
   "metadata": {},
   "outputs": [
    {
     "name": "stdout",
     "output_type": "stream",
     "text": [
      "P(C_1) = 0.29998910584477917,  P(C_2) = 0.7000108941552208\n",
      "mean_1 = 0.29998910584477917,  mean_2 = 0.7000108941552208\n",
      "var_1 = 0.20998474925066568,  var_2 = 0.20998474925066563\n"
     ]
    }
   ],
   "source": [
    "prob_c = [sum(prob_c0_x)/ len(prob_c0_x), sum(prob_c1_x)/len(prob_c1_x) ]\n",
    "mean = [np.mean(prob_c0_x), np.mean(prob_c1_x)]\n",
    "var = [np.var(prob_c0_x), np.var(prob_c1_x)]\n",
    "\n",
    "print(\"P(C_1) = \" + str(prob_c[0]) + \",  P(C_2) = \" + str(prob_c[1]))\n",
    "print(\"mean_1 = \" + str(mean[0]) + \",  mean_2 = \" + str(mean[1]))\n",
    "print(\"var_1 = \" + str(var[0]) + \",  var_2 = \" + str(var[1]))"
   ]
  },
  {
   "attachments": {},
   "cell_type": "markdown",
   "metadata": {},
   "source": [
    "These updated values are different from the original ones obtained from K-means because they are based on the probability distribution of the data, rather than just the cluster assignments. The updated mean_j values represent the centers of the clusters in the Gaussian mixture model, while the updated var_j values represent the spread of the data in each cluster. The updated P(C_j) values represent the prior probabilities of each cluster."
   ]
  },
  {
   "cell_type": "markdown",
   "metadata": {},
   "source": [
    "g) Update `P(C_j | X_i)`. Comment on any differences or lack thereof you observe."
   ]
  },
  {
   "cell_type": "code",
   "execution_count": 27,
   "metadata": {},
   "outputs": [
    {
     "name": "stdout",
     "output_type": "stream",
     "text": [
      "[6.271205910495445e-29, 4.730361634339807e-32, 0, 9.06534879019313e-28, 5.551481382100406e-29, 3.719048041308592e-13, 8.766191418277058e-12, 2.6668668320515484e-31, 1.832459360943049e-25, 1.0267238431591208e-15] [1.0, 1.0, 0, 1.0, 1.0, 0.9999999999996281, 0.9999999999912338, 1.0, 1.0, 0.999999999999999]\n"
     ]
    }
   ],
   "source": [
    "prob_c0_x = []\n",
    "prob_c1_x = []\n",
    "\n",
    "for p in data:\n",
    "    pdf_i = [norm.pdf(p, mean[j], var[j]) for j in range(k)]\n",
    "    prob_x = prob_c[0] * pdf_i[0] + prob_c[1] * pdf_i[1]\n",
    "    # prob_c0_x.append(pdf_i[0] * prob_c[0] / prob_x)\n",
    "    # prob_c1_x.append(pdf_i[1] * prob_c[1] / prob_x)\n",
    "    if prob_x == 0:\n",
    "        prob_c0_x.append(0)\n",
    "        prob_c1_x.append(0)\n",
    "    else:\n",
    "        prob_c0_x.append(pdf_i[0] * prob_c[0] / prob_x)\n",
    "        prob_c1_x.append(pdf_i[1] * prob_c[1] / prob_x)\n",
    "\n",
    "print(prob_c0_x, prob_c1_x)\n",
    "\n"
   ]
  },
  {
   "attachments": {},
   "cell_type": "markdown",
   "metadata": {},
   "source": [
    "The difference between the original K-means estimates and the updated estimates obtained from soft clustering indicates how well soft clustering algorithm works. If the difference is small, it means that soft clustering is converging towards the correct solution and the estimates are improving. On the other hand, if the difference is large, it may indicate that the algorithm is not converging, or that it is converging towards a suboptimal solution."
   ]
  },
  {
   "cell_type": "markdown",
   "metadata": {},
   "source": [
    "h) Use `P(C_j | X_i)` to create a hard assignment - label each point as belonging to a specific cluster (0 or 1)"
   ]
  },
  {
   "cell_type": "code",
   "execution_count": 29,
   "metadata": {},
   "outputs": [
    {
     "name": "stdout",
     "output_type": "stream",
     "text": [
      "Cluster 1\n"
     ]
    }
   ],
   "source": [
    "if(prob_c0_x > prob_c1_x):\n",
    "    print(\"Cluster 0\")\n",
    "else:\n",
    "    print(\"Cluster 1\")"
   ]
  },
  {
   "cell_type": "markdown",
   "metadata": {},
   "source": [
    "### Clustering Aggregation\n",
    "\n",
    "| Point | C | P |\n",
    "|-------|---|---|\n",
    "| A     | 0 | a |\n",
    "| B     | 0 | b |\n",
    "| C     | 2 | b |\n",
    "| D     | 1 | c |\n",
    "| E     | 1 | d |\n",
    "\n",
    "a) Fill in the following table where for each pair of points determine whether C and P agree or disagree on how to cluster that pair."
   ]
  },
  {
   "attachments": {},
   "cell_type": "markdown",
   "metadata": {},
   "source": [
    "| Pair | Disagreement |\n",
    "|------|--------------|\n",
    "| A  B |      1       |\n",
    "| A  C |      0       |\n",
    "| A  D |      0       |\n",
    "| A  E |      0       |\n",
    "| B  C |      1       |\n",
    "| B  D |      0       |\n",
    "| B  E |      0       |\n",
    "| C  D |      0       |\n",
    "| C  E |      0       |\n",
    "| D  E |      1       |\n"
   ]
  },
  {
   "cell_type": "markdown",
   "metadata": {},
   "source": [
    "As datasets become very large, this process can become computationally challenging.\n",
    "\n",
    "b) Given N points, what is the formula for the number of unique pairs of points one can create?"
   ]
  },
  {
   "attachments": {},
   "cell_type": "markdown",
   "metadata": {},
   "source": [
    "N(N-1)/2"
   ]
  },
  {
   "cell_type": "markdown",
   "metadata": {},
   "source": [
    "Assume that clustering C clusters all points in the same cluster and clustering P clusters points as such:\n",
    "\n",
    "| Point | P |\n",
    "|-------|---|\n",
    "| A     | 0 |\n",
    "| B     | 0 |\n",
    "| C     | 0 |\n",
    "| D     | 1 |\n",
    "| E     | 1 |\n",
    "| F     | 2 |\n",
    "| G     | 2 |\n",
    "| H     | 2 |\n",
    "| I     | 2 |\n",
    "\n",
    "c) What is the maximum number of disagreements there could be for a dataset of this size? (use the formula from b)?"
   ]
  },
  {
   "attachments": {},
   "cell_type": "markdown",
   "metadata": {},
   "source": [
    "There are 9 points in the dataset, maximum number of disagreements is 36"
   ]
  },
  {
   "cell_type": "markdown",
   "metadata": {},
   "source": [
    "d) If we look at cluster 0. There are (3 x 2) / 2 = 3 pairs that agree with C (since all points in C are in the same cluster). For each cluster, determine how many agreements there are. How many total agreements are there? How many disagreements does that mean there are between C and P?"
   ]
  },
  {
   "attachments": {},
   "cell_type": "markdown",
   "metadata": {},
   "source": [
    "For cluster 0, there are (3 x 2) / 2 = 3 pairs that agree with C.\n",
    "\n",
    "For cluster 1, there are (2 x 1) / 2 = 1 pair that agrees with C.\n",
    "\n",
    "For cluster 2, there are (4 x 3) / 2 = 6 pairs that agree with C.\n",
    "\n",
    "The total number of agreements is 3 + 1 + 6 = 10.\n",
    "\n",
    "Since there are 9 points in the dataset, and we have 10 agreements, there must be 9 - 10 = -1 disagreements between C and P. However, a negative number of disagreements doesn't make sense in this context. So we can say that there are actually 0 disagreements between C and P, since all the points in C are in the same cluster in P."
   ]
  },
  {
   "cell_type": "markdown",
   "metadata": {},
   "source": [
    "e) Assuming that filtering the dataset by cluster number is a computationally easy operation, describe an algorithm inspired by the above process that can efficiently compute disagreement distances on large datasets."
   ]
  },
  {
   "attachments": {},
   "cell_type": "markdown",
   "metadata": {},
   "source": [
    "Algo:\n",
    "1. Compute the clusters for the dataset using a clustering algorithm (e.g. k-means or EM).\n",
    "2. For each cluster, identify all pairs of points within that cluster and count the number of pairs that agree with the clustering result (i.e., the number of pairs that are assigned to the same cluster).\n",
    "3. Compute the total number of agreements by summing up the number of agreements for each cluster.\n",
    "4. Compute the total number of disagreements by subtracting the total number of agreements from the total number of point pairs in the dataset (which can be computed using the formula from part (b) of the question).\n",
    "5. Repeat the process for any other clustering results that need to be compared with the original clustering.\n",
    "\n",
    "This algorithm has a time complexity of O(N^2) for step 2, since it requires examining all pairs of points within each cluster. However, if the number of clusters is much smaller than the total number of points (e.g. if the clustering result is very good), then this algorithm can be quite efficient. Additionally, steps 3-5 can be computed in O(1) time once the number of agreements and disagreements have been computed, so the overall time complexity is still quite reasonable."
   ]
  }
 ],
 "metadata": {
  "kernelspec": {
   "display_name": "CS506",
   "language": "python",
   "name": "python3"
  },
  "language_info": {
   "codemirror_mode": {
    "name": "ipython",
    "version": 3
   },
   "file_extension": ".py",
   "mimetype": "text/x-python",
   "name": "python",
   "nbconvert_exporter": "python",
   "pygments_lexer": "ipython3",
   "version": "3.9.16"
  },
  "orig_nbformat": 4,
  "vscode": {
   "interpreter": {
    "hash": "da93aa8044f24be74a204dd2cf0eb4cda582893c87f880f4c24cfa6b398c6212"
   }
  }
 },
 "nbformat": 4,
 "nbformat_minor": 2
}
