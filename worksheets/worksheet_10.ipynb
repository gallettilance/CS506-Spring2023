{
 "cells": [
  {
   "cell_type": "markdown",
   "metadata": {},
   "source": [
    "# Worksheet 10\n",
    "\n",
    "Name: Jiahang Li \n",
    "UID: U00295086\n",
    "\n",
    "### Topics\n",
    "\n",
    "- Introduction to Classification\n",
    "- K Nearest Neighbors\n",
    "\n",
    "### Introduction to Classification\n",
    "\n",
    "a) For the following examples, say whether they are or aren't an example of classification.\n",
    "\n",
    "1. Predicting whether a student will be offered a job after graduating given their GPA.\n",
    "2. Predicting how long it will take (in number of months) for a student to be offered a job after graduating, given their GPA.\n",
    "3. Predicting the number of stars (1-5) a person will assign in their yelp review given the description they wrote in the review.\n",
    "4. Predicting the number of births occuring in a specified minute."
   ]
  },
  {
   "cell_type": "markdown",
   "metadata": {},
   "source": [
    "1. Yes, this is an example of classification because the model is predicting a binary outcome (whether the student will be offered a job or not) based on a single feature (GPA).\n",
    "2. No, this is not an example of classification because the model is predicting a continuous variable (number of months) rather than a binary outcome.\n",
    "3. Yes, this is an example of classification because the model is predicting a discrete variable (number of stars) based on a text input (description of the review).\n",
    "4. No, this is not an example of classification because the model is predicting a count (number of births) rather than a binary or discrete outcome."
   ]
  },
  {
   "cell_type": "markdown",
   "metadata": {},
   "source": [
    "b) Given a dataset, how would you set things up such that you can both learn a model and get an idea of how this model might perform on data it has never seen?"
   ]
  },
  {
   "cell_type": "markdown",
   "metadata": {},
   "source": [
    "Split the dataset into a training set and a test set. \n",
    "\n",
    "Train the model on the training set using a suitable machine learning algorithm and hyperparameters.\n",
    "\n",
    "Evaluate the performance of the model on the test set. \n",
    "\n",
    "If the model's performance on the test set is satisfactory, we can consider the model to be generalizing well to unseen data. If not, we may need to adjust the model's hyperparameters or try a different algorithm.\n",
    "\n",
    "Optionally, we can further improve the model's performance by using cross-validation, which involves splitting the dataset into multiple folds and training the model on each fold while evaluating its performance on the remaining folds."
   ]
  },
  {
   "cell_type": "markdown",
   "metadata": {},
   "source": [
    "c) In your own words, briefly explain:\n",
    "\n",
    "- underfitting\n",
    "- overfitting\n",
    "\n",
    "and what signs to look out for for each."
   ]
  },
  {
   "cell_type": "markdown",
   "metadata": {},
   "source": [
    "Underfitting occurs when a model is too simple to capture the underlying patterns in the data, and as a result, it performs poorly on both the training and test data. This means that the model is not learning enough from the training data and is not able to generalize well to new, unseen data.\n",
    "\n",
    "Overfitting occurs when a model is too complex and captures not only the underlying patterns in the data but also the noise or random fluctuations in the data. This means that the model performs very well on the training data but poorly on the test data. In other words, the model is memorizing the training data instead of learning from it, and as a result, it is not able to generalize well to new, unseen data.\n",
    "\n",
    "Signs of Underfitting:\n",
    "Low accuracy or poor performance on both the training and test data.\n",
    "The model is too simple and has high bias.\n",
    "The model is unable to capture the underlying patterns in the data.\n",
    "\n",
    "Signs of Overfitting:\n",
    "High accuracy on the training data but poor performance on the test data.\n",
    "The model is too complex and has high variance.\n",
    "The model is capturing not only the underlying patterns in the data but also the noise or random fluctuations.\n"
   ]
  },
  {
   "cell_type": "markdown",
   "metadata": {},
   "source": [
    "### K Nearest Neighbors"
   ]
  },
  {
   "cell_type": "code",
   "execution_count": 1,
   "metadata": {},
   "outputs": [],
   "source": [
    "import numpy as np\n",
    "import matplotlib.pyplot as plt\n",
    "\n",
    "data = {\n",
    "    \"Attribute A\" : [3.5, 0, 1, 2.5, 2, 1.5, 2, 3.5, 1, 3, 2, 2, 2.5, 0.5, 0., 10],\n",
    "    \"Attribute B\" : [4, 1.5, 2, 1, 3.5, 2.5, 1, 0, 3, 1.5, 4, 2, 2.5, 0.5, 2.5, 10],\n",
    "    \"Class\" : [1, 0, 1, 0, 1, 0, 1, 0, 1, 0, 1, 0, 0, 1, 1, 0],\n",
    "}"
   ]
  },
  {
   "cell_type": "markdown",
   "metadata": {},
   "source": [
    "a) Plot the data in a 2D plot coloring each scatter point one of two colors depending on its corresponding class."
   ]
  },
  {
   "cell_type": "code",
   "execution_count": 2,
   "metadata": {},
   "outputs": [
    {
     "data": {
      "image/png": "[encoded data removed]",
      "text/plain": [
       "<Figure size 640x480 with 1 Axes>"
      ]
     },
     "metadata": {},
     "output_type": "display_data"
    }
   ],
   "source": [
    "colors = np.array([x for x in 'bgrcmyk'])\n",
    "# Separate the data points based on their class\n",
    "class_0 = np.array([data[\"Attribute A\"][i] for i in range(len(data[\"Class\"])) if data[\"Class\"][i] == 0])\n",
    "class_1 = np.array([data[\"Attribute A\"][i] for i in range(len(data[\"Class\"])) if data[\"Class\"][i] == 1])\n",
    "\n",
    "attr_0 = np.array([data[\"Attribute B\"][i] for i in range(len(data[\"Class\"])) if data[\"Class\"][i] == 0])\n",
    "attr_1 = np.array([data[\"Attribute B\"][i] for i in range(len(data[\"Class\"])) if data[\"Class\"][i] == 1])\n",
    "\n",
    "# Plot the data points\n",
    "plt.scatter(class_0, attr_0, color=colors[0], label=\"Class 0\")\n",
    "plt.scatter(class_1, attr_1, color=colors[1], label=\"Class 1\")\n",
    "plt.show()"
   ]
  },
  {
   "cell_type": "markdown",
   "metadata": {},
   "source": [
    "Outliers are points that lie far from the rest of the data. They are not necessarily invalid points however. Imagine sampling from a Normal Distribution with mean 10 and variance 1. You would expect most points you sample to be in the range [7, 13] but it's entirely possible to see 20 which, on average, should be very far from the rest of the points in the sample (unless we're VERY (un)lucky). These outliers can inhibit our ability to learn general patterns in the data since they are not representative of likely outcomes. They can still be useful in of themselves and can be analyzed in great depth depending on the problem at hand.\n",
    "\n",
    "b) Are there any points in the dataset that could be outliers? If so, please remove them from the dataset."
   ]
  },
  {
   "cell_type": "markdown",
   "metadata": {},
   "source": [
    "（10，10，0）"
   ]
  },
  {
   "cell_type": "code",
   "execution_count": 3,
   "metadata": {},
   "outputs": [
    {
     "name": "stdout",
     "output_type": "stream",
     "text": [
      "{'Attribute A': [3.5, 0, 1, 2.5, 2, 1.5, 2, 3.5, 1, 3, 2, 2, 2.5, 0.5, 0.0], 'Attribute B': [4, 1.5, 2, 1, 3.5, 2.5, 1, 0, 3, 1.5, 4, 2, 2.5, 0.5, 2.5], 'Class': [1, 0, 1, 0, 1, 0, 1, 0, 1, 0, 1, 0, 0, 1, 1]}\n"
     ]
    }
   ],
   "source": [
    "# Calculate z-scores for each attribute\n",
    "z_scores_attr_A = np.abs((data[\"Attribute A\"] - np.mean(data[\"Attribute A\"])) / np.std(data[\"Attribute A\"]))\n",
    "z_scores_attr_B = np.abs((data[\"Attribute B\"] - np.mean(data[\"Attribute B\"])) / np.std(data[\"Attribute B\"]))\n",
    "\n",
    "# Define a threshold for z-scores to identify outliers\n",
    "z_score_threshold = 3\n",
    "\n",
    "# Remove points with z-scores above the threshold for both attributes\n",
    "cleaned_data = {\n",
    "    \"Attribute A\": [],\n",
    "    \"Attribute B\": [],\n",
    "    \"Class\": []\n",
    "}\n",
    "\n",
    "for i in range(len(data[\"Class\"])):\n",
    "    if z_scores_attr_A[i] <= z_score_threshold and z_scores_attr_B[i] <= z_score_threshold:\n",
    "        cleaned_data[\"Attribute A\"].append(data[\"Attribute A\"][i])\n",
    "        cleaned_data[\"Attribute B\"].append(data[\"Attribute B\"][i])\n",
    "        cleaned_data[\"Class\"].append(data[\"Class\"][i])\n",
    "\n",
    "# Print the cleaned data\n",
    "print(cleaned_data)"
   ]
  },
  {
   "cell_type": "markdown",
   "metadata": {},
   "source": [
    "Noise points are points that could be considered invalid under the general trend in the data. These could be the result of actual errors in the data or randomness that we could attribute to oversimplification (for example if missing some information / feature about each point). Considering noise points in our model can often lead to overfitting.\n",
    "\n",
    "c) Are there any points in the dataset that could be noise points?"
   ]
  },
  {
   "cell_type": "code",
   "execution_count": 5,
   "metadata": {},
   "outputs": [
    {
     "name": "stdout",
     "output_type": "stream",
     "text": [
      "{'Attribute A': [3.5, 0.0, 1.0, 2.5, 2.0, 1.5, 2.0, 3.5, 1.0, 3.0, 2.0, 2.0, 2.5, 0.5, 0.0, 10.0], 'Attribute B': [4.0, 1.5, 2.0, 1.0, 3.5, 2.5, 1.0, 0.0, 3.0, 1.5, 4.0, 2.0, 2.5, 0.5, 2.5, 10.0], 'Class': [1, 0, 1, 0, 1, 0, 1, 0, 1, 0, 1, 0, 0, 1, 1, 0]}\n"
     ]
    }
   ],
   "source": [
    "from sklearn.cluster import DBSCAN\n",
    "\n",
    "# Convert the data to a NumPy array\n",
    "X = np.array(list(zip(data[\"Attribute A\"], data[\"Attribute B\"])))\n",
    "\n",
    "# Define the clustering model\n",
    "dbscan = DBSCAN(eps=1.5, min_samples=2)\n",
    "\n",
    "# Fit the model to the data\n",
    "dbscan.fit(X)\n",
    "\n",
    "# Identify the noise points\n",
    "noise_points = X[dbscan.labels_ == -1]\n",
    "\n",
    "# Remove the noise points from the dataset\n",
    "cleaned_data = {\n",
    "    \"Attribute A\": [],\n",
    "    \"Attribute B\": [],\n",
    "    \"Class\": []\n",
    "}\n",
    "\n",
    "for i in range(len(X)):\n",
    "    if not np.array_equal(X[i], noise_points):\n",
    "        cleaned_data[\"Attribute A\"].append(X[i][0])\n",
    "        cleaned_data[\"Attribute B\"].append(X[i][1])\n",
    "        cleaned_data[\"Class\"].append(data[\"Class\"][i])\n",
    "\n",
    "# Print the cleaned data\n",
    "print(cleaned_data)"
   ]
  },
  {
   "cell_type": "code",
   "execution_count": null,
   "metadata": {},
   "outputs": [],
   "source": [
    "（10，10，0）"
   ]
  },
  {
   "cell_type": "markdown",
   "metadata": {},
   "source": [
    "For the following point\n",
    "\n",
    "|  A  |  B  |\n",
    "|-----|-----|\n",
    "| 0.5 |  1  |\n",
    "\n",
    "d) Plot it in a different color along with the rest of the points in the dataset."
   ]
  },
  {
   "cell_type": "code",
   "execution_count": 6,
   "metadata": {},
   "outputs": [
    {
     "data": {
      "image/png": "[encoded data removed]",
      "text/plain": [
       "<Figure size 640x480 with 1 Axes>"
      ]
     },
     "metadata": {},
     "output_type": "display_data"
    }
   ],
   "source": [
    "# Extract the data\n",
    "x = data[\"Attribute A\"]\n",
    "y = data[\"Attribute B\"]\n",
    "colors = np.array([x for x in 'bgrcmyk'])\n",
    "\n",
    "# Plot the scatter plot\n",
    "plt.scatter(x, y, color=colors[data[\"Class\"]].tolist())\n",
    "\n",
    "# Plot the point (0.5, 1) in a different color\n",
    "plt.scatter(0.5, 1, color='orange')\n",
    "\n",
    "# Set the axis labels and title\n",
    "plt.xlabel('Attribute A')\n",
    "plt.ylabel('Attribute B')\n",
    "plt.title('Scatter Plot')\n",
    "\n",
    "# Show the plot\n",
    "plt.show()"
   ]
  },
  {
   "cell_type": "markdown",
   "metadata": {},
   "source": [
    "e) Write a function to compute the Euclidean distance from it to all points in the dataset and pick the 3 closest points to it. In a scatter plot, draw a circle centered around the point with radius the distance of the farthest of the three points."
   ]
  },
  {
   "cell_type": "code",
   "execution_count": 17,
   "metadata": {},
   "outputs": [
    {
     "data": {
      "image/png": "[encoded data removed]",
      "text/plain": [
       "<Figure size 640x480 with 1 Axes>"
      ]
     },
     "metadata": {},
     "output_type": "display_data"
    }
   ],
   "source": [
    "import math\n",
    "\n",
    "def euclidean_distance(p1, p2):\n",
    "    return math.sqrt((p1[0] - p2[0])**2 + (p1[1] - p2[1])**2)\n",
    "\n",
    "def n_closest_to(example, n):\n",
    "    # Extract the data\n",
    "    x = data[\"Attribute A\"]\n",
    "    y = data[\"Attribute B\"]\n",
    "    \n",
    "    # Compute the distances from the example point to all points in the dataset\n",
    "\n",
    "    distances = np.sqrt((np.array(x) - example[0])**2 + (np.array(y) - example[1])**2)\n",
    "    \n",
    "    # Get the indices of the n closest points\n",
    "    closest_indices = distances.argsort()[:n]\n",
    "    \n",
    "    # Return the n closest points\n",
    "\n",
    "    return [(x[i], y[i]) for i in closest_indices], closest_indices\n",
    "\n",
    "# Define the example point\n",
    "example = (0.5, 1)\n",
    "\n",
    "# Get the 3 closest points to the example point\n",
    "closest_points,_ = n_closest_to(example, 3)\n",
    "\n",
    "# Compute the radius of the circle\n",
    "radius = max(np.sqrt((p[0]-example[0])**2 + (p[1]-example[1])**2) for p in closest_points)\n",
    "\n",
    "# Plot the scatter plot with the circle\n",
    "fig, ax = plt.subplots()\n",
    "ax.scatter(data[\"Attribute A\"], data[\"Attribute B\"], color=colors[data[\"Class\"]].tolist())\n",
    "ax.scatter(0.5, 1, color='orange')\n",
    "cir = plt.Circle(example, radius, fill=False, alpha=0.8)\n",
    "ax.add_patch(cir)\n",
    "ax.set_aspect('equal')\n",
    "plt.show()\n"
   ]
  },
  {
   "cell_type": "markdown",
   "metadata": {},
   "source": [
    "f) Write a function that takes the three points returned by your function in e) and returns the class that the majority of points have (break ties with a deterministic default class of your choosing). Print the class assigned to this new point by your function."
   ]
  },
  {
   "cell_type": "code",
   "execution_count": 22,
   "metadata": {},
   "outputs": [
    {
     "name": "stdout",
     "output_type": "stream",
     "text": [
      "Class assigned to new point: 1\n"
     ]
    }
   ],
   "source": [
    "def majority(points):\n",
    "    count = {0: 0, 1: 0}  # count the number of points in each class\n",
    "    for point in points:\n",
    "\n",
    "        count[data[\"Class\"][point]] += 1\n",
    "    if count[0] > count[1]:\n",
    "        return 0\n",
    "    elif count[0] < count[1]:\n",
    "        return 1\n",
    "    else:  # tie, default to class 0\n",
    "        return 0\n",
    "\n",
    "_,closest_points_indices = n_closest_to((0.5, 1), 3)\n",
    "\n",
    "new_point_class = majority(closest_points_indices)\n",
    "print(\"Class assigned to new point:\", new_point_class)"
   ]
  },
  {
   "cell_type": "markdown",
   "metadata": {},
   "source": [
    "g) Re-using the functions from e) and f), you should be able to assign a class to any new point. In this exercise we will implement Leave-one-out cross validiation in order to evaluate the performance of our model.\n",
    "\n",
    "For each point in the dataset:\n",
    "\n",
    "- consider that point as your test set and the rest of the data as your training set\n",
    "- classify that point using the training set\n",
    "- keep track of whether you were correct with the use of a counter\n",
    "\n",
    "Once you've iterated through the entire dataset, divide the counter by the number of points in the dataset to report an overall testing accuracy."
   ]
  },
  {
   "cell_type": "code",
   "execution_count": 24,
   "metadata": {},
   "outputs": [
    {
     "name": "stdout",
     "output_type": "stream",
     "text": [
      "overall accuracy = 0.625\n"
     ]
    }
   ],
   "source": [
    "\n",
    "def classify_point(point, dataset, k):\n",
    "    distances = []\n",
    "    for i in range(len(dataset[\"Class\"])):\n",
    "        dist = math.sqrt(\n",
    "            (point[\"Attribute A\"] - dataset[\"Attribute A\"][i]) ** 2\n",
    "            + (point[\"Attribute B\"] - dataset[\"Attribute B\"][i]) ** 2\n",
    "        )\n",
    "        distances.append((dist, dataset[\"Class\"][i]))\n",
    "    distances.sort()\n",
    "    k_nearest = [distances[i][1] for i in range(k)]\n",
    "    return max(set(k_nearest), key=k_nearest.count)\n",
    "\n",
    "count = 0\n",
    "for i in range(len(data[\"Class\"])):\n",
    "    actual_class = data[\"Class\"][i]\n",
    "    training_set = {\"Attribute A\": [], \"Attribute B\": [], \"Class\": []}\n",
    "    for j in range(len(data[\"Class\"])):\n",
    "        if j != i:\n",
    "            training_set[\"Attribute A\"].append(data[\"Attribute A\"][j])\n",
    "            training_set[\"Attribute B\"].append(data[\"Attribute B\"][j])\n",
    "            training_set[\"Class\"].append(data[\"Class\"][j])\n",
    "    prediction = classify_point(\n",
    "        {\"Attribute A\": data[\"Attribute A\"][i], \"Attribute B\": data[\"Attribute B\"][i]},\n",
    "        training_set,\n",
    "        k=3,\n",
    "    )\n",
    "    if prediction == actual_class:\n",
    "        count += 1\n",
    "\n",
    "accuracy = count / len(data[\"Class\"])\n",
    "print(\"overall accuracy =\", accuracy)"
   ]
  },
  {
   "cell_type": "code",
   "execution_count": null,
   "metadata": {},
   "outputs": [],
   "source": []
  }
 ],
 "metadata": {
  "interpreter": {
   "hash": "76ca05dc3ea24b2e3b98cdb7774adfbb40773424bf5109b477fd793f623715af"
  },
  "kernelspec": {
   "display_name": "Python 3 (ipykernel)",
   "language": "python",
   "name": "python3"
  },
  "language_info": {
   "codemirror_mode": {
    "name": "ipython",
    "version": 3
   },
   "file_extension": ".py",
   "mimetype": "text/x-python",
   "name": "python",
   "nbconvert_exporter": "python",
   "pygments_lexer": "ipython3",
   "version": "3.7.11"
  }
 },
 "nbformat": 4,
 "nbformat_minor": 2
}
