{
 "cells": [
  {
   "attachments": {},
   "cell_type": "markdown",
   "metadata": {},
   "source": [
    "# Worksheet 03\n",
    "\n",
    "Name: Shivangi\n",
    "UID: U35642613\n",
    "\n",
    "### Topics\n",
    "\n",
    "- Intro to DS\n",
    "\n",
    "### Linear Algebra Review\n",
    "\n",
    "If you need a linear algebra review, please read through the [following pdf](https://github.com/gallettilance/CS506-Spring2023/raw/main/worksheets/lecture_03_linear_algebra_review.pdf) before next class\n",
    "\n",
    "### Intro to Data Science\n",
    "\n",
    "a) what property must a hypothesis have?"
   ]
  },
  {
   "attachments": {},
   "cell_type": "markdown",
   "metadata": {},
   "source": [
    "One of the important properties of hypothesis could be its ability to generalise to new, unseen data, meaning it should make accurate predictions on data it has not been trained on."
   ]
  },
  {
   "cell_type": "markdown",
   "metadata": {},
   "source": [
    "b) what examples would you have wanted to try?"
   ]
  },
  {
   "attachments": {},
   "cell_type": "markdown",
   "metadata": {},
   "source": [
    "We should use both positive and negative examples. So, that our model can learn where the hypothesis will be correct and where it won't be."
   ]
  },
  {
   "cell_type": "markdown",
   "metadata": {},
   "source": [
    "c) Poll 1"
   ]
  },
  {
   "attachments": {},
   "cell_type": "markdown",
   "metadata": {},
   "source": [
    "First option (100, 102, 104)"
   ]
  },
  {
   "cell_type": "markdown",
   "metadata": {},
   "source": [
    "d) Given the hypothesis (x, 2x, 3x), for each of the following, determine whether they are positive or negative examples:\n",
    "\n",
    "- (2, 4, 6)\n",
    "- (6, 8 , 10)\n",
    "- (1, 3, 5)"
   ]
  },
  {
   "attachments": {},
   "cell_type": "markdown",
   "metadata": {},
   "source": [
    "- (2, 4, 6) : positive\n",
    "- (6, 8 , 10) : negative\n",
    "- (1, 3, 5) : negative"
   ]
  },
  {
   "cell_type": "markdown",
   "metadata": {},
   "source": [
    "e) Poll 2"
   ]
  },
  {
   "attachments": {},
   "cell_type": "markdown",
   "metadata": {},
   "source": [
    "Last option (1, 2, 3)"
   ]
  },
  {
   "attachments": {},
   "cell_type": "markdown",
   "metadata": {},
   "source": [
    "f) Describe steps of a Data Science Workflow"
   ]
  },
  {
   "attachments": {},
   "cell_type": "markdown",
   "metadata": {},
   "source": [
    "Data Science workflow comprises of but not limited to the following 4 steps:\n",
    "1. Processing of Data: \n",
    "    * Understanding what kind of data should be used for your hypothesis.\n",
    "    * Clean the data, handle the missing and null values.\n",
    "    * Transform the data into a form that can be explored further.\n",
    "2. Exploration of Data:\n",
    "    * Describe and understand the data.\n",
    "    * Visualize the data to understand which variables might be useful in the model.\n",
    "3. Extraction of Features:\n",
    "    * Extract the features which will be best for your model.\n",
    "    * Transform the features if needed\n",
    "4. Creation of machine learning model:\n",
    "    * Create a model to predict or classify the data.\n",
    "\n",
    "One might have to go back and forth in these steps to actually get a good model. For example, after training the model, one might think that some additional features will enhance the performance of the model. \n",
    "Some steps which were not included here are :\n",
    "* Project Management: This is something that is done before the processing of data starts\n",
    "* Monitoring of the model: This is done after model creation. We monitor our created model and ensure that it is working as expected and might add some new features or variables to enhance the performance of the currect model."
   ]
  },
  {
   "attachments": {},
   "cell_type": "markdown",
   "metadata": {},
   "source": [
    "g) Give a real world example for each of the following data types:\n",
    "\n",
    "- record\n",
    "- graph\n",
    "- image\n",
    "- text"
   ]
  },
  {
   "attachments": {},
   "cell_type": "markdown",
   "metadata": {},
   "source": [
    "- record : Transactional Data\n",
    "- graph : Social Media Graphs\n",
    "- image : Photograph or drawing\n",
    "- text: News article"
   ]
  },
  {
   "attachments": {},
   "cell_type": "markdown",
   "metadata": {},
   "source": [
    "h) Give a real world example of unsupervised learning"
   ]
  },
  {
   "attachments": {},
   "cell_type": "markdown",
   "metadata": {},
   "source": [
    "A real world example of unsupervised learning could be segmentation of customer data based of demographics. This kind of data can help predict patterns for customer journey based on various demographical factors like their age, state, etc."
   ]
  },
  {
   "attachments": {},
   "cell_type": "markdown",
   "metadata": {},
   "source": [
    "i) Give a real world example of supervised learning"
   ]
  },
  {
   "attachments": {},
   "cell_type": "markdown",
   "metadata": {},
   "source": [
    "A very basic real world example of supervised learning would be predicting the temperature based on past data. Another example could be classifying whether an email is spam or not based on the given data."
   ]
  }
 ],
 "metadata": {
  "kernelspec": {
   "display_name": "Python 3",
   "language": "python",
   "name": "python3"
  },
  "language_info": {
   "codemirror_mode": {
    "name": "ipython",
    "version": 3
   },
   "file_extension": ".py",
   "mimetype": "text/x-python",
   "name": "python",
   "nbconvert_exporter": "python",
   "pygments_lexer": "ipython3",
   "version": "3.10.9"
  },
  "orig_nbformat": 4,
  "vscode": {
   "interpreter": {
    "hash": "1842a3ffccb321d30c76971032485993c98b1781f60af9ac96c3c11db5a7c271"
   }
  }
 },
 "nbformat": 4,
 "nbformat_minor": 2
}
