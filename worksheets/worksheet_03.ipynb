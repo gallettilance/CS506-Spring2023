{
  "cells": [
    {
      "cell_type": "markdown",
      "metadata": {
        "id": "88FBHa1yk2v6"
      },
      "source": [
        "# Worksheet 03\n",
        "\n",
        "Name:  Yingjie Ouyang\n",
        "\n",
        "UID: U86074230\n",
        "\n",
        "### Topics\n",
        "\n",
        "- Intro to DS\n",
        "\n",
        "### Linear Algebra Review\n",
        "\n",
        "If you need a linear algebra review, please read through the [following pdf](https://github.com/gallettilance/CS506-Spring2023/raw/main/worksheets/lecture_03_linear_algebra_review.pdf) before next class\n",
        "\n",
        "### Intro to Data Science\n",
        "\n",
        "a) what property must a hypothesis have?"
      ]
    },
    {
      "cell_type": "markdown",
      "metadata": {
        "id": "FxBwajF2k2wA"
      },
      "source": [
        "A hypothesis must be a testable prediction."
      ]
    },
    {
      "cell_type": "markdown",
      "metadata": {
        "id": "OGCKrkeyk2wB"
      },
      "source": [
        "b) what examples would you have wanted to try?"
      ]
    },
    {
      "cell_type": "markdown",
      "metadata": {
        "id": "kwRBcLP7k2wC"
      },
      "source": [
        "(1, 2, 3)\n",
        "\n",
        "(3, 2, 1)\n",
        "\n",
        "(5, 70, 1000)\n",
        "\n",
        "(-3, -7, -11)\n",
        "\n",
        "(-3, -2, -1)"
      ]
    },
    {
      "cell_type": "markdown",
      "metadata": {
        "id": "-M-s7JDjk2wC"
      },
      "source": [
        "c) Poll 1"
      ]
    },
    {
      "cell_type": "markdown",
      "metadata": {
        "id": "ipAcVW93k2wD"
      },
      "source": [
        "c) -> (1, 2, 3)"
      ]
    },
    {
      "cell_type": "markdown",
      "metadata": {
        "id": "r69SYvA2k2wD"
      },
      "source": [
        "d) Given the hypothesis (x, 2x, 3x), for each of the following, determine whether they are positive or negative examples:\n",
        "\n",
        "- (2, 4, 6)\n",
        "- (6, 8 , 10)\n",
        "- (1, 3, 5)"
      ]
    },
    {
      "cell_type": "markdown",
      "metadata": {
        "id": "rWRvm0RYk2wE"
      },
      "source": [
        "- positive\n",
        "- negative\n",
        "- negative"
      ]
    },
    {
      "cell_type": "markdown",
      "metadata": {
        "id": "cI6Cx8bPk2wE"
      },
      "source": [
        "e) Poll 2"
      ]
    },
    {
      "cell_type": "markdown",
      "metadata": {
        "id": "Ym-29IuCk2wF"
      },
      "source": [
        "c) -> (1, 2, 3)"
      ]
    },
    {
      "cell_type": "markdown",
      "metadata": {
        "id": "UzLTlmw4k2wF"
      },
      "source": [
        "f) Describe steps of a Data Science Workflow"
      ]
    },
    {
      "cell_type": "markdown",
      "metadata": {
        "id": "kpR8xhADk2wG"
      },
      "source": [
        "- Process Data - What data should/shouldn't be used? What to do with missing/inconsistent data?\n",
        "- Explore Data - Describe, visualize data. Are there imbalances? How is the data related to what you're trying to predict?\n",
        "- Extract Features - What features are the best features for the task? Are the features provided the best features? Can existing features be transformed?\n",
        "- Create Model - Success depends on work done in previous steps. Is model easy to explain? If model fails, why?"
      ]
    },
    {
      "cell_type": "markdown",
      "metadata": {
        "id": "68x5qHy7k2wG"
      },
      "source": [
        "g) Give a real world example for each of the following data types:\n",
        "\n",
        "- record\n",
        "- graph\n",
        "- image\n",
        "- text"
      ]
    },
    {
      "cell_type": "markdown",
      "metadata": {
        "id": "oWsyqtdxk2wH"
      },
      "source": [
        "- Information about a customer in a bank acc eg. (name, age, balance)\n",
        "- Traffic network\n",
        "- Portraits for facial recognition\n",
        "- Excerpt from a book"
      ]
    },
    {
      "cell_type": "markdown",
      "metadata": {
        "id": "83_Z1EnPk2wI"
      },
      "source": [
        "h) Give a real world example of unsupervised learning"
      ]
    },
    {
      "cell_type": "markdown",
      "metadata": {
        "id": "yAv1Iqxuk2wI"
      },
      "source": [
        "Given a dataset of articles, ask what these articles share in common eg. are they covering the same topics?"
      ]
    },
    {
      "cell_type": "markdown",
      "metadata": {
        "id": "WyO79Pi3k2wJ"
      },
      "source": [
        "i) Give a real world example of supervised learning"
      ]
    },
    {
      "cell_type": "markdown",
      "metadata": {
        "id": "ONhMgTD5k2wJ"
      },
      "source": [
        "Is the frequency of cricket chirps affected by the temperature?"
      ]
    }
  ],
  "metadata": {
    "kernelspec": {
      "display_name": "Python 3",
      "language": "python",
      "name": "python3"
    },
    "language_info": {
      "codemirror_mode": {
        "name": "ipython",
        "version": 3
      },
      "file_extension": ".py",
      "mimetype": "text/x-python",
      "name": "python",
      "nbconvert_exporter": "python",
      "pygments_lexer": "ipython3",
      "version": "3.8.8"
    },
    "vscode": {
      "interpreter": {
        "hash": "e7370f93d1d0cde622a1f8e1c04877d8463912d04d973331ad4851f04de6915a"
      }
    },
    "colab": {
      "provenance": []
    }
  },
  "nbformat": 4,
  "nbformat_minor": 0
}