{
 "cells": [
  {
   "attachments": {},
   "cell_type": "markdown",
   "metadata": {},
   "source": [
    "# Worksheet 06\n",
    "\n",
    "Name:  Lamya alzahrani\n",
    "UID: u57771896\n",
    "\n",
    "### Topics\n",
    "\n",
    "- Density-Based Clustering\n",
    "\n",
    "### Density-Based Clustering\n",
    "\n",
    "Follow along with the live coding of the DBScan algorithm."
   ]
  },
  {
   "cell_type": "code",
   "execution_count": null,
   "metadata": {},
   "outputs": [],
   "source": [
    "import numpy as np\n",
    "import matplotlib.pyplot as plt\n",
    "import sklearn.datasets as datasets\n",
    "\n",
    "centers = [[1, 1], [-1, -1], [1, -1]]\n",
    "X, _ = datasets.make_blobs(n_samples=750, centers=centers, cluster_std=0.4,\n",
    "                            random_state=0)\n",
    "plt.scatter(X[:,0],X[:,1],s=10, alpha=0.8)\n",
    "plt.show()\n",
    "\n",
    "\n",
    "class DBC():\n",
    "\n",
    "    def __init__(self, dataset, min_pts, epsilon):\n",
    "        self.dataset = dataset\n",
    "        self.min_pts = min_pts\n",
    "        self.epsilon = epsilon\n",
    "    \n",
    "\n",
    "    def is_core (self, i):\n",
    "        return True\n",
    "\n",
    "\n",
    "    def do_assign(self, i, assignments, cluster_num):\n",
    "        assignments[i]=cluster_num\n",
    "        neighbors = self.get_unlabled_neighbors(i, assignments) \n",
    "        while neighbors:\n",
    "            next_candidiate= neighbors.pop()\n",
    "            if assignments[i] != 0:\n",
    "                print(\"help\")\n",
    "                continue\n",
    "            assignments[next_candidiate]=cluster_num\n",
    "            if self.is_core(next_candidiate):\n",
    "                neighbors+= self.get_unlabled_neighbors(next_candidiate, assignments)\n",
    "        return assignments\n",
    "\n",
    "\n",
    "    def dbscan(self):\n",
    "        \"\"\"\n",
    "        returns a list of assignments. The index of the\n",
    "        assignment should match the index of the data point\n",
    "        in the dataset.\n",
    "        \"\"\"\n",
    "        assignments = [0 for _ in range(len(self.dataset))]\n",
    "        cluster_num = 1\n",
    "        for i in range(len(self.dataset)):\n",
    "            if assignments[i] != 0:\n",
    "                continue\n",
    "            if self.is_core(i):\n",
    "                aasignments = self.do_assign(i, assignments, cluster_num)\n",
    "\n",
    "            cluster_num += 1\n",
    "        return assignments\n",
    "    \t\n",
    "\n",
    "clustering = DBC(X, 3, .2).dbscan()\n",
    "colors = np.array([x for x in 'bgrcmykbgrcmykbgrcmykbgrcmyk'])\n",
    "colors = np.hstack([colors] * 30)\n",
    "plt.scatter(X[:, 0], X[:, 1], color=colors[clustering].tolist(), s=10, alpha=0.8)\n",
    "plt.show()"
   ]
  }
 ],
 "metadata": {
  "kernelspec": {
   "display_name": "Python 3",
   "language": "python",
   "name": "python3"
  },
  "language_info": {
   "name": "python",
   "version": "3.11.1"
  },
  "orig_nbformat": 4,
  "vscode": {
   "interpreter": {
    "hash": "76ca05dc3ea24b2e3b98cdb7774adfbb40773424bf5109b477fd793f623715af"
   }
  }
 },
 "nbformat": 4,
 "nbformat_minor": 2
}
