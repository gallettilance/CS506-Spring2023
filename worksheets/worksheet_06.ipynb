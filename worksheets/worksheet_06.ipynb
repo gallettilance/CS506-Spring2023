{
 "cells": [
  {
   "cell_type": "markdown",
   "metadata": {},
   "source": [
    "# Worksheet 06\n",
    "\n",
    "Name:  \n",
    "UID: \n",
    "\n",
    "### Topics\n",
    "\n",
    "- Density-Based Clustering\n",
    "\n",
    "### Density-Based Clustering\n",
    "\n",
    "Follow along with the live coding of the DBScan algorithm."
   ]
  },
  {
   "cell_type": "code",
   "execution_count": null,
   "metadata": {},
   "outputs": [],
   "source": [
    "import numpy as np\n",
    "import matplotlib.pyplot as plt\n",
    "import sklearn.datasets as datasets\n",
    "\n",
    "centers = [[1, 1], [-1, -1], [1, -1]]\n",
    "X, _ = datasets.make_blobs(n_samples=750, centers=centers, cluster_std=0.4,\n",
    "                            random_state=0)\n",
    "plt.scatter(X[:,0],X[:,1],s=10, alpha=0.8)\n",
    "plt.show()\n",
    "\n",
    "class DBC():\n",
    "\n",
    "    def __init__(self, dataset, min_pts, epsilon):\n",
    "        self.dataset = dataset\n",
    "        self.min_pts = min_pts\n",
    "        self.epsilon = epsilon\n",
    "\n",
    "    def dbscan(self):\n",
    "        \"\"\"\n",
    "        returns a list of assignments. The index of the\n",
    "        assignment should match the index of the data point\n",
    "        in the dataset.\n",
    "        \"\"\"\n",
    "        return\n",
    "\n",
    "clustering = DBC(X, 3, .2).dbscan()\n",
    "colors = np.array([x for x in 'bgrcmykbgrcmykbgrcmykbgrcmyk'])\n",
    "colors = np.hstack([colors] * 20)\n",
    "plt.scatter(X[:, 0], X[:, 1], color=colors[clustering].tolist(), s=10, alpha=0.8)\n",
    "plt.show()"
   ]
  }
 ],
 "metadata": {
  "kernelspec": {
   "display_name": "Python 3.9.6 64-bit",
   "language": "python",
   "name": "python3"
  },
  "language_info": {
   "name": "python",
   "version": "3.9.6"
  },
  "orig_nbformat": 4,
  "vscode": {
   "interpreter": {
    "hash": "31f2aee4e71d21fbe5cf8b01ff0e069b9275f58929596ceb00d14d90e3e16cd6"
   }
  }
 },
 "nbformat": 4,
 "nbformat_minor": 2
}
