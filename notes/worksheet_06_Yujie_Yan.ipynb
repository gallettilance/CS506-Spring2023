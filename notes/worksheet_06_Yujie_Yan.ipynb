{
 "cells": [
  {
   "cell_type": "markdown",
   "metadata": {
    "pycharm": {
     "name": "#%% md\n"
    }
   },
   "source": [
    "# Worksheet 06\n",
    "\n",
    "Name:  \n",
    "UID: \n",
    "\n",
    "### Topics\n",
    "\n",
    "- Density-Based Clustering\n",
    "\n",
    "### Density-Based Clustering\n",
    "\n",
    "Follow along with the live coding of the DBScan algorithm."
   ]
  },
  {
   "cell_type": "code",
   "execution_count": null,
   "metadata": {
    "pycharm": {
     "name": "#%%\n"
    }
   },
   "outputs": [],
   "source": [
    "import numpy as np\n",
    "import matplotlib.pyplot as plt\n",
    "import sklearn.datasets as datasets\n",
    "\n",
    "centers = [[1, 1], [-1, -1], [1, -1]]\n",
    "X, _ = datasets.make_blobs(n_samples=750, centers=centers, cluster_std=0.4,\n",
    "                           random_state=0)\n",
    "plt.scatter(X[:, 0], X[:, 1], s=10, alpha=0.8)\n",
    "plt.show()\n",
    "\n",
    "\n",
    "class DBC():\n",
    "\n",
    "    def __init__(self, dataset, min_pts, epsilon):\n",
    "        self.dataset = dataset\n",
    "        self.min_pts = min_pts\n",
    "        self.epsilon = epsilon\n",
    "        self.assignments = [0 for _ in range(len(self.dataset))]\n",
    "\n",
    "    def is_core(self, i):\n",
    "        neighbors = []\n",
    "        for j in range(len(self.dataset)):\n",
    "            if i != j and np.linalg.norm(self.dataset[i] - self.dataset[j]) <= self.epsilon:\n",
    "                neighbors.append(j)\n",
    "        return len(neighbors) >= self.min_pts\n",
    "\n",
    "    def get_unlabeled_neighbors(self, i):\n",
    "        neighbors = []\n",
    "        for j in range(len(self.dataset)):\n",
    "            if i != j and self.assignments[j] == 0 and np.linalg.norm(\n",
    "                    self.dataset[i] - self.dataset[j]) <= self.epsilon:\n",
    "                neighbors.append(j)\n",
    "\n",
    "        return neighbors\n",
    "\n",
    "    def dfs_assign(self, i, cluster_num):\n",
    "        self.assignments[i] = cluster_num\n",
    "        neighbors = self.get_unlabeled_neighbors(i)  # this should return a list of indexes\n",
    "\n",
    "        while neighbors:\n",
    "            next_candidate = neighbors.pop()\n",
    "\n",
    "            if self.assignments[next_candidate] != 0:\n",
    "                continue\n",
    "\n",
    "            self.assignments[next_candidate] = cluster_num\n",
    "            if self.is_core(next_candidate):\n",
    "                neighbors += self.get_unlabeled_neighbors(next_candidate)\n",
    "\n",
    "        return\n",
    "\n",
    "    def dbscan(self):\n",
    "        \"\"\"\n",
    "        returns a list of assignments. The index of the\n",
    "        assignment should match the index of the data point\n",
    "        in the dataset.\n",
    "        \"\"\"\n",
    "        assignments = [0 for _ in range(len(self.dataset))]\n",
    "        cluster_num = 1\n",
    "        for i in range(len(self.dataset)):\n",
    "            if self.assignments[i] != 0:\n",
    "                # already assigned to a cluster - no need to re-evaluate\n",
    "                continue\n",
    "            if self.is_core(i):\n",
    "                self.dfs_assign(i, cluster_num)\n",
    "\n",
    "            cluster_num += 1\n",
    "        return self.assignments\n",
    "\n",
    "\n",
    "clustering = DBC(X, 3, .2).dbscan()\n",
    "colors = np.array([x for x in 'bgrcmykbgrcmykbgrcmykbgrcmyk'])\n",
    "colors = np.hstack([colors] * 30)\n",
    "plt.scatter(X[:, 0], X[:, 1], color=colors[clustering].tolist(), s=10, alpha=0.8)\n",
    "plt.show()"
   ]
  }
 ],
 "metadata": {
  "kernelspec": {
   "display_name": "Python 3",
   "language": "python",
   "name": "python3"
  },
  "language_info": {
   "name": "python",
   "version": "3.11.1"
  },
  "orig_nbformat": 4,
  "vscode": {
   "interpreter": {
    "hash": "76ca05dc3ea24b2e3b98cdb7774adfbb40773424bf5109b477fd793f623715af"
   }
  }
 },
 "nbformat": 4,
 "nbformat_minor": 2
}