{
 "cells": [
  {
   "cell_type": "markdown",
   "metadata": {},
   "source": [
    "# Worksheet 03\n",
    "\n",
    "Name: Jonas Raedler <br>\n",
    "UID: U06482163\n",
    "\n",
    "### Topics\n",
    "\n",
    "- Intro to DS\n",
    "\n",
    "### Linear Algebra Review\n",
    "\n",
    "If you need a linear algebra review, please read through the [following pdf](https://github.com/gallettilance/CS506-Spring2023/raw/main/worksheets/lecture_03_linear_algebra_review.pdf) before next class\n",
    "\n",
    "### Intro to Data Science\n",
    "\n",
    "a) what property must a hypothesis have?"
   ]
  },
  {
   "cell_type": "markdown",
   "metadata": {},
   "source": [
    "- it must be falsifiable. A hypothesis must be disprovable; it cannot explain every possible outcome equally well"
   ]
  },
  {
   "cell_type": "markdown",
   "metadata": {},
   "source": [
    "b) what examples would you have wanted to try?"
   ]
  },
  {
   "cell_type": "markdown",
   "metadata": {},
   "source": [
    "- (5, 3, 1) - is it only relevant that there is a difference of two between two elements, or is the direction)\n",
    "- (-5, -3, -1) - are negative values ok?"
   ]
  },
  {
   "cell_type": "markdown",
   "metadata": {},
   "source": [
    "c) Poll 1"
   ]
  },
  {
   "cell_type": "markdown",
   "metadata": {},
   "source": [
    "- a, b, and c. I would have liked to try all examples"
   ]
  },
  {
   "cell_type": "markdown",
   "metadata": {},
   "source": [
    "d) Given the hypothesis (x, 2x, 3x), for each of the following, determine whether they are positive or negative examples:\n",
    "\n",
    "- (2, 4, 6)\n",
    "- (6, 8 , 10) \n",
    "- (1, 3, 5)"
   ]
  },
  {
   "cell_type": "markdown",
   "metadata": {},
   "source": [
    "- (2, 4, 6) - positive example\n",
    "- (6, 8 , 10) - negative example\n",
    "- (1, 3, 5) - negative example"
   ]
  },
  {
   "cell_type": "markdown",
   "metadata": {},
   "source": [
    "e) Poll 2"
   ]
  },
  {
   "cell_type": "markdown",
   "metadata": {},
   "source": [
    "- it is most important to test negative examples, rather than examples that already agree with your hypothesis"
   ]
  },
  {
   "cell_type": "markdown",
   "metadata": {},
   "source": [
    "f) Describe steps of a Data Science Workflow"
   ]
  },
  {
   "cell_type": "markdown",
   "metadata": {},
   "source": [
    "Data Science is an iterative process. It's very difficult: all models are wrong, but some are useful.\n",
    "\n",
    "- First ask what and who the model is used / intended for\n",
    "    - is it just the general trend that is important of the exact predictions that are important?\n",
    "    - is this a problem that needs predictive tools to solve?\n",
    "\n",
    "- Data Processing\n",
    "    - what data should and shouldn't be used for the task?\n",
    "    - what to do with missing / inconsistent data?\n",
    "    - what assumptions are you making with the transformations of the data?\n",
    "    \n",
    "- Exploratory Data Analysis\n",
    "    - become an expert in the data that is available to you!\n",
    "    \n",
    "- Extract Features\n",
    "    - get good features that are relevant for the task at hand\n",
    "    - what other features can be extracted?\n",
    "    - should existing features be transformed?\n",
    "    - are the features provided the best ones to use?\n",
    "\n",
    "- Create Model\n",
    "    - the sucess of this step depends entirely on the work done in previous steps; remember: garbage in, garbage out (it's all about the data)\n",
    "    - is your model easy to explain?\n",
    "    - when your model fails, can you explain why?"
   ]
  },
  {
   "cell_type": "markdown",
   "metadata": {},
   "source": [
    "g) Give a real world example for each of the following data types:\n",
    "\n",
    "- record\n",
    "- graph\n",
    "- image\n",
    "- text"
   ]
  },
  {
   "cell_type": "markdown",
   "metadata": {},
   "source": [
    "- Record: personal information; name, date of birth, email, address (stored as a vector)\n",
    "- Graph: subway maps; bus connections\n",
    "- Image: medical tissue\n",
    "- Text: newspaper entries"
   ]
  },
  {
   "cell_type": "markdown",
   "metadata": {},
   "source": [
    "h) Give a real world example of unsupervised learning"
   ]
  },
  {
   "cell_type": "markdown",
   "metadata": {},
   "source": [
    "- image recommendation (similar images, e.g. in Google Images)\n",
    "- Netflix recommendations"
   ]
  },
  {
   "cell_type": "markdown",
   "metadata": {},
   "source": [
    "i) Give a real world example of supervised learning"
   ]
  },
  {
   "cell_type": "markdown",
   "metadata": {},
   "source": [
    "- Spam Filter in Email Systems\n",
    "- identification of a health condition"
   ]
  }
 ],
 "metadata": {
  "kernelspec": {
   "display_name": "Python 3 (ipykernel)",
   "language": "python",
   "name": "python3"
  },
  "language_info": {
   "codemirror_mode": {
    "name": "ipython",
    "version": 3
   },
   "file_extension": ".py",
   "mimetype": "text/x-python",
   "name": "python",
   "nbconvert_exporter": "python",
   "pygments_lexer": "ipython3",
   "version": "3.10.4"
  },
  "vscode": {
   "interpreter": {
    "hash": "e7370f93d1d0cde622a1f8e1c04877d8463912d04d973331ad4851f04de6915a"
   }
  }
 },
 "nbformat": 4,
 "nbformat_minor": 2
}
