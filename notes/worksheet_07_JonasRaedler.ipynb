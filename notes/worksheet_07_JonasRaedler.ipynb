{
 "cells": [
  {
   "cell_type": "markdown",
   "metadata": {},
   "source": [
    "# Worksheet 07\n",
    "\n",
    "Name: Jonas Raedler <br>\n",
    "UID: U06482163\n",
    "\n",
    "### Topics\n",
    "\n",
    "- Soft Clustering\n",
    "- Clustering Aggregation\n",
    "\n",
    "### Probability Review\n",
    "\n",
    "Read through [the following](https://medium.com/@gallettilance/overview-of-probability-3272b72c82c8)\n",
    "\n",
    "### Soft Clustering\n",
    "\n",
    "We generate 10 data points that come from a normal distribution with mean 5 and variance 1."
   ]
  },
  {
   "cell_type": "code",
   "execution_count": 28,
   "metadata": {},
   "outputs": [
    {
     "name": "stdout",
     "output_type": "stream",
     "text": [
      "[5.0712731466283625, 5.412816920027575, 4.515788342155412, 3.8527043636028493, 6.185782303758408, 3.7977935851258944, 5.136291111989237, 5.882815069278788, 6.332664384422059, 4.49465735036179]\n"
     ]
    }
   ],
   "source": [
    "import random\n",
    "import numpy as np\n",
    "from sklearn.cluster import KMeans\n",
    "\n",
    "mean = 5\n",
    "stdev = 1\n",
    "\n",
    "c1 = np.random.normal(mean, stdev, 10).tolist()\n",
    "print(c1)"
   ]
  },
  {
   "cell_type": "markdown",
   "metadata": {},
   "source": [
    "a) Generate 10 more data points, this time coming from a normal distribution with mean 8 and variance 1."
   ]
  },
  {
   "cell_type": "code",
   "execution_count": 29,
   "metadata": {},
   "outputs": [
    {
     "name": "stdout",
     "output_type": "stream",
     "text": [
      "[7.533603765683934, 7.487827387245159, 7.027810686206974, 7.558514873231687, 6.677467943145357, 8.427601902511444, 8.704332459111278, 5.974540963960693, 5.753920666750248, 7.935965376390275]\n"
     ]
    }
   ],
   "source": [
    "c2 = np.random.normal(8, 1, 10).tolist()\n",
    "print(c2)"
   ]
  },
  {
   "cell_type": "markdown",
   "metadata": {},
   "source": [
    "b) Flip a fair coin 10 times. If the coin lands on H, then pick the last data point of `c1` and remove it from `c1`, if T then pick the last data point from `c2` and remove it from `c2`. Add these 10 points to a list called `data`."
   ]
  },
  {
   "cell_type": "code",
   "execution_count": 30,
   "metadata": {},
   "outputs": [
    {
     "name": "stdout",
     "output_type": "stream",
     "text": [
      "[7.935965376390275, 4.49465735036179, 6.332664384422059, 5.753920666750248, 5.974540963960693, 5.882815069278788, 8.704332459111278, 8.427601902511444, 6.677467943145357, 7.558514873231687]\n"
     ]
    }
   ],
   "source": [
    "data = []\n",
    "for i in range(10):\n",
    "    # flip coin\n",
    "    coin_output = random.choice([0, 1])\n",
    "    if coin_output == 0:\n",
    "        p1 = c1.pop()\n",
    "        data.append(p1)\n",
    "    else:\n",
    "        p2 = c2.pop()\n",
    "        data.append(p2)\n",
    "print(data)"
   ]
  },
  {
   "cell_type": "markdown",
   "metadata": {},
   "source": [
    "c) This `data` is a Gaussian Mixture Distribution with 2 mixture components. Over the next few questions we will walk through the GMM algorithm to see if we can uncover the parameters we used to generate this data. First, please list all these parameters of the GMM that created `data` and the values we know they have."
   ]
  },
  {
   "cell_type": "markdown",
   "metadata": {},
   "source": [
    "- $N_1(\\mu_1, \\sigma_1)$ = $N_1(5, 1)$ as well as $P(C_1) = 0.5$\n",
    "- $N_2(\\mu_2, \\sigma_2)$ = $N_2(8, 1)$ as well as $P(C_2) = 0.5$"
   ]
  },
  {
   "cell_type": "markdown",
   "metadata": {},
   "source": [
    "d) Let's assume there are two mixture components (note: we could plot the data and make the observation that there are two clusters). The EM algorithm asks us to start with a random `mean_j`, `variance_j`, `P(C_j)` for each component j. One method we could use to find sensible values for these is to apply K means with k=2 here.\n",
    "\n",
    "1. the centroids would be the estimates of the `mean_j`\n",
    "2. the intra-cluster variance could be the estimate of `variance_j`\n",
    "3. the proportion of points in each cluster could be the estimate of `P(C_j)`\n",
    "\n",
    "Go through this process and list the parameter estimates it gives. Are they close or far from the true values?"
   ]
  },
  {
   "cell_type": "code",
   "execution_count": 54,
   "metadata": {},
   "outputs": [
    {
     "name": "stdout",
     "output_type": "stream",
     "text": [
      "[4.49465735036179, 6.332664384422059, 5.753920666750248, 5.974540963960693, 5.882815069278788, 6.677467943145357]\n",
      "[7.935965376390275, 8.704332459111278, 8.427601902511444, 7.558514873231687]\n"
     ]
    },
    {
     "name": "stderr",
     "output_type": "stream",
     "text": [
      "C:\\Users\\jonas\\BU Classes\\Spring 2023\\CS 506\\virtualenv\\lib\\site-packages\\sklearn\\cluster\\_kmeans.py:870: FutureWarning: The default value of `n_init` will change from 10 to 'auto' in 1.4. Set the value of `n_init` explicitly to suppress the warning\n",
      "  warnings.warn(\n"
     ]
    }
   ],
   "source": [
    "kmeans = KMeans(2, init='k-means++').fit(X=np.array(data).reshape(-1, 1))\n",
    "\n",
    "c1 = [x[0] for x in filter(lambda x: x[1] == 0, zip(data, kmeans.labels_))]\n",
    "print(c1)\n",
    "c2 = [x[0] for x in filter(lambda x: x[1] == 1, zip(data, kmeans.labels_))]\n",
    "print(c2)"
   ]
  },
  {
   "cell_type": "code",
   "execution_count": 55,
   "metadata": {},
   "outputs": [
    {
     "name": "stdout",
     "output_type": "stream",
     "text": [
      "P(C_1) = 0.6,  P(C_2) = 0.4\n",
      "mean_1 = 5.852677729653156,  mean_2 = 8.156603652811171\n",
      "var_1 = 0.4633995500313719,  var_2 = 0.1949595834681031\n"
     ]
    }
   ],
   "source": [
    "prob_c = [ len(c1) / (len(c1) + len(c2)) , len(c2) / (len(c1) + len(c2)) ]\n",
    "mean = [ sum(c1)/len(c1) , sum(c2)/len(c2) ]\n",
    "var = [ sum(map(lambda x : (x - mean[0])**2, c1)) / len(c1) , sum(map(lambda x : (x - mean[1])**2, c2)) / len(c2) ]\n",
    "\n",
    "print(\"P(C_1) = \" + str(prob_c[0]) + \",  P(C_2) = \" + str(prob_c[1]))\n",
    "print(\"mean_1 = \" + str(mean[0]) + \",  mean_2 = \" + str(mean[1]))\n",
    "print(\"var_1 = \" + str(var[0]) + \",  var_2 = \" + str(var[1]))"
   ]
  },
  {
   "cell_type": "markdown",
   "metadata": {},
   "source": [
    "Relatively close, but they are definitely not the same (variance values are quite lower and means are slightly off)"
   ]
  },
  {
   "cell_type": "markdown",
   "metadata": {},
   "source": [
    "e) For each data point, compute `P(C_j | X_i)`. Comment on which cluster you think each point belongs to based on the estimated probabilities. How does that compare to the truth?"
   ]
  },
  {
   "cell_type": "code",
   "execution_count": 56,
   "metadata": {},
   "outputs": [
    {
     "name": "stdout",
     "output_type": "stream",
     "text": [
      "point =  7.935965376390275\n",
      "probability of observing that point if it came from cluster 0 =  3.517199730877786e-05\n",
      "probability of observing that point if it came from cluster 1 =  1.078571439267598\n",
      "point =  4.49465735036179\n",
      "probability of observing that point if it came from cluster 0 =  0.011750434286021162\n",
      "probability of observing that point if it came from cluster 1 =  5.015646277039594e-77\n",
      "point =  6.332664384422059\n",
      "probability of observing that point if it came from cluster 0 =  0.5034817037886563\n",
      "probability of observing that point if it came from cluster 1 =  2.019190230773357e-19\n",
      "point =  5.753920666750248\n",
      "probability of observing that point if it came from cluster 0 =  0.8415736524068527\n",
      "probability of observing that point if it came from cluster 1 =  2.1399368291876016e-33\n",
      "point =  5.974540963960693\n",
      "probability of observing that point if it came from cluster 0 =  0.831643646737429\n",
      "probability of observing that point if it came from cluster 1 =  1.2854163080355319e-27\n",
      "point =  5.882815069278788\n",
      "probability of observing that point if it came from cluster 0 =  0.8590847575404755\n",
      "probability of observing that point if it came from cluster 1 =  5.943455043725358e-30\n",
      "point =  8.704332459111278\n",
      "probability of observing that point if it came from cluster 0 =  5.1502432931287476e-09\n",
      "probability of observing that point if it came from cluster 1 =  0.03953873402468345\n",
      "point =  8.427601902511444\n",
      "probability of observing that point if it came from cluster 0 =  1.699683677866738e-07\n",
      "probability of observing that point if it came from cluster 1 =  0.778756312965139\n",
      "point =  6.677467943145357\n",
      "probability of observing that point if it came from cluster 0 =  0.1766228435097931\n",
      "probability of observing that point if it came from cluster 1 =  6.48328691162367e-13\n",
      "point =  7.558514873231687\n",
      "probability of observing that point if it came from cluster 0 =  0.0009827487950009035\n",
      "probability of observing that point if it came from cluster 1 =  0.018508143861967887\n",
      "7.935965376390275\n",
      "Probability of coming from C_1 = 4.891230522828276e-05\n",
      "Probability of coming from C_2 = 0.9999510876947717\n",
      "\n",
      "4.49465735036179\n",
      "Probability of coming from C_1 = 1.0\n",
      "Probability of coming from C_2 = 2.845651576189786e-75\n",
      "\n",
      "6.332664384422059\n",
      "Probability of coming from C_1 = 1.0\n",
      "Probability of coming from C_2 = 2.67363602368484e-19\n",
      "\n",
      "5.753920666750248\n",
      "Probability of coming from C_1 = 1.0\n",
      "Probability of coming from C_2 = 1.695186807134075e-33\n",
      "\n",
      "5.974540963960693\n",
      "Probability of coming from C_1 = 1.0\n",
      "Probability of coming from C_2 = 1.030422355438952e-27\n",
      "\n",
      "5.882815069278788\n",
      "Probability of coming from C_1 = 1.0\n",
      "Probability of coming from C_2 = 4.6122379982942365e-30\n",
      "\n",
      "8.704332459111278\n",
      "Probability of coming from C_1 = 1.9538722270249446e-07\n",
      "Probability of coming from C_2 = 0.9999998046127773\n",
      "\n",
      "8.427601902511444\n",
      "Probability of coming from C_1 = 3.2738414311127504e-07\n",
      "Probability of coming from C_2 = 0.9999996726158569\n",
      "\n",
      "6.677467943145357\n",
      "Probability of coming from C_1 = 0.9999999999975528\n",
      "Probability of coming from C_2 = 2.4471303872794652e-12\n",
      "\n",
      "7.558514873231687\n",
      "Probability of coming from C_1 = 0.07377156898579494\n",
      "Probability of coming from C_2 = 0.926228431014205\n",
      "\n"
     ]
    }
   ],
   "source": [
    "from scipy.stats import norm\n",
    "\n",
    "prob_c0_x = [] # P(C_0 | X_i)\n",
    "prob_c1_x = [] # P(C_1 | X_i)\n",
    "prob_x = [] # P(X_i)\n",
    "\n",
    "k = 2\n",
    "\n",
    "for p in data:\n",
    "    print(\"point = \", p)\n",
    "    pdf_i = []\n",
    "\n",
    "    for j in range(k):\n",
    "        # P(X_i | C_j)\n",
    "        pdf_i.append(norm.pdf(p, mean[j], var[j]))\n",
    "        print(\"probability of observing that point if it came from cluster \" + str(j) + \" = \", pdf_i[j])\n",
    "        # P(C_j) already computed\n",
    "        prob_c[j]\n",
    "\n",
    "    # P(X_i) = P(C_0)P(X_i | C_0) + P(C_1)P(X_i | C_1)\n",
    "    prob_x = prob_c[0] * pdf_i[0] + prob_c[1] * pdf_i[1]\n",
    "\n",
    "    # P(C_j | X_i) = P(X_i | C_j)P(C_j) / P(X_i)\n",
    "    prob_c0_x.append( pdf_i[0] * prob_c[0] / prob_x)\n",
    "    prob_c1_x.append( pdf_i[1] * prob_c[1] / prob_x )\n",
    "\n",
    "probs = zip(data, prob_c0_x, prob_c1_x)\n",
    "for p in probs:\n",
    "    print(p[0])\n",
    "    print(\"Probability of coming from C_1 = \" + str(p[1]))\n",
    "    print(\"Probability of coming from C_2 = \" + str(p[2]))\n",
    "    print()\n"
   ]
  },
  {
   "cell_type": "markdown",
   "metadata": {},
   "source": [
    "These values make sense! This is what I would've expected."
   ]
  },
  {
   "cell_type": "markdown",
   "metadata": {},
   "source": [
    "f) Having computed `P(C_j | X_i)`, update the estimates of `mean_j`, `var_j`, and `P(C_j)`. How different are these values from the original ones you got from K means? briefly comment."
   ]
  },
  {
   "cell_type": "code",
   "execution_count": 57,
   "metadata": {
    "scrolled": true
   },
   "outputs": [
    {
     "name": "stdout",
     "output_type": "stream",
     "text": [
      "P(C_1) = 0.6073821004059943,  P(C_2) = 0.3926178995940058\n",
      "mean_1 = 5.87341353681595,  mean_2 = 8.167844236567381\n",
      "var_1 = 0.4927159028629166,  var_2 = 0.19177703143389854\n"
     ]
    }
   ],
   "source": [
    "prob_c = [sum(prob_c0_x)/ len(prob_c0_x), sum(prob_c1_x)/ len(prob_c1_x) ]\n",
    "mean = [sum([x[0] * x[1] for x in zip(prob_c0_x, data)]) / sum(prob_c0_x), \n",
    "        sum([x[0] * x[1] for x in zip(prob_c1_x, data)]) / sum(prob_c1_x) ]\n",
    "var = [ sum(prob_c0_x * (data - mean[0])**2) / sum(prob_c0_x) , sum(prob_c1_x * (data - mean[1])**2) / sum(prob_c1_x) ]\n",
    "\n",
    "print(\"P(C_1) = \" + str(prob_c[0]) + \",  P(C_2) = \" + str(prob_c[1]))\n",
    "print(\"mean_1 = \" + str(mean[0]) + \",  mean_2 = \" + str(mean[1]))\n",
    "print(\"var_1 = \" + str(var[0]) + \",  var_2 = \" + str(var[1]))"
   ]
  },
  {
   "cell_type": "markdown",
   "metadata": {},
   "source": [
    "These values are very similar to the values from the last step (see below). The variance of the second component has gotten a bit closer to the original value."
   ]
  },
  {
   "cell_type": "code",
   "execution_count": 58,
   "metadata": {},
   "outputs": [],
   "source": [
    "# Values from previous step\n",
    "# P(C_1) = 0.6,  P(C_2) = 0.4\n",
    "# mean_1 = 5.852677729653156,  mean_2 = 8.156603652811171\n",
    "# var_1 = 0.4633995500313719,  var_2 = 0.1949595834681031"
   ]
  },
  {
   "cell_type": "markdown",
   "metadata": {},
   "source": [
    "g) Update `P(C_j | X_i)`. Comment on any differences or lack thereof you observe."
   ]
  },
  {
   "cell_type": "code",
   "execution_count": 59,
   "metadata": {},
   "outputs": [
    {
     "name": "stdout",
     "output_type": "stream",
     "text": [
      "point =  7.935965376390275\n",
      "probability of observing that point if it came from cluster 0 =  0.0001268151658795431\n",
      "probability of observing that point if it came from cluster 1 =  1.0015151947507752\n",
      "point =  4.49465735036179\n",
      "probability of observing that point if it came from cluster 0 =  0.016142551595013148\n",
      "probability of observing that point if it came from cluster 1 =  4.537863756501824e-80\n",
      "point =  6.332664384422059\n",
      "probability of observing that point if it came from cluster 0 =  0.5243987249524543\n",
      "probability of observing that point if it came from cluster 1 =  2.71295785993392e-20\n",
      "point =  5.753920666750248\n",
      "probability of observing that point if it came from cluster 0 =  0.7862160239568046\n",
      "probability of observing that point if it came from cluster 1 =  8.206821383687635e-35\n",
      "point =  5.974540963960693\n",
      "probability of observing that point if it came from cluster 0 =  0.7928044086687696\n",
      "probability of observing that point if it came from cluster 1 =  8.231648321344236e-29\n",
      "point =  5.882815069278788\n",
      "probability of observing that point if it came from cluster 0 =  0.8095327551178377\n",
      "probability of observing that point if it came from cluster 1 =  3.091467907752106e-31\n",
      "point =  8.704332459111278\n",
      "probability of observing that point if it came from cluster 0 =  5.49561153321095e-08\n",
      "probability of observing that point if it came from cluster 1 =  0.04156890984066745\n",
      "point =  8.427601902511444\n",
      "probability of observing that point if it came from cluster 0 =  1.1829387631860104e-06\n",
      "probability of observing that point if it came from cluster 1 =  0.831252858474197\n",
      "point =  6.677467943145357\n",
      "probability of observing that point if it came from cluster 0 =  0.21381672171331495\n",
      "probability of observing that point if it came from cluster 1 =  1.597994773535361e-13\n",
      "point =  7.558514873231687\n",
      "probability of observing that point if it came from cluster 0 =  0.0023357882173245755\n",
      "probability of observing that point if it came from cluster 1 =  0.013365595584594136\n",
      "7.935965376390275\n",
      "Probability of coming from C_1 = 0.0001958486042617108\n",
      "Probability of coming from C_2 = 0.9998041513957383\n",
      "\n",
      "4.49465735036179\n",
      "Probability of coming from C_1 = 1.0\n",
      "Probability of coming from C_2 = 1.8171357626240362e-78\n",
      "\n",
      "6.332664384422059\n",
      "Probability of coming from C_1 = 1.0\n",
      "Probability of coming from C_2 = 3.3441790910402467e-20\n",
      "\n",
      "5.753920666750248\n",
      "Probability of coming from C_1 = 1.0\n",
      "Probability of coming from C_2 = 6.747473641288986e-35\n",
      "\n",
      "5.974540963960693\n",
      "Probability of coming from C_1 = 1.0\n",
      "Probability of coming from C_2 = 6.711643151918532e-29\n",
      "\n",
      "5.882815069278788\n",
      "Probability of coming from C_1 = 1.0\n",
      "Probability of coming from C_2 = 2.468530076404364e-31\n",
      "\n",
      "8.704332459111278\n",
      "Probability of coming from C_1 = 2.045212303383909e-06\n",
      "Probability of coming from C_2 = 0.9999979547876966\n",
      "\n",
      "8.427601902511444\n",
      "Probability of coming from C_1 = 2.201506890507117e-06\n",
      "Probability of coming from C_2 = 0.9999977984931095\n",
      "\n",
      "6.677467943145357\n",
      "Probability of coming from C_1 = 0.9999999999995169\n",
      "Probability of coming from C_2 = 4.831052913838568e-13\n",
      "\n",
      "7.558514873231687\n",
      "Probability of coming from C_1 = 0.21281948057804095\n",
      "Probability of coming from C_2 = 0.7871805194219591\n",
      "\n"
     ]
    }
   ],
   "source": [
    "from scipy.stats import norm\n",
    "\n",
    "prob_c0_x = [] # P(C_0 | X_i)\n",
    "prob_c1_x = [] # P(C_1 | X_i)\n",
    "prob_x = [] # P(X_i)\n",
    "\n",
    "k = 2\n",
    "\n",
    "for p in data:\n",
    "    print(\"point = \", p)\n",
    "    pdf_i = []\n",
    "\n",
    "    for j in range(k):\n",
    "        # P(X_i | C_j)\n",
    "        pdf_i.append(norm.pdf(p, mean[j], var[j]))\n",
    "        print(\"probability of observing that point if it came from cluster \" + str(j) + \" = \", pdf_i[j])\n",
    "        # P(C_j) already computed\n",
    "        prob_c[j]\n",
    "\n",
    "    # P(X_i) = P(C_0)P(X_i | C_0) + P(C_1)P(X_i | C_1)\n",
    "    prob_x = prob_c[0] * pdf_i[0] + prob_c[1] * pdf_i[1]\n",
    "\n",
    "    # P(C_j | X_i) = P(X_i | C_j)P(C_j) / P(X_i)\n",
    "    prob_c0_x.append( pdf_i[0] * prob_c[0] / prob_x)\n",
    "    prob_c1_x.append( pdf_i[1] * prob_c[1] / prob_x )\n",
    "\n",
    "probs = zip(data, prob_c0_x, prob_c1_x)\n",
    "for p in probs:\n",
    "    print(p[0])\n",
    "    print(\"Probability of coming from C_1 = \" + str(p[1]))\n",
    "    print(\"Probability of coming from C_2 = \" + str(p[2]))\n",
    "    print()\n"
   ]
  },
  {
   "cell_type": "markdown",
   "metadata": {},
   "source": [
    "The most noticable difference is for the last point, 7.55. The confidence that this point belongs to cluster 2 has gone down quite a bit. Given that it is somewhat close to cluster 1, it makes sense that the probability of it belonging to cluster 2 is not immensely high."
   ]
  },
  {
   "cell_type": "markdown",
   "metadata": {},
   "source": [
    "h) Use `P(C_j | X_i)` to create a hard assignment - label each point as belonging to a specific cluster (0 or 1)"
   ]
  },
  {
   "cell_type": "code",
   "execution_count": 71,
   "metadata": {},
   "outputs": [
    {
     "name": "stdout",
     "output_type": "stream",
     "text": [
      "[1 0 0 0 0 0 1 1 0 1]\n"
     ]
    }
   ],
   "source": [
    "labels = np.argmax(np.array([prob_c0_x, prob_c1_x]), axis=0)\n",
    "print(labels)"
   ]
  },
  {
   "cell_type": "markdown",
   "metadata": {},
   "source": [
    "### Clustering Aggregation\n",
    "\n",
    "| Point | C | P |\n",
    "|-------|---|---|\n",
    "| A     | 0 | a |\n",
    "| B     | 0 | b |\n",
    "| C     | 2 | b |\n",
    "| D     | 1 | c |\n",
    "| E     | 1 | d |\n",
    "\n",
    "a) Fill in the following table where for each pair of points determine whether C and P agree or disagree on how to cluster that pair."
   ]
  },
  {
   "cell_type": "markdown",
   "metadata": {},
   "source": [
    "| Pair | Disagreement |\n",
    "|------|--------------|\n",
    "| A  B |      ?       |\n",
    "| A  C |      ?       |\n",
    "| A  D |      ?       |\n",
    "| A  E |      ?       |\n",
    "| B  C |      ?       |\n",
    "| B  D |      ?       |\n",
    "| B  E |      ?       |\n",
    "| C  D |      ?       |\n",
    "| C  E |      ?       |\n",
    "| D  E |      ?       |\n"
   ]
  },
  {
   "cell_type": "markdown",
   "metadata": {},
   "source": [
    "As datasets become very large, this process can become computationally challenging.\n",
    "\n",
    "b) Given N points, what is the formula for the number of unique pairs of points one can create?"
   ]
  },
  {
   "cell_type": "markdown",
   "metadata": {},
   "source": []
  },
  {
   "cell_type": "markdown",
   "metadata": {},
   "source": [
    "Assume that clustering C clusters all points in the same cluster and clustering P clusters points as such:\n",
    "\n",
    "| Point | P |\n",
    "|-------|---|\n",
    "| A     | 0 |\n",
    "| B     | 0 |\n",
    "| C     | 0 |\n",
    "| D     | 1 |\n",
    "| E     | 1 |\n",
    "| F     | 2 |\n",
    "| G     | 2 |\n",
    "| H     | 2 |\n",
    "| I     | 2 |\n",
    "\n",
    "c) What is the maximum number of disagreements there could be for a dataset of this size? (use the formula from b)?"
   ]
  },
  {
   "cell_type": "markdown",
   "metadata": {},
   "source": []
  },
  {
   "cell_type": "markdown",
   "metadata": {},
   "source": [
    "d) If we look at cluster 0. There are (3 x 2) / 2 = 3 pairs that agree with C (since all points in C are in the same cluster). For each cluster, determine how many agreements there are. How many total agreements are there? How many disagreements does that mean there are between C and P?"
   ]
  },
  {
   "cell_type": "markdown",
   "metadata": {},
   "source": []
  },
  {
   "cell_type": "markdown",
   "metadata": {},
   "source": [
    "e) Assuming that filtering the dataset by cluster number is a computationally easy operation, describe an algorithm inspired by the above process that can efficiently compute disagreement distances on large datasets."
   ]
  },
  {
   "cell_type": "markdown",
   "metadata": {},
   "source": []
  }
 ],
 "metadata": {
  "interpreter": {
   "hash": "76ca05dc3ea24b2e3b98cdb7774adfbb40773424bf5109b477fd793f623715af"
  },
  "kernelspec": {
   "display_name": "Python 3 (ipykernel)",
   "language": "python",
   "name": "python3"
  },
  "language_info": {
   "codemirror_mode": {
    "name": "ipython",
    "version": 3
   },
   "file_extension": ".py",
   "mimetype": "text/x-python",
   "name": "python",
   "nbconvert_exporter": "python",
   "pygments_lexer": "ipython3",
   "version": "3.10.4"
  }
 },
 "nbformat": 4,
 "nbformat_minor": 2
}
