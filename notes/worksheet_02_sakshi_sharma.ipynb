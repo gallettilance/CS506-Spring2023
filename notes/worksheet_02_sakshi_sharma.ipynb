{
 "cells": [
  {
   "cell_type": "markdown",
   "metadata": {},
   "source": [
    "# Worksheet 02\n",
    "\n",
    "Name:  Sakshi Sharma\n",
    "UID: U64516404\n",
    "\n",
    "### Topics\n",
    "\n",
    "- Effective Programming\n",
    "\n",
    "### Effective Programming\n",
    "\n",
    "a) What is a drawback of the top down approach?"
   ]
  },
  {
   "cell_type": "markdown",
   "metadata": {},
   "source": [
    "We cannot test till all the functions are completed. We need to wait till the last. This also leads to increase in debugging space. "
   ]
  },
  {
   "cell_type": "markdown",
   "metadata": {},
   "source": [
    "b) What is a drawback of the bottom up approach?"
   ]
  },
  {
   "cell_type": "markdown",
   "metadata": {},
   "source": [
    "We might not know all the function you need upfront. "
   ]
  },
  {
   "cell_type": "markdown",
   "metadata": {},
   "source": [
    "c) What are 3 things you can do to have a better debugging experience?"
   ]
  },
  {
   "cell_type": "markdown",
   "metadata": {},
   "source": [
    "1. Read the error\n",
    "2. read the code - trace the code to reproduce the error\n",
    "3. sanity check - make sure the versions are okay. Make sure the components that should talk to each other \n",
    "4. look online for some help"
   ]
  },
  {
   "cell_type": "markdown",
   "metadata": {},
   "source": [
    "d) (Optional) Follow along with the live coding. You can write your code here:"
   ]
  },
  {
   "cell_type": "markdown",
   "metadata": {},
   "source": [
    "8 Quuens Puzzle"
   ]
  },
  {
   "cell_type": "code",
   "execution_count": 4,
   "metadata": {},
   "outputs": [
    {
     "name": "stdout",
     "output_type": "stream",
     "text": [
      "Q - - - - - - -\n",
      "- - - - Q - - -\n",
      "- - - - - - - Q\n",
      "- - - - - Q - -\n",
      "- - Q - - - - -\n",
      "- - - - - - Q -\n",
      "- Q - - - - - -\n",
      "- - - Q - - - -\n"
     ]
    }
   ],
   "source": [
    "class Board():\n",
    "    def __init__(self,side=8,number_of_queens=8,queen=\"Q\",blank=\"-\"):\n",
    "        self.side = side\n",
    "        self.board = [['-' for _ in range(self.side)] for _ in range(self.side)]\n",
    "        self.number_of_queens=number_of_queens\n",
    "        self.queen=queen\n",
    "        self.blank=blank\n",
    "    \n",
    "    def __repr__(self):\n",
    "        return \"\\n\".join([\" \".join(row) for row in self.board])\n",
    "    \n",
    "    def set_queen(self,row,col):\n",
    "        self.board[row][col]=self.queen\n",
    "        \n",
    "    def find_queen_on(self,row):\n",
    "        for col in range(self.side):\n",
    "            if self.board[row][col]==self.queen:\n",
    "                return col\n",
    "        raise ValueError(\"no queen found\")\n",
    "        \n",
    "    def unset_queen_on(self,row,col):\n",
    "        self.board[row][col]=self.blank\n",
    "        return\n",
    "    def is_queen(self,row,col):\n",
    "        return self.board[row][col]==self.queen\n",
    "    \n",
    "    def is_valid_row(self,row):\n",
    "        for col in range(self.side):\n",
    "            if self.board[row][col]==self.queen:\n",
    "                return False\n",
    "        return True\n",
    "    \n",
    "    def is_valid_col(self,col):\n",
    "        if col< 0 or col>=self.side:\n",
    "            return False\n",
    "        for row in range(self.side):\n",
    "            if self.board[row][col]==self.queen:\n",
    "                return False\n",
    "        return True\n",
    "    \n",
    "    def is_on_board(self,row,col):\n",
    "        return row>=0 and row<self.side and col>=0 and col<self.side\n",
    "    \n",
    "    def is_valid_diagonal(self,row,col):\n",
    "        for i in range(self.side):\n",
    "            if (self.is_on_board(row-i,col-i) and self.is_queen(row-i,col-i)):\n",
    "                return False\n",
    "            if self.is_on_board(row-i,col+i) and self.is_queen(row-i,col+i):\n",
    "                return False\n",
    "            if self.is_on_board(row+i,col-i) and  self.is_queen(row+i,col-i):\n",
    "                return False\n",
    "            if self.is_on_board(row+i,col+i) and  self.is_queen(row+i,col+i):\n",
    "                return False\n",
    "        return True\n",
    "                \n",
    "            \n",
    "    \n",
    "    def is_valid_move(self,row,col):\n",
    "        #return True\n",
    "        return self.is_valid_row(row) and self.is_valid_col(col) and self.is_valid_diagonal(row,col)\n",
    "    \n",
    "    def search_valid_position(self):\n",
    "        row=0\n",
    "        col=0\n",
    "        count=0\n",
    "        #print(\"enter while\")\n",
    "        while(row<self.side and count<self.number_of_queens):\n",
    "            if self.is_valid_move(row,col):\n",
    "              self.set_queen(row,col)\n",
    "              row+=1\n",
    "              col=0\n",
    "              count+=1\n",
    "            else:\n",
    "              col+=1 \n",
    "              if col>=8:            #backtrack\n",
    "                  col = self.find_queen_on(row-1) + 1   #consider out of bounds error\n",
    "                  self.unset_queen_on(row-1,col-1)\n",
    "                  count-=1  \n",
    "                  #if col>=self.side:\n",
    "                  #      col=0  \n",
    "                  row-=1\n",
    "            #print(self)\n",
    "            if count == self.number_of_queens:\n",
    "              print(self)\n",
    "              return\n",
    "        print(self)\n",
    "                  \n",
    "              \n",
    "\n",
    "board = Board()\n",
    "#print(board)\n",
    "board.search_valid_position()\n"
   ]
  },
  {
   "cell_type": "code",
   "execution_count": null,
   "metadata": {},
   "outputs": [],
   "source": []
  }
 ],
 "metadata": {
  "kernelspec": {
   "display_name": "Python 3 (ipykernel)",
   "language": "python",
   "name": "python3"
  },
  "language_info": {
   "codemirror_mode": {
    "name": "ipython",
    "version": 3
   },
   "file_extension": ".py",
   "mimetype": "text/x-python",
   "name": "python",
   "nbconvert_exporter": "python",
   "pygments_lexer": "ipython3",
   "version": "3.9.12"
  },
  "vscode": {
   "interpreter": {
    "hash": "76ca05dc3ea24b2e3b98cdb7774adfbb40773424bf5109b477fd793f623715af"
   }
  }
 },
 "nbformat": 4,
 "nbformat_minor": 2
}
