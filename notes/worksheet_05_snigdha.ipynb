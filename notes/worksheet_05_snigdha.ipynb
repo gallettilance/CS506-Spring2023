{
 "cells": [
  {
   "attachments": {},
   "cell_type": "markdown",
   "metadata": {},
   "source": [
    "# Worksheet 05\n",
    "\n",
    "Name:  Snigdha Reddy Pulim\n",
    "UID: U13354202\n",
    "\n",
    "### Topics\n",
    "\n",
    "- Kmeans ++\n",
    "- Hierarchical Clustering"
   ]
  },
  {
   "attachments": {},
   "cell_type": "markdown",
   "metadata": {},
   "source": [
    "### Kmeans ++\n",
    "\n",
    "a) What is the difference between K means and K means ++?"
   ]
  },
  {
   "cell_type": "markdown",
   "metadata": {},
   "source": [
    "K means : initialized randomly\n",
    "\n",
    "K means ++ : initialized with a combination of furthest first and random (the probability of being picked is directly proportional to its distance from the current selected centers.)"
   ]
  },
  {
   "attachments": {},
   "cell_type": "markdown",
   "metadata": {},
   "source": [
    "b) What are some limitations of K means ++?"
   ]
  },
  {
   "cell_type": "markdown",
   "metadata": {},
   "source": [
    "-> Clusters with varying density and size\n",
    "\n",
    "-> Does not like non-globular shape -> because we are looking for the centroid (throught mean)"
   ]
  },
  {
   "attachments": {},
   "cell_type": "markdown",
   "metadata": {},
   "source": [
    "c) Interpret the silhouette plot below. It's a histogram where each bar corresponds to the silhouette score for that data point. Comment on which number of clusters K (2,3,4 or 5) you would choose and why. (the red dotted line is the average silhouette score over the entire dataset)."
   ]
  },
  {
   "cell_type": "code",
   "execution_count": null,
   "metadata": {},
   "outputs": [],
   "source": [
    "from IPython.display import Image\n",
    "Image(filename=\"silhouette.png\", width=500, height=500)"
   ]
  },
  {
   "cell_type": "markdown",
   "metadata": {},
   "source": [
    "Would not choose clustering into 4 or 5 clusters because the mean silhouate score of the bottom 2 are lesser\n",
    "\n",
    "For the same reason, will clustor into k=2 number of clusters \n"
   ]
  },
  {
   "attachments": {},
   "cell_type": "markdown",
   "metadata": {},
   "source": [
    "### Hierarchical Clustering\n",
    "\n",
    "Using the following dataset:\n",
    "\n",
    "| Point | x | y |\n",
    "|-------|---|---|\n",
    "| A     | 0 | 0 |\n",
    "| B     | 1 | 1 |\n",
    "| C     | 3 | 0 |\n",
    "| D     | 0 | 1 |\n",
    "| E     | 2 | 2 |\n",
    "\n",
    "with\n",
    "\n",
    "d = Euclidean  \n",
    "D = Single-Link\n",
    "\n",
    "produce the distance matrix at every step of the hierarchical clustering algorithm."
   ]
  },
  {
   "attachments": {},
   "cell_type": "markdown",
   "metadata": {},
   "source": [
    "Step 1\n",
    "\n",
    "|   | A | B | C | D | E |\n",
    "|---|---|---|---|---|---|\n",
    "| A | 0 | √2 | 3 | 1 | √8 |\n",
    "| B | √2 | 0 | √5 | 1 | √2 |\n",
    "| C | 3 | √5 | 0 |√10| √5 |\n",
    "| D | 1 | 1 | √10| 0 | √5 |\n",
    "| E | √8 | √2 | √5 | √5 | 0 |"
   ]
  },
  {
   "cell_type": "markdown",
   "metadata": {},
   "source": [
    "Step 2\n",
    "\n",
    "|   | AD | B | C | E |\n",
    "|---|---|---|---|---|\n",
    "|AD | 0 | 1 | 3 | √5 |\n",
    "| B | 1 | 0 | √5 | √2 |\n",
    "| C | 3 | √5 | 0 | √5 |\n",
    "| E | √5 | √2 | √5 | 0 |"
   ]
  },
  {
   "cell_type": "markdown",
   "metadata": {},
   "source": [
    "Step 3\n",
    "\n",
    "|   | ABD| C | E |\n",
    "|---|---|---|---|\n",
    "|ABD| 0 | √5 | √2 |\n",
    "| C | √5 | 0 | √5 |\n",
    "| E | √2 | √5 | 0 |"
   ]
  },
  {
   "cell_type": "markdown",
   "metadata": {},
   "source": [
    "Step 4\n",
    "\n",
    "|   |ABDE| C |\n",
    "|---|---|---|\n",
    "|ABDE| 0 |√5 |\n",
    "| C |√5 | 0 |"
   ]
  },
  {
   "cell_type": "markdown",
   "metadata": {},
   "source": [
    "Repeat the above with\n",
    "\n",
    "d = Euclidean  \n",
    "D = Complete-Link"
   ]
  },
  {
   "cell_type": "markdown",
   "metadata": {},
   "source": [
    "Step 1\n",
    "\n",
    "|   | A | B | C | D | E |\n",
    "|---|---|---|---|---|---|\n",
    "| A | 0 |√2 | 3 | 1 |√8 |\n",
    "| B |√2 | 0 |√5 | 1 |√2 |\n",
    "| C | 3 |√5 | 0 |√10|√5 |\n",
    "| D | 1 | 1 |√10| 0 |√5 |\n",
    "| E |√8 |√2 |√5 |√5 | 0 |"
   ]
  },
  {
   "cell_type": "markdown",
   "metadata": {},
   "source": [
    "Step 2\n",
    "\n",
    "|   |AD | B | C | E |\n",
    "|---|---|---|---|---|\n",
    "|AD | 0 |√2 |√10|√8 |\n",
    "| B |√2 | 0 |√5 |√2 |\n",
    "| C |√10|√5 | 0 |√5 |\n",
    "| E |√8 |√2 |√5 | 0 |"
   ]
  },
  {
   "cell_type": "markdown",
   "metadata": {},
   "source": [
    "Step 3\n",
    "\n",
    "|   |ABD| C | E |\n",
    "|---|---|---|---|\n",
    "|ABD| 0 | √10| √8 |\n",
    "| C | √10| 0 | √5 |\n",
    "| E | √8 | √5 | 0 |"
   ]
  },
  {
   "cell_type": "markdown",
   "metadata": {},
   "source": [
    "Step 4\n",
    "\n",
    "|   |ABD| CE |\n",
    "|---|---|---|\n",
    "|ABD| 0 | √10|\n",
    "|CE | √10| 0 |"
   ]
  }
 ],
 "metadata": {
  "kernelspec": {
   "display_name": "Python 3.10.7 64-bit",
   "language": "python",
   "name": "python3"
  },
  "language_info": {
   "codemirror_mode": {
    "name": "ipython",
    "version": 3
   },
   "file_extension": ".py",
   "mimetype": "text/x-python",
   "name": "python",
   "nbconvert_exporter": "python",
   "pygments_lexer": "ipython3",
   "version": "3.10.7"
  },
  "orig_nbformat": 4,
  "vscode": {
   "interpreter": {
    "hash": "aee8b7b246df8f9039afb4144a1f6fd8d2ca17a180786b69acc140d282b71a49"
   }
  }
 },
 "nbformat": 4,
 "nbformat_minor": 2
}
