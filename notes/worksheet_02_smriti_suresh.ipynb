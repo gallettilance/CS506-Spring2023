{
 "cells": [
  {
   "attachments": {},
   "cell_type": "markdown",
   "metadata": {},
   "source": [
    "# Worksheet 02\n",
    "\n",
    "Name: Smriti Suresh \n",
    "UID: U83742024\n",
    "\n",
    "### Topics\n",
    "\n",
    "- Effective Programming\n",
    "\n",
    "### Effective Programming\n",
    "\n",
    "a) What is a drawback of the top down approach?"
   ]
  },
  {
   "attachments": {},
   "cell_type": "markdown",
   "metadata": {},
   "source": [
    "One drawback of the top down approach is that it may be difficult to form an idea of how to solve a bigger problem, in case it involves several functions or has a lot of dependencies, debugging may be difficult."
   ]
  },
  {
   "cell_type": "markdown",
   "metadata": {},
   "source": [
    "b) What is a drawback of the bottom up approach?"
   ]
  },
  {
   "attachments": {},
   "cell_type": "markdown",
   "metadata": {},
   "source": [
    "One drawback of the bottom up approach is that implementing all the low level functions first would not allow us to run or visualize the program as a whole during our implementation, but rather would need us to constantly add or update newer functions to be able to run the whole model."
   ]
  },
  {
   "cell_type": "markdown",
   "metadata": {},
   "source": [
    "c) What are 3 things you can do to have a better debugging experience?"
   ]
  },
  {
   "attachments": {},
   "cell_type": "markdown",
   "metadata": {},
   "source": [
    "The 3 things we can do for a better debugging experience :\n",
    "1) Don't panic and READ the error message\n",
    "2) Navigate to the part of the code that may have produced the error and re-read/implement it.\n",
    "3) Keep sanity checks, check if the setup is correct and all syntax is correct.\n",
    "\n",
    "Some extra steps:\n",
    "Look online or ask for help if stuck.\n",
    "Take a break and come back to the error."
   ]
  },
  {
   "cell_type": "code",
   "execution_count": null,
   "metadata": {},
   "outputs": [],
   "source": []
  },
  {
   "attachments": {},
   "cell_type": "markdown",
   "metadata": {},
   "source": [
    "d) (Optional) Follow along with the live coding. You can write your code here:"
   ]
  },
  {
   "cell_type": "code",
   "execution_count": 9,
   "metadata": {},
   "outputs": [
    {
     "name": "stdout",
     "output_type": "stream",
     "text": [
      "- - - - - - - -\n",
      "- - - - - - - -\n",
      "- - - - - - - -\n",
      "- - - - - - - -\n",
      "- - - - - - - -\n",
      "- - - - - - - -\n",
      "- - - - - - - -\n",
      "- - - - - - - -\n",
      "\n"
     ]
    },
    {
     "ename": "TypeError",
     "evalue": "unsupported operand type(s) for +: 'ValueError' and 'int'",
     "output_type": "error",
     "traceback": [
      "\u001b[1;31m---------------------------------------------------------------------------\u001b[0m",
      "\u001b[1;31mTypeError\u001b[0m                                 Traceback (most recent call last)",
      "Cell \u001b[1;32mIn[9], line 90\u001b[0m\n\u001b[0;32m     88\u001b[0m \u001b[39mprint\u001b[39m(board)\n\u001b[0;32m     89\u001b[0m \u001b[39mprint\u001b[39m()\n\u001b[1;32m---> 90\u001b[0m board\u001b[39m.\u001b[39;49msearch()\n",
      "Cell \u001b[1;32mIn[9], line 80\u001b[0m, in \u001b[0;36mBoard.search\u001b[1;34m(self)\u001b[0m\n\u001b[0;32m     77\u001b[0m \u001b[39mif\u001b[39;00m col\u001b[39m>\u001b[39m\u001b[39m=\u001b[39m\u001b[39m8\u001b[39m :\n\u001b[0;32m     78\u001b[0m     \u001b[39m#we need to backtrack\u001b[39;00m\n\u001b[0;32m     79\u001b[0m     \u001b[39mif\u001b[39;00m \u001b[39mself\u001b[39m\u001b[39m.\u001b[39mfind_queen_on(row\u001b[39m-\u001b[39m\u001b[39m1\u001b[39m)\u001b[39m!=\u001b[39m\u001b[39mValueError\u001b[39;00m:\n\u001b[1;32m---> 80\u001b[0m         col \u001b[39m=\u001b[39m \u001b[39mself\u001b[39;49m\u001b[39m.\u001b[39;49mfind_queen_on(row\u001b[39m-\u001b[39;49m\u001b[39m1\u001b[39;49m) \u001b[39m+\u001b[39;49m \u001b[39m1\u001b[39;49m \u001b[39m# could be out of bounds - need to check\u001b[39;00m\n\u001b[0;32m     81\u001b[0m         \u001b[39mself\u001b[39m\u001b[39m.\u001b[39munset_queen_on(row\u001b[39m-\u001b[39m\u001b[39m1\u001b[39m)\n\u001b[0;32m     82\u001b[0m         row \u001b[39m-\u001b[39m\u001b[39m=\u001b[39m \u001b[39m1\u001b[39m\n",
      "\u001b[1;31mTypeError\u001b[0m: unsupported operand type(s) for +: 'ValueError' and 'int'"
     ]
    }
   ],
   "source": [
    "#8 Queens problem\n",
    "\n",
    "class Board():\n",
    "    def __init__(self):\n",
    "        self.queen = \"Q\"\n",
    "        self.blank = \"-\"\n",
    "        self.board = [[\"-\" for _ in range(8)] for _ in range(8)]\n",
    "\n",
    "    def __repr__(self) -> str:\n",
    "        return \"\\n\".join([\" \".join(x) for x in self.board])\n",
    "\n",
    "    def is_queen(self, row, col):\n",
    "        return self.board[row][col] == \"Q\"\n",
    "\n",
    "    def is_valid_row(self, row):\n",
    "        for j in range(8):\n",
    "            if(self.is_queen(row, j)):\n",
    "                return False\n",
    "        return True\n",
    "\n",
    "    def is_valid_col(self, col):\n",
    "        for i in range(8):\n",
    "            if(self.is_queen(i, col)):\n",
    "                return False\n",
    "        return True   \n",
    "\n",
    "    def is_on_board(self, row, col):\n",
    "        return row>=0 and row <8 and col>=0 and col<8\n",
    "\n",
    "    def is_valid_diag(self, row, col):\n",
    "        for i in range(8):\n",
    "            if self.is_on_board(row-i,col-i) and self.is_queen(row-i,col-i):\n",
    "                return False\n",
    "            if self.is_on_board(row+i,col-i) and self.is_queen(row+i,col-i):\n",
    "                return False\n",
    "            if self.is_on_board(row-i,col+i) and self.is_queen(row-i,col+i):\n",
    "                return False\n",
    "            if self.is_on_board(row+i,col+i) and self.is_queen(row+i,col+i):\n",
    "                return False\n",
    "             \n",
    "\n",
    "    def is_valid_move(self,row, col):\n",
    "        # if self.num_queens() > 8:\n",
    "        #     return False\n",
    "        if not self.is_valid_row(row):\n",
    "            return False\n",
    "        if not self.is_valid_col(row):\n",
    "            return False\n",
    "        if not self.is_valid_diag(row, col):\n",
    "            return False        \n",
    "\n",
    "        return True\n",
    "\n",
    "    def set_queen_at(self,row,col):\n",
    "        self.board[row][col] = \"Q\"\n",
    "\n",
    "    def unset_queen_on(self,row):\n",
    "        self.board[row] = [\"-\" for _ in range(8)]\n",
    "\n",
    "    def find_queen_on(self,row):\n",
    "        for col in range(8):\n",
    "            if self.is_queen(row,col):\n",
    "                return col\n",
    "            return ValueError(\"Programmer Error!\")\n",
    "\n",
    "\n",
    "    def search(self):\n",
    "        row=0\n",
    "        col=0\n",
    "        while(row<8):\n",
    "            if self.is_valid_move(row,col):\n",
    "                self.set_queen_at(row, col)\n",
    "                row += 1\n",
    "                col = 0\n",
    "            else:\n",
    "                col += 1\n",
    "                if col>=8 :\n",
    "                    #we need to backtrack\n",
    "                    col = self.find_queen_on(row-1) + 1 # could be out of bounds - need to check\n",
    "                    self.unset_queen_on(row-1)\n",
    "                    row -= 1\n",
    "\n",
    "        # found a solution\n",
    "        print(self)\n",
    "                    \n",
    "board = Board()\n",
    "print(board)\n",
    "print()\n",
    "board.search()"
   ]
  }
 ],
 "metadata": {
  "kernelspec": {
   "display_name": "Python 3",
   "language": "python",
   "name": "python3"
  },
  "language_info": {
   "codemirror_mode": {
    "name": "ipython",
    "version": 3
   },
   "file_extension": ".py",
   "mimetype": "text/x-python",
   "name": "python",
   "nbconvert_exporter": "python",
   "pygments_lexer": "ipython3",
   "version": "3.9.0 (tags/v3.9.0:9cf6752, Oct  5 2020, 15:34:40) [MSC v.1927 64 bit (AMD64)]"
  },
  "orig_nbformat": 4,
  "vscode": {
   "interpreter": {
    "hash": "a35dd61a5f06ddbbe02dbf8cc8984ad09fdd3407289a67dbdb66dd7e982718d7"
   }
  }
 },
 "nbformat": 4,
 "nbformat_minor": 2
}
