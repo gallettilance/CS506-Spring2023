{
 "cells": [
  {
   "cell_type": "markdown",
   "metadata": {},
   "source": [
    "# Worksheet 07\n",
    "\n",
    "Name:  Snigdha Reddy Pulim\n",
    "UID: U13354202\n",
    "\n",
    "### Topics\n",
    "\n",
    "- Soft Clustering\n",
    "- Clustering Aggregation\n",
    "\n",
    "### Probability Review\n",
    "\n",
    "Read through [the following](https://medium.com/@gallettilance/overview-of-probability-3272b72c82c8)\n",
    "\n",
    "### Soft Clustering\n",
    "\n",
    "We generate 10 data points that come from a normal distribution with mean 5 and variance 1."
   ]
  },
  {
   "cell_type": "code",
   "execution_count": 73,
   "metadata": {},
   "outputs": [
    {
     "name": "stdout",
     "output_type": "stream",
     "text": [
      "[4.415627404297768, 6.280586750606992, 6.171577218996841, 5.12023282204205, 6.552524281428266, 3.6194667532487155, 3.6622134806833824, 5.7607090167330695, 5.901381812186325, 3.516122549036929]\n"
     ]
    }
   ],
   "source": [
    "import random\n",
    "import numpy as np\n",
    "from sklearn.cluster import KMeans\n",
    "\n",
    "mean = 5\n",
    "stdev = 1\n",
    "\n",
    "c1 = np.random.normal(mean, stdev, 10).tolist()\n",
    "print(c1)"
   ]
  },
  {
   "cell_type": "markdown",
   "metadata": {},
   "source": [
    "a) Generate 10 more data points, this time coming from a normal distribution with mean 8 and variance 1."
   ]
  },
  {
   "cell_type": "code",
   "execution_count": 74,
   "metadata": {},
   "outputs": [
    {
     "name": "stdout",
     "output_type": "stream",
     "text": [
      "[10.035992935377738, 6.04621102154703, 7.008262836271103, 8.41041753007394, 7.775790968323862, 8.349347829865021, 6.66830122769706, 7.469168927858149, 8.239251673390308, 7.604327590586914]\n"
     ]
    }
   ],
   "source": [
    "c2 = np.random.normal( 8 , 1 , 10 ).tolist()\n",
    "print(c2)"
   ]
  },
  {
   "cell_type": "markdown",
   "metadata": {},
   "source": [
    "b) Flip a fair coin 10 times. If the coin lands on H, then pick the last data point of `c1` and remove it from `c1`, if T then pick the last data point from `c2` and remove it from `c2`. Add these 10 points to a list called `data`."
   ]
  },
  {
   "cell_type": "code",
   "execution_count": 75,
   "metadata": {},
   "outputs": [
    {
     "name": "stdout",
     "output_type": "stream",
     "text": [
      "[3.516122549036929, 7.604327590586914, 8.239251673390308, 7.469168927858149, 6.66830122769706, 8.349347829865021, 7.775790968323862, 5.901381812186325, 8.41041753007394, 7.008262836271103]\n"
     ]
    }
   ],
   "source": [
    "data = []\n",
    "for i in range(10):\n",
    "    # flip coin\n",
    "    coin_output = random.choice([0, 1])\n",
    "    if coin_output == 0:\n",
    "        p1 = c1.pop()\n",
    "        data.append(p1)\n",
    "    else:\n",
    "        p2 = c2.pop()\n",
    "        data.append(p2)\n",
    "print(data)"
   ]
  },
  {
   "cell_type": "markdown",
   "metadata": {},
   "source": [
    "c) This `data` is a Gaussian Mixture Distribution with 2 mixture components. Over the next few questions we will walk through the GMM algorithm to see if we can uncover the parameters we used to generate this data. First, please list all these parameters of the GMM that created `data` and the values we know they have."
   ]
  },
  {
   "cell_type": "markdown",
   "metadata": {},
   "source": [
    "the parameters of this GMM are \n",
    "\n",
    "-> mean, \n",
    "\n",
    "-> standard deviation and \n",
    "\n",
    "-> the probabilities of the clusters "
   ]
  },
  {
   "cell_type": "markdown",
   "metadata": {},
   "source": [
    "d) Let's assume there are two mixture components (note: we could plot the data and make the observation that there are two clusters). The EM algorithm asks us to start with a random `mean_j`, `variance_j`, `P(C_j)` for each component j. One method we could use to find sensible values for these is to apply K means with k=2 here.\n",
    "\n",
    "1. the centroids would be the estimates of the `mean_j`\n",
    "2. the intra-cluster variance could be the estimate of `variance_j`\n",
    "3. the proportion of points in each cluster could be the estimate of `P(C_j)`\n",
    "\n",
    "Go through this process and list the parameter estimates it gives. Are they close or far from the true values?"
   ]
  },
  {
   "cell_type": "code",
   "execution_count": 76,
   "metadata": {},
   "outputs": [
    {
     "name": "stdout",
     "output_type": "stream",
     "text": [
      "[7.604327590586914, 8.239251673390308, 7.469168927858149, 6.66830122769706, 8.349347829865021, 7.775790968323862, 8.41041753007394, 7.008262836271103]\n",
      "[3.516122549036929, 5.901381812186325]\n",
      "P(C_1) = 0.8,  P(C_2) = 0.2\n",
      "mean_1 = 7.690608573008294,  mean_2 = 4.7087521806116275\n",
      "var_1 = 0.3534394465446393,  var_2 = 1.42236543811\n"
     ]
    },
    {
     "name": "stderr",
     "output_type": "stream",
     "text": [
      "/Library/Frameworks/Python.framework/Versions/3.10/lib/python3.10/site-packages/sklearn/cluster/_kmeans.py:870: FutureWarning: The default value of `n_init` will change from 10 to 'auto' in 1.4. Set the value of `n_init` explicitly to suppress the warning\n",
      "  warnings.warn(\n"
     ]
    }
   ],
   "source": [
    "kmeans = KMeans(2, init='k-means++').fit(X=np.array(data).reshape(-1, 1))\n",
    "\n",
    "c1 = [x[0] for x in filter(lambda x: x[1] == 0, zip(data, kmeans.labels_))]\n",
    "print(c1)\n",
    "c2 = [x[0] for x in filter(lambda x: x[1] == 1, zip(data, kmeans.labels_))]\n",
    "print(c2)\n",
    "\n",
    "prob_c = [ len(c1) / (len(c1) + len(c2)) , len(c2) / (len(c1) + len(c2)) ]\n",
    "mean = [ sum(c1)/len(c1) , sum(c2)/len(c2) ]\n",
    "var = [ sum(map(lambda x : (x - mean[0])**2, c1)) / len(c1) , sum(map(lambda x : (x - mean[1])**2, c2)) / len(c2) ]\n",
    "\n",
    "print(\"P(C_1) = \" + str(prob_c[0]) + \",  P(C_2) = \" + str(prob_c[1]))\n",
    "print(\"mean_1 = \" + str(mean[0]) + \",  mean_2 = \" + str(mean[1]))\n",
    "print(\"var_1 = \" + str(var[0]) + \",  var_2 = \" + str(var[1]))"
   ]
  },
  {
   "cell_type": "markdown",
   "metadata": {},
   "source": [
    "-> The mean values resulting from clustering are similar to the initial mean values \n",
    "\n",
    "-> The probabilities of the clusters are incorrect\n",
    "\n",
    "    -- this could be because of the random allocation in 1b \n",
    "\n",
    "    -- or because the data is clustered wrongly\n",
    "\n",
    "-> The variance values of the clusters are also incorrect\n",
    "\n",
    "    -- probably because only parts of the data from the clusters are in the data"
   ]
  },
  {
   "cell_type": "markdown",
   "metadata": {},
   "source": [
    "e) For each data point, compute `P(C_j | X_i)`. Comment on which cluster you think each point belongs to based on the estimated probabilities. How does that compare to the truth?"
   ]
  },
  {
   "cell_type": "code",
   "execution_count": 77,
   "metadata": {},
   "outputs": [
    {
     "name": "stdout",
     "output_type": "stream",
     "text": [
      "point =  3.516122549036929\n",
      "probability of observing that point if it came from cluster 0 =  5.760111648945402e-31\n",
      "probability of observing that point if it came from cluster 1 =  0.19734793864855762\n",
      "point =  7.604327590586914\n",
      "probability of observing that point if it came from cluster 0 =  1.0956061123715897\n",
      "probability of observing that point if it came from cluster 1 =  0.03531697149938029\n",
      "point =  8.239251673390308\n",
      "probability of observing that point if it came from cluster 0 =  0.3383383361376334\n",
      "probability of observing that point if it came from cluster 1 =  0.01288423619748601\n",
      "point =  7.469168927858149\n",
      "probability of observing that point if it came from cluster 0 =  0.9275913663207545\n",
      "probability of observing that point if it came from cluster 1 =  0.042661350033794516\n",
      "point =  6.66830122769706\n",
      "probability of observing that point if it came from cluster 0 =  0.017213857774100328\n",
      "probability of observing that point if it came from cluster 1 =  0.10858239157494308\n",
      "point =  8.349347829865021\n",
      "probability of observing that point if it came from cluster 0 =  0.1987386952292632\n",
      "probability of observing that point if it came from cluster 1 =  0.010600307408856896\n",
      "point =  7.775790968323862\n",
      "probability of observing that point if it came from cluster 0 =  1.0964324623419173\n",
      "probability of observing that point if it came from cluster 1 =  0.027431512620217258\n",
      "point =  5.901381812186325\n",
      "probability of observing that point if it came from cluster 0 =  3.074147619433061e-06\n",
      "probability of observing that point if it came from cluster 1 =  0.19734793864855776\n",
      "point =  8.41041753007394\n",
      "probability of observing that point if it came from cluster 0 =  0.14188595565228615\n",
      "probability of observing that point if it came from cluster 1 =  0.009488369712277471\n",
      "point =  7.008262836271103\n",
      "probability of observing that point if it came from cluster 0 =  0.1750857801496721\n",
      "probability of observing that point if it came from cluster 1 =  0.07591902603383711\n",
      "3.516122549036929\n",
      "Probability of coming from C_1 = 1.1675037881602929e-29\n",
      "Probability of coming from C_2 = 1.0\n",
      "\n",
      "7.604327590586914\n",
      "Probability of coming from C_1 = 0.9920056499161285\n",
      "Probability of coming from C_2 = 0.007994350083871579\n",
      "\n",
      "8.239251673390308\n",
      "Probability of coming from C_1 = 0.9905695492650467\n",
      "Probability of coming from C_2 = 0.00943045073495332\n",
      "\n",
      "7.469168927858149\n",
      "Probability of coming from C_1 = 0.9886328150228808\n",
      "Probability of coming from C_2 = 0.011367184977119128\n",
      "\n",
      "6.66830122769706\n",
      "Probability of coming from C_1 = 0.3880538549209848\n",
      "Probability of coming from C_2 = 0.6119461450790151\n",
      "\n",
      "8.349347829865021\n",
      "Probability of coming from C_1 = 0.986840990067003\n",
      "Probability of coming from C_2 = 0.013159009932996967\n",
      "\n",
      "7.775790968323862\n",
      "Probability of coming from C_1 = 0.9937841582552375\n",
      "Probability of coming from C_2 = 0.006215841744762505\n",
      "\n",
      "5.901381812186325\n",
      "Probability of coming from C_1 = 6.230530918672175e-05\n",
      "Probability of coming from C_2 = 0.9999376946908133\n",
      "\n",
      "8.41041753007394\n",
      "Probability of coming from C_1 = 0.9835566024936921\n",
      "Probability of coming from C_2 = 0.016443397506307935\n",
      "\n",
      "7.008262836271103\n",
      "Probability of coming from C_1 = 0.9021992424038984\n",
      "Probability of coming from C_2 = 0.09780075759610161\n",
      "\n"
     ]
    }
   ],
   "source": [
    "from scipy.stats import norm\n",
    "\n",
    "prob_c0_x = [] # P(C_0 | X_i)\n",
    "prob_c1_x = [] # P(C_1 | X_i)\n",
    "prob_x = [] # P(X_i)\n",
    "\n",
    "k = 2\n",
    "\n",
    "for p in data:\n",
    "    print(\"point = \", p)\n",
    "    pdf_i = []\n",
    "\n",
    "    for j in range(k):\n",
    "        # P(X_i | C_j)\n",
    "        pdf_i.append(norm.pdf(p, mean[j], var[j]))\n",
    "        print(\"probability of observing that point if it came from cluster \" + str(j) + \" = \", pdf_i[j])\n",
    "        # P(C_j) already computed\n",
    "        prob_c[j]\n",
    "\n",
    "    # P(X_i) = P(C_0)P(X_i | C_0) + P(C_1)P(X_i | C_1)\n",
    "    prob_x = prob_c[0] * pdf_i[0] + prob_c[1] * pdf_i[1]\n",
    "\n",
    "    # P(C_j | X_i) = P(X_i | C_j)P(C_j) / P(X_i)\n",
    "    prob_c0_x.append( (pdf_i[0]*prob_c[0])/prob_x )\n",
    "    prob_c1_x.append( (pdf_i[1]*prob_c[1])/prob_x )\n",
    "\n",
    "probs = zip(data, prob_c0_x, prob_c1_x)\n",
    "for p in probs:\n",
    "    print(p[0])\n",
    "    print(\"Probability of coming from C_1 = \" + str(p[1]))\n",
    "    print(\"Probability of coming from C_2 = \" + str(p[2]))\n",
    "    print()\n"
   ]
  },
  {
   "cell_type": "markdown",
   "metadata": {},
   "source": [
    "f) Having computed `P(C_j | X_i)`, update the estimates of `mean_j`, `var_j`, and `P(C_j)`. How different are these values from the original ones you got from K means? briefly comment."
   ]
  },
  {
   "cell_type": "code",
   "execution_count": 78,
   "metadata": {},
   "outputs": [
    {
     "name": "stdout",
     "output_type": "stream",
     "text": [
      "P(C_1) = 0.7225705167654058,  P(C_2) = 0.27742948323459415\n",
      "mean_1 = 7.783224931927657,  mean_2 = 5.299755513444516\n",
      "var_1 = 0.2854968141264747,  var_2 = 1.9723646615910932\n"
     ]
    }
   ],
   "source": [
    "prob_c = [sum(prob_c0_x)/ len(prob_c0_x), sum(prob_c1_x)/ len(prob_c1_x) ]\n",
    "mean = [sum([x[0] * x[1] for x in zip(prob_c0_x, data)]) / sum(prob_c0_x), sum([x[1] * x[0] for x in zip(prob_c1_x, data)]) / sum(prob_c1_x) ]\n",
    "var = [sum([prob_c0_x[i] * (data[i] - mean[0])**2 for i in range(len(data))]) / sum(prob_c0_x), sum([prob_c1_x[i] * (data[i] - mean[1])**2 for i in range(len(data))]) / sum(prob_c1_x)]\n",
    "\n",
    "print(\"P(C_1) = \" + str(prob_c[0]) + \",  P(C_2) = \" + str(prob_c[1]))\n",
    "print(\"mean_1 = \" + str(mean[0]) + \",  mean_2 = \" + str(mean[1]))\n",
    "print(\"var_1 = \" + str(var[0]) + \",  var_2 = \" + str(var[1]))"
   ]
  },
  {
   "cell_type": "markdown",
   "metadata": {},
   "source": [
    "-> These is no significant improvement."
   ]
  },
  {
   "cell_type": "markdown",
   "metadata": {},
   "source": [
    "g) Update `P(C_j | X_i)`. Comment on any differences or lack thereof you observe."
   ]
  },
  {
   "cell_type": "code",
   "execution_count": 79,
   "metadata": {},
   "outputs": [
    {
     "name": "stdout",
     "output_type": "stream",
     "text": [
      "3.516122549036929\n",
      "Probability of coming from C_1 = 8.398178585752477e-48\n",
      "Probability of coming from C_2 = 1.0\n",
      "\n",
      "7.604327590586914\n",
      "Probability of coming from C_1 = 0.966955473205365\n",
      "Probability of coming from C_2 = 0.03304452679463493\n",
      "\n",
      "8.239251673390308\n",
      "Probability of coming from C_1 = 0.9384780522571837\n",
      "Probability of coming from C_2 = 0.061521947742816246\n",
      "\n",
      "7.469168927858149\n",
      "Probability of coming from C_1 = 0.9473431215196518\n",
      "Probability of coming from C_2 = 0.05265687848034821\n",
      "\n",
      "6.66830122769706\n",
      "Probability of coming from C_1 = 0.011045909359274537\n",
      "Probability of coming from C_2 = 0.9889540906407254\n",
      "\n",
      "8.349347829865021\n",
      "Probability of coming from C_1 = 0.8927637347178986\n",
      "Probability of coming from C_2 = 0.1072362652821013\n",
      "\n",
      "7.775790968323862\n",
      "Probability of coming from C_1 = 0.9753407807101162\n",
      "Probability of coming from C_2 = 0.024659219289883783\n",
      "\n",
      "5.901381812186325\n",
      "Probability of coming from C_1 = 6.931438201590821e-09\n",
      "Probability of coming from C_2 = 0.9999999930685618\n",
      "\n",
      "8.41041753007394\n",
      "Probability of coming from C_1 = 0.8482058316776784\n",
      "Probability of coming from C_2 = 0.1517941683223216\n",
      "\n",
      "7.008262836271103\n",
      "Probability of coming from C_1 = 0.3967805719521103\n",
      "Probability of coming from C_2 = 0.6032194280478897\n",
      "\n"
     ]
    }
   ],
   "source": [
    "prob_c0_x = []\n",
    "prob_c1_x = []\n",
    "\n",
    "for p in data:\n",
    "    pdf_i = [norm.pdf(p, mean[j], var[j]) for j in range(k)]\n",
    "    prob_x = prob_c[0] * pdf_i[0] + prob_c[1] * pdf_i[1]\n",
    "\n",
    "    prob_c0_x.append(pdf_i[0] * prob_c[0] / prob_x)\n",
    "    prob_c1_x.append(pdf_i[1] * prob_c[1] / prob_x)\n",
    "\n",
    "probs = zip(data, prob_c0_x, prob_c1_x)\n",
    "for p in probs:\n",
    "    print(p[0])\n",
    "    print(\"Probability of coming from C_1 = \" + str(p[1]))\n",
    "    print(\"Probability of coming from C_2 = \" + str(p[2]))\n",
    "    print()"
   ]
  },
  {
   "cell_type": "markdown",
   "metadata": {},
   "source": [
    "-> The probability of the given data coming from a cluster have changed\n",
    "\n",
    "-> The probability for C_2 has increased and for C_1 has decreated"
   ]
  },
  {
   "cell_type": "markdown",
   "metadata": {},
   "source": [
    "h) Use `P(C_j | X_i)` to create a hard assignment - label each point as belonging to a specific cluster (0 or 1)"
   ]
  },
  {
   "cell_type": "code",
   "execution_count": 81,
   "metadata": {},
   "outputs": [
    {
     "name": "stdout",
     "output_type": "stream",
     "text": [
      "[1, 0, 0, 0, 1, 0, 0, 1, 0, 1]\n"
     ]
    }
   ],
   "source": [
    "cluster = []\n",
    "\n",
    "for i in range(len(data)):\n",
    "    if prob_c0_x[i] > prob_c1_x[i]:\n",
    "        cluster.append(0)\n",
    "    else:\n",
    "        cluster.append(1)\n",
    "\n",
    "print(cluster)"
   ]
  },
  {
   "cell_type": "markdown",
   "metadata": {},
   "source": [
    "### Clustering Aggregation\n",
    "\n",
    "| Point | C | P |\n",
    "|-------|---|---|\n",
    "| A     | 0 | a |\n",
    "| B     | 0 | b |\n",
    "| C     | 2 | b |\n",
    "| D     | 1 | c |\n",
    "| E     | 1 | d |\n",
    "\n",
    "a) Fill in the following table where for each pair of points determine whether C and P agree or disagree on how to cluster that pair."
   ]
  },
  {
   "cell_type": "markdown",
   "metadata": {},
   "source": [
    "disagree - 1\n",
    "agree - 0"
   ]
  },
  {
   "cell_type": "markdown",
   "metadata": {},
   "source": [
    "| Pair | Disagreement |\n",
    "|------|--------------|\n",
    "| A  B |      1       |\n",
    "| A  C |      0       |\n",
    "| A  D |      0       |\n",
    "| A  E |      0       |\n",
    "| B  C |      1       |\n",
    "| B  D |      0       |\n",
    "| B  E |      0       |\n",
    "| C  D |      0       |\n",
    "| C  E |      0       |\n",
    "| D  E |      1       |\n"
   ]
  },
  {
   "cell_type": "markdown",
   "metadata": {},
   "source": [
    "As datasets become very large, this process can become computationally challenging.\n",
    "\n",
    "b) Given N points, what is the formula for the number of unique pairs of points one can create?"
   ]
  },
  {
   "cell_type": "markdown",
   "metadata": {},
   "source": [
    "n(n-1)/2"
   ]
  },
  {
   "cell_type": "markdown",
   "metadata": {},
   "source": [
    "Assume that clustering C clusters all points in the same cluster and clustering P clusters points as such:\n",
    "\n",
    "| Point | P |\n",
    "|-------|---|\n",
    "| A     | 0 |\n",
    "| B     | 0 |\n",
    "| C     | 0 |\n",
    "| D     | 1 |\n",
    "| E     | 1 |\n",
    "| F     | 2 |\n",
    "| G     | 2 |\n",
    "| H     | 2 |\n",
    "| I     | 2 |\n",
    "\n",
    "c) What is the maximum number of disagreements there could be for a dataset of this size? (use the formula from b)?"
   ]
  },
  {
   "cell_type": "markdown",
   "metadata": {},
   "source": [
    "1) A, B, C will be in disagreement with any D-I(6) = 3 * 6 = 18\n",
    "\n",
    "2) D, E will be in disagreement with any F-I (4) = 2 * 4 = 8\n",
    "\n",
    "maximum number of disagreements = 18 + 8 = 26"
   ]
  },
  {
   "cell_type": "markdown",
   "metadata": {},
   "source": [
    "d) If we look at cluster 0. There are (3 x 2) / 2 = 3 pairs that agree with C (since all points in C are in the same cluster). For each cluster, determine how many agreements there are. How many total agreements are there? How many disagreements does that mean there are between C and P?"
   ]
  },
  {
   "cell_type": "markdown",
   "metadata": {},
   "source": [
    "for cluster 1 = (2 x 1)/2 = 1\n",
    "for cluster 2 = (4 x 3)/2 = 6\n",
    "\n",
    "agreements = 3 + 1 + 6 = 10\n",
    "\n",
    "total unique pairs = (9 x 8)/2 = 36\n",
    "\n",
    "disagreements = total - agreements = 36 - 10 = 26"
   ]
  },
  {
   "cell_type": "markdown",
   "metadata": {},
   "source": [
    "e) Assuming that filtering the dataset by cluster number is a computationally easy operation, describe an algorithm inspired by the above process that can efficiently compute disagreement distances on large datasets."
   ]
  },
  {
   "cell_type": "markdown",
   "metadata": {},
   "source": []
  }
 ],
 "metadata": {
  "kernelspec": {
   "display_name": "Python 3.10.7 64-bit",
   "language": "python",
   "name": "python3"
  },
  "language_info": {
   "codemirror_mode": {
    "name": "ipython",
    "version": 3
   },
   "file_extension": ".py",
   "mimetype": "text/x-python",
   "name": "python",
   "nbconvert_exporter": "python",
   "pygments_lexer": "ipython3",
   "version": "3.10.7"
  },
  "orig_nbformat": 4,
  "vscode": {
   "interpreter": {
    "hash": "aee8b7b246df8f9039afb4144a1f6fd8d2ca17a180786b69acc140d282b71a49"
   }
  }
 },
 "nbformat": 4,
 "nbformat_minor": 2
}
