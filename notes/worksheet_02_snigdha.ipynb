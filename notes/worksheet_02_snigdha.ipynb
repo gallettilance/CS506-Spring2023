{
 "cells": [
  {
   "attachments": {},
   "cell_type": "markdown",
   "metadata": {},
   "source": [
    "# Worksheet 02\n",
    "\n",
    "Name:  \n",
    "UID: \n",
    "\n",
    "### Topics\n",
    "\n",
    "- Effective Programming\n",
    "\n",
    "### Effective Programming\n",
    "\n",
    "a) What is a drawback of the top down approach?"
   ]
  },
  {
   "cell_type": "markdown",
   "metadata": {},
   "source": [
    "-> All decisions depend directly or indirectly on the high-level specification of the application which is not pleasant if the specifications change.\n",
    "\n",
    "-> complicates testing because noting executable exists until the very late in the development\n",
    "\n",
    "-> Might not be very reusable because modules may be too specific to the application."
   ]
  },
  {
   "cell_type": "markdown",
   "metadata": {},
   "source": [
    "b) What is a drawback of the bottom up approach?"
   ]
  },
  {
   "cell_type": "markdown",
   "metadata": {},
   "source": [
    "-> not always efficient\n",
    "\n",
    "-> can be difficult to coordinate\n",
    "\n",
    "-> can be time-consuming"
   ]
  },
  {
   "cell_type": "markdown",
   "metadata": {},
   "source": [
    "c) What are 3 things you can do to have a better debugging experience?"
   ]
  },
  {
   "cell_type": "markdown",
   "metadata": {},
   "source": [
    "1) Read the code (re-read if required)\n",
    "2) Sanity check\n",
    "3) Look online for help"
   ]
  },
  {
   "attachments": {},
   "cell_type": "markdown",
   "metadata": {},
   "source": [
    "d) (Optional) Follow along with the live coding. You can write your code here:"
   ]
  },
  {
   "cell_type": "code",
   "execution_count": 1,
   "metadata": {},
   "outputs": [
    {
     "name": "stdout",
     "output_type": "stream",
     "text": [
      "- - - - - - - -\n",
      "- - - - - - - -\n",
      "- - - - - - - -\n",
      "- - - - - - - -\n",
      "- - - - - - - -\n",
      "- - - - - - - -\n",
      "- - - - - - - -\n",
      "- - - - - - - -\n",
      "\n",
      "\n",
      "Q - - - - - - -\n",
      "- - Q - - - - -\n",
      "- Q - - - - - -\n",
      "- - - - - Q - -\n",
      "- - - - - - - Q\n",
      "- - - Q - - - -\n",
      "- - - - - - - -\n",
      "- - - - Q - - -\n"
     ]
    }
   ],
   "source": [
    "class Board():\n",
    "    def __init__(self,size):\n",
    "        self.queen=\"Q\"\n",
    "        self.blank=\"-\"\n",
    "        self.size=size\n",
    "        self.board =[[self.blank for _ in range(size)] for _ in range(size)]\n",
    "\n",
    "    def __repr__(slef):\n",
    "        return \"\\n\".join([\" \".join(x) for x in slef.board])\n",
    "\n",
    "    def is_queen(self,row,col):\n",
    "        return self.board[row][col]==self.queen\n",
    "    \n",
    "    def is_on_board(self,row,col):\n",
    "        return row>=0 and row<8 and col>=0 and col<8\n",
    "\n",
    "    def is_valid_move(self,row,col):\n",
    "        if not self.is_valid_row(row):\n",
    "            return False\n",
    "        if not self.is_valid_col(col):\n",
    "            return False\n",
    "        if not self.is_valid_diag(row,col):\n",
    "            return False\n",
    "        return True\n",
    "\n",
    "    def is_valid_row(self,row):\n",
    "        for j in range(self.size):\n",
    "            if self.is_on_board(row,j) and self.is_queen(row,j):\n",
    "                return False\n",
    "        return True\n",
    "    \n",
    "    def is_valid_col(self,col):\n",
    "        for i in range(self.size):\n",
    "            if self.is_on_board(i,col) and self.is_queen(i,col):\n",
    "                return False\n",
    "        return True\n",
    "\n",
    "    def is_valid_diag(self,row,col):\n",
    "        for i in range(self.size):\n",
    "            if self.is_on_board(row-i,col-i) and self.is_queen(row-i,col-i):\n",
    "                return False\n",
    "        return True\n",
    "\n",
    "    def num_queens():\n",
    "        return True\n",
    "\n",
    "    def set_queen_at(self,row,col):\n",
    "        self.board[row][col]=self.queen\n",
    "    \n",
    "    def find_queen_on(self,row):\n",
    "        print(row)\n",
    "        for col in range(self.size):\n",
    "            if self.is_queen(row,col):\n",
    "                return col\n",
    "        raise ValueError(\"Programer error: queen not found at row :\"+ str(row))\n",
    "   \n",
    "    def unset_queen_on(self,row):\n",
    "        self.board[row]=[\"-\" for _ in range(self.size)]\n",
    "    \n",
    "    def search(self):\n",
    "        r,c=0,0\n",
    "        while r<self.size:\n",
    "            if self.is_valid_move(r,c):\n",
    "                self.set_queen_at(r,c)\n",
    "                r=r+1\n",
    "                c=0\n",
    "            else:\n",
    "                c=c+1\n",
    "                if c>=8:\n",
    "                    #backtrack\n",
    "                    if r>=8:\n",
    "                        c=self.find_queen_on(r-1)+1 # if this is out of range\n",
    "                        self.unset_queen_on(r-1)\n",
    "                        r=r-1\n",
    "                    else:\n",
    "                        r=r+1\n",
    "                        c=0\n",
    "        #solved\n",
    "        print(self)\n",
    "\n",
    "board=Board(8)\n",
    "print(board)\n",
    "print(\"\\n\")\n",
    "board.search()"
   ]
  }
 ],
 "metadata": {
  "kernelspec": {
   "display_name": "Python 3.10.7 64-bit",
   "language": "python",
   "name": "python3"
  },
  "language_info": {
   "codemirror_mode": {
    "name": "ipython",
    "version": 3
   },
   "file_extension": ".py",
   "mimetype": "text/x-python",
   "name": "python",
   "nbconvert_exporter": "python",
   "pygments_lexer": "ipython3",
   "version": "3.10.7"
  },
  "orig_nbformat": 4,
  "vscode": {
   "interpreter": {
    "hash": "aee8b7b246df8f9039afb4144a1f6fd8d2ca17a180786b69acc140d282b71a49"
   }
  }
 },
 "nbformat": 4,
 "nbformat_minor": 2
}
