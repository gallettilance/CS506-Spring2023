{
 "cells": [
  {
   "attachments": {},
   "cell_type": "markdown",
   "metadata": {},
   "source": [
    "# Worksheet 04\n",
    "\n",
    "Name:  Snigdha Reddy Pulim\n",
    "UID: U13354202\n",
    "\n",
    "### Topics\n",
    "\n",
    "- Distance & Similarity\n",
    "- Cost Functions\n",
    "- K means"
   ]
  },
  {
   "cell_type": "markdown",
   "metadata": {},
   "source": [
    "### Distance & Similarity\n",
    "\n",
    "#### Part 1\n",
    "\n",
    "a) In the minkowski distance, describe what the parameters p and d are."
   ]
  },
  {
   "cell_type": "markdown",
   "metadata": {},
   "source": [
    "-> p is a parameter to generalize the distance function p>=1\n",
    "\n",
    "-> d is the number of dimensions of the vector."
   ]
  },
  {
   "cell_type": "markdown",
   "metadata": {},
   "source": [
    "b) In your own words describe the difference between the Euclidean distance and the Manhattan distance."
   ]
  },
  {
   "cell_type": "markdown",
   "metadata": {},
   "source": [
    "Manhattan distance gives the distance between two points along lines (directions) parallel to the axis.\n",
    "\n",
    "Euclidean distance gives the diagonal distance between the two points."
   ]
  },
  {
   "attachments": {},
   "cell_type": "markdown",
   "metadata": {},
   "source": [
    "Consider A = (0, 0) and B = (1, 1). When:\n",
    "\n",
    "- p = 1, d(A, B) = 2\n",
    "- p = 2, d(A, B) = $\\sqrt{2} = 1.41$\n",
    "- p = 3, d(A, B) = $2^{1/3} = 1.26$\n",
    "- p = 4, d(A, B) = $2^{1/4} = 1.19$\n",
    "\n",
    "c) Describe what you think distance would look like when p is very large."
   ]
  },
  {
   "cell_type": "markdown",
   "metadata": {},
   "source": [
    "Distance will be very small"
   ]
  },
  {
   "cell_type": "markdown",
   "metadata": {},
   "source": [
    "d) Is the minkowski distance still a distance function when p < 1? Expain why / why not."
   ]
  },
  {
   "cell_type": "markdown",
   "metadata": {},
   "source": [
    "No, cause it does not follow the triangular rule"
   ]
  },
  {
   "cell_type": "markdown",
   "metadata": {},
   "source": [
    "e) when would you use cosine similarity over the euclidan distance?"
   ]
  },
  {
   "cell_type": "markdown",
   "metadata": {},
   "source": [
    "When the direction of the vectors is also required for similarity of the vectors."
   ]
  },
  {
   "cell_type": "markdown",
   "metadata": {},
   "source": [
    "f) what does the jaccard distance account for that the manhattan distance doesn't?"
   ]
  },
  {
   "cell_type": "markdown",
   "metadata": {},
   "source": [
    "Accounts for the size of the intersection between the vectors (along all dimensions)"
   ]
  },
  {
   "attachments": {},
   "cell_type": "markdown",
   "metadata": {},
   "source": [
    "#### Part 2\n",
    "\n",
    "Consider the following two sentences:"
   ]
  },
  {
   "cell_type": "code",
   "execution_count": 3,
   "metadata": {},
   "outputs": [],
   "source": [
    "s1 = \"hello my name is Alice\"  \n",
    "s2 = \"hello my name is Bob\""
   ]
  },
  {
   "cell_type": "markdown",
   "metadata": {},
   "source": [
    "using the union of words from both sentences, we can represent each sentence as a vector. Each element of the vector represents the presence or absence of the word at that index.\n",
    "\n",
    "In this example, the union of words is (\"hello\", \"my\", \"name\", \"is\", \"Alice\", \"Bob\") so we can represent the above sentences as such:"
   ]
  },
  {
   "cell_type": "code",
   "execution_count": 2,
   "metadata": {},
   "outputs": [],
   "source": [
    "v1 = [1,    1, 1,   1, 1,    0]\n",
    "#     hello my name is Alice\n",
    "v2 = [1,    1, 1,   1, 0, 1]\n",
    "#     hello my name is    Bob"
   ]
  },
  {
   "attachments": {},
   "cell_type": "markdown",
   "metadata": {},
   "source": [
    "Programmatically, we can do the following:"
   ]
  },
  {
   "cell_type": "code",
   "execution_count": 54,
   "metadata": {},
   "outputs": [
    {
     "name": "stdout",
     "output_type": "stream",
     "text": [
      "['hello', 'is', 'name', 'Alice', 'Bob', 'my']\n",
      "[1, 1, 1, 1, 0, 1]\n"
     ]
    }
   ],
   "source": [
    "corpus = [s1, s2]\n",
    "all_words = list(set([item for x in corpus for item in x.split()]))\n",
    "print(all_words)\n",
    "v1 = [1 if x in s1 else 0 for x in all_words]\n",
    "print(v1)"
   ]
  },
  {
   "cell_type": "markdown",
   "metadata": {},
   "source": [
    "Let's add a new sentence to our corpus:"
   ]
  },
  {
   "cell_type": "code",
   "execution_count": 53,
   "metadata": {},
   "outputs": [],
   "source": [
    "s3 = \"hi my name is Claude\"\n",
    "corpus.append(s3)"
   ]
  },
  {
   "cell_type": "markdown",
   "metadata": {},
   "source": [
    "a) What is the new union of words used to represent s1, s2, and s3?"
   ]
  },
  {
   "cell_type": "code",
   "execution_count": 60,
   "metadata": {},
   "outputs": [
    {
     "name": "stdout",
     "output_type": "stream",
     "text": [
      "['hello', 'is', 'Claude', 'name', 'Alice', 'Bob', 'my', 'hi']\n"
     ]
    }
   ],
   "source": [
    "corpus = [s1, s2, s3]\n",
    "all_words = list(set([item for x in corpus for item in x.split()]))\n",
    "print(all_words)\n"
   ]
  },
  {
   "attachments": {},
   "cell_type": "markdown",
   "metadata": {},
   "source": [
    "b) Represent s1, s2, and s3 as vectors as above, using this new set of words."
   ]
  },
  {
   "cell_type": "code",
   "execution_count": 67,
   "metadata": {},
   "outputs": [
    {
     "name": "stdout",
     "output_type": "stream",
     "text": [
      "v1: [1, 1, 0, 1, 1, 0, 1, 0]\n",
      "v2: [1, 1, 0, 1, 0, 1, 1, 0]\n",
      "v3: [0, 1, 1, 1, 0, 0, 1, 1]\n"
     ]
    }
   ],
   "source": [
    "v1 = [1 if x in s1 else 0 for x in all_words]\n",
    "print(\"v1: \"+str(v1))\n",
    "\n",
    "v2 = [1 if x in s2 else 0 for x in all_words]\n",
    "print(\"v2: \"+str(v2))\n",
    "\n",
    "v3 = [1 if x in s3 else 0 for x in all_words]\n",
    "print(\"v3: \"+str(v3))"
   ]
  },
  {
   "cell_type": "markdown",
   "metadata": {},
   "source": [
    "c) Write a function that computes the manhattan distance between two vectors. Which pair of vectors are the most similar under that distance function?"
   ]
  },
  {
   "cell_type": "code",
   "execution_count": 50,
   "metadata": {},
   "outputs": [
    {
     "name": "stdout",
     "output_type": "stream",
     "text": [
      "v1,v2 are the most similar\n"
     ]
    }
   ],
   "source": [
    "def manhatta(v1,v2):\n",
    "    distance=0\n",
    "    for i in range(0,len(v1)):\n",
    "        distance=distance+abs(v1[i]-v2[i])\n",
    "    return distance\n",
    "\n",
    "manhattan_distances=[]\n",
    "disc={}\n",
    "manhattan_distances.append(manhatta(v1,v2))\n",
    "disc[0]=\"v1,v2\"\n",
    "manhattan_distances.append(manhatta(v2,v3))\n",
    "disc[1]=\"v2,v3\"\n",
    "manhattan_distances.append(manhatta(v1,v3))\n",
    "disc[2]=\"v3,v1\"\n",
    "\n",
    "print(disc[manhattan_distances.index(min(manhattan_distances))]+\" are the most similar\")\n"
   ]
  },
  {
   "cell_type": "markdown",
   "metadata": {},
   "source": []
  },
  {
   "cell_type": "markdown",
   "metadata": {},
   "source": [
    "d) Create a matrix of all these vectors (row major) and add the following sentences in vector form:\n",
    "\n",
    "- \"hi Alice\"\n",
    "- \"hello Claude\"\n",
    "- \"Bob my name is Claude\"\n",
    "- \"hi Claude my name is Alice\"\n",
    "- \"hello Bob\""
   ]
  },
  {
   "cell_type": "code",
   "execution_count": 70,
   "metadata": {},
   "outputs": [
    {
     "name": "stdout",
     "output_type": "stream",
     "text": [
      "v4: [0, 0, 0, 0, 1, 0, 0, 1]\n",
      "v5: [1, 0, 1, 0, 0, 0, 0, 0]\n",
      "v6: [0, 1, 1, 1, 0, 1, 1, 0]\n",
      "v7: [0, 1, 0, 1, 1, 0, 1, 1]\n",
      "v8: [1, 0, 0, 0, 0, 1, 0, 0]\n",
      "\n",
      "Matrix of the vectors:\n",
      "[1, 1, 0, 1, 1, 0, 1, 0]\n",
      "[1, 1, 0, 1, 0, 1, 1, 0]\n",
      "[0, 1, 1, 1, 0, 0, 1, 1]\n",
      "[0, 0, 0, 0, 1, 0, 0, 1]\n",
      "[1, 0, 1, 0, 0, 0, 0, 0]\n",
      "[0, 1, 1, 1, 0, 1, 1, 0]\n",
      "[0, 1, 0, 1, 1, 0, 1, 1]\n",
      "[1, 0, 0, 0, 0, 1, 0, 0]\n"
     ]
    }
   ],
   "source": [
    "s4 = \"hi Alice\"\n",
    "v4 = [1 if x in s4 else 0 for x in all_words]\n",
    "print(\"v4: \"+str(v4))\n",
    "s5 = \"hello Claude\"\n",
    "v5 = [1 if x in s5 else 0 for x in all_words]\n",
    "print(\"v5: \"+str(v5))\n",
    "s6 = \"Bob my name is Claude\"\n",
    "v6 = [1 if x in s6 else 0 for x in all_words]\n",
    "print(\"v6: \"+str(v6))\n",
    "s7 = \"hi Calude my name is Alice\"\n",
    "v7 = [1 if x in s7 else 0 for x in all_words]\n",
    "print(\"v7: \"+str(v7))\n",
    "s8 = \"hello Bob\"\n",
    "v8 = [1 if x in s8 else 0 for x in all_words]\n",
    "print(\"v8: \"+str(v8))\n",
    "\n",
    "\n",
    "matrix=[]\n",
    "matrix.append(v1)\n",
    "matrix.append(v2)\n",
    "matrix.append(v3)\n",
    "matrix.append(v4)\n",
    "matrix.append(v5)\n",
    "matrix.append(v6)\n",
    "matrix.append(v7)\n",
    "matrix.append(v8)\n",
    "\n",
    "print(\"\\nMatrix of the vectors:\")\n",
    "for row in matrix:\n",
    "    print(row)"
   ]
  },
  {
   "cell_type": "markdown",
   "metadata": {},
   "source": [
    "e) How many rows and columns does this matrix have?"
   ]
  },
  {
   "cell_type": "markdown",
   "metadata": {},
   "source": [
    "8 rows and each row represents a vector\n",
    "\n",
    "8 columns 1 per world "
   ]
  },
  {
   "attachments": {},
   "cell_type": "markdown",
   "metadata": {},
   "source": [
    "f) When using the Manhattan distance, which two sentences are the most similar?"
   ]
  },
  {
   "cell_type": "markdown",
   "metadata": {},
   "source": [
    "v1,v2 are the most similar"
   ]
  },
  {
   "attachments": {},
   "cell_type": "markdown",
   "metadata": {},
   "source": [
    "### Cost Function\n",
    "\n",
    "Solving Data Science problems often starts by defining a metric with which to evaluate solutions were you able to find some. This metric is called a cost function. Data Science then backtracks and tries to find a process / algorithm to find solutions that can optimize for that cost function.\n",
    "\n",
    "For example suppose you are asked to cluster three points A, B, C into two non-empty clusters. If someone gave you the solution `{A, B}, {C}`, how would you evaluate that this is a good solution?\n",
    "\n",
    "Notice that because the clusters need to be non-empty and all points must be assigned to a cluster, it must be that two of the three points will be together in one cluster and the third will be alone in the other cluster.\n",
    "\n",
    "In the above solution, if A and B are closer than A and C, and B and C, then this is a good solution. The smaller the distance between the two points in the same cluster (here A and B), the better the solution. So we can define our cost function to be that distance (between A and B here)!\n",
    "\n",
    "The algorithm / process would involve clustering together the two closest points and put the third in its own cluster. This process optimizes for that cost function because no other pair of points could have a lower distance (although it could equal it)."
   ]
  },
  {
   "cell_type": "markdown",
   "metadata": {},
   "source": [
    "### K means\n",
    "\n",
    "a) (1-dimensional clustering) Walk through Lloyd's algorithm step by step on the following dataset:\n",
    "\n",
    "`[0, .5, 1.5, 2, 6, 6.5, 7]` (note: each of these are 1-dimensional data points)\n",
    "\n",
    "Given the initial centroids:\n",
    "\n",
    "`[0, 2]`"
   ]
  },
  {
   "cell_type": "markdown",
   "metadata": {},
   "source": [
    "1) Finding distances between each point and the centers\n",
    "2) Cluster into the closest center\n",
    "3) Find a new center by taking a mean of the points in the cluster\n",
    "4) Repeat 2 and 3 until there is no change in the clusters"
   ]
  },
  {
   "cell_type": "code",
   "execution_count": 32,
   "metadata": {},
   "outputs": [
    {
     "name": "stdout",
     "output_type": "stream",
     "text": [
      "cluster1: {0, 0.5, 2, 1.5}\n",
      "cluster2: {7, 6, 6.5}\n"
     ]
    }
   ],
   "source": [
    "import statistics\n",
    "\n",
    "centers=[0,2]\n",
    "all=[0,.5,1.5,2,6,6.5,7]\n",
    "set1={}\n",
    "set2={}\n",
    "while True:\n",
    "    tem1=set()\n",
    "    tem2=set()\n",
    "    for i in all:\n",
    "        d1=abs(centers[0]-i)\n",
    "        d2=abs(centers[1]-i)\n",
    "        if d1<d2:\n",
    "            tem1.add(i)\n",
    "        else:\n",
    "            tem2.add(i)\n",
    "    if (set1==tem1):\n",
    "        break\n",
    "    set1=tem1\n",
    "    set2=tem2\n",
    "    centers[0]=statistics.mean(set1)\n",
    "    centers[1]=statistics.mean(set2)\n",
    "\n",
    "print(\"cluster1: \"+str(set1))\n",
    "print(\"cluster2: \"+str(set2))"
   ]
  },
  {
   "cell_type": "markdown",
   "metadata": {},
   "source": [
    "b) Describe in plain english what the cost function for k means is."
   ]
  },
  {
   "cell_type": "markdown",
   "metadata": {},
   "source": [
    "The cost function calculates the squared distance between all the points to their closest cluster center."
   ]
  },
  {
   "cell_type": "markdown",
   "metadata": {},
   "source": [
    "c) For the same number of clusters K, why could there be very different solutions to the K means algorithm on a given dataset?"
   ]
  },
  {
   "cell_type": "markdown",
   "metadata": {},
   "source": [
    "Because the initial centers are selected randomly. Therefore, depending on the centers selected, there may be different solutions."
   ]
  },
  {
   "cell_type": "markdown",
   "metadata": {},
   "source": [
    "d) Does Lloyd's Algorithm always converge? Why / why not?"
   ]
  },
  {
   "cell_type": "markdown",
   "metadata": {},
   "source": [
    "yes, beacuse through each iteration of the algorithm, each point is getting to the closes center.\n",
    "\n",
    "However, if the dataset is too scattered, it may not converge because the center values will change too drastically. "
   ]
  }
 ],
 "metadata": {
  "kernelspec": {
   "display_name": "Python 3.10.7 64-bit",
   "language": "python",
   "name": "python3"
  },
  "language_info": {
   "codemirror_mode": {
    "name": "ipython",
    "version": 3
   },
   "file_extension": ".py",
   "mimetype": "text/x-python",
   "name": "python",
   "nbconvert_exporter": "python",
   "pygments_lexer": "ipython3",
   "version": "3.10.7"
  },
  "orig_nbformat": 4,
  "vscode": {
   "interpreter": {
    "hash": "aee8b7b246df8f9039afb4144a1f6fd8d2ca17a180786b69acc140d282b71a49"
   }
  }
 },
 "nbformat": 4,
 "nbformat_minor": 2
}
