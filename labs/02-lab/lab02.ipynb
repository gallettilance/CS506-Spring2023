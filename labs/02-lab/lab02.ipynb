{
 "cells": [
  {
   "attachments": {},
   "cell_type": "markdown",
   "metadata": {},
   "source": [
    "## Lab 02 - Pandas and Data Visualization - 07 February, 2023\n",
    "This notebook will introduce you to the basics of Pandas and Data Visualization. You will learn how to load data into a Pandas DataFrame, how to perform basic data analysis, and how to visualize data. The first part of this notebook will be an interactive tutorial, and the second part will be practice exercises for you to do! Note that the practice problems will be checked when submitted!"
   ]
  },
  {
   "attachments": {},
   "cell_type": "markdown",
   "metadata": {},
   "source": [
    "### Pre-requisites"
   ]
  },
  {
   "cell_type": "code",
   "execution_count": 176,
   "metadata": {},
   "outputs": [],
   "source": [
    "# In case you don't have pandas, uncomment\n",
    "# the following lines and run the cell\n",
    "\n",
    "#%pip install pandas\n",
    "#%pip install matplotlib "
   ]
  },
  {
   "attachments": {},
   "cell_type": "markdown",
   "metadata": {},
   "source": [
    "### Overview\n",
    "In this notebook, you will be learning how to use the Pandas library by working with the `cookies.csv` file. \n",
    "\n",
    "#### `cookies.csv` file\n",
    "\n",
    "The `cookies.csv` file contains information about cookies that were made from a single Rico's Bisquito's factory. There are, however, a few differences from the classes defined in homework0.\n",
    "\n",
    "Here, this dataset shows all the cookies made from a single factory, where now the `cost_to_make` may not be the same for a single cookie because someone may have, for example, added too much flour. \n",
    "\n",
    "The columns are the following:\n",
    "\n",
    "`cookie`: the name of a cookie\n",
    "`ingredients`: a list of the cookie's ingredients\n",
    "`calories`: the number of calories the created cookie has\n",
    "`radius`: the radius of the created cookie, in cm\n",
    "`cost_to_make`: the cost it took to make the created cookie, in dollars"
   ]
  },
  {
   "attachments": {},
   "cell_type": "markdown",
   "metadata": {},
   "source": [
    "### Reading the CSV file\n",
    "\n",
    "First, we need to import the Pandas library. We will be using the `pd` alias for the Pandas library."
   ]
  },
  {
   "cell_type": "code",
   "execution_count": 177,
   "metadata": {},
   "outputs": [],
   "source": [
    "#TODO: import pandas and matplotlib in this cell\n",
    "import pandas as pd\n",
    "import matplotlib as plt\n",
    "\n"
   ]
  },
  {
   "attachments": {},
   "cell_type": "markdown",
   "metadata": {},
   "source": [
    "We will now look at the `cookies.csv` file. We will use the `pd.read_csv()` function to read in the CSV file. We will store the data in a variable called `cookies`."
   ]
  },
  {
   "cell_type": "code",
   "execution_count": 178,
   "metadata": {},
   "outputs": [],
   "source": [
    "#TODO: read the cookies.csv file into a pandas dataframe\n",
    "cookies = pd.read_csv(\"cookies.csv\") \n"
   ]
  },
  {
   "attachments": {},
   "cell_type": "markdown",
   "metadata": {},
   "source": [
    "What is the DataFrame used? Well, Dataframes are a data structure that Pandas uses to store data. Dataframes are similar to tables in a database. Dataframes have rows and columns. Each row represents a single data point, and each column represents a feature of the data point."
   ]
  },
  {
   "attachments": {},
   "cell_type": "markdown",
   "metadata": {},
   "source": [
    "We will then make sure we imported the data correctly by printing out the first 10 rows of the data, using the `head()` function."
   ]
  },
  {
   "cell_type": "code",
   "execution_count": 179,
   "metadata": {},
   "outputs": [
    {
     "data": {
      "text/plain": [
       "<bound method NDFrame.head of               cookie                                        ingredients  \\\n",
       "0       laddoo lemon             [\"flour\",\"lemon juice\",\"sugar\",\"ghee\"]   \n",
       "1           nevadito  [\"flour\",\"chocolate chips\",\"milk\",\"vanilla ext...   \n",
       "2    red velvet rauw  [\"flour\",\"cocoa powder\",\"butter\",\"red food col...   \n",
       "3    bad berry bunny           [\"flour\",\"blueberries\",\"sugar\",\"butter\"]   \n",
       "4       orange ozuna   [\"flour\",\"orange juice\",\"sugar\",\"vegetable oil\"]   \n",
       "..               ...                                                ...   \n",
       "113        chocolate       [\"flour\",\"chocolate chips\",\"sugar\",\"butter\"]   \n",
       "114     laddoo lemon             [\"flour\",\"lemon juice\",\"sugar\",\"ghee\"]   \n",
       "115         nevadito  [\"flour\",\"chocolate chips\",\"milk\",\"vanilla ext...   \n",
       "116  red velvet rauw  [\"flour\",\"cocoa powder\",\"butter\",\"red food col...   \n",
       "117  bad berry bunny           [\"flour\",\"blueberries\",\"sugar\",\"butter\"]   \n",
       "\n",
       "     calories  radius  cost_to_make  \n",
       "0         170   3.102          0.67  \n",
       "1         224   4.069          1.04  \n",
       "2         198   3.780          1.07  \n",
       "3         191   4.148          1.39  \n",
       "4         162   3.241          1.15  \n",
       "..        ...     ...           ...  \n",
       "113       227   4.085          1.42  \n",
       "114       170   3.916          2.00  \n",
       "115       211   3.915          1.61  \n",
       "116       197   3.906          1.33  \n",
       "117       199   4.281          1.36  \n",
       "\n",
       "[118 rows x 5 columns]>"
      ]
     },
     "execution_count": 179,
     "metadata": {},
     "output_type": "execute_result"
    }
   ],
   "source": [
    "#TODO: print the head of the dataframe\n",
    "cookies.head"
   ]
  },
  {
   "attachments": {},
   "cell_type": "markdown",
   "metadata": {},
   "source": [
    "### Checking data types\n",
    "You can check the data types of each column using the `dtypes` attribute of the DataFrame."
   ]
  },
  {
   "cell_type": "code",
   "execution_count": 180,
   "metadata": {},
   "outputs": [
    {
     "data": {
      "text/plain": [
       "dtype('float64')"
      ]
     },
     "execution_count": 180,
     "metadata": {},
     "output_type": "execute_result"
    }
   ],
   "source": [
    "#TODO: check the data types of the columns\n",
    "cookies[\"cost_to_make\"].dtypes"
   ]
  },
  {
   "attachments": {},
   "cell_type": "markdown",
   "metadata": {},
   "source": [
    "### Cleaning the data\n",
    "Now that we have the data, we need to clean it. For example, some `cost_to_make` fields of some created cookies are missing. To resolve this, we can do many things: we can replace the missing data with the mean of the column, or we can get rid of the row entirely if the `cost_to_make` field is not set. "
   ]
  },
  {
   "cell_type": "code",
   "execution_count": 181,
   "metadata": {},
   "outputs": [
    {
     "data": {
      "text/plain": [
       "0      0.67\n",
       "1      1.04\n",
       "2      1.07\n",
       "3      1.39\n",
       "4      1.15\n",
       "       ... \n",
       "113    1.42\n",
       "114     2.0\n",
       "115    1.61\n",
       "116    1.33\n",
       "117    1.36\n",
       "Name: cost_to_make, Length: 118, dtype: object"
      ]
     },
     "execution_count": 181,
     "metadata": {},
     "output_type": "execute_result"
    }
   ],
   "source": [
    "#TODO: clean the dataframe and \n",
    "# print the head again to make sure \n",
    "# the changes took effect\n",
    "cookies[\"cost_to_make\"].fillna(str(cookies[\"cost_to_make\"].mean()))"
   ]
  },
  {
   "attachments": {},
   "cell_type": "markdown",
   "metadata": {},
   "source": [
    "To also make sure we removed null values, we can check the number of null values in each column using the `isnull()` function."
   ]
  },
  {
   "cell_type": "code",
   "execution_count": null,
   "metadata": {},
   "outputs": [],
   "source": []
  },
  {
   "cell_type": "code",
   "execution_count": 182,
   "metadata": {},
   "outputs": [
    {
     "name": "stdout",
     "output_type": "stream",
     "text": [
      "15\n"
     ]
    }
   ],
   "source": [
    "#TODO: use the isnull method to make sure your data is clean\n",
    "cookies[\"cost_to_make\"].isnull()\n",
    "print (sum(cookies[\"cost_to_make\"].isnull()))"
   ]
  },
  {
   "attachments": {},
   "cell_type": "markdown",
   "metadata": {},
   "source": [
    "### Parsing the data\n",
    "Now that we have the data, we could parse it to get the information we want. For example, we can check what types of cookies were made by using the `unique()` function on the `cookie` column."
   ]
  },
  {
   "cell_type": "code",
   "execution_count": 183,
   "metadata": {},
   "outputs": [
    {
     "data": {
      "text/plain": [
       "array([0.67, 1.04, 1.07, 1.39, 1.15, 0.84, 1.17,  nan, 1.28, 0.76, 2.09,\n",
       "       0.77, 1.53, 1.86, 1.29, 1.23, 2.01, 1.63, 1.18, 1.4 , 0.68, 0.69,\n",
       "       1.72, 0.97, 1.11, 1.05, 2.27, 0.96, 1.94, 1.34, 1.41, 0.64, 0.62,\n",
       "       2.21, 1.59, 1.01, 0.75, 1.19, 2.  , 1.42, 0.91, 1.43, 1.06, 0.72,\n",
       "       1.64, 0.81, 1.  , 0.63, 1.37, 0.87, 1.13, 1.24, 0.82, 1.67, 1.12,\n",
       "       0.79, 1.09, 1.44, 1.33, 1.14, 0.73, 0.59, 1.27, 1.16, 1.62, 0.65,\n",
       "       1.79, 1.48, 0.86, 1.36, 0.93, 1.65, 0.95, 0.83, 0.6 , 0.74, 1.61])"
      ]
     },
     "execution_count": 183,
     "metadata": {},
     "output_type": "execute_result"
    }
   ],
   "source": [
    "#TODO: see what cookies are in the dataset\n",
    "cookies[\"cost_to_make\"].unique()"
   ]
  },
  {
   "attachments": {},
   "cell_type": "markdown",
   "metadata": {},
   "source": [
    "We can also check the number of cookies made by using the `value_counts()` function on the `cookie` column."
   ]
  },
  {
   "cell_type": "code",
   "execution_count": 184,
   "metadata": {},
   "outputs": [
    {
     "data": {
      "text/plain": [
       "cookie           ingredients                                            calories  radius  cost_to_make\n",
       "bad berry bunny  [\"flour\",\"blueberries\",\"sugar\",\"butter\"]               171       4.045   0.93            1\n",
       "nevadito         [\"flour\",\"chocolate chips\",\"milk\",\"vanilla extract\"]   229       3.802   1.79            1\n",
       "orange ozuna     [\"flour\",\"orange juice\",\"sugar\",\"vegetable oil\"]       159       3.429   2.09            1\n",
       "                                                                        158       4.003   1.00            1\n",
       "                                                                                  3.467   1.44            1\n",
       "                                                                                                         ..\n",
       "laddoo lemon     [\"flour\",\"lemon juice\",\"sugar\",\"ghee\"]                 167       4.401   1.24            1\n",
       "                                                                                  3.548   1.86            1\n",
       "                                                                        165       4.123   2.00            1\n",
       "                                                                        162       3.587   1.27            1\n",
       "red velvet rauw  [\"flour\",\"cocoa powder\",\"butter\",\"red food coloring\"]  211       3.940   0.76            1\n",
       "Length: 103, dtype: int64"
      ]
     },
     "execution_count": 184,
     "metadata": {},
     "output_type": "execute_result"
    }
   ],
   "source": [
    "#TODO: use value_counts() to see how many \n",
    "# cookies of each type there are\n",
    "cookies.value_counts()"
   ]
  },
  {
   "attachments": {},
   "cell_type": "markdown",
   "metadata": {},
   "source": [
    "Or maybe we don't like how long the names of the cookies are, so we can shorten them by using the `replace()` function on the `cookie` column.\n",
    "\n",
    "For example, let's try changing `\"bad berry bunny\"` to `\"bbb\"`."
   ]
  },
  {
   "cell_type": "code",
   "execution_count": 185,
   "metadata": {},
   "outputs": [
    {
     "data": {
      "text/plain": [
       "0         laddoo lemon\n",
       "1             nevadito\n",
       "2      red velvet rauw\n",
       "3                  bbb\n",
       "4         orange ozuna\n",
       "            ...       \n",
       "113          chocolate\n",
       "114       laddoo lemon\n",
       "115           nevadito\n",
       "116    red velvet rauw\n",
       "117                bbb\n",
       "Name: cookie, Length: 118, dtype: object"
      ]
     },
     "execution_count": 185,
     "metadata": {},
     "output_type": "execute_result"
    }
   ],
   "source": [
    "#TODO: change bad berry bunny data elements to \"bbb\"\n",
    "cookies[\"cookie\"].replace(\"bad berry bunny\",\"bbb\")"
   ]
  },
  {
   "attachments": {},
   "cell_type": "markdown",
   "metadata": {},
   "source": [
    "We may even like the original names better, but we may want to get rid of the spaces. For example, we can change `\"orange ozuna\"` to `\"orange_ozuna\"`. Here, we will use the `str.replace()` function."
   ]
  },
  {
   "cell_type": "code",
   "execution_count": 186,
   "metadata": {},
   "outputs": [
    {
     "data": {
      "text/plain": [
       "0         laddoo_lemon\n",
       "1             nevadito\n",
       "2      red_velvet_rauw\n",
       "3      bad_berry_bunny\n",
       "4         orange_ozuna\n",
       "            ...       \n",
       "113          chocolate\n",
       "114       laddoo_lemon\n",
       "115           nevadito\n",
       "116    red_velvet_rauw\n",
       "117    bad_berry_bunny\n",
       "Name: cookie, Length: 118, dtype: object"
      ]
     },
     "execution_count": 186,
     "metadata": {},
     "output_type": "execute_result"
    }
   ],
   "source": [
    "#TODO: adjust orange ozuna as described\n",
    "cookies[\"cookie\"].str.replace(\" \", \"_\")\n"
   ]
  },
  {
   "attachments": {},
   "cell_type": "markdown",
   "metadata": {},
   "source": [
    "We may even just want to keep the first word of the cookie name. For example, we can change `\"orange_ozuna\"` to `\"orange\"`."
   ]
  },
  {
   "cell_type": "code",
   "execution_count": 187,
   "metadata": {},
   "outputs": [],
   "source": [
    "#TODO: adjust all cookies so only the first word\n",
    "# is used as the cookie name\n"
   ]
  },
  {
   "attachments": {},
   "cell_type": "markdown",
   "metadata": {},
   "source": [
    "Another thing that may come to mind is that maybe getting flour could cost more money due to inflation, so we have to adjust our `cost_to_make` values, similar to how in the homework there is a `price_adjustments`. We can do this by using the `apply()` function on the `cost_to_make` column."
   ]
  },
  {
   "cell_type": "code",
   "execution_count": 188,
   "metadata": {},
   "outputs": [
    {
     "data": {
      "text/plain": [
       "0      1.17\n",
       "1      1.54\n",
       "2      1.57\n",
       "3      1.89\n",
       "4      1.65\n",
       "       ... \n",
       "113    1.92\n",
       "114    2.50\n",
       "115    2.11\n",
       "116    1.83\n",
       "117    1.86\n",
       "Name: cost_to_make, Length: 118, dtype: float64"
      ]
     },
     "execution_count": 188,
     "metadata": {},
     "output_type": "execute_result"
    }
   ],
   "source": [
    "#Don't edit this method\n",
    "def adjust_cost(cost):\n",
    "    return cost + 0.5\n",
    "\n",
    "#TODO: use apply() to adjust the cost_to_make column.\n",
    "cookies[\"cost_to_make\"].apply(adjust_cost)"
   ]
  },
  {
   "attachments": {},
   "cell_type": "markdown",
   "metadata": {},
   "source": [
    "And we can do a lot more things! We will see these concepts be used in the next homework assignment, along with a couple new ones to show you how powerful Pandas is."
   ]
  },
  {
   "attachments": {},
   "cell_type": "markdown",
   "metadata": {},
   "source": [
    "### More complicated operations: Grouping, Filtering, Aggregating"
   ]
  },
  {
   "attachments": {},
   "cell_type": "markdown",
   "metadata": {},
   "source": [
    "We may also want to group data by certain attributes. This can be done by using `groupby()`. This method takes in a column name, and groups the data by the values in that column. For example, we can group the data by the `cookie` column."
   ]
  },
  {
   "cell_type": "code",
   "execution_count": 189,
   "metadata": {},
   "outputs": [],
   "source": [
    "#TODO: group by cookie type"
   ]
  },
  {
   "attachments": {},
   "cell_type": "markdown",
   "metadata": {},
   "source": [
    "We can also group by multiple columns. For example, we can group the data by the `cookie` and `ingredients` columns."
   ]
  },
  {
   "cell_type": "code",
   "execution_count": 190,
   "metadata": {},
   "outputs": [],
   "source": [
    "#TODO: group by cookie type and ingredients"
   ]
  },
  {
   "attachments": {},
   "cell_type": "markdown",
   "metadata": {},
   "source": [
    "We may also want to filter the data. For example, we can filter the data to only show the cookies that have a radius greater than 4.3 cm. We can do this by indexing the DataFrame with a boolean expression."
   ]
  },
  {
   "cell_type": "code",
   "execution_count": 191,
   "metadata": {},
   "outputs": [],
   "source": [
    "#TODO: filter using the boolean expression"
   ]
  },
  {
   "attachments": {},
   "cell_type": "markdown",
   "metadata": {},
   "source": [
    "We may even want to use `groupby()` and filter idea together! For example, we can filter the data to only show the cookies that have a radius greater than 4.3 cm, and group the data by the `cookie` column."
   ]
  },
  {
   "cell_type": "code",
   "execution_count": 192,
   "metadata": {},
   "outputs": [],
   "source": [
    "#TODO: filter the data using the boolean expression\n",
    "# then group by cookie column"
   ]
  },
  {
   "attachments": {},
   "cell_type": "markdown",
   "metadata": {},
   "source": [
    "We may also want to aggregate the data. For example, we can aggregate the data by looking at the ratio of calories to radius. We can do this by using indexing and the `apply()` function."
   ]
  },
  {
   "cell_type": "code",
   "execution_count": 193,
   "metadata": {},
   "outputs": [],
   "source": [
    "#TODO: add a column to the dataframe that is the\n",
    "# calories per radius"
   ]
  },
  {
   "attachments": {},
   "cell_type": "markdown",
   "metadata": {},
   "source": [
    "Or we can just get rid of this column if we find it useless. We can do this by using the `drop()` function or indexing."
   ]
  },
  {
   "cell_type": "code",
   "execution_count": 194,
   "metadata": {},
   "outputs": [],
   "source": [
    "#TODO: drop the created column"
   ]
  },
  {
   "attachments": {},
   "cell_type": "markdown",
   "metadata": {},
   "source": [
    "### Visualizing the data"
   ]
  },
  {
   "attachments": {},
   "cell_type": "markdown",
   "metadata": {},
   "source": [
    "We can also visualize the data. For example, we can visualize the data by plotting the radius of the cookies against the cost to make the cookies. We can do this by using the `plot()` function."
   ]
  },
  {
   "cell_type": "code",
   "execution_count": 195,
   "metadata": {},
   "outputs": [],
   "source": [
    "#TODO: plot the radius (x) versus cost to make (y)"
   ]
  },
  {
   "attachments": {},
   "cell_type": "markdown",
   "metadata": {},
   "source": [
    "We may even want to get more specific and visualize the shape of a distribution of the `laddoo lemon`'s radius by making a boxplot. We can also do this by using the `plot()` function."
   ]
  },
  {
   "cell_type": "code",
   "execution_count": 196,
   "metadata": {},
   "outputs": [],
   "source": [
    "#TODO: add the described boxplot"
   ]
  },
  {
   "attachments": {},
   "cell_type": "markdown",
   "metadata": {},
   "source": [
    "Alternatively, we can create a histogram to visualize the distribution of the `laddoo lemon`'s radius. We can also do this by using the `plot()` function."
   ]
  },
  {
   "cell_type": "code",
   "execution_count": 197,
   "metadata": {},
   "outputs": [],
   "source": [
    "#TODO: add the described histogram"
   ]
  },
  {
   "attachments": {},
   "cell_type": "markdown",
   "metadata": {},
   "source": [
    "Things can get more complicated too. Maybe we want to analyze the behaviors of `bad berry bunny` and `laddoo lemon`'s radius using a boxplot. But this time, let's try it using the alternative `boxplot()` function. For practice, try doing it with `plot()` too!"
   ]
  },
  {
   "cell_type": "code",
   "execution_count": 198,
   "metadata": {},
   "outputs": [],
   "source": [
    "#TODO: analyze the two cookie's radius in a boxplot"
   ]
  },
  {
   "attachments": {},
   "cell_type": "markdown",
   "metadata": {},
   "source": [
    "### Practice Problems\n",
    "Now that you have learned some of Pandas' capabilities, let's try some practice problems! **This is the part that will be checked when you submit it!**"
   ]
  },
  {
   "attachments": {},
   "cell_type": "markdown",
   "metadata": {},
   "source": [
    "#### Problem 1\n",
    "How many cookies were made? (Hint: use the `shape` attribute)"
   ]
  },
  {
   "cell_type": "code",
   "execution_count": 199,
   "metadata": {},
   "outputs": [
    {
     "name": "stdout",
     "output_type": "stream",
     "text": [
      "(118, 5)\n"
     ]
    }
   ],
   "source": [
    "#Add your code here\n",
    "print(cookies.shape)"
   ]
  },
  {
   "attachments": {},
   "cell_type": "markdown",
   "metadata": {},
   "source": [
    "#### Problem 2\n",
    "Add a column to the DataFrame that has the value `True` if the cookie has a radius greater than 4 cm, and `False` otherwise. (Hint: use the `apply()` function)"
   ]
  },
  {
   "cell_type": "code",
   "execution_count": 200,
   "metadata": {},
   "outputs": [],
   "source": [
    "#Add your code here\n",
    "cookies[\"large cookie\"]= cookies[\"radius\"].apply(lambda x: True if x>4 else False)"
   ]
  },
  {
   "attachments": {},
   "cell_type": "markdown",
   "metadata": {},
   "source": [
    "#### Problem 3\n",
    "\n",
    "Group the data by the `cookie` column, and find the average radius of each cookie. (Hint: use the `groupby()` and `transform()` function). Add this column to the DataFrame."
   ]
  },
  {
   "cell_type": "code",
   "execution_count": 206,
   "metadata": {},
   "outputs": [
    {
     "name": "stdout",
     "output_type": "stream",
     "text": [
      "              cookie                                        ingredients  \\\n",
      "0       laddoo lemon             [\"flour\",\"lemon juice\",\"sugar\",\"ghee\"]   \n",
      "1           nevadito  [\"flour\",\"chocolate chips\",\"milk\",\"vanilla ext...   \n",
      "2    red velvet rauw  [\"flour\",\"cocoa powder\",\"butter\",\"red food col...   \n",
      "3    bad berry bunny           [\"flour\",\"blueberries\",\"sugar\",\"butter\"]   \n",
      "4       orange ozuna   [\"flour\",\"orange juice\",\"sugar\",\"vegetable oil\"]   \n",
      "..               ...                                                ...   \n",
      "113        chocolate       [\"flour\",\"chocolate chips\",\"sugar\",\"butter\"]   \n",
      "114     laddoo lemon             [\"flour\",\"lemon juice\",\"sugar\",\"ghee\"]   \n",
      "115         nevadito  [\"flour\",\"chocolate chips\",\"milk\",\"vanilla ext...   \n",
      "116  red velvet rauw  [\"flour\",\"cocoa powder\",\"butter\",\"red food col...   \n",
      "117  bad berry bunny           [\"flour\",\"blueberries\",\"sugar\",\"butter\"]   \n",
      "\n",
      "     calories  radius  cost_to_make  large cookie  avg_radius  \n",
      "0         170   3.102          0.67         False    3.782118  \n",
      "1         224   4.069          1.04          True    4.013588  \n",
      "2         198   3.780          1.07         False    4.077444  \n",
      "3         191   4.148          1.39          True    3.911000  \n",
      "4         162   3.241          1.15         False    3.519353  \n",
      "..        ...     ...           ...           ...         ...  \n",
      "113       227   4.085          1.42          True    3.983667  \n",
      "114       170   3.916          2.00         False    3.782118  \n",
      "115       211   3.915          1.61         False    4.013588  \n",
      "116       197   3.906          1.33         False    4.077444  \n",
      "117       199   4.281          1.36          True    3.911000  \n",
      "\n",
      "[118 rows x 7 columns]\n"
     ]
    }
   ],
   "source": [
    "#Add your code here\n",
    "group = cookies.groupby('cookie')['radius']\n",
    "cookies['avg_radius'] = group.transform('mean')\n",
    "\n",
    "print(cookies)"
   ]
  },
  {
   "attachments": {},
   "cell_type": "markdown",
   "metadata": {},
   "source": [
    "#### Problem 4\n",
    "Create a new DataFrame that only contains the cookies that have the ingredient `\"chocolate chips\"`. (Hint: use the `str.contains()` function)"
   ]
  },
  {
   "cell_type": "code",
   "execution_count": 207,
   "metadata": {},
   "outputs": [
    {
     "name": "stdout",
     "output_type": "stream",
     "text": [
      "        cookie                                        ingredients  calories  \\\n",
      "1     nevadito  [\"flour\",\"chocolate chips\",\"milk\",\"vanilla ext...       224   \n",
      "6    chocolate       [\"flour\",\"chocolate chips\",\"sugar\",\"butter\"]       243   \n",
      "8     nevadito  [\"flour\",\"chocolate chips\",\"milk\",\"vanilla ext...       216   \n",
      "13   chocolate       [\"flour\",\"chocolate chips\",\"sugar\",\"butter\"]       209   \n",
      "15    nevadito  [\"flour\",\"chocolate chips\",\"milk\",\"vanilla ext...       236   \n",
      "20   chocolate       [\"flour\",\"chocolate chips\",\"sugar\",\"butter\"]       205   \n",
      "22    nevadito  [\"flour\",\"chocolate chips\",\"milk\",\"vanilla ext...       219   \n",
      "26   chocolate       [\"flour\",\"chocolate chips\",\"sugar\",\"butter\"]       205   \n",
      "28    nevadito  [\"flour\",\"chocolate chips\",\"milk\",\"vanilla ext...       211   \n",
      "33   chocolate       [\"flour\",\"chocolate chips\",\"sugar\",\"butter\"]       206   \n",
      "35    nevadito  [\"flour\",\"chocolate chips\",\"milk\",\"vanilla ext...       205   \n",
      "40   chocolate       [\"flour\",\"chocolate chips\",\"sugar\",\"butter\"]       240   \n",
      "42    nevadito  [\"flour\",\"chocolate chips\",\"milk\",\"vanilla ext...       220   \n",
      "47   chocolate       [\"flour\",\"chocolate chips\",\"sugar\",\"butter\"]       229   \n",
      "49    nevadito  [\"flour\",\"chocolate chips\",\"milk\",\"vanilla ext...       208   \n",
      "54   chocolate       [\"flour\",\"chocolate chips\",\"sugar\",\"butter\"]       206   \n",
      "56    nevadito  [\"flour\",\"chocolate chips\",\"milk\",\"vanilla ext...       211   \n",
      "61   chocolate       [\"flour\",\"chocolate chips\",\"sugar\",\"butter\"]       216   \n",
      "63    nevadito  [\"flour\",\"chocolate chips\",\"milk\",\"vanilla ext...       214   \n",
      "72   chocolate       [\"flour\",\"chocolate chips\",\"sugar\",\"butter\"]       197   \n",
      "74    nevadito  [\"flour\",\"chocolate chips\",\"milk\",\"vanilla ext...       253   \n",
      "79   chocolate       [\"flour\",\"chocolate chips\",\"sugar\",\"butter\"]       199   \n",
      "81    nevadito  [\"flour\",\"chocolate chips\",\"milk\",\"vanilla ext...       249   \n",
      "86   chocolate       [\"flour\",\"chocolate chips\",\"sugar\",\"butter\"]       243   \n",
      "88    nevadito  [\"flour\",\"chocolate chips\",\"milk\",\"vanilla ext...       230   \n",
      "94    nevadito  [\"flour\",\"chocolate chips\",\"milk\",\"vanilla ext...       229   \n",
      "99   chocolate       [\"flour\",\"chocolate chips\",\"sugar\",\"butter\"]       222   \n",
      "101   nevadito  [\"flour\",\"chocolate chips\",\"milk\",\"vanilla ext...       211   \n",
      "106  chocolate       [\"flour\",\"chocolate chips\",\"sugar\",\"butter\"]       226   \n",
      "108   nevadito  [\"flour\",\"chocolate chips\",\"milk\",\"vanilla ext...       216   \n",
      "113  chocolate       [\"flour\",\"chocolate chips\",\"sugar\",\"butter\"]       227   \n",
      "115   nevadito  [\"flour\",\"chocolate chips\",\"milk\",\"vanilla ext...       211   \n",
      "\n",
      "     radius  cost_to_make  large cookie  avg_radius  \n",
      "1     4.069          1.04          True    4.013588  \n",
      "6     3.684          1.17         False    3.983667  \n",
      "8     3.848          1.28         False    4.013588  \n",
      "13    3.182          1.53         False    3.983667  \n",
      "15    4.043          1.29          True    4.013588  \n",
      "20    3.383           NaN         False    3.983667  \n",
      "22    4.346          1.18          True    4.013588  \n",
      "26    3.937           NaN         False    3.983667  \n",
      "28    4.152          1.72          True    4.013588  \n",
      "33    3.681           NaN         False    3.983667  \n",
      "35    3.776          0.96         False    4.013588  \n",
      "40    4.212          0.97          True    3.983667  \n",
      "42    3.855          2.21         False    4.013588  \n",
      "47    4.217          1.19          True    3.983667  \n",
      "49    3.583          1.42         False    4.013588  \n",
      "54    4.328          1.34          True    3.983667  \n",
      "56    4.205          1.19          True    4.013588  \n",
      "61    3.824          1.15         False    3.983667  \n",
      "63    4.141          1.37          True    4.013588  \n",
      "72    4.461          1.67          True    3.983667  \n",
      "74    4.043          1.12          True    4.013588  \n",
      "79    4.474          1.14          True    3.983667  \n",
      "81    3.819          1.13         False    4.013588  \n",
      "86    4.207          1.14          True    3.983667  \n",
      "88    3.788          1.16         False    4.013588  \n",
      "94    3.802          1.79         False    4.013588  \n",
      "99    4.186          0.86          True    3.983667  \n",
      "101   4.619           NaN          True    4.013588  \n",
      "106   3.894          0.95         False    3.983667  \n",
      "108   4.227           NaN          True    4.013588  \n",
      "113   4.085          1.42          True    3.983667  \n",
      "115   3.915          1.61         False    4.013588  \n"
     ]
    }
   ],
   "source": [
    "#Add your code here\n",
    "cookies_choc = cookies[cookies['ingredients'].str.contains(\"chocolate chips\")]\n",
    "\n",
    "print(cookies_choc)"
   ]
  },
  {
   "attachments": {},
   "cell_type": "markdown",
   "metadata": {},
   "source": [
    "#### Problem 5\n",
    "\n",
    "Create a boxplot of `cost_to_make` for all cookies except `chocolate` using the `boxplot()` function."
   ]
  },
  {
   "cell_type": "code",
   "execution_count": 205,
   "metadata": {},
   "outputs": [
    {
     "data": {
      "image/png": "[encoded data removed]",
      "text/plain": [
       "<Figure size 640x480 with 1 Axes>"
      ]
     },
     "metadata": {},
     "output_type": "display_data"
    }
   ],
   "source": [
    "#Add your code here\n",
    "cookies_without_choc= cookies[cookies[\"cookie\"]!=\"chocolate\"][\"cost_to_make\"]\n",
    "plt.pyplot.boxplot(cookies_without_choc)\n",
    "plt.pyplot.show()\n",
    "\n"
   ]
  },
  {
   "attachments": {},
   "cell_type": "markdown",
   "metadata": {},
   "source": [
    "#### Problem 6\n",
    "\n",
    "Create a histogram of the `bad berry bunny`'s calories using the `plot()` function."
   ]
  },
  {
   "cell_type": "code",
   "execution_count": 208,
   "metadata": {},
   "outputs": [
    {
     "data": {
      "image/png": "[encoded data removed]",
      "text/plain": [
       "<Figure size 640x480 with 1 Axes>"
      ]
     },
     "metadata": {},
     "output_type": "display_data"
    }
   ],
   "source": [
    "#Add your code here\n",
    "import matplotlib as plt\n",
    "cookies_bbb = cookies[cookies['cookie'] == \"bad berry bunny\"]\n",
    "\n",
    "plt.pyplot.hist(cookies_bbb['calories'])\n",
    "plt.pyplot.show()"
   ]
  }
 ],
 "metadata": {
  "kernelspec": {
   "display_name": "Python 3",
   "language": "python",
   "name": "python3"
  },
  "language_info": {
   "codemirror_mode": {
    "name": "ipython",
    "version": 3
   },
   "file_extension": ".py",
   "mimetype": "text/x-python",
   "name": "python",
   "nbconvert_exporter": "python",
   "pygments_lexer": "ipython3",
   "version": "3.9.13"
  },
  "orig_nbformat": 4,
  "vscode": {
   "interpreter": {
    "hash": "10df00eab5bc80f37f746cca795c9dcf2d7c48f48a2563dba879eda8affef9de"
   }
  }
 },
 "nbformat": 4,
 "nbformat_minor": 2
}
