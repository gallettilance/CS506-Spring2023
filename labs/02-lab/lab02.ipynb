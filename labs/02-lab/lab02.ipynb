{
 "cells": [
  {
   "attachments": {},
   "cell_type": "markdown",
   "metadata": {},
   "source": [
    "## Lab 02 - Pandas and Data Visualization - 07 February, 2023\n",
    "This notebook will introduce you to the basics of Pandas and Data Visualization. You will learn how to load data into a Pandas DataFrame, how to perform basic data analysis, and how to visualize data. The first part of this notebook will be an interactive tutorial, and the second part will be practice exercises for you to do! Note that the practice problems will be checked when submitted!"
   ]
  },
  {
   "attachments": {},
   "cell_type": "markdown",
   "metadata": {},
   "source": [
    "### Pre-requisites"
   ]
  },
  {
   "cell_type": "code",
   "execution_count": 2,
   "metadata": {},
   "outputs": [],
   "source": [
    "import pandas"
   ]
  },
  {
   "attachments": {},
   "cell_type": "markdown",
   "metadata": {},
   "source": [
    "### Overview\n",
    "In this notebook, you will be learning how to use the Pandas library by working with the `cookies.csv` file. \n",
    "\n",
    "#### `cookies.csv` file\n",
    "\n",
    "The `cookies.csv` file contains information about cookies that were made from a single Rico's Bisquito's factory. There are, however, a few differences from the classes defined in homework0.\n",
    "\n",
    "Here, this dataset shows all the cookies made from a single factory, where now the `cost_to_make` may not be the same for a single cookie because someone may have, for example, added too much flour. \n",
    "\n",
    "The columns are the following:\n",
    "\n",
    "`cookie`: the name of a cookie\n",
    "`ingredients`: a list of the cookie's ingredients\n",
    "`calories`: the number of calories the created cookie has\n",
    "`radius`: the radius of the created cookie, in cm\n",
    "`cost_to_make`: the cost it took to make the created cookie, in dollars"
   ]
  },
  {
   "attachments": {},
   "cell_type": "markdown",
   "metadata": {},
   "source": [
    "### Reading the CSV file\n",
    "\n",
    "First, we need to import the Pandas library. We will be using the `pd` alias for the Pandas library."
   ]
  },
  {
   "cell_type": "code",
   "execution_count": 3,
   "metadata": {},
   "outputs": [],
   "source": [
    "import pandas as pd"
   ]
  },
  {
   "attachments": {},
   "cell_type": "markdown",
   "metadata": {},
   "source": [
    "We will now look at the `cookies.csv` file. We will use the `pd.read_csv()` function to read in the CSV file. We will store the data in a variable called `cookies`."
   ]
  },
  {
   "cell_type": "code",
   "execution_count": 4,
   "metadata": {},
   "outputs": [],
   "source": [
    "df = pd.read_csv('cookies.csv')"
   ]
  },
  {
   "attachments": {},
   "cell_type": "markdown",
   "metadata": {},
   "source": [
    "What is the DataFrame used? Well, Dataframes are a data structure that Pandas uses to store data. Dataframes are similar to tables in a database. Dataframes have rows and columns. Each row represents a single data point, and each column represents a feature of the data point."
   ]
  },
  {
   "attachments": {},
   "cell_type": "markdown",
   "metadata": {},
   "source": [
    "We will then make sure we imported the data correctly by printing out the first 10 rows of the data, using the `head()` function."
   ]
  },
  {
   "cell_type": "code",
   "execution_count": 5,
   "metadata": {},
   "outputs": [
    {
     "data": {
      "text/html": [
       "<div>\n",
       "<style scoped>\n",
       "    .dataframe tbody tr th:only-of-type {\n",
       "        vertical-align: middle;\n",
       "    }\n",
       "\n",
       "    .dataframe tbody tr th {\n",
       "        vertical-align: top;\n",
       "    }\n",
       "\n",
       "    .dataframe thead th {\n",
       "        text-align: right;\n",
       "    }\n",
       "</style>\n",
       "<table border=\"1\" class=\"dataframe\">\n",
       "  <thead>\n",
       "    <tr style=\"text-align: right;\">\n",
       "      <th></th>\n",
       "      <th>cookie</th>\n",
       "      <th>ingredients</th>\n",
       "      <th>calories</th>\n",
       "      <th>radius</th>\n",
       "      <th>cost_to_make</th>\n",
       "    </tr>\n",
       "  </thead>\n",
       "  <tbody>\n",
       "    <tr>\n",
       "      <th>0</th>\n",
       "      <td>laddoo lemon</td>\n",
       "      <td>[\"flour\",\"lemon juice\",\"sugar\",\"ghee\"]</td>\n",
       "      <td>170</td>\n",
       "      <td>3.102</td>\n",
       "      <td>0.67</td>\n",
       "    </tr>\n",
       "    <tr>\n",
       "      <th>1</th>\n",
       "      <td>nevadito</td>\n",
       "      <td>[\"flour\",\"chocolate chips\",\"milk\",\"vanilla ext...</td>\n",
       "      <td>224</td>\n",
       "      <td>4.069</td>\n",
       "      <td>1.04</td>\n",
       "    </tr>\n",
       "    <tr>\n",
       "      <th>2</th>\n",
       "      <td>red velvet rauw</td>\n",
       "      <td>[\"flour\",\"cocoa powder\",\"butter\",\"red food col...</td>\n",
       "      <td>198</td>\n",
       "      <td>3.780</td>\n",
       "      <td>1.07</td>\n",
       "    </tr>\n",
       "    <tr>\n",
       "      <th>3</th>\n",
       "      <td>bad berry bunny</td>\n",
       "      <td>[\"flour\",\"blueberries\",\"sugar\",\"butter\"]</td>\n",
       "      <td>191</td>\n",
       "      <td>4.148</td>\n",
       "      <td>1.39</td>\n",
       "    </tr>\n",
       "    <tr>\n",
       "      <th>4</th>\n",
       "      <td>orange ozuna</td>\n",
       "      <td>[\"flour\",\"orange juice\",\"sugar\",\"vegetable oil\"]</td>\n",
       "      <td>162</td>\n",
       "      <td>3.241</td>\n",
       "      <td>1.15</td>\n",
       "    </tr>\n",
       "    <tr>\n",
       "      <th>5</th>\n",
       "      <td>minty miami</td>\n",
       "      <td>[\"flour\",\"mint extract\",\"sugar\",\"butter\"]</td>\n",
       "      <td>204</td>\n",
       "      <td>3.964</td>\n",
       "      <td>0.84</td>\n",
       "    </tr>\n",
       "    <tr>\n",
       "      <th>6</th>\n",
       "      <td>chocolate</td>\n",
       "      <td>[\"flour\",\"chocolate chips\",\"sugar\",\"butter\"]</td>\n",
       "      <td>243</td>\n",
       "      <td>3.684</td>\n",
       "      <td>1.17</td>\n",
       "    </tr>\n",
       "    <tr>\n",
       "      <th>7</th>\n",
       "      <td>laddoo lemon</td>\n",
       "      <td>[\"flour\",\"lemon juice\",\"sugar\",\"ghee\"]</td>\n",
       "      <td>178</td>\n",
       "      <td>3.989</td>\n",
       "      <td>NaN</td>\n",
       "    </tr>\n",
       "    <tr>\n",
       "      <th>8</th>\n",
       "      <td>nevadito</td>\n",
       "      <td>[\"flour\",\"chocolate chips\",\"milk\",\"vanilla ext...</td>\n",
       "      <td>216</td>\n",
       "      <td>3.848</td>\n",
       "      <td>1.28</td>\n",
       "    </tr>\n",
       "    <tr>\n",
       "      <th>9</th>\n",
       "      <td>red velvet rauw</td>\n",
       "      <td>[\"flour\",\"cocoa powder\",\"butter\",\"red food col...</td>\n",
       "      <td>211</td>\n",
       "      <td>3.940</td>\n",
       "      <td>0.76</td>\n",
       "    </tr>\n",
       "  </tbody>\n",
       "</table>\n",
       "</div>"
      ],
      "text/plain": [
       "            cookie                                        ingredients  \\\n",
       "0     laddoo lemon             [\"flour\",\"lemon juice\",\"sugar\",\"ghee\"]   \n",
       "1         nevadito  [\"flour\",\"chocolate chips\",\"milk\",\"vanilla ext...   \n",
       "2  red velvet rauw  [\"flour\",\"cocoa powder\",\"butter\",\"red food col...   \n",
       "3  bad berry bunny           [\"flour\",\"blueberries\",\"sugar\",\"butter\"]   \n",
       "4     orange ozuna   [\"flour\",\"orange juice\",\"sugar\",\"vegetable oil\"]   \n",
       "5      minty miami          [\"flour\",\"mint extract\",\"sugar\",\"butter\"]   \n",
       "6        chocolate       [\"flour\",\"chocolate chips\",\"sugar\",\"butter\"]   \n",
       "7     laddoo lemon             [\"flour\",\"lemon juice\",\"sugar\",\"ghee\"]   \n",
       "8         nevadito  [\"flour\",\"chocolate chips\",\"milk\",\"vanilla ext...   \n",
       "9  red velvet rauw  [\"flour\",\"cocoa powder\",\"butter\",\"red food col...   \n",
       "\n",
       "   calories  radius  cost_to_make  \n",
       "0       170   3.102          0.67  \n",
       "1       224   4.069          1.04  \n",
       "2       198   3.780          1.07  \n",
       "3       191   4.148          1.39  \n",
       "4       162   3.241          1.15  \n",
       "5       204   3.964          0.84  \n",
       "6       243   3.684          1.17  \n",
       "7       178   3.989           NaN  \n",
       "8       216   3.848          1.28  \n",
       "9       211   3.940          0.76  "
      ]
     },
     "execution_count": 5,
     "metadata": {},
     "output_type": "execute_result"
    }
   ],
   "source": [
    "df.head(10)"
   ]
  },
  {
   "attachments": {},
   "cell_type": "markdown",
   "metadata": {},
   "source": [
    "### Checking data types\n",
    "You can check the data types of each column using the `dtypes` attribute of the DataFrame."
   ]
  },
  {
   "cell_type": "code",
   "execution_count": 6,
   "metadata": {},
   "outputs": [
    {
     "data": {
      "text/plain": [
       "cookie           object\n",
       "ingredients      object\n",
       "calories          int64\n",
       "radius          float64\n",
       "cost_to_make    float64\n",
       "dtype: object"
      ]
     },
     "execution_count": 6,
     "metadata": {},
     "output_type": "execute_result"
    }
   ],
   "source": [
    "df.dtypes"
   ]
  },
  {
   "attachments": {},
   "cell_type": "markdown",
   "metadata": {},
   "source": [
    "### Cleaning the data\n",
    "Now that we have the data, we need to clean it. For example, some `cost_to_make` fields of some created cookies are missing. To resolve this, we can do many things: we can replace the missing data with the mean of the column, or we can get rid of the row entirely if the `cost_to_make` field is not set. "
   ]
  },
  {
   "cell_type": "code",
   "execution_count": 7,
   "metadata": {},
   "outputs": [
    {
     "data": {
      "text/plain": [
       "cookie           0\n",
       "ingredients      0\n",
       "calories         0\n",
       "radius           0\n",
       "cost_to_make    15\n",
       "dtype: int64"
      ]
     },
     "execution_count": 7,
     "metadata": {},
     "output_type": "execute_result"
    }
   ],
   "source": [
    "df.isnull().sum()"
   ]
  },
  {
   "attachments": {},
   "cell_type": "markdown",
   "metadata": {},
   "source": [
    "To also make sure we removed null values, we can check the number of null values in each column using the `isnull()` function."
   ]
  },
  {
   "cell_type": "code",
   "execution_count": 8,
   "metadata": {},
   "outputs": [],
   "source": [
    "df1 = df.copy()\n",
    "df1['cost_to_make'] = df1['cost_to_make'].fillna(df['cost_to_make'].mean())"
   ]
  },
  {
   "attachments": {},
   "cell_type": "markdown",
   "metadata": {},
   "source": [
    "### Parsing the data\n",
    "Now that we have the data, we could parse it to get the information we want. For example, we can check what types of cookies were made by using the `unique()` function on the `cookie` column."
   ]
  },
  {
   "cell_type": "code",
   "execution_count": 9,
   "metadata": {},
   "outputs": [
    {
     "data": {
      "text/plain": [
       "array(['laddoo lemon', 'nevadito', 'red velvet rauw', 'bad berry bunny',\n",
       "       'orange ozuna', 'minty miami', 'chocolate'], dtype=object)"
      ]
     },
     "execution_count": 9,
     "metadata": {},
     "output_type": "execute_result"
    }
   ],
   "source": [
    "df1['cookie'].unique()"
   ]
  },
  {
   "attachments": {},
   "cell_type": "markdown",
   "metadata": {},
   "source": [
    "We can also check the number of cookies made by using the `value_counts()` function on the `cookie` column."
   ]
  },
  {
   "cell_type": "code",
   "execution_count": 10,
   "metadata": {},
   "outputs": [
    {
     "data": {
      "text/plain": [
       "red velvet rauw    18\n",
       "laddoo lemon       17\n",
       "nevadito           17\n",
       "bad berry bunny    17\n",
       "orange ozuna       17\n",
       "minty miami        17\n",
       "chocolate          15\n",
       "Name: cookie, dtype: int64"
      ]
     },
     "execution_count": 10,
     "metadata": {},
     "output_type": "execute_result"
    }
   ],
   "source": [
    "df1['cookie'].value_counts()"
   ]
  },
  {
   "attachments": {},
   "cell_type": "markdown",
   "metadata": {},
   "source": [
    "Or maybe we don't like how long the names of the cookies are, so we can shorten them by using the `replace()` function on the `cookie` column.\n",
    "\n",
    "For example, let's try changing `\"bad berry bunny\"` to `\"bbb\"`."
   ]
  },
  {
   "cell_type": "code",
   "execution_count": 11,
   "metadata": {},
   "outputs": [],
   "source": [
    "df1['cookie'].replace('bad berry bunny', 'bbb', inplace = True)\n",
    "# df1[df1['cookie'] == 'bad berry bunny']"
   ]
  },
  {
   "attachments": {},
   "cell_type": "markdown",
   "metadata": {},
   "source": [
    "We may even like the original names better, but we may want to get rid of the spaces. For example, we can change `\"orange ozuna\"` to `\"orange_ozuna\"`. Here, we will use the `str.replace()` function."
   ]
  },
  {
   "cell_type": "code",
   "execution_count": 12,
   "metadata": {},
   "outputs": [
    {
     "data": {
      "text/html": [
       "<div>\n",
       "<style scoped>\n",
       "    .dataframe tbody tr th:only-of-type {\n",
       "        vertical-align: middle;\n",
       "    }\n",
       "\n",
       "    .dataframe tbody tr th {\n",
       "        vertical-align: top;\n",
       "    }\n",
       "\n",
       "    .dataframe thead th {\n",
       "        text-align: right;\n",
       "    }\n",
       "</style>\n",
       "<table border=\"1\" class=\"dataframe\">\n",
       "  <thead>\n",
       "    <tr style=\"text-align: right;\">\n",
       "      <th></th>\n",
       "      <th>cookie</th>\n",
       "      <th>ingredients</th>\n",
       "      <th>calories</th>\n",
       "      <th>radius</th>\n",
       "      <th>cost_to_make</th>\n",
       "    </tr>\n",
       "  </thead>\n",
       "  <tbody>\n",
       "    <tr>\n",
       "      <th>4</th>\n",
       "      <td>orange_ozuna</td>\n",
       "      <td>[\"flour\",\"orange juice\",\"sugar\",\"vegetable oil\"]</td>\n",
       "      <td>162</td>\n",
       "      <td>3.241</td>\n",
       "      <td>1.150000</td>\n",
       "    </tr>\n",
       "    <tr>\n",
       "      <th>11</th>\n",
       "      <td>orange_ozuna</td>\n",
       "      <td>[\"flour\",\"orange juice\",\"sugar\",\"vegetable oil\"]</td>\n",
       "      <td>159</td>\n",
       "      <td>3.429</td>\n",
       "      <td>2.090000</td>\n",
       "    </tr>\n",
       "    <tr>\n",
       "      <th>18</th>\n",
       "      <td>orange_ozuna</td>\n",
       "      <td>[\"flour\",\"orange juice\",\"sugar\",\"vegetable oil\"]</td>\n",
       "      <td>156</td>\n",
       "      <td>3.765</td>\n",
       "      <td>1.630000</td>\n",
       "    </tr>\n",
       "    <tr>\n",
       "      <th>24</th>\n",
       "      <td>orange_ozuna</td>\n",
       "      <td>[\"flour\",\"orange juice\",\"sugar\",\"vegetable oil\"]</td>\n",
       "      <td>198</td>\n",
       "      <td>3.448</td>\n",
       "      <td>0.680000</td>\n",
       "    </tr>\n",
       "    <tr>\n",
       "      <th>31</th>\n",
       "      <td>orange_ozuna</td>\n",
       "      <td>[\"flour\",\"orange juice\",\"sugar\",\"vegetable oil\"]</td>\n",
       "      <td>162</td>\n",
       "      <td>3.498</td>\n",
       "      <td>1.180000</td>\n",
       "    </tr>\n",
       "    <tr>\n",
       "      <th>38</th>\n",
       "      <td>orange_ozuna</td>\n",
       "      <td>[\"flour\",\"orange juice\",\"sugar\",\"vegetable oil\"]</td>\n",
       "      <td>183</td>\n",
       "      <td>3.627</td>\n",
       "      <td>1.410000</td>\n",
       "    </tr>\n",
       "    <tr>\n",
       "      <th>45</th>\n",
       "      <td>orange_ozuna</td>\n",
       "      <td>[\"flour\",\"orange juice\",\"sugar\",\"vegetable oil\"]</td>\n",
       "      <td>159</td>\n",
       "      <td>3.462</td>\n",
       "      <td>1.010000</td>\n",
       "    </tr>\n",
       "    <tr>\n",
       "      <th>52</th>\n",
       "      <td>orange_ozuna</td>\n",
       "      <td>[\"flour\",\"orange juice\",\"sugar\",\"vegetable oil\"]</td>\n",
       "      <td>186</td>\n",
       "      <td>4.573</td>\n",
       "      <td>1.060000</td>\n",
       "    </tr>\n",
       "    <tr>\n",
       "      <th>59</th>\n",
       "      <td>orange_ozuna</td>\n",
       "      <td>[\"flour\",\"orange juice\",\"sugar\",\"vegetable oil\"]</td>\n",
       "      <td>158</td>\n",
       "      <td>4.003</td>\n",
       "      <td>1.000000</td>\n",
       "    </tr>\n",
       "    <tr>\n",
       "      <th>66</th>\n",
       "      <td>orange_ozuna</td>\n",
       "      <td>[\"flour\",\"orange juice\",\"sugar\",\"vegetable oil\"]</td>\n",
       "      <td>161</td>\n",
       "      <td>4.147</td>\n",
       "      <td>1.630000</td>\n",
       "    </tr>\n",
       "    <tr>\n",
       "      <th>70</th>\n",
       "      <td>orange_ozuna</td>\n",
       "      <td>[\"flour\",\"orange juice\",\"sugar\",\"vegetable oil\"]</td>\n",
       "      <td>166</td>\n",
       "      <td>1.695</td>\n",
       "      <td>0.820000</td>\n",
       "    </tr>\n",
       "    <tr>\n",
       "      <th>77</th>\n",
       "      <td>orange_ozuna</td>\n",
       "      <td>[\"flour\",\"orange juice\",\"sugar\",\"vegetable oil\"]</td>\n",
       "      <td>158</td>\n",
       "      <td>3.467</td>\n",
       "      <td>1.440000</td>\n",
       "    </tr>\n",
       "    <tr>\n",
       "      <th>84</th>\n",
       "      <td>orange_ozuna</td>\n",
       "      <td>[\"flour\",\"orange juice\",\"sugar\",\"vegetable oil\"]</td>\n",
       "      <td>156</td>\n",
       "      <td>3.451</td>\n",
       "      <td>1.630000</td>\n",
       "    </tr>\n",
       "    <tr>\n",
       "      <th>91</th>\n",
       "      <td>orange_ozuna</td>\n",
       "      <td>[\"flour\",\"orange juice\",\"sugar\",\"vegetable oil\"]</td>\n",
       "      <td>180</td>\n",
       "      <td>3.252</td>\n",
       "      <td>0.650000</td>\n",
       "    </tr>\n",
       "    <tr>\n",
       "      <th>97</th>\n",
       "      <td>orange_ozuna</td>\n",
       "      <td>[\"flour\",\"orange juice\",\"sugar\",\"vegetable oil\"]</td>\n",
       "      <td>179</td>\n",
       "      <td>3.246</td>\n",
       "      <td>1.480000</td>\n",
       "    </tr>\n",
       "    <tr>\n",
       "      <th>104</th>\n",
       "      <td>orange_ozuna</td>\n",
       "      <td>[\"flour\",\"orange juice\",\"sugar\",\"vegetable oil\"]</td>\n",
       "      <td>171</td>\n",
       "      <td>3.731</td>\n",
       "      <td>1.191068</td>\n",
       "    </tr>\n",
       "    <tr>\n",
       "      <th>111</th>\n",
       "      <td>orange_ozuna</td>\n",
       "      <td>[\"flour\",\"orange juice\",\"sugar\",\"vegetable oil\"]</td>\n",
       "      <td>153</td>\n",
       "      <td>3.794</td>\n",
       "      <td>0.600000</td>\n",
       "    </tr>\n",
       "  </tbody>\n",
       "</table>\n",
       "</div>"
      ],
      "text/plain": [
       "           cookie                                       ingredients  calories  \\\n",
       "4    orange_ozuna  [\"flour\",\"orange juice\",\"sugar\",\"vegetable oil\"]       162   \n",
       "11   orange_ozuna  [\"flour\",\"orange juice\",\"sugar\",\"vegetable oil\"]       159   \n",
       "18   orange_ozuna  [\"flour\",\"orange juice\",\"sugar\",\"vegetable oil\"]       156   \n",
       "24   orange_ozuna  [\"flour\",\"orange juice\",\"sugar\",\"vegetable oil\"]       198   \n",
       "31   orange_ozuna  [\"flour\",\"orange juice\",\"sugar\",\"vegetable oil\"]       162   \n",
       "38   orange_ozuna  [\"flour\",\"orange juice\",\"sugar\",\"vegetable oil\"]       183   \n",
       "45   orange_ozuna  [\"flour\",\"orange juice\",\"sugar\",\"vegetable oil\"]       159   \n",
       "52   orange_ozuna  [\"flour\",\"orange juice\",\"sugar\",\"vegetable oil\"]       186   \n",
       "59   orange_ozuna  [\"flour\",\"orange juice\",\"sugar\",\"vegetable oil\"]       158   \n",
       "66   orange_ozuna  [\"flour\",\"orange juice\",\"sugar\",\"vegetable oil\"]       161   \n",
       "70   orange_ozuna  [\"flour\",\"orange juice\",\"sugar\",\"vegetable oil\"]       166   \n",
       "77   orange_ozuna  [\"flour\",\"orange juice\",\"sugar\",\"vegetable oil\"]       158   \n",
       "84   orange_ozuna  [\"flour\",\"orange juice\",\"sugar\",\"vegetable oil\"]       156   \n",
       "91   orange_ozuna  [\"flour\",\"orange juice\",\"sugar\",\"vegetable oil\"]       180   \n",
       "97   orange_ozuna  [\"flour\",\"orange juice\",\"sugar\",\"vegetable oil\"]       179   \n",
       "104  orange_ozuna  [\"flour\",\"orange juice\",\"sugar\",\"vegetable oil\"]       171   \n",
       "111  orange_ozuna  [\"flour\",\"orange juice\",\"sugar\",\"vegetable oil\"]       153   \n",
       "\n",
       "     radius  cost_to_make  \n",
       "4     3.241      1.150000  \n",
       "11    3.429      2.090000  \n",
       "18    3.765      1.630000  \n",
       "24    3.448      0.680000  \n",
       "31    3.498      1.180000  \n",
       "38    3.627      1.410000  \n",
       "45    3.462      1.010000  \n",
       "52    4.573      1.060000  \n",
       "59    4.003      1.000000  \n",
       "66    4.147      1.630000  \n",
       "70    1.695      0.820000  \n",
       "77    3.467      1.440000  \n",
       "84    3.451      1.630000  \n",
       "91    3.252      0.650000  \n",
       "97    3.246      1.480000  \n",
       "104   3.731      1.191068  \n",
       "111   3.794      0.600000  "
      ]
     },
     "execution_count": 12,
     "metadata": {},
     "output_type": "execute_result"
    }
   ],
   "source": [
    "df1['cookie'] = df1['cookie'].str.replace('orange ozuna', 'orange_ozuna')\n",
    "df1[df1['cookie'] == 'orange_ozuna']"
   ]
  },
  {
   "attachments": {},
   "cell_type": "markdown",
   "metadata": {},
   "source": [
    "We may even just want to keep the first word of the cookie name. For example, we can change `\"orange_ozuna\"` to `\"orange\"`."
   ]
  },
  {
   "cell_type": "code",
   "execution_count": 13,
   "metadata": {},
   "outputs": [
    {
     "data": {
      "text/html": [
       "<div>\n",
       "<style scoped>\n",
       "    .dataframe tbody tr th:only-of-type {\n",
       "        vertical-align: middle;\n",
       "    }\n",
       "\n",
       "    .dataframe tbody tr th {\n",
       "        vertical-align: top;\n",
       "    }\n",
       "\n",
       "    .dataframe thead th {\n",
       "        text-align: right;\n",
       "    }\n",
       "</style>\n",
       "<table border=\"1\" class=\"dataframe\">\n",
       "  <thead>\n",
       "    <tr style=\"text-align: right;\">\n",
       "      <th></th>\n",
       "      <th>cookie</th>\n",
       "      <th>ingredients</th>\n",
       "      <th>calories</th>\n",
       "      <th>radius</th>\n",
       "      <th>cost_to_make</th>\n",
       "    </tr>\n",
       "  </thead>\n",
       "  <tbody>\n",
       "    <tr>\n",
       "      <th>0</th>\n",
       "      <td>laddoo</td>\n",
       "      <td>[\"flour\",\"lemon juice\",\"sugar\",\"ghee\"]</td>\n",
       "      <td>170</td>\n",
       "      <td>3.102</td>\n",
       "      <td>0.670000</td>\n",
       "    </tr>\n",
       "    <tr>\n",
       "      <th>1</th>\n",
       "      <td>nevadito</td>\n",
       "      <td>[\"flour\",\"chocolate chips\",\"milk\",\"vanilla ext...</td>\n",
       "      <td>224</td>\n",
       "      <td>4.069</td>\n",
       "      <td>1.040000</td>\n",
       "    </tr>\n",
       "    <tr>\n",
       "      <th>2</th>\n",
       "      <td>red</td>\n",
       "      <td>[\"flour\",\"cocoa powder\",\"butter\",\"red food col...</td>\n",
       "      <td>198</td>\n",
       "      <td>3.780</td>\n",
       "      <td>1.070000</td>\n",
       "    </tr>\n",
       "    <tr>\n",
       "      <th>3</th>\n",
       "      <td>bbb</td>\n",
       "      <td>[\"flour\",\"blueberries\",\"sugar\",\"butter\"]</td>\n",
       "      <td>191</td>\n",
       "      <td>4.148</td>\n",
       "      <td>1.390000</td>\n",
       "    </tr>\n",
       "    <tr>\n",
       "      <th>4</th>\n",
       "      <td>orange</td>\n",
       "      <td>[\"flour\",\"orange juice\",\"sugar\",\"vegetable oil\"]</td>\n",
       "      <td>162</td>\n",
       "      <td>3.241</td>\n",
       "      <td>1.150000</td>\n",
       "    </tr>\n",
       "    <tr>\n",
       "      <th>5</th>\n",
       "      <td>minty</td>\n",
       "      <td>[\"flour\",\"mint extract\",\"sugar\",\"butter\"]</td>\n",
       "      <td>204</td>\n",
       "      <td>3.964</td>\n",
       "      <td>0.840000</td>\n",
       "    </tr>\n",
       "    <tr>\n",
       "      <th>6</th>\n",
       "      <td>chocolate</td>\n",
       "      <td>[\"flour\",\"chocolate chips\",\"sugar\",\"butter\"]</td>\n",
       "      <td>243</td>\n",
       "      <td>3.684</td>\n",
       "      <td>1.170000</td>\n",
       "    </tr>\n",
       "    <tr>\n",
       "      <th>7</th>\n",
       "      <td>laddoo</td>\n",
       "      <td>[\"flour\",\"lemon juice\",\"sugar\",\"ghee\"]</td>\n",
       "      <td>178</td>\n",
       "      <td>3.989</td>\n",
       "      <td>1.191068</td>\n",
       "    </tr>\n",
       "    <tr>\n",
       "      <th>8</th>\n",
       "      <td>nevadito</td>\n",
       "      <td>[\"flour\",\"chocolate chips\",\"milk\",\"vanilla ext...</td>\n",
       "      <td>216</td>\n",
       "      <td>3.848</td>\n",
       "      <td>1.280000</td>\n",
       "    </tr>\n",
       "    <tr>\n",
       "      <th>9</th>\n",
       "      <td>red</td>\n",
       "      <td>[\"flour\",\"cocoa powder\",\"butter\",\"red food col...</td>\n",
       "      <td>211</td>\n",
       "      <td>3.940</td>\n",
       "      <td>0.760000</td>\n",
       "    </tr>\n",
       "  </tbody>\n",
       "</table>\n",
       "</div>"
      ],
      "text/plain": [
       "      cookie                                        ingredients  calories  \\\n",
       "0     laddoo             [\"flour\",\"lemon juice\",\"sugar\",\"ghee\"]       170   \n",
       "1   nevadito  [\"flour\",\"chocolate chips\",\"milk\",\"vanilla ext...       224   \n",
       "2        red  [\"flour\",\"cocoa powder\",\"butter\",\"red food col...       198   \n",
       "3        bbb           [\"flour\",\"blueberries\",\"sugar\",\"butter\"]       191   \n",
       "4     orange   [\"flour\",\"orange juice\",\"sugar\",\"vegetable oil\"]       162   \n",
       "5      minty          [\"flour\",\"mint extract\",\"sugar\",\"butter\"]       204   \n",
       "6  chocolate       [\"flour\",\"chocolate chips\",\"sugar\",\"butter\"]       243   \n",
       "7     laddoo             [\"flour\",\"lemon juice\",\"sugar\",\"ghee\"]       178   \n",
       "8   nevadito  [\"flour\",\"chocolate chips\",\"milk\",\"vanilla ext...       216   \n",
       "9        red  [\"flour\",\"cocoa powder\",\"butter\",\"red food col...       211   \n",
       "\n",
       "   radius  cost_to_make  \n",
       "0   3.102      0.670000  \n",
       "1   4.069      1.040000  \n",
       "2   3.780      1.070000  \n",
       "3   4.148      1.390000  \n",
       "4   3.241      1.150000  \n",
       "5   3.964      0.840000  \n",
       "6   3.684      1.170000  \n",
       "7   3.989      1.191068  \n",
       "8   3.848      1.280000  \n",
       "9   3.940      0.760000  "
      ]
     },
     "execution_count": 13,
     "metadata": {},
     "output_type": "execute_result"
    }
   ],
   "source": [
    "df1['cookie'] = df1['cookie'].str.split(\" \").str[0]\n",
    "df1['cookie'] = df1['cookie'].str.split(\"_\").str[0]\n",
    "df1.head(10)"
   ]
  },
  {
   "attachments": {},
   "cell_type": "markdown",
   "metadata": {},
   "source": [
    "Another thing that may come to mind is that maybe getting flour could cost more money due to inflation, so we have to adjust our `cost_to_make` values, similar to how in the homework there is a `price_adjustments`. We can do this by using the `apply()` function on the `cost_to_make` column."
   ]
  },
  {
   "cell_type": "code",
   "execution_count": 14,
   "metadata": {},
   "outputs": [],
   "source": [
    "#Don't edit this method\n",
    "def adjust_cost(cost):\n",
    "    return cost + 0.5\n",
    "df1['cost_to_make'] = df1['cost_to_make'].apply(adjust_cost)"
   ]
  },
  {
   "attachments": {},
   "cell_type": "markdown",
   "metadata": {},
   "source": [
    "And we can do a lot more things! We will see these concepts be used in the next homework assignment, along with a couple new ones to show you how powerful Pandas is."
   ]
  },
  {
   "attachments": {},
   "cell_type": "markdown",
   "metadata": {},
   "source": [
    "### More complicated operations: Grouping, Filtering, Aggregating"
   ]
  },
  {
   "attachments": {},
   "cell_type": "markdown",
   "metadata": {},
   "source": [
    "We may also want to group data by certain attributes. This can be done by using `groupby()`. This method takes in a column name, and groups the data by the values in that column. For example, we can group the data by the `cookie` column."
   ]
  },
  {
   "cell_type": "code",
   "execution_count": 15,
   "metadata": {},
   "outputs": [],
   "source": [
    "df2 = df1.groupby(['cookie'])"
   ]
  },
  {
   "attachments": {},
   "cell_type": "markdown",
   "metadata": {},
   "source": [
    "We can also group by multiple columns. For example, we can group the data by the `cookie` and `ingredients` columns."
   ]
  },
  {
   "cell_type": "code",
   "execution_count": 16,
   "metadata": {},
   "outputs": [],
   "source": [
    "df2 = df1.groupby(['cookie', 'ingredients'])"
   ]
  },
  {
   "attachments": {},
   "cell_type": "markdown",
   "metadata": {},
   "source": [
    "We may also want to filter the data. For example, we can filter the data to only show the cookies that have a radius greater than 4.3 cm. We can do this by indexing the DataFrame with a boolean expression."
   ]
  },
  {
   "cell_type": "code",
   "execution_count": 17,
   "metadata": {},
   "outputs": [
    {
     "data": {
      "text/html": [
       "<div>\n",
       "<style scoped>\n",
       "    .dataframe tbody tr th:only-of-type {\n",
       "        vertical-align: middle;\n",
       "    }\n",
       "\n",
       "    .dataframe tbody tr th {\n",
       "        vertical-align: top;\n",
       "    }\n",
       "\n",
       "    .dataframe thead th {\n",
       "        text-align: right;\n",
       "    }\n",
       "</style>\n",
       "<table border=\"1\" class=\"dataframe\">\n",
       "  <thead>\n",
       "    <tr style=\"text-align: right;\">\n",
       "      <th></th>\n",
       "      <th>cookie</th>\n",
       "      <th>ingredients</th>\n",
       "      <th>calories</th>\n",
       "      <th>radius</th>\n",
       "      <th>cost_to_make</th>\n",
       "    </tr>\n",
       "  </thead>\n",
       "  <tbody>\n",
       "    <tr>\n",
       "      <th>22</th>\n",
       "      <td>nevadito</td>\n",
       "      <td>[\"flour\",\"chocolate chips\",\"milk\",\"vanilla ext...</td>\n",
       "      <td>219</td>\n",
       "      <td>4.346</td>\n",
       "      <td>1.68</td>\n",
       "    </tr>\n",
       "    <tr>\n",
       "      <th>23</th>\n",
       "      <td>red</td>\n",
       "      <td>[\"flour\",\"cocoa powder\",\"butter\",\"red food col...</td>\n",
       "      <td>204</td>\n",
       "      <td>4.667</td>\n",
       "      <td>1.90</td>\n",
       "    </tr>\n",
       "    <tr>\n",
       "      <th>39</th>\n",
       "      <td>minty</td>\n",
       "      <td>[\"flour\",\"mint extract\",\"sugar\",\"butter\"]</td>\n",
       "      <td>174</td>\n",
       "      <td>4.388</td>\n",
       "      <td>1.14</td>\n",
       "    </tr>\n",
       "    <tr>\n",
       "      <th>41</th>\n",
       "      <td>laddoo</td>\n",
       "      <td>[\"flour\",\"lemon juice\",\"sugar\",\"ghee\"]</td>\n",
       "      <td>195</td>\n",
       "      <td>4.562</td>\n",
       "      <td>1.12</td>\n",
       "    </tr>\n",
       "    <tr>\n",
       "      <th>52</th>\n",
       "      <td>orange</td>\n",
       "      <td>[\"flour\",\"orange juice\",\"sugar\",\"vegetable oil\"]</td>\n",
       "      <td>186</td>\n",
       "      <td>4.573</td>\n",
       "      <td>1.56</td>\n",
       "    </tr>\n",
       "    <tr>\n",
       "      <th>54</th>\n",
       "      <td>chocolate</td>\n",
       "      <td>[\"flour\",\"chocolate chips\",\"sugar\",\"butter\"]</td>\n",
       "      <td>206</td>\n",
       "      <td>4.328</td>\n",
       "      <td>1.84</td>\n",
       "    </tr>\n",
       "    <tr>\n",
       "      <th>64</th>\n",
       "      <td>red</td>\n",
       "      <td>[\"flour\",\"cocoa powder\",\"butter\",\"red food col...</td>\n",
       "      <td>196</td>\n",
       "      <td>4.425</td>\n",
       "      <td>1.37</td>\n",
       "    </tr>\n",
       "    <tr>\n",
       "      <th>68</th>\n",
       "      <td>red</td>\n",
       "      <td>[\"flour\",\"cocoa powder\",\"butter\",\"red food col...</td>\n",
       "      <td>206</td>\n",
       "      <td>4.319</td>\n",
       "      <td>1.74</td>\n",
       "    </tr>\n",
       "    <tr>\n",
       "      <th>72</th>\n",
       "      <td>chocolate</td>\n",
       "      <td>[\"flour\",\"chocolate chips\",\"sugar\",\"butter\"]</td>\n",
       "      <td>197</td>\n",
       "      <td>4.461</td>\n",
       "      <td>2.17</td>\n",
       "    </tr>\n",
       "    <tr>\n",
       "      <th>79</th>\n",
       "      <td>chocolate</td>\n",
       "      <td>[\"flour\",\"chocolate chips\",\"sugar\",\"butter\"]</td>\n",
       "      <td>199</td>\n",
       "      <td>4.474</td>\n",
       "      <td>1.64</td>\n",
       "    </tr>\n",
       "  </tbody>\n",
       "</table>\n",
       "</div>"
      ],
      "text/plain": [
       "       cookie                                        ingredients  calories  \\\n",
       "22   nevadito  [\"flour\",\"chocolate chips\",\"milk\",\"vanilla ext...       219   \n",
       "23        red  [\"flour\",\"cocoa powder\",\"butter\",\"red food col...       204   \n",
       "39      minty          [\"flour\",\"mint extract\",\"sugar\",\"butter\"]       174   \n",
       "41     laddoo             [\"flour\",\"lemon juice\",\"sugar\",\"ghee\"]       195   \n",
       "52     orange   [\"flour\",\"orange juice\",\"sugar\",\"vegetable oil\"]       186   \n",
       "54  chocolate       [\"flour\",\"chocolate chips\",\"sugar\",\"butter\"]       206   \n",
       "64        red  [\"flour\",\"cocoa powder\",\"butter\",\"red food col...       196   \n",
       "68        red  [\"flour\",\"cocoa powder\",\"butter\",\"red food col...       206   \n",
       "72  chocolate       [\"flour\",\"chocolate chips\",\"sugar\",\"butter\"]       197   \n",
       "79  chocolate       [\"flour\",\"chocolate chips\",\"sugar\",\"butter\"]       199   \n",
       "\n",
       "    radius  cost_to_make  \n",
       "22   4.346          1.68  \n",
       "23   4.667          1.90  \n",
       "39   4.388          1.14  \n",
       "41   4.562          1.12  \n",
       "52   4.573          1.56  \n",
       "54   4.328          1.84  \n",
       "64   4.425          1.37  \n",
       "68   4.319          1.74  \n",
       "72   4.461          2.17  \n",
       "79   4.474          1.64  "
      ]
     },
     "execution_count": 17,
     "metadata": {},
     "output_type": "execute_result"
    }
   ],
   "source": [
    "df3 = df1[df1['radius'] > 4.3]\n",
    "df3.head(10)"
   ]
  },
  {
   "attachments": {},
   "cell_type": "markdown",
   "metadata": {},
   "source": [
    "We may even want to use `groupby()` and filter idea together! For example, we can filter the data to only show the cookies that have a radius greater than 4.3 cm, and group the data by the `cookie` column."
   ]
  },
  {
   "cell_type": "code",
   "execution_count": 18,
   "metadata": {},
   "outputs": [
    {
     "data": {
      "text/html": [
       "<div>\n",
       "<style scoped>\n",
       "    .dataframe tbody tr th:only-of-type {\n",
       "        vertical-align: middle;\n",
       "    }\n",
       "\n",
       "    .dataframe tbody tr th {\n",
       "        vertical-align: top;\n",
       "    }\n",
       "\n",
       "    .dataframe thead th {\n",
       "        text-align: right;\n",
       "    }\n",
       "</style>\n",
       "<table border=\"1\" class=\"dataframe\">\n",
       "  <thead>\n",
       "    <tr style=\"text-align: right;\">\n",
       "      <th></th>\n",
       "      <th>cookie</th>\n",
       "      <th>ingredients</th>\n",
       "      <th>calories</th>\n",
       "      <th>radius</th>\n",
       "      <th>cost_to_make</th>\n",
       "    </tr>\n",
       "  </thead>\n",
       "  <tbody>\n",
       "    <tr>\n",
       "      <th>22</th>\n",
       "      <td>nevadito</td>\n",
       "      <td>[\"flour\",\"chocolate chips\",\"milk\",\"vanilla ext...</td>\n",
       "      <td>219</td>\n",
       "      <td>4.346</td>\n",
       "      <td>1.680000</td>\n",
       "    </tr>\n",
       "    <tr>\n",
       "      <th>23</th>\n",
       "      <td>red</td>\n",
       "      <td>[\"flour\",\"cocoa powder\",\"butter\",\"red food col...</td>\n",
       "      <td>204</td>\n",
       "      <td>4.667</td>\n",
       "      <td>1.900000</td>\n",
       "    </tr>\n",
       "    <tr>\n",
       "      <th>39</th>\n",
       "      <td>minty</td>\n",
       "      <td>[\"flour\",\"mint extract\",\"sugar\",\"butter\"]</td>\n",
       "      <td>174</td>\n",
       "      <td>4.388</td>\n",
       "      <td>1.140000</td>\n",
       "    </tr>\n",
       "    <tr>\n",
       "      <th>41</th>\n",
       "      <td>laddoo</td>\n",
       "      <td>[\"flour\",\"lemon juice\",\"sugar\",\"ghee\"]</td>\n",
       "      <td>195</td>\n",
       "      <td>4.562</td>\n",
       "      <td>1.120000</td>\n",
       "    </tr>\n",
       "    <tr>\n",
       "      <th>52</th>\n",
       "      <td>orange</td>\n",
       "      <td>[\"flour\",\"orange juice\",\"sugar\",\"vegetable oil\"]</td>\n",
       "      <td>186</td>\n",
       "      <td>4.573</td>\n",
       "      <td>1.560000</td>\n",
       "    </tr>\n",
       "    <tr>\n",
       "      <th>54</th>\n",
       "      <td>chocolate</td>\n",
       "      <td>[\"flour\",\"chocolate chips\",\"sugar\",\"butter\"]</td>\n",
       "      <td>206</td>\n",
       "      <td>4.328</td>\n",
       "      <td>1.840000</td>\n",
       "    </tr>\n",
       "    <tr>\n",
       "      <th>64</th>\n",
       "      <td>red</td>\n",
       "      <td>[\"flour\",\"cocoa powder\",\"butter\",\"red food col...</td>\n",
       "      <td>196</td>\n",
       "      <td>4.425</td>\n",
       "      <td>1.370000</td>\n",
       "    </tr>\n",
       "    <tr>\n",
       "      <th>68</th>\n",
       "      <td>red</td>\n",
       "      <td>[\"flour\",\"cocoa powder\",\"butter\",\"red food col...</td>\n",
       "      <td>206</td>\n",
       "      <td>4.319</td>\n",
       "      <td>1.740000</td>\n",
       "    </tr>\n",
       "    <tr>\n",
       "      <th>72</th>\n",
       "      <td>chocolate</td>\n",
       "      <td>[\"flour\",\"chocolate chips\",\"sugar\",\"butter\"]</td>\n",
       "      <td>197</td>\n",
       "      <td>4.461</td>\n",
       "      <td>2.170000</td>\n",
       "    </tr>\n",
       "    <tr>\n",
       "      <th>79</th>\n",
       "      <td>chocolate</td>\n",
       "      <td>[\"flour\",\"chocolate chips\",\"sugar\",\"butter\"]</td>\n",
       "      <td>199</td>\n",
       "      <td>4.474</td>\n",
       "      <td>1.640000</td>\n",
       "    </tr>\n",
       "    <tr>\n",
       "      <th>80</th>\n",
       "      <td>laddoo</td>\n",
       "      <td>[\"flour\",\"lemon juice\",\"sugar\",\"ghee\"]</td>\n",
       "      <td>167</td>\n",
       "      <td>4.401</td>\n",
       "      <td>1.740000</td>\n",
       "    </tr>\n",
       "    <tr>\n",
       "      <th>89</th>\n",
       "      <td>red</td>\n",
       "      <td>[\"flour\",\"cocoa powder\",\"butter\",\"red food col...</td>\n",
       "      <td>191</td>\n",
       "      <td>4.475</td>\n",
       "      <td>1.740000</td>\n",
       "    </tr>\n",
       "    <tr>\n",
       "      <th>92</th>\n",
       "      <td>minty</td>\n",
       "      <td>[\"flour\",\"mint extract\",\"sugar\",\"butter\"]</td>\n",
       "      <td>185</td>\n",
       "      <td>4.307</td>\n",
       "      <td>1.691068</td>\n",
       "    </tr>\n",
       "    <tr>\n",
       "      <th>93</th>\n",
       "      <td>laddoo</td>\n",
       "      <td>[\"flour\",\"lemon juice\",\"sugar\",\"ghee\"]</td>\n",
       "      <td>178</td>\n",
       "      <td>4.519</td>\n",
       "      <td>1.910000</td>\n",
       "    </tr>\n",
       "    <tr>\n",
       "      <th>101</th>\n",
       "      <td>nevadito</td>\n",
       "      <td>[\"flour\",\"chocolate chips\",\"milk\",\"vanilla ext...</td>\n",
       "      <td>211</td>\n",
       "      <td>4.619</td>\n",
       "      <td>1.691068</td>\n",
       "    </tr>\n",
       "    <tr>\n",
       "      <th>102</th>\n",
       "      <td>red</td>\n",
       "      <td>[\"flour\",\"cocoa powder\",\"butter\",\"red food col...</td>\n",
       "      <td>198</td>\n",
       "      <td>4.930</td>\n",
       "      <td>1.550000</td>\n",
       "    </tr>\n",
       "  </tbody>\n",
       "</table>\n",
       "</div>"
      ],
      "text/plain": [
       "        cookie                                        ingredients  calories  \\\n",
       "22    nevadito  [\"flour\",\"chocolate chips\",\"milk\",\"vanilla ext...       219   \n",
       "23         red  [\"flour\",\"cocoa powder\",\"butter\",\"red food col...       204   \n",
       "39       minty          [\"flour\",\"mint extract\",\"sugar\",\"butter\"]       174   \n",
       "41      laddoo             [\"flour\",\"lemon juice\",\"sugar\",\"ghee\"]       195   \n",
       "52      orange   [\"flour\",\"orange juice\",\"sugar\",\"vegetable oil\"]       186   \n",
       "54   chocolate       [\"flour\",\"chocolate chips\",\"sugar\",\"butter\"]       206   \n",
       "64         red  [\"flour\",\"cocoa powder\",\"butter\",\"red food col...       196   \n",
       "68         red  [\"flour\",\"cocoa powder\",\"butter\",\"red food col...       206   \n",
       "72   chocolate       [\"flour\",\"chocolate chips\",\"sugar\",\"butter\"]       197   \n",
       "79   chocolate       [\"flour\",\"chocolate chips\",\"sugar\",\"butter\"]       199   \n",
       "80      laddoo             [\"flour\",\"lemon juice\",\"sugar\",\"ghee\"]       167   \n",
       "89         red  [\"flour\",\"cocoa powder\",\"butter\",\"red food col...       191   \n",
       "92       minty          [\"flour\",\"mint extract\",\"sugar\",\"butter\"]       185   \n",
       "93      laddoo             [\"flour\",\"lemon juice\",\"sugar\",\"ghee\"]       178   \n",
       "101   nevadito  [\"flour\",\"chocolate chips\",\"milk\",\"vanilla ext...       211   \n",
       "102        red  [\"flour\",\"cocoa powder\",\"butter\",\"red food col...       198   \n",
       "\n",
       "     radius  cost_to_make  \n",
       "22    4.346      1.680000  \n",
       "23    4.667      1.900000  \n",
       "39    4.388      1.140000  \n",
       "41    4.562      1.120000  \n",
       "52    4.573      1.560000  \n",
       "54    4.328      1.840000  \n",
       "64    4.425      1.370000  \n",
       "68    4.319      1.740000  \n",
       "72    4.461      2.170000  \n",
       "79    4.474      1.640000  \n",
       "80    4.401      1.740000  \n",
       "89    4.475      1.740000  \n",
       "92    4.307      1.691068  \n",
       "93    4.519      1.910000  \n",
       "101   4.619      1.691068  \n",
       "102   4.930      1.550000  "
      ]
     },
     "execution_count": 18,
     "metadata": {},
     "output_type": "execute_result"
    }
   ],
   "source": [
    "df3 = df3.groupby(['cookie'])\n",
    "df3.head(10)"
   ]
  },
  {
   "attachments": {},
   "cell_type": "markdown",
   "metadata": {},
   "source": [
    "We may also want to aggregate the data. For example, we can aggregate the data by looking at the ratio of calories to radius. We can do this by using indexing and the `apply()` function."
   ]
  },
  {
   "cell_type": "code",
   "execution_count": 19,
   "metadata": {},
   "outputs": [],
   "source": [
    "df4 = df1.copy()\n",
    "def calculate_cal_per_radius(row):\n",
    "    return (row['calories'] / row['radius'])\n",
    "df4['CaloriesPerRadius'] = df4.apply(calculate_cal_per_radius, axis = 1)"
   ]
  },
  {
   "attachments": {},
   "cell_type": "markdown",
   "metadata": {},
   "source": [
    "Or we can just get rid of this column if we find it useless. We can do this by using the `drop()` function or indexing."
   ]
  },
  {
   "cell_type": "code",
   "execution_count": 20,
   "metadata": {},
   "outputs": [],
   "source": [
    "df4.drop(columns='CaloriesPerRadius', inplace=True)"
   ]
  },
  {
   "attachments": {},
   "cell_type": "markdown",
   "metadata": {},
   "source": [
    "### Visualizing the data"
   ]
  },
  {
   "attachments": {},
   "cell_type": "markdown",
   "metadata": {},
   "source": [
    "We can also visualize the data. For example, we can visualize the data by plotting the radius of the cookies against the cost to make the cookies. We can do this by using the `plot()` function."
   ]
  },
  {
   "cell_type": "code",
   "execution_count": 21,
   "metadata": {},
   "outputs": [
    {
     "data": {
      "image/png": "[encoded data removed]",
      "text/plain": [
       "<Figure size 640x480 with 1 Axes>"
      ]
     },
     "metadata": {},
     "output_type": "display_data"
    }
   ],
   "source": [
    "import matplotlib.pyplot as mpl\n",
    "mpl.scatter(df['radius'], df['cost_to_make'])\n",
    "mpl.xlabel('Radius')\n",
    "mpl.ylabel('Cost to Make')\n",
    "mpl.title('Radius vs Cost to Make')\n",
    "mpl.show()"
   ]
  },
  {
   "attachments": {},
   "cell_type": "markdown",
   "metadata": {},
   "source": [
    "We may even want to get more specific and visualize the shape of a distribution of the `laddoo lemon`'s radius by making a boxplot. We can also do this by using the `plot()` function."
   ]
  },
  {
   "cell_type": "code",
   "execution_count": 22,
   "metadata": {},
   "outputs": [
    {
     "data": {
      "text/plain": [
       "<AxesSubplot: >"
      ]
     },
     "execution_count": 22,
     "metadata": {},
     "output_type": "execute_result"
    },
    {
     "data": {
      "image/png": "[encoded data removed]",
      "text/plain": [
       "<Figure size 640x480 with 1 Axes>"
      ]
     },
     "metadata": {},
     "output_type": "display_data"
    }
   ],
   "source": [
    "df[df[\"cookie\"] == \"laddoo lemon\"][\"radius\"].plot.box()"
   ]
  },
  {
   "attachments": {},
   "cell_type": "markdown",
   "metadata": {},
   "source": [
    "Alternatively, we can create a histogram to visualize the distribution of the `laddoo lemon`'s radius. We can also do this by using the `plot()` function."
   ]
  },
  {
   "cell_type": "code",
   "execution_count": 23,
   "metadata": {},
   "outputs": [
    {
     "data": {
      "text/plain": [
       "<AxesSubplot: ylabel='Frequency'>"
      ]
     },
     "execution_count": 23,
     "metadata": {},
     "output_type": "execute_result"
    },
    {
     "data": {
      "image/png": "[encoded data removed]",
      "text/plain": [
       "<Figure size 640x480 with 1 Axes>"
      ]
     },
     "metadata": {},
     "output_type": "display_data"
    }
   ],
   "source": [
    "df[df[\"cookie\"] == \"laddoo lemon\"][\"radius\"].plot.hist()"
   ]
  },
  {
   "attachments": {},
   "cell_type": "markdown",
   "metadata": {},
   "source": [
    "Things can get more complicated too. Maybe we want to analyze the behaviors of `bad berry bunny` and `laddoo lemon`'s radius using a boxplot. But this time, let's try it using the alternative `boxplot()` function. For practice, try doing it with `plot()` too!"
   ]
  },
  {
   "cell_type": "code",
   "execution_count": 24,
   "metadata": {},
   "outputs": [
    {
     "data": {
      "image/png": "[encoded data removed]",
      "text/plain": [
       "<Figure size 640x480 with 1 Axes>"
      ]
     },
     "metadata": {},
     "output_type": "display_data"
    }
   ],
   "source": [
    "mpl.boxplot(x=df['radius'][df['cookie'] == 'bad berry bunny'], labels=['bad berry bunny'])\n",
    "mpl.boxplot(x=df['radius'][df['cookie'] == 'laddoo lemon'], labels=['laddoo lemon'], positions=[2])\n",
    "mpl.show()"
   ]
  },
  {
   "attachments": {},
   "cell_type": "markdown",
   "metadata": {},
   "source": [
    "### Practice Problems\n",
    "Now that you have learned some of Pandas' capabilities, let's try some practice problems! **This is the part that will be checked when you submit it!**"
   ]
  },
  {
   "attachments": {},
   "cell_type": "markdown",
   "metadata": {},
   "source": [
    "#### Problem 1\n",
    "How many cookies were made? (Hint: use the `shape` attribute)"
   ]
  },
  {
   "cell_type": "code",
   "execution_count": 25,
   "metadata": {},
   "outputs": [
    {
     "name": "stdout",
     "output_type": "stream",
     "text": [
      "Number of cookies:  118\n"
     ]
    }
   ],
   "source": [
    "print(\"Number of cookies: \", df.shape[0])"
   ]
  },
  {
   "attachments": {},
   "cell_type": "markdown",
   "metadata": {},
   "source": [
    "#### Problem 2\n",
    "Add a column to the DataFrame that has the value `True` if the cookie has a radius greater than 4 cm, and `False` otherwise. (Hint: use the `apply()` function)"
   ]
  },
  {
   "cell_type": "code",
   "execution_count": 26,
   "metadata": {},
   "outputs": [],
   "source": [
    "def cookie_radius(row):\n",
    "    return (row['radius'] > 4)\n",
    "df['radius_flag'] = df.apply(cookie_radius, axis = 1)"
   ]
  },
  {
   "attachments": {},
   "cell_type": "markdown",
   "metadata": {},
   "source": [
    "#### Problem 3\n",
    "\n",
    "Group the data by the `cookie` column, and find the average radius of each cookie. (Hint: use the `groupby()` and `transform()` function). Add this column to the DataFrame."
   ]
  },
  {
   "cell_type": "code",
   "execution_count": 27,
   "metadata": {},
   "outputs": [],
   "source": [
    "df['avg_radius'] = df.groupby('cookie')['radius'].transform('mean')"
   ]
  },
  {
   "attachments": {},
   "cell_type": "markdown",
   "metadata": {},
   "source": [
    "#### Problem 4\n",
    "Create a new DataFrame that only contains the cookies that have the ingredient `\"chocolate chips\"`. (Hint: use the `str.contains()` function)"
   ]
  },
  {
   "cell_type": "code",
   "execution_count": 28,
   "metadata": {},
   "outputs": [],
   "source": [
    "chocolate_chip_df = df[df['ingredients'].str.contains('chocolate chips')]"
   ]
  },
  {
   "attachments": {},
   "cell_type": "markdown",
   "metadata": {},
   "source": [
    "#### Problem 5\n",
    "\n",
    "Create a boxplot of `cost_to_make` for all cookies except `chocolate` using the `boxplot()` function."
   ]
  },
  {
   "cell_type": "code",
   "execution_count": 30,
   "metadata": {},
   "outputs": [
    {
     "name": "stdout",
     "output_type": "stream",
     "text": [
      "            cookie                                        ingredients  \\\n",
      "0     laddoo lemon             [\"flour\",\"lemon juice\",\"sugar\",\"ghee\"]   \n",
      "1         nevadito  [\"flour\",\"chocolate chips\",\"milk\",\"vanilla ext...   \n",
      "2  red velvet rauw  [\"flour\",\"cocoa powder\",\"butter\",\"red food col...   \n",
      "3  bad berry bunny           [\"flour\",\"blueberries\",\"sugar\",\"butter\"]   \n",
      "4     orange ozuna   [\"flour\",\"orange juice\",\"sugar\",\"vegetable oil\"]   \n",
      "\n",
      "   calories  radius  cost_to_make  radius_flag  avg_radius  \n",
      "0       170   3.102          0.67        False    3.782118  \n",
      "1       224   4.069          1.04         True    4.013588  \n",
      "2       198   3.780          1.07        False    4.077444  \n",
      "3       191   4.148          1.39         True    3.911000  \n",
      "4       162   3.241          1.15        False    3.519353  \n"
     ]
    },
    {
     "data": {
      "image/png": "[encoded data removed]",
      "text/plain": [
       "<Figure size 640x480 with 1 Axes>"
      ]
     },
     "metadata": {},
     "output_type": "display_data"
    }
   ],
   "source": [
    "no_chocolate_df = df[df['cookie'] != \"chocolate\"]\n",
    "print(no_chocolate_df\n",
    "mpl.boxplot(no_chocolate_df['cost_to_make']) \n",
    "mpl.xlabel('Cookie')\n",
    "mpl.ylabel('Cost to Make')\n",
    "mpl.title('Cost to Make of Cookies (Not Chocolate)')\n",
    "mpl.show()"
   ]
  },
  {
   "attachments": {},
   "cell_type": "markdown",
   "metadata": {},
   "source": [
    "#### Problem 6\n",
    "\n",
    "Create a histogram of the `bad berry bunny`'s calories using the `plot()` function."
   ]
  },
  {
   "cell_type": "code",
   "execution_count": 80,
   "metadata": {},
   "outputs": [
    {
     "data": {
      "image/png": "[encoded data removed]",
      "text/plain": [
       "<Figure size 640x480 with 1 Axes>"
      ]
     },
     "metadata": {},
     "output_type": "display_data"
    }
   ],
   "source": [
    "df_bad_berry_bunny = df[df['cookie'] == 'bad berry bunny']\n",
    "df_bad_berry_bunny['calories'].plot(kind='hist')\n",
    "mpl.show()"
   ]
  }
 ],
 "metadata": {
  "kernelspec": {
   "display_name": "CS506",
   "language": "python",
   "name": "python3"
  },
  "language_info": {
   "codemirror_mode": {
    "name": "ipython",
    "version": 3
   },
   "file_extension": ".py",
   "mimetype": "text/x-python",
   "name": "python",
   "nbconvert_exporter": "python",
   "pygments_lexer": "ipython3",
   "version": "3.9.16"
  },
  "orig_nbformat": 4,
  "vscode": {
   "interpreter": {
    "hash": "da93aa8044f24be74a204dd2cf0eb4cda582893c87f880f4c24cfa6b398c6212"
   }
  }
 },
 "nbformat": 4,
 "nbformat_minor": 2
}
