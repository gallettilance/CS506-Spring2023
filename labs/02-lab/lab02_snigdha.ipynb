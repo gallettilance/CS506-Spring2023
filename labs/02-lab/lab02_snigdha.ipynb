{
 "cells": [
  {
   "attachments": {},
   "cell_type": "markdown",
   "metadata": {},
   "source": [
    "## Lab 02 - Pandas and Data Visualization - 07 February, 2023\n",
    "This notebook will introduce you to the basics of Pandas and Data Visualization. You will learn how to load data into a Pandas DataFrame, how to perform basic data analysis, and how to visualize data. The first part of this notebook will be an interactive tutorial, and the second part will be practice exercises for you to do! Note that the practice problems will be checked when submitted!"
   ]
  },
  {
   "attachments": {},
   "cell_type": "markdown",
   "metadata": {},
   "source": [
    "### Pre-requisites"
   ]
  },
  {
   "cell_type": "code",
   "execution_count": null,
   "metadata": {},
   "outputs": [],
   "source": [
    "# In case you don't have pandas, uncomment\n",
    "# the following lines and run the cell\n",
    "\n",
    "# %pip install pandas"
   ]
  },
  {
   "attachments": {},
   "cell_type": "markdown",
   "metadata": {},
   "source": [
    "### Overview\n",
    "In this notebook, you will be learning how to use the Pandas library by working with the `cookies.csv` file. \n",
    "\n",
    "#### `cookies.csv` file\n",
    "\n",
    "The `cookies.csv` file contains information about cookies that were made from a single Rico's Bisquito's factory. There are, however, a few differences from the classes defined in homework0.\n",
    "\n",
    "Here, this dataset shows all the cookies made from a single factory, where now the `cost_to_make` may not be the same for a single cookie because someone may have, for example, added too much flour. \n",
    "\n",
    "The columns are the following:\n",
    "\n",
    "`cookie`: the name of a cookie\n",
    "`ingredients`: a list of the cookie's ingredients\n",
    "`calories`: the number of calories the created cookie has\n",
    "`radius`: the radius of the created cookie, in cm\n",
    "`cost_to_make`: the cost it took to make the created cookie, in dollars"
   ]
  },
  {
   "attachments": {},
   "cell_type": "markdown",
   "metadata": {},
   "source": [
    "### Reading the CSV file\n",
    "\n",
    "First, we need to import the Pandas library. We will be using the `pd` alias for the Pandas library."
   ]
  },
  {
   "cell_type": "code",
   "execution_count": 2,
   "metadata": {},
   "outputs": [],
   "source": [
    "#TODO: import pandas and matplotlib in this cell\n",
    "import pandas as pd\n",
    "import matplotlib.pylab as plt"
   ]
  },
  {
   "attachments": {},
   "cell_type": "markdown",
   "metadata": {},
   "source": [
    "We will now look at the `cookies.csv` file. We will use the `pd.read_csv()` function to read in the CSV file. We will store the data in a variable called `cookies`."
   ]
  },
  {
   "cell_type": "code",
   "execution_count": 3,
   "metadata": {},
   "outputs": [],
   "source": [
    "#TODO: read the cookies.csv file into a pandas dataframe\n",
    "df=pd.read_csv(\"cookies.csv\")"
   ]
  },
  {
   "attachments": {},
   "cell_type": "markdown",
   "metadata": {},
   "source": [
    "What is the DataFrame used? Well, Dataframes are a data structure that Pandas uses to store data. Dataframes are similar to tables in a database. Dataframes have rows and columns. Each row represents a single data point, and each column represents a feature of the data point."
   ]
  },
  {
   "attachments": {},
   "cell_type": "markdown",
   "metadata": {},
   "source": [
    "We will then make sure we imported the data correctly by printing out the first 10 rows of the data, using the `head()` function."
   ]
  },
  {
   "cell_type": "code",
   "execution_count": 4,
   "metadata": {},
   "outputs": [
    {
     "data": {
      "text/html": [
       "<div>\n",
       "<style scoped>\n",
       "    .dataframe tbody tr th:only-of-type {\n",
       "        vertical-align: middle;\n",
       "    }\n",
       "\n",
       "    .dataframe tbody tr th {\n",
       "        vertical-align: top;\n",
       "    }\n",
       "\n",
       "    .dataframe thead th {\n",
       "        text-align: right;\n",
       "    }\n",
       "</style>\n",
       "<table border=\"1\" class=\"dataframe\">\n",
       "  <thead>\n",
       "    <tr style=\"text-align: right;\">\n",
       "      <th></th>\n",
       "      <th>cookie</th>\n",
       "      <th>ingredients</th>\n",
       "      <th>calories</th>\n",
       "      <th>radius</th>\n",
       "      <th>cost_to_make</th>\n",
       "    </tr>\n",
       "  </thead>\n",
       "  <tbody>\n",
       "    <tr>\n",
       "      <th>0</th>\n",
       "      <td>laddoo lemon</td>\n",
       "      <td>[\"flour\",\"lemon juice\",\"sugar\",\"ghee\"]</td>\n",
       "      <td>170</td>\n",
       "      <td>3.102</td>\n",
       "      <td>0.67</td>\n",
       "    </tr>\n",
       "    <tr>\n",
       "      <th>1</th>\n",
       "      <td>nevadito</td>\n",
       "      <td>[\"flour\",\"chocolate chips\",\"milk\",\"vanilla ext...</td>\n",
       "      <td>224</td>\n",
       "      <td>4.069</td>\n",
       "      <td>1.04</td>\n",
       "    </tr>\n",
       "    <tr>\n",
       "      <th>2</th>\n",
       "      <td>red velvet rauw</td>\n",
       "      <td>[\"flour\",\"cocoa powder\",\"butter\",\"red food col...</td>\n",
       "      <td>198</td>\n",
       "      <td>3.780</td>\n",
       "      <td>1.07</td>\n",
       "    </tr>\n",
       "    <tr>\n",
       "      <th>3</th>\n",
       "      <td>bad berry bunny</td>\n",
       "      <td>[\"flour\",\"blueberries\",\"sugar\",\"butter\"]</td>\n",
       "      <td>191</td>\n",
       "      <td>4.148</td>\n",
       "      <td>1.39</td>\n",
       "    </tr>\n",
       "    <tr>\n",
       "      <th>4</th>\n",
       "      <td>orange ozuna</td>\n",
       "      <td>[\"flour\",\"orange juice\",\"sugar\",\"vegetable oil\"]</td>\n",
       "      <td>162</td>\n",
       "      <td>3.241</td>\n",
       "      <td>1.15</td>\n",
       "    </tr>\n",
       "    <tr>\n",
       "      <th>5</th>\n",
       "      <td>minty miami</td>\n",
       "      <td>[\"flour\",\"mint extract\",\"sugar\",\"butter\"]</td>\n",
       "      <td>204</td>\n",
       "      <td>3.964</td>\n",
       "      <td>0.84</td>\n",
       "    </tr>\n",
       "    <tr>\n",
       "      <th>6</th>\n",
       "      <td>chocolate</td>\n",
       "      <td>[\"flour\",\"chocolate chips\",\"sugar\",\"butter\"]</td>\n",
       "      <td>243</td>\n",
       "      <td>3.684</td>\n",
       "      <td>1.17</td>\n",
       "    </tr>\n",
       "    <tr>\n",
       "      <th>7</th>\n",
       "      <td>laddoo lemon</td>\n",
       "      <td>[\"flour\",\"lemon juice\",\"sugar\",\"ghee\"]</td>\n",
       "      <td>178</td>\n",
       "      <td>3.989</td>\n",
       "      <td>NaN</td>\n",
       "    </tr>\n",
       "    <tr>\n",
       "      <th>8</th>\n",
       "      <td>nevadito</td>\n",
       "      <td>[\"flour\",\"chocolate chips\",\"milk\",\"vanilla ext...</td>\n",
       "      <td>216</td>\n",
       "      <td>3.848</td>\n",
       "      <td>1.28</td>\n",
       "    </tr>\n",
       "    <tr>\n",
       "      <th>9</th>\n",
       "      <td>red velvet rauw</td>\n",
       "      <td>[\"flour\",\"cocoa powder\",\"butter\",\"red food col...</td>\n",
       "      <td>211</td>\n",
       "      <td>3.940</td>\n",
       "      <td>0.76</td>\n",
       "    </tr>\n",
       "  </tbody>\n",
       "</table>\n",
       "</div>"
      ],
      "text/plain": [
       "            cookie                                        ingredients  \\\n",
       "0     laddoo lemon             [\"flour\",\"lemon juice\",\"sugar\",\"ghee\"]   \n",
       "1         nevadito  [\"flour\",\"chocolate chips\",\"milk\",\"vanilla ext...   \n",
       "2  red velvet rauw  [\"flour\",\"cocoa powder\",\"butter\",\"red food col...   \n",
       "3  bad berry bunny           [\"flour\",\"blueberries\",\"sugar\",\"butter\"]   \n",
       "4     orange ozuna   [\"flour\",\"orange juice\",\"sugar\",\"vegetable oil\"]   \n",
       "5      minty miami          [\"flour\",\"mint extract\",\"sugar\",\"butter\"]   \n",
       "6        chocolate       [\"flour\",\"chocolate chips\",\"sugar\",\"butter\"]   \n",
       "7     laddoo lemon             [\"flour\",\"lemon juice\",\"sugar\",\"ghee\"]   \n",
       "8         nevadito  [\"flour\",\"chocolate chips\",\"milk\",\"vanilla ext...   \n",
       "9  red velvet rauw  [\"flour\",\"cocoa powder\",\"butter\",\"red food col...   \n",
       "\n",
       "   calories  radius  cost_to_make  \n",
       "0       170   3.102          0.67  \n",
       "1       224   4.069          1.04  \n",
       "2       198   3.780          1.07  \n",
       "3       191   4.148          1.39  \n",
       "4       162   3.241          1.15  \n",
       "5       204   3.964          0.84  \n",
       "6       243   3.684          1.17  \n",
       "7       178   3.989           NaN  \n",
       "8       216   3.848          1.28  \n",
       "9       211   3.940          0.76  "
      ]
     },
     "execution_count": 4,
     "metadata": {},
     "output_type": "execute_result"
    }
   ],
   "source": [
    "#TODO: print the head of the dataframe\n",
    "df.head(10)"
   ]
  },
  {
   "attachments": {},
   "cell_type": "markdown",
   "metadata": {},
   "source": [
    "### Checking data types\n",
    "You can check the data types of each column using the `dtypes` attribute of the DataFrame."
   ]
  },
  {
   "cell_type": "code",
   "execution_count": 5,
   "metadata": {},
   "outputs": [
    {
     "data": {
      "text/plain": [
       "cookie           object\n",
       "ingredients      object\n",
       "calories          int64\n",
       "radius          float64\n",
       "cost_to_make    float64\n",
       "dtype: object"
      ]
     },
     "execution_count": 5,
     "metadata": {},
     "output_type": "execute_result"
    }
   ],
   "source": [
    "#TODO: check the data types of the columns\n",
    "df.dtypes"
   ]
  },
  {
   "attachments": {},
   "cell_type": "markdown",
   "metadata": {},
   "source": [
    "### Cleaning the data\n",
    "Now that we have the data, we need to clean it. For example, some `cost_to_make` fields of some created cookies are missing. To resolve this, we can do many things: we can replace the missing data with the mean of the column, or we can get rid of the row entirely if the `cost_to_make` field is not set. "
   ]
  },
  {
   "cell_type": "code",
   "execution_count": 11,
   "metadata": {},
   "outputs": [
    {
     "data": {
      "text/plain": [
       "cookie           0\n",
       "ingredients      0\n",
       "calories         0\n",
       "radius           0\n",
       "cost_to_make    15\n",
       "dtype: int64"
      ]
     },
     "execution_count": 11,
     "metadata": {},
     "output_type": "execute_result"
    }
   ],
   "source": [
    "#TODO: clean the dataframe and \n",
    "# print the head again to make sure \n",
    "# the changes took effect\n",
    "df.isnull().sum()"
   ]
  },
  {
   "cell_type": "code",
   "execution_count": 14,
   "metadata": {},
   "outputs": [
    {
     "data": {
      "text/html": [
       "<div>\n",
       "<style scoped>\n",
       "    .dataframe tbody tr th:only-of-type {\n",
       "        vertical-align: middle;\n",
       "    }\n",
       "\n",
       "    .dataframe tbody tr th {\n",
       "        vertical-align: top;\n",
       "    }\n",
       "\n",
       "    .dataframe thead th {\n",
       "        text-align: right;\n",
       "    }\n",
       "</style>\n",
       "<table border=\"1\" class=\"dataframe\">\n",
       "  <thead>\n",
       "    <tr style=\"text-align: right;\">\n",
       "      <th></th>\n",
       "      <th>cookie</th>\n",
       "      <th>ingredients</th>\n",
       "      <th>calories</th>\n",
       "      <th>radius</th>\n",
       "      <th>cost_to_make</th>\n",
       "    </tr>\n",
       "  </thead>\n",
       "  <tbody>\n",
       "    <tr>\n",
       "      <th>0</th>\n",
       "      <td>laddoo lemon</td>\n",
       "      <td>[\"flour\",\"lemon juice\",\"sugar\",\"ghee\"]</td>\n",
       "      <td>170</td>\n",
       "      <td>3.102</td>\n",
       "      <td>0.670000</td>\n",
       "    </tr>\n",
       "    <tr>\n",
       "      <th>1</th>\n",
       "      <td>nevadito</td>\n",
       "      <td>[\"flour\",\"chocolate chips\",\"milk\",\"vanilla ext...</td>\n",
       "      <td>224</td>\n",
       "      <td>4.069</td>\n",
       "      <td>1.040000</td>\n",
       "    </tr>\n",
       "    <tr>\n",
       "      <th>2</th>\n",
       "      <td>red velvet rauw</td>\n",
       "      <td>[\"flour\",\"cocoa powder\",\"butter\",\"red food col...</td>\n",
       "      <td>198</td>\n",
       "      <td>3.780</td>\n",
       "      <td>1.070000</td>\n",
       "    </tr>\n",
       "    <tr>\n",
       "      <th>3</th>\n",
       "      <td>bad berry bunny</td>\n",
       "      <td>[\"flour\",\"blueberries\",\"sugar\",\"butter\"]</td>\n",
       "      <td>191</td>\n",
       "      <td>4.148</td>\n",
       "      <td>1.390000</td>\n",
       "    </tr>\n",
       "    <tr>\n",
       "      <th>4</th>\n",
       "      <td>orange ozuna</td>\n",
       "      <td>[\"flour\",\"orange juice\",\"sugar\",\"vegetable oil\"]</td>\n",
       "      <td>162</td>\n",
       "      <td>3.241</td>\n",
       "      <td>1.150000</td>\n",
       "    </tr>\n",
       "    <tr>\n",
       "      <th>5</th>\n",
       "      <td>minty miami</td>\n",
       "      <td>[\"flour\",\"mint extract\",\"sugar\",\"butter\"]</td>\n",
       "      <td>204</td>\n",
       "      <td>3.964</td>\n",
       "      <td>0.840000</td>\n",
       "    </tr>\n",
       "    <tr>\n",
       "      <th>6</th>\n",
       "      <td>chocolate</td>\n",
       "      <td>[\"flour\",\"chocolate chips\",\"sugar\",\"butter\"]</td>\n",
       "      <td>243</td>\n",
       "      <td>3.684</td>\n",
       "      <td>1.170000</td>\n",
       "    </tr>\n",
       "    <tr>\n",
       "      <th>7</th>\n",
       "      <td>laddoo lemon</td>\n",
       "      <td>[\"flour\",\"lemon juice\",\"sugar\",\"ghee\"]</td>\n",
       "      <td>178</td>\n",
       "      <td>3.989</td>\n",
       "      <td>1.191068</td>\n",
       "    </tr>\n",
       "    <tr>\n",
       "      <th>8</th>\n",
       "      <td>nevadito</td>\n",
       "      <td>[\"flour\",\"chocolate chips\",\"milk\",\"vanilla ext...</td>\n",
       "      <td>216</td>\n",
       "      <td>3.848</td>\n",
       "      <td>1.280000</td>\n",
       "    </tr>\n",
       "    <tr>\n",
       "      <th>9</th>\n",
       "      <td>red velvet rauw</td>\n",
       "      <td>[\"flour\",\"cocoa powder\",\"butter\",\"red food col...</td>\n",
       "      <td>211</td>\n",
       "      <td>3.940</td>\n",
       "      <td>0.760000</td>\n",
       "    </tr>\n",
       "  </tbody>\n",
       "</table>\n",
       "</div>"
      ],
      "text/plain": [
       "            cookie                                        ingredients  \\\n",
       "0     laddoo lemon             [\"flour\",\"lemon juice\",\"sugar\",\"ghee\"]   \n",
       "1         nevadito  [\"flour\",\"chocolate chips\",\"milk\",\"vanilla ext...   \n",
       "2  red velvet rauw  [\"flour\",\"cocoa powder\",\"butter\",\"red food col...   \n",
       "3  bad berry bunny           [\"flour\",\"blueberries\",\"sugar\",\"butter\"]   \n",
       "4     orange ozuna   [\"flour\",\"orange juice\",\"sugar\",\"vegetable oil\"]   \n",
       "5      minty miami          [\"flour\",\"mint extract\",\"sugar\",\"butter\"]   \n",
       "6        chocolate       [\"flour\",\"chocolate chips\",\"sugar\",\"butter\"]   \n",
       "7     laddoo lemon             [\"flour\",\"lemon juice\",\"sugar\",\"ghee\"]   \n",
       "8         nevadito  [\"flour\",\"chocolate chips\",\"milk\",\"vanilla ext...   \n",
       "9  red velvet rauw  [\"flour\",\"cocoa powder\",\"butter\",\"red food col...   \n",
       "\n",
       "   calories  radius  cost_to_make  \n",
       "0       170   3.102      0.670000  \n",
       "1       224   4.069      1.040000  \n",
       "2       198   3.780      1.070000  \n",
       "3       191   4.148      1.390000  \n",
       "4       162   3.241      1.150000  \n",
       "5       204   3.964      0.840000  \n",
       "6       243   3.684      1.170000  \n",
       "7       178   3.989      1.191068  \n",
       "8       216   3.848      1.280000  \n",
       "9       211   3.940      0.760000  "
      ]
     },
     "execution_count": 14,
     "metadata": {},
     "output_type": "execute_result"
    }
   ],
   "source": [
    "df_copy1=df.copy()\n",
    "df_copy2=df.copy()\n",
    "#replace with mean\n",
    "df_copy1[\"cost_to_make\"].fillna(df[\"cost_to_make\"].mean(), inplace=True)\n",
    "df_copy1.head(10)"
   ]
  },
  {
   "cell_type": "code",
   "execution_count": 15,
   "metadata": {},
   "outputs": [
    {
     "data": {
      "text/html": [
       "<div>\n",
       "<style scoped>\n",
       "    .dataframe tbody tr th:only-of-type {\n",
       "        vertical-align: middle;\n",
       "    }\n",
       "\n",
       "    .dataframe tbody tr th {\n",
       "        vertical-align: top;\n",
       "    }\n",
       "\n",
       "    .dataframe thead th {\n",
       "        text-align: right;\n",
       "    }\n",
       "</style>\n",
       "<table border=\"1\" class=\"dataframe\">\n",
       "  <thead>\n",
       "    <tr style=\"text-align: right;\">\n",
       "      <th></th>\n",
       "      <th>cookie</th>\n",
       "      <th>ingredients</th>\n",
       "      <th>calories</th>\n",
       "      <th>radius</th>\n",
       "      <th>cost_to_make</th>\n",
       "    </tr>\n",
       "  </thead>\n",
       "  <tbody>\n",
       "    <tr>\n",
       "      <th>0</th>\n",
       "      <td>laddoo lemon</td>\n",
       "      <td>[\"flour\",\"lemon juice\",\"sugar\",\"ghee\"]</td>\n",
       "      <td>170</td>\n",
       "      <td>3.102</td>\n",
       "      <td>0.67</td>\n",
       "    </tr>\n",
       "    <tr>\n",
       "      <th>1</th>\n",
       "      <td>nevadito</td>\n",
       "      <td>[\"flour\",\"chocolate chips\",\"milk\",\"vanilla ext...</td>\n",
       "      <td>224</td>\n",
       "      <td>4.069</td>\n",
       "      <td>1.04</td>\n",
       "    </tr>\n",
       "    <tr>\n",
       "      <th>2</th>\n",
       "      <td>red velvet rauw</td>\n",
       "      <td>[\"flour\",\"cocoa powder\",\"butter\",\"red food col...</td>\n",
       "      <td>198</td>\n",
       "      <td>3.780</td>\n",
       "      <td>1.07</td>\n",
       "    </tr>\n",
       "    <tr>\n",
       "      <th>3</th>\n",
       "      <td>bad berry bunny</td>\n",
       "      <td>[\"flour\",\"blueberries\",\"sugar\",\"butter\"]</td>\n",
       "      <td>191</td>\n",
       "      <td>4.148</td>\n",
       "      <td>1.39</td>\n",
       "    </tr>\n",
       "    <tr>\n",
       "      <th>4</th>\n",
       "      <td>orange ozuna</td>\n",
       "      <td>[\"flour\",\"orange juice\",\"sugar\",\"vegetable oil\"]</td>\n",
       "      <td>162</td>\n",
       "      <td>3.241</td>\n",
       "      <td>1.15</td>\n",
       "    </tr>\n",
       "    <tr>\n",
       "      <th>5</th>\n",
       "      <td>minty miami</td>\n",
       "      <td>[\"flour\",\"mint extract\",\"sugar\",\"butter\"]</td>\n",
       "      <td>204</td>\n",
       "      <td>3.964</td>\n",
       "      <td>0.84</td>\n",
       "    </tr>\n",
       "    <tr>\n",
       "      <th>6</th>\n",
       "      <td>chocolate</td>\n",
       "      <td>[\"flour\",\"chocolate chips\",\"sugar\",\"butter\"]</td>\n",
       "      <td>243</td>\n",
       "      <td>3.684</td>\n",
       "      <td>1.17</td>\n",
       "    </tr>\n",
       "    <tr>\n",
       "      <th>8</th>\n",
       "      <td>nevadito</td>\n",
       "      <td>[\"flour\",\"chocolate chips\",\"milk\",\"vanilla ext...</td>\n",
       "      <td>216</td>\n",
       "      <td>3.848</td>\n",
       "      <td>1.28</td>\n",
       "    </tr>\n",
       "    <tr>\n",
       "      <th>9</th>\n",
       "      <td>red velvet rauw</td>\n",
       "      <td>[\"flour\",\"cocoa powder\",\"butter\",\"red food col...</td>\n",
       "      <td>211</td>\n",
       "      <td>3.940</td>\n",
       "      <td>0.76</td>\n",
       "    </tr>\n",
       "    <tr>\n",
       "      <th>10</th>\n",
       "      <td>bad berry bunny</td>\n",
       "      <td>[\"flour\",\"blueberries\",\"sugar\",\"butter\"]</td>\n",
       "      <td>183</td>\n",
       "      <td>3.874</td>\n",
       "      <td>1.07</td>\n",
       "    </tr>\n",
       "  </tbody>\n",
       "</table>\n",
       "</div>"
      ],
      "text/plain": [
       "             cookie                                        ingredients  \\\n",
       "0      laddoo lemon             [\"flour\",\"lemon juice\",\"sugar\",\"ghee\"]   \n",
       "1          nevadito  [\"flour\",\"chocolate chips\",\"milk\",\"vanilla ext...   \n",
       "2   red velvet rauw  [\"flour\",\"cocoa powder\",\"butter\",\"red food col...   \n",
       "3   bad berry bunny           [\"flour\",\"blueberries\",\"sugar\",\"butter\"]   \n",
       "4      orange ozuna   [\"flour\",\"orange juice\",\"sugar\",\"vegetable oil\"]   \n",
       "5       minty miami          [\"flour\",\"mint extract\",\"sugar\",\"butter\"]   \n",
       "6         chocolate       [\"flour\",\"chocolate chips\",\"sugar\",\"butter\"]   \n",
       "8          nevadito  [\"flour\",\"chocolate chips\",\"milk\",\"vanilla ext...   \n",
       "9   red velvet rauw  [\"flour\",\"cocoa powder\",\"butter\",\"red food col...   \n",
       "10  bad berry bunny           [\"flour\",\"blueberries\",\"sugar\",\"butter\"]   \n",
       "\n",
       "    calories  radius  cost_to_make  \n",
       "0        170   3.102          0.67  \n",
       "1        224   4.069          1.04  \n",
       "2        198   3.780          1.07  \n",
       "3        191   4.148          1.39  \n",
       "4        162   3.241          1.15  \n",
       "5        204   3.964          0.84  \n",
       "6        243   3.684          1.17  \n",
       "8        216   3.848          1.28  \n",
       "9        211   3.940          0.76  \n",
       "10       183   3.874          1.07  "
      ]
     },
     "execution_count": 15,
     "metadata": {},
     "output_type": "execute_result"
    }
   ],
   "source": [
    "df_copy2.dropna(inplace=True)\n",
    "df_copy2.head(10)"
   ]
  },
  {
   "attachments": {},
   "cell_type": "markdown",
   "metadata": {},
   "source": [
    "To also make sure we removed null values, we can check the number of null values in each column using the `isnull()` function."
   ]
  },
  {
   "cell_type": "code",
   "execution_count": 16,
   "metadata": {},
   "outputs": [
    {
     "name": "stdout",
     "output_type": "stream",
     "text": [
      "cookie          0\n",
      "ingredients     0\n",
      "calories        0\n",
      "radius          0\n",
      "cost_to_make    0\n",
      "dtype: int64 \n",
      "\n",
      "\n",
      "cookie          0\n",
      "ingredients     0\n",
      "calories        0\n",
      "radius          0\n",
      "cost_to_make    0\n",
      "dtype: int64\n"
     ]
    }
   ],
   "source": [
    "#TODO: use the isnull method to make sure your data is clean\n",
    "print(df_copy1.isnull().sum(),\"\\n\\n\")\n",
    "print(df_copy2.isnull().sum())"
   ]
  },
  {
   "attachments": {},
   "cell_type": "markdown",
   "metadata": {},
   "source": [
    "### Parsing the data\n",
    "Now that we have the data, we could parse it to get the information we want. For example, we can check what types of cookies were made by using the `unique()` function on the `cookie` column."
   ]
  },
  {
   "cell_type": "code",
   "execution_count": 17,
   "metadata": {},
   "outputs": [
    {
     "data": {
      "text/plain": [
       "array(['laddoo lemon', 'nevadito', 'red velvet rauw', 'bad berry bunny',\n",
       "       'orange ozuna', 'minty miami', 'chocolate'], dtype=object)"
      ]
     },
     "execution_count": 17,
     "metadata": {},
     "output_type": "execute_result"
    }
   ],
   "source": [
    "#TODO: see what cookies are in the dataset\n",
    "df_copy1['cookie'].unique()"
   ]
  },
  {
   "attachments": {},
   "cell_type": "markdown",
   "metadata": {},
   "source": [
    "We can also check the number of cookies made by using the `value_counts()` function on the `cookie` column."
   ]
  },
  {
   "cell_type": "code",
   "execution_count": 18,
   "metadata": {},
   "outputs": [
    {
     "data": {
      "text/plain": [
       "red velvet rauw    18\n",
       "laddoo lemon       17\n",
       "nevadito           17\n",
       "bad berry bunny    17\n",
       "orange ozuna       17\n",
       "minty miami        17\n",
       "chocolate          15\n",
       "Name: cookie, dtype: int64"
      ]
     },
     "execution_count": 18,
     "metadata": {},
     "output_type": "execute_result"
    }
   ],
   "source": [
    "#TODO: use value_counts() to see how many \n",
    "# cookies of each type there are\n",
    "df_copy1['cookie'].value_counts()"
   ]
  },
  {
   "attachments": {},
   "cell_type": "markdown",
   "metadata": {},
   "source": [
    "Or maybe we don't like how long the names of the cookies are, so we can shorten them by using the `replace()` function on the `cookie` column.\n",
    "\n",
    "For example, let's try changing `\"bad berry bunny\"` to `\"bbb\"`."
   ]
  },
  {
   "cell_type": "code",
   "execution_count": 29,
   "metadata": {},
   "outputs": [
    {
     "data": {
      "text/plain": [
       "array(['laddoo lemon', 'nevadito', 'red velvet rauw', 'bbb',\n",
       "       'orange ozuna', 'minty miami', 'chocolate'], dtype=object)"
      ]
     },
     "execution_count": 29,
     "metadata": {},
     "output_type": "execute_result"
    }
   ],
   "source": [
    "#TODO: change bad berry bunny data elements to \"bbb\"\n",
    "df_copy1['cookie'].replace(\"bad berry bunny\",\"bbb\",inplace=True)\n",
    "df_copy1['cookie'].unique()"
   ]
  },
  {
   "attachments": {},
   "cell_type": "markdown",
   "metadata": {},
   "source": [
    "We may even like the original names better, but we may want to get rid of the spaces. For example, we can change `\"orange ozuna\"` to `\"orange_ozuna\"`. Here, we will use the `str.replace()` function."
   ]
  },
  {
   "cell_type": "code",
   "execution_count": 60,
   "metadata": {},
   "outputs": [
    {
     "data": {
      "text/plain": [
       "array(['laddoo lemon', 'nevadito', 'red velvet rauw', 'bbb',\n",
       "       'orange_ozuna', 'minty miami', 'chocolate'], dtype=object)"
      ]
     },
     "execution_count": 60,
     "metadata": {},
     "output_type": "execute_result"
    }
   ],
   "source": [
    "#TODO: adjust orange ozuna as described\n",
    "df_copy1['cookie'].replace(\"orange ozuna\",\"orange_ozuna\",inplace=True)\n",
    "df_copy1['cookie'].unique()"
   ]
  },
  {
   "attachments": {},
   "cell_type": "markdown",
   "metadata": {},
   "source": [
    "We may even just want to keep the first word of the cookie name. For example, we can change `\"orange_ozuna\"` to `\"orange\"`."
   ]
  },
  {
   "cell_type": "code",
   "execution_count": 61,
   "metadata": {},
   "outputs": [
    {
     "data": {
      "text/plain": [
       "0         laddoo\n",
       "1       nevadito\n",
       "2            red\n",
       "3            bbb\n",
       "4         orange\n",
       "         ...    \n",
       "113    chocolate\n",
       "114       laddoo\n",
       "115     nevadito\n",
       "116          red\n",
       "117          bbb\n",
       "Name: cookie, Length: 118, dtype: object"
      ]
     },
     "execution_count": 61,
     "metadata": {},
     "output_type": "execute_result"
    }
   ],
   "source": [
    "#TODO: adjust all cookies so only the first word\n",
    "# is used as the cookie name\n",
    "import re\n",
    "df_copy1['cookie'].apply(lambda name: re.split(' |_',name)[0])"
   ]
  },
  {
   "attachments": {},
   "cell_type": "markdown",
   "metadata": {},
   "source": [
    "Another thing that may come to mind is that maybe getting flour could cost more money due to inflation, so we have to adjust our `cost_to_make` values, similar to how in the homework there is a `price_adjustments`. We can do this by using the `apply()` function on the `cost_to_make` column."
   ]
  },
  {
   "cell_type": "code",
   "execution_count": 62,
   "metadata": {},
   "outputs": [
    {
     "data": {
      "text/plain": [
       "0      1.17\n",
       "1      1.54\n",
       "2      1.57\n",
       "3      1.89\n",
       "4      1.65\n",
       "       ... \n",
       "113    1.92\n",
       "114    2.50\n",
       "115    2.11\n",
       "116    1.83\n",
       "117    1.86\n",
       "Name: cost_to_make, Length: 118, dtype: float64"
      ]
     },
     "execution_count": 62,
     "metadata": {},
     "output_type": "execute_result"
    }
   ],
   "source": [
    "#Don't edit this method\n",
    "def adjust_cost(cost):\n",
    "    return cost + 0.5\n",
    "\n",
    "#TODO: use apply() to adjust the cost_to_make column.\n",
    "df_copy1['cost_to_make'].apply(adjust_cost)"
   ]
  },
  {
   "attachments": {},
   "cell_type": "markdown",
   "metadata": {},
   "source": [
    "And we can do a lot more things! We will see these concepts be used in the next homework assignment, along with a couple new ones to show you how powerful Pandas is."
   ]
  },
  {
   "attachments": {},
   "cell_type": "markdown",
   "metadata": {},
   "source": [
    "### More complicated operations: Grouping, Filtering, Aggregating"
   ]
  },
  {
   "attachments": {},
   "cell_type": "markdown",
   "metadata": {},
   "source": [
    "We may also want to group data by certain attributes. This can be done by using `groupby()`. This method takes in a column name, and groups the data by the values in that column. For example, we can group the data by the `cookie` column."
   ]
  },
  {
   "cell_type": "code",
   "execution_count": 63,
   "metadata": {},
   "outputs": [
    {
     "data": {
      "text/html": [
       "<div>\n",
       "<style scoped>\n",
       "    .dataframe tbody tr th:only-of-type {\n",
       "        vertical-align: middle;\n",
       "    }\n",
       "\n",
       "    .dataframe tbody tr th {\n",
       "        vertical-align: top;\n",
       "    }\n",
       "\n",
       "    .dataframe thead th {\n",
       "        text-align: right;\n",
       "    }\n",
       "</style>\n",
       "<table border=\"1\" class=\"dataframe\">\n",
       "  <thead>\n",
       "    <tr style=\"text-align: right;\">\n",
       "      <th></th>\n",
       "      <th>ingredients</th>\n",
       "      <th>calories</th>\n",
       "      <th>radius</th>\n",
       "      <th>cost_to_make</th>\n",
       "    </tr>\n",
       "    <tr>\n",
       "      <th>cookie</th>\n",
       "      <th></th>\n",
       "      <th></th>\n",
       "      <th></th>\n",
       "      <th></th>\n",
       "    </tr>\n",
       "  </thead>\n",
       "  <tbody>\n",
       "    <tr>\n",
       "      <th>bbb</th>\n",
       "      <td>[\"flour\",\"blueberries\",\"sugar\",\"butter\"]</td>\n",
       "      <td>191</td>\n",
       "      <td>4.148</td>\n",
       "      <td>1.39</td>\n",
       "    </tr>\n",
       "    <tr>\n",
       "      <th>chocolate</th>\n",
       "      <td>[\"flour\",\"chocolate chips\",\"sugar\",\"butter\"]</td>\n",
       "      <td>243</td>\n",
       "      <td>3.684</td>\n",
       "      <td>1.17</td>\n",
       "    </tr>\n",
       "    <tr>\n",
       "      <th>laddoo lemon</th>\n",
       "      <td>[\"flour\",\"lemon juice\",\"sugar\",\"ghee\"]</td>\n",
       "      <td>170</td>\n",
       "      <td>3.102</td>\n",
       "      <td>0.67</td>\n",
       "    </tr>\n",
       "    <tr>\n",
       "      <th>minty miami</th>\n",
       "      <td>[\"flour\",\"mint extract\",\"sugar\",\"butter\"]</td>\n",
       "      <td>204</td>\n",
       "      <td>3.964</td>\n",
       "      <td>0.84</td>\n",
       "    </tr>\n",
       "    <tr>\n",
       "      <th>nevadito</th>\n",
       "      <td>[\"flour\",\"chocolate chips\",\"milk\",\"vanilla ext...</td>\n",
       "      <td>224</td>\n",
       "      <td>4.069</td>\n",
       "      <td>1.04</td>\n",
       "    </tr>\n",
       "    <tr>\n",
       "      <th>orange_ozuna</th>\n",
       "      <td>[\"flour\",\"orange juice\",\"sugar\",\"vegetable oil\"]</td>\n",
       "      <td>162</td>\n",
       "      <td>3.241</td>\n",
       "      <td>1.15</td>\n",
       "    </tr>\n",
       "    <tr>\n",
       "      <th>red velvet rauw</th>\n",
       "      <td>[\"flour\",\"cocoa powder\",\"butter\",\"red food col...</td>\n",
       "      <td>198</td>\n",
       "      <td>3.780</td>\n",
       "      <td>1.07</td>\n",
       "    </tr>\n",
       "  </tbody>\n",
       "</table>\n",
       "</div>"
      ],
      "text/plain": [
       "                                                       ingredients  calories  \\\n",
       "cookie                                                                         \n",
       "bbb                       [\"flour\",\"blueberries\",\"sugar\",\"butter\"]       191   \n",
       "chocolate             [\"flour\",\"chocolate chips\",\"sugar\",\"butter\"]       243   \n",
       "laddoo lemon                [\"flour\",\"lemon juice\",\"sugar\",\"ghee\"]       170   \n",
       "minty miami              [\"flour\",\"mint extract\",\"sugar\",\"butter\"]       204   \n",
       "nevadito         [\"flour\",\"chocolate chips\",\"milk\",\"vanilla ext...       224   \n",
       "orange_ozuna      [\"flour\",\"orange juice\",\"sugar\",\"vegetable oil\"]       162   \n",
       "red velvet rauw  [\"flour\",\"cocoa powder\",\"butter\",\"red food col...       198   \n",
       "\n",
       "                 radius  cost_to_make  \n",
       "cookie                                 \n",
       "bbb               4.148          1.39  \n",
       "chocolate         3.684          1.17  \n",
       "laddoo lemon      3.102          0.67  \n",
       "minty miami       3.964          0.84  \n",
       "nevadito          4.069          1.04  \n",
       "orange_ozuna      3.241          1.15  \n",
       "red velvet rauw   3.780          1.07  "
      ]
     },
     "execution_count": 63,
     "metadata": {},
     "output_type": "execute_result"
    }
   ],
   "source": [
    "#TODO: group by cookie type\n",
    "new_data=df_copy1.groupby('cookie')\n",
    "new_data.first()"
   ]
  },
  {
   "attachments": {},
   "cell_type": "markdown",
   "metadata": {},
   "source": [
    "We can also group by multiple columns. For example, we can group the data by the `cookie` and `ingredients` columns."
   ]
  },
  {
   "cell_type": "code",
   "execution_count": 64,
   "metadata": {},
   "outputs": [
    {
     "data": {
      "text/html": [
       "<div>\n",
       "<style scoped>\n",
       "    .dataframe tbody tr th:only-of-type {\n",
       "        vertical-align: middle;\n",
       "    }\n",
       "\n",
       "    .dataframe tbody tr th {\n",
       "        vertical-align: top;\n",
       "    }\n",
       "\n",
       "    .dataframe thead th {\n",
       "        text-align: right;\n",
       "    }\n",
       "</style>\n",
       "<table border=\"1\" class=\"dataframe\">\n",
       "  <thead>\n",
       "    <tr style=\"text-align: right;\">\n",
       "      <th></th>\n",
       "      <th></th>\n",
       "      <th>calories</th>\n",
       "      <th>radius</th>\n",
       "      <th>cost_to_make</th>\n",
       "    </tr>\n",
       "    <tr>\n",
       "      <th>cookie</th>\n",
       "      <th>ingredients</th>\n",
       "      <th></th>\n",
       "      <th></th>\n",
       "      <th></th>\n",
       "    </tr>\n",
       "  </thead>\n",
       "  <tbody>\n",
       "    <tr>\n",
       "      <th>bbb</th>\n",
       "      <th>[\"flour\",\"blueberries\",\"sugar\",\"butter\"]</th>\n",
       "      <td>191</td>\n",
       "      <td>4.148</td>\n",
       "      <td>1.39</td>\n",
       "    </tr>\n",
       "    <tr>\n",
       "      <th>chocolate</th>\n",
       "      <th>[\"flour\",\"chocolate chips\",\"sugar\",\"butter\"]</th>\n",
       "      <td>243</td>\n",
       "      <td>3.684</td>\n",
       "      <td>1.17</td>\n",
       "    </tr>\n",
       "    <tr>\n",
       "      <th>laddoo lemon</th>\n",
       "      <th>[\"flour\",\"lemon juice\",\"sugar\",\"ghee\"]</th>\n",
       "      <td>170</td>\n",
       "      <td>3.102</td>\n",
       "      <td>0.67</td>\n",
       "    </tr>\n",
       "    <tr>\n",
       "      <th>minty miami</th>\n",
       "      <th>[\"flour\",\"mint extract\",\"sugar\",\"butter\"]</th>\n",
       "      <td>204</td>\n",
       "      <td>3.964</td>\n",
       "      <td>0.84</td>\n",
       "    </tr>\n",
       "    <tr>\n",
       "      <th>nevadito</th>\n",
       "      <th>[\"flour\",\"chocolate chips\",\"milk\",\"vanilla extract\"]</th>\n",
       "      <td>224</td>\n",
       "      <td>4.069</td>\n",
       "      <td>1.04</td>\n",
       "    </tr>\n",
       "    <tr>\n",
       "      <th>orange_ozuna</th>\n",
       "      <th>[\"flour\",\"orange juice\",\"sugar\",\"vegetable oil\"]</th>\n",
       "      <td>162</td>\n",
       "      <td>3.241</td>\n",
       "      <td>1.15</td>\n",
       "    </tr>\n",
       "    <tr>\n",
       "      <th>red velvet rauw</th>\n",
       "      <th>[\"flour\",\"cocoa powder\",\"butter\",\"red food coloring\"]</th>\n",
       "      <td>198</td>\n",
       "      <td>3.780</td>\n",
       "      <td>1.07</td>\n",
       "    </tr>\n",
       "  </tbody>\n",
       "</table>\n",
       "</div>"
      ],
      "text/plain": [
       "                                                                    calories  \\\n",
       "cookie          ingredients                                                    \n",
       "bbb             [\"flour\",\"blueberries\",\"sugar\",\"butter\"]                 191   \n",
       "chocolate       [\"flour\",\"chocolate chips\",\"sugar\",\"butter\"]             243   \n",
       "laddoo lemon    [\"flour\",\"lemon juice\",\"sugar\",\"ghee\"]                   170   \n",
       "minty miami     [\"flour\",\"mint extract\",\"sugar\",\"butter\"]                204   \n",
       "nevadito        [\"flour\",\"chocolate chips\",\"milk\",\"vanilla extr...       224   \n",
       "orange_ozuna    [\"flour\",\"orange juice\",\"sugar\",\"vegetable oil\"]         162   \n",
       "red velvet rauw [\"flour\",\"cocoa powder\",\"butter\",\"red food colo...       198   \n",
       "\n",
       "                                                                    radius  \\\n",
       "cookie          ingredients                                                  \n",
       "bbb             [\"flour\",\"blueberries\",\"sugar\",\"butter\"]             4.148   \n",
       "chocolate       [\"flour\",\"chocolate chips\",\"sugar\",\"butter\"]         3.684   \n",
       "laddoo lemon    [\"flour\",\"lemon juice\",\"sugar\",\"ghee\"]               3.102   \n",
       "minty miami     [\"flour\",\"mint extract\",\"sugar\",\"butter\"]            3.964   \n",
       "nevadito        [\"flour\",\"chocolate chips\",\"milk\",\"vanilla extr...   4.069   \n",
       "orange_ozuna    [\"flour\",\"orange juice\",\"sugar\",\"vegetable oil\"]     3.241   \n",
       "red velvet rauw [\"flour\",\"cocoa powder\",\"butter\",\"red food colo...   3.780   \n",
       "\n",
       "                                                                    cost_to_make  \n",
       "cookie          ingredients                                                       \n",
       "bbb             [\"flour\",\"blueberries\",\"sugar\",\"butter\"]                    1.39  \n",
       "chocolate       [\"flour\",\"chocolate chips\",\"sugar\",\"butter\"]                1.17  \n",
       "laddoo lemon    [\"flour\",\"lemon juice\",\"sugar\",\"ghee\"]                      0.67  \n",
       "minty miami     [\"flour\",\"mint extract\",\"sugar\",\"butter\"]                   0.84  \n",
       "nevadito        [\"flour\",\"chocolate chips\",\"milk\",\"vanilla extr...          1.04  \n",
       "orange_ozuna    [\"flour\",\"orange juice\",\"sugar\",\"vegetable oil\"]            1.15  \n",
       "red velvet rauw [\"flour\",\"cocoa powder\",\"butter\",\"red food colo...          1.07  "
      ]
     },
     "execution_count": 64,
     "metadata": {},
     "output_type": "execute_result"
    }
   ],
   "source": [
    "#TODO: group by cookie type and ingredients\n",
    "new_data = df_copy1.groupby(['cookie', 'ingredients'])\n",
    "new_data.first()"
   ]
  },
  {
   "attachments": {},
   "cell_type": "markdown",
   "metadata": {},
   "source": [
    "We may also want to filter the data. For example, we can filter the data to only show the cookies that have a radius greater than 4.3 cm. We can do this by indexing the DataFrame with a boolean expression."
   ]
  },
  {
   "cell_type": "code",
   "execution_count": 68,
   "metadata": {},
   "outputs": [
    {
     "data": {
      "text/plain": [
       "22     4.346\n",
       "23     4.667\n",
       "39     4.388\n",
       "41     4.562\n",
       "52     4.573\n",
       "54     4.328\n",
       "64     4.425\n",
       "68     4.319\n",
       "72     4.461\n",
       "79     4.474\n",
       "80     4.401\n",
       "89     4.475\n",
       "92     4.307\n",
       "93     4.519\n",
       "101    4.619\n",
       "102    4.930\n",
       "Name: radius, dtype: float64"
      ]
     },
     "execution_count": 68,
     "metadata": {},
     "output_type": "execute_result"
    }
   ],
   "source": [
    "#TODO: filter using the boolean expression\n",
    "cookies_filter = df_copy1[df_copy1.radius > 4.3]\n",
    "cookies_filter['radius']"
   ]
  },
  {
   "attachments": {},
   "cell_type": "markdown",
   "metadata": {},
   "source": [
    "We may even want to use `groupby()` and filter idea together! For example, we can filter the data to only show the cookies that have a radius greater than 4.3 cm, and group the data by the `cookie` column."
   ]
  },
  {
   "cell_type": "code",
   "execution_count": 71,
   "metadata": {},
   "outputs": [
    {
     "data": {
      "text/html": [
       "<div>\n",
       "<style scoped>\n",
       "    .dataframe tbody tr th:only-of-type {\n",
       "        vertical-align: middle;\n",
       "    }\n",
       "\n",
       "    .dataframe tbody tr th {\n",
       "        vertical-align: top;\n",
       "    }\n",
       "\n",
       "    .dataframe thead th {\n",
       "        text-align: right;\n",
       "    }\n",
       "</style>\n",
       "<table border=\"1\" class=\"dataframe\">\n",
       "  <thead>\n",
       "    <tr style=\"text-align: right;\">\n",
       "      <th></th>\n",
       "      <th>ingredients</th>\n",
       "      <th>calories</th>\n",
       "      <th>radius</th>\n",
       "      <th>cost_to_make</th>\n",
       "    </tr>\n",
       "    <tr>\n",
       "      <th>cookie</th>\n",
       "      <th></th>\n",
       "      <th></th>\n",
       "      <th></th>\n",
       "      <th></th>\n",
       "    </tr>\n",
       "  </thead>\n",
       "  <tbody>\n",
       "    <tr>\n",
       "      <th>chocolate</th>\n",
       "      <td>[\"flour\",\"chocolate chips\",\"sugar\",\"butter\"]</td>\n",
       "      <td>206</td>\n",
       "      <td>4.328</td>\n",
       "      <td>1.34</td>\n",
       "    </tr>\n",
       "    <tr>\n",
       "      <th>laddoo lemon</th>\n",
       "      <td>[\"flour\",\"lemon juice\",\"sugar\",\"ghee\"]</td>\n",
       "      <td>195</td>\n",
       "      <td>4.562</td>\n",
       "      <td>0.62</td>\n",
       "    </tr>\n",
       "    <tr>\n",
       "      <th>minty miami</th>\n",
       "      <td>[\"flour\",\"mint extract\",\"sugar\",\"butter\"]</td>\n",
       "      <td>174</td>\n",
       "      <td>4.388</td>\n",
       "      <td>0.64</td>\n",
       "    </tr>\n",
       "    <tr>\n",
       "      <th>nevadito</th>\n",
       "      <td>[\"flour\",\"chocolate chips\",\"milk\",\"vanilla ext...</td>\n",
       "      <td>219</td>\n",
       "      <td>4.346</td>\n",
       "      <td>1.18</td>\n",
       "    </tr>\n",
       "    <tr>\n",
       "      <th>orange_ozuna</th>\n",
       "      <td>[\"flour\",\"orange juice\",\"sugar\",\"vegetable oil\"]</td>\n",
       "      <td>186</td>\n",
       "      <td>4.573</td>\n",
       "      <td>1.06</td>\n",
       "    </tr>\n",
       "    <tr>\n",
       "      <th>red velvet rauw</th>\n",
       "      <td>[\"flour\",\"cocoa powder\",\"butter\",\"red food col...</td>\n",
       "      <td>204</td>\n",
       "      <td>4.667</td>\n",
       "      <td>1.40</td>\n",
       "    </tr>\n",
       "  </tbody>\n",
       "</table>\n",
       "</div>"
      ],
      "text/plain": [
       "                                                       ingredients  calories  \\\n",
       "cookie                                                                         \n",
       "chocolate             [\"flour\",\"chocolate chips\",\"sugar\",\"butter\"]       206   \n",
       "laddoo lemon                [\"flour\",\"lemon juice\",\"sugar\",\"ghee\"]       195   \n",
       "minty miami              [\"flour\",\"mint extract\",\"sugar\",\"butter\"]       174   \n",
       "nevadito         [\"flour\",\"chocolate chips\",\"milk\",\"vanilla ext...       219   \n",
       "orange_ozuna      [\"flour\",\"orange juice\",\"sugar\",\"vegetable oil\"]       186   \n",
       "red velvet rauw  [\"flour\",\"cocoa powder\",\"butter\",\"red food col...       204   \n",
       "\n",
       "                 radius  cost_to_make  \n",
       "cookie                                 \n",
       "chocolate         4.328          1.34  \n",
       "laddoo lemon      4.562          0.62  \n",
       "minty miami       4.388          0.64  \n",
       "nevadito          4.346          1.18  \n",
       "orange_ozuna      4.573          1.06  \n",
       "red velvet rauw   4.667          1.40  "
      ]
     },
     "execution_count": 71,
     "metadata": {},
     "output_type": "execute_result"
    }
   ],
   "source": [
    "#TODO: filter the data using the boolean expression\n",
    "# then group by cookie column\n",
    "df_copy1[df_copy1.radius > 4.3].groupby('cookie').first()"
   ]
  },
  {
   "attachments": {},
   "cell_type": "markdown",
   "metadata": {},
   "source": [
    "We may also want to aggregate the data. For example, we can aggregate the data by looking at the ratio of calories to radius. We can do this by using indexing and the `apply()` function."
   ]
  },
  {
   "cell_type": "code",
   "execution_count": 78,
   "metadata": {},
   "outputs": [
    {
     "data": {
      "text/plain": [
       "0      54.803353\n",
       "1      55.050381\n",
       "2      52.380952\n",
       "3      46.046287\n",
       "4      49.984573\n",
       "         ...    \n",
       "113    55.569155\n",
       "114    43.411645\n",
       "115    53.895275\n",
       "116    50.435228\n",
       "117    46.484466\n",
       "Length: 118, dtype: float64"
      ]
     },
     "execution_count": 78,
     "metadata": {},
     "output_type": "execute_result"
    }
   ],
   "source": [
    "#TODO: add a column to the dataframe that is the\n",
    "# calories per radius\n",
    "df_copy1.apply(lambda x: x.calories/x.radius,axis=1)"
   ]
  },
  {
   "attachments": {},
   "cell_type": "markdown",
   "metadata": {},
   "source": [
    "Or we can just get rid of this column if we find it useless. We can do this by using the `drop()` function or indexing."
   ]
  },
  {
   "cell_type": "code",
   "execution_count": 82,
   "metadata": {},
   "outputs": [
    {
     "data": {
      "text/html": [
       "<div>\n",
       "<style scoped>\n",
       "    .dataframe tbody tr th:only-of-type {\n",
       "        vertical-align: middle;\n",
       "    }\n",
       "\n",
       "    .dataframe tbody tr th {\n",
       "        vertical-align: top;\n",
       "    }\n",
       "\n",
       "    .dataframe thead th {\n",
       "        text-align: right;\n",
       "    }\n",
       "</style>\n",
       "<table border=\"1\" class=\"dataframe\">\n",
       "  <thead>\n",
       "    <tr style=\"text-align: right;\">\n",
       "      <th></th>\n",
       "      <th>cookie</th>\n",
       "      <th>ingredients</th>\n",
       "      <th>calories</th>\n",
       "      <th>radius</th>\n",
       "    </tr>\n",
       "  </thead>\n",
       "  <tbody>\n",
       "    <tr>\n",
       "      <th>0</th>\n",
       "      <td>laddoo lemon</td>\n",
       "      <td>[\"flour\",\"lemon juice\",\"sugar\",\"ghee\"]</td>\n",
       "      <td>170</td>\n",
       "      <td>3.102</td>\n",
       "    </tr>\n",
       "    <tr>\n",
       "      <th>1</th>\n",
       "      <td>nevadito</td>\n",
       "      <td>[\"flour\",\"chocolate chips\",\"milk\",\"vanilla ext...</td>\n",
       "      <td>224</td>\n",
       "      <td>4.069</td>\n",
       "    </tr>\n",
       "    <tr>\n",
       "      <th>2</th>\n",
       "      <td>red velvet rauw</td>\n",
       "      <td>[\"flour\",\"cocoa powder\",\"butter\",\"red food col...</td>\n",
       "      <td>198</td>\n",
       "      <td>3.780</td>\n",
       "    </tr>\n",
       "    <tr>\n",
       "      <th>3</th>\n",
       "      <td>bbb</td>\n",
       "      <td>[\"flour\",\"blueberries\",\"sugar\",\"butter\"]</td>\n",
       "      <td>191</td>\n",
       "      <td>4.148</td>\n",
       "    </tr>\n",
       "    <tr>\n",
       "      <th>4</th>\n",
       "      <td>orange_ozuna</td>\n",
       "      <td>[\"flour\",\"orange juice\",\"sugar\",\"vegetable oil\"]</td>\n",
       "      <td>162</td>\n",
       "      <td>3.241</td>\n",
       "    </tr>\n",
       "    <tr>\n",
       "      <th>...</th>\n",
       "      <td>...</td>\n",
       "      <td>...</td>\n",
       "      <td>...</td>\n",
       "      <td>...</td>\n",
       "    </tr>\n",
       "    <tr>\n",
       "      <th>113</th>\n",
       "      <td>chocolate</td>\n",
       "      <td>[\"flour\",\"chocolate chips\",\"sugar\",\"butter\"]</td>\n",
       "      <td>227</td>\n",
       "      <td>4.085</td>\n",
       "    </tr>\n",
       "    <tr>\n",
       "      <th>114</th>\n",
       "      <td>laddoo lemon</td>\n",
       "      <td>[\"flour\",\"lemon juice\",\"sugar\",\"ghee\"]</td>\n",
       "      <td>170</td>\n",
       "      <td>3.916</td>\n",
       "    </tr>\n",
       "    <tr>\n",
       "      <th>115</th>\n",
       "      <td>nevadito</td>\n",
       "      <td>[\"flour\",\"chocolate chips\",\"milk\",\"vanilla ext...</td>\n",
       "      <td>211</td>\n",
       "      <td>3.915</td>\n",
       "    </tr>\n",
       "    <tr>\n",
       "      <th>116</th>\n",
       "      <td>red velvet rauw</td>\n",
       "      <td>[\"flour\",\"cocoa powder\",\"butter\",\"red food col...</td>\n",
       "      <td>197</td>\n",
       "      <td>3.906</td>\n",
       "    </tr>\n",
       "    <tr>\n",
       "      <th>117</th>\n",
       "      <td>bbb</td>\n",
       "      <td>[\"flour\",\"blueberries\",\"sugar\",\"butter\"]</td>\n",
       "      <td>199</td>\n",
       "      <td>4.281</td>\n",
       "    </tr>\n",
       "  </tbody>\n",
       "</table>\n",
       "<p>118 rows × 4 columns</p>\n",
       "</div>"
      ],
      "text/plain": [
       "              cookie                                        ingredients  \\\n",
       "0       laddoo lemon             [\"flour\",\"lemon juice\",\"sugar\",\"ghee\"]   \n",
       "1           nevadito  [\"flour\",\"chocolate chips\",\"milk\",\"vanilla ext...   \n",
       "2    red velvet rauw  [\"flour\",\"cocoa powder\",\"butter\",\"red food col...   \n",
       "3                bbb           [\"flour\",\"blueberries\",\"sugar\",\"butter\"]   \n",
       "4       orange_ozuna   [\"flour\",\"orange juice\",\"sugar\",\"vegetable oil\"]   \n",
       "..               ...                                                ...   \n",
       "113        chocolate       [\"flour\",\"chocolate chips\",\"sugar\",\"butter\"]   \n",
       "114     laddoo lemon             [\"flour\",\"lemon juice\",\"sugar\",\"ghee\"]   \n",
       "115         nevadito  [\"flour\",\"chocolate chips\",\"milk\",\"vanilla ext...   \n",
       "116  red velvet rauw  [\"flour\",\"cocoa powder\",\"butter\",\"red food col...   \n",
       "117              bbb           [\"flour\",\"blueberries\",\"sugar\",\"butter\"]   \n",
       "\n",
       "     calories  radius  \n",
       "0         170   3.102  \n",
       "1         224   4.069  \n",
       "2         198   3.780  \n",
       "3         191   4.148  \n",
       "4         162   3.241  \n",
       "..        ...     ...  \n",
       "113       227   4.085  \n",
       "114       170   3.916  \n",
       "115       211   3.915  \n",
       "116       197   3.906  \n",
       "117       199   4.281  \n",
       "\n",
       "[118 rows x 4 columns]"
      ]
     },
     "execution_count": 82,
     "metadata": {},
     "output_type": "execute_result"
    }
   ],
   "source": [
    "#TODO: drop the created column\n",
    "df_copy1.drop('cost_to_make',axis=1)"
   ]
  },
  {
   "attachments": {},
   "cell_type": "markdown",
   "metadata": {},
   "source": [
    "### Visualizing the data"
   ]
  },
  {
   "attachments": {},
   "cell_type": "markdown",
   "metadata": {},
   "source": [
    "We can also visualize the data. For example, we can visualize the data by plotting the radius of the cookies against the cost to make the cookies. We can do this by using the `plot()` function."
   ]
  },
  {
   "cell_type": "code",
   "execution_count": 86,
   "metadata": {},
   "outputs": [
    {
     "data": {
      "image/png": "[encoded data removed]",
      "text/plain": [
       "<Figure size 640x480 with 1 Axes>"
      ]
     },
     "metadata": {},
     "output_type": "display_data"
    }
   ],
   "source": [
    "#TODO: plot the radius (x) versus cost to make (y)\n",
    "\n",
    "plt.plot(df_copy1['radius'], df_copy1['cost_to_make'])\n",
    "\n",
    "plt.title(\"radius of cookie against cost to make the cookie\")\n",
    "plt.xlabel(\"cost\")\n",
    "plt.ylabel(\"radius\")\n",
    "\n",
    "plt.show()"
   ]
  },
  {
   "attachments": {},
   "cell_type": "markdown",
   "metadata": {},
   "source": [
    "We may even want to get more specific and visualize the shape of a distribution of the `laddoo lemon`'s radius by making a boxplot. We can also do this by using the `plot()` function."
   ]
  },
  {
   "cell_type": "code",
   "execution_count": null,
   "metadata": {},
   "outputs": [],
   "source": [
    "#TODO: add the described boxplot"
   ]
  },
  {
   "attachments": {},
   "cell_type": "markdown",
   "metadata": {},
   "source": [
    "Alternatively, we can create a histogram to visualize the distribution of the `laddoo lemon`'s radius. We can also do this by using the `plot()` function."
   ]
  },
  {
   "cell_type": "code",
   "execution_count": null,
   "metadata": {},
   "outputs": [],
   "source": [
    "#TODO: add the described histogram"
   ]
  },
  {
   "attachments": {},
   "cell_type": "markdown",
   "metadata": {},
   "source": [
    "Things can get more complicated too. Maybe we want to analyze the behaviors of `bad berry bunny` and `laddoo lemon`'s radius using a boxplot. But this time, let's try it using the alternative `boxplot()` function. For practice, try doing it with `plot()` too!"
   ]
  },
  {
   "cell_type": "code",
   "execution_count": null,
   "metadata": {},
   "outputs": [],
   "source": [
    "#TODO: analyze the two cookie's radius in a boxplot"
   ]
  },
  {
   "attachments": {},
   "cell_type": "markdown",
   "metadata": {},
   "source": [
    "### Practice Problems\n",
    "Now that you have learned some of Pandas' capabilities, let's try some practice problems! **This is the part that will be checked when you submit it!**"
   ]
  },
  {
   "attachments": {},
   "cell_type": "markdown",
   "metadata": {},
   "source": [
    "#### Problem 1\n",
    "How many cookies were made? (Hint: use the `shape` attribute)"
   ]
  },
  {
   "cell_type": "code",
   "execution_count": null,
   "metadata": {},
   "outputs": [],
   "source": [
    "#Add your code here"
   ]
  },
  {
   "attachments": {},
   "cell_type": "markdown",
   "metadata": {},
   "source": [
    "#### Problem 2\n",
    "Add a column to the DataFrame that has the value `True` if the cookie has a radius greater than 4 cm, and `False` otherwise. (Hint: use the `apply()` function)"
   ]
  },
  {
   "cell_type": "code",
   "execution_count": null,
   "metadata": {},
   "outputs": [],
   "source": [
    "#Add your code here"
   ]
  },
  {
   "attachments": {},
   "cell_type": "markdown",
   "metadata": {},
   "source": [
    "#### Problem 3\n",
    "\n",
    "Group the data by the `cookie` column, and find the average radius of each cookie. (Hint: use the `groupby()` and `transform()` function). Add this column to the DataFrame."
   ]
  },
  {
   "cell_type": "code",
   "execution_count": null,
   "metadata": {},
   "outputs": [],
   "source": [
    "#Add your code here"
   ]
  },
  {
   "attachments": {},
   "cell_type": "markdown",
   "metadata": {},
   "source": [
    "#### Problem 4\n",
    "Create a new DataFrame that only contains the cookies that have the ingredient `\"chocolate chips\"`. (Hint: use the `str.contains()` function)"
   ]
  },
  {
   "cell_type": "code",
   "execution_count": null,
   "metadata": {},
   "outputs": [],
   "source": [
    "#Add your code here"
   ]
  },
  {
   "attachments": {},
   "cell_type": "markdown",
   "metadata": {},
   "source": [
    "#### Problem 5\n",
    "\n",
    "Create a boxplot of `cost_to_make` for all cookies except `chocolate` using the `boxplot()` function."
   ]
  },
  {
   "cell_type": "code",
   "execution_count": null,
   "metadata": {},
   "outputs": [],
   "source": [
    "#Add your code here"
   ]
  },
  {
   "attachments": {},
   "cell_type": "markdown",
   "metadata": {},
   "source": [
    "#### Problem 6\n",
    "\n",
    "Create a histogram of the `bad berry bunny`'s calories using the `plot()` function."
   ]
  },
  {
   "cell_type": "code",
   "execution_count": null,
   "metadata": {},
   "outputs": [],
   "source": [
    "#Add your code here"
   ]
  }
 ],
 "metadata": {
  "kernelspec": {
   "display_name": "Python 3.10.7 64-bit",
   "language": "python",
   "name": "python3"
  },
  "language_info": {
   "codemirror_mode": {
    "name": "ipython",
    "version": 3
   },
   "file_extension": ".py",
   "mimetype": "text/x-python",
   "name": "python",
   "nbconvert_exporter": "python",
   "pygments_lexer": "ipython3",
   "version": "3.10.7"
  },
  "orig_nbformat": 4,
  "vscode": {
   "interpreter": {
    "hash": "aee8b7b246df8f9039afb4144a1f6fd8d2ca17a180786b69acc140d282b71a49"
   }
  }
 },
 "nbformat": 4,
 "nbformat_minor": 2
}
