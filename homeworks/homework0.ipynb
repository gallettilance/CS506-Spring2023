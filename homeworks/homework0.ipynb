{
  "cells": [
    {
      "cell_type": "markdown",
      "metadata": {
        "id": "tf9LJEzcD0f7"
      },
      "source": [
        "# Homework 0 (100 points)\n",
        "\n",
        "The goal of this homework is to practice programming in python. This homework is a bit longer than the rest of the homeworks in this course.\n",
        "\n",
        "**you may NOT use any other libraries other than the ones already imported.** _For clarification, you'll notice some of the question ask for using numpy, and those methods have numpy imported, but you cannot use it anywhere else! Essentially, if it is imported in a certain cell in the notebook, it can only be used in that cell (The code has also been made to follow this idea so you don't have to worry about it; just don't import anything!)_\n",
        "\n",
        "## Exercise 1 (50 points):\n",
        "\n",
        "### Rico's Bisquito's Global Expansion\n",
        "\n",
        "_Rico created his own cookie box company: Rico's Bisquitos. As he plans to launch this franchise globally, he has a factory to manufacture these cookies. However, the factory machines have gone horribly wrong and the stores need some fixing. Hence, Rico needs you, as a beloved CS 506er, to save his business idea. The goal is for him to use these factories to help launch stores around the globe to sell his Gordon Ramsey-approved cookies._\n",
        "\n",
        "a) (**4 pts**) Create a `Cookie` class that has the following attributes:\n",
        "\n",
        "* `name` (string)\n",
        "* `ingredients` (list of strings e.g. `[\"flour\"]`)\n",
        "* `calories` (float)\n",
        "* `radius` (float)\n",
        "\n",
        "Be sure to include a `__init__` method that takes in the above attributes as parameters and sets them as attributes of the class. You should also include a setter method for each attribute. \n",
        "\n",
        "You do not need to include a `__str__` method nor a `__repr__` method. Your design choices for the `__init__` method and the setter methods are up to you; no specific design is required."
      ]
    },
    {
      "cell_type": "code",
      "execution_count": 1,
      "metadata": {
        "id": "smOmrvgWD0f9"
      },
      "outputs": [],
      "source": [
        "class Cookie:\n",
        "\n",
        "    def __init__(self, name, ingredients, calories, radius):\n",
        "        self.name = name\n",
        "        self.ingredients = ingredients\n",
        "        self.calories = calories\n",
        "        self.radius = radius\n",
        "\n",
        "    def set_ingredients(self, ingredients):\n",
        "        self.ingredients = ingredients\n",
        "\n",
        "    def set_name(self, name):\n",
        "        self.name = name\n",
        "    \n",
        "    def set_calories(self, calories):\n",
        "        self.calories = calories\n",
        "    \n",
        "    def set_radius(self, radius):\n",
        "        self.radius = radius\n",
        "\n"
      ]
    },
    {
      "cell_type": "markdown",
      "metadata": {
        "id": "_qu99-ikD0f_"
      },
      "source": [
        "b) (**4 pts**) Create a `Factory` class that has the following attributes:\n",
        "\n",
        "* `name`: name of factory: a string\n",
        "* `cookies`: list of `Cookie` objects. This is the list of cookies that the factory can make.\n",
        "* `employees`: list of names (strings)\n",
        "* `cost_to_make`: a dictionary with keys as cookie names and values as the cost to make cookie (float)\n",
        "\n",
        "This class will be used to store the factory operations which you will have to implement! () Be sure to include a `__init__` method that takes in the above attributes as parameters and sets them as attributes of the class. You should also include a setter method for each attribute. \n",
        "\n",
        "You do not need to include a `__str__` method nor a `__repr__` method.\n",
        "\n",
        "You also can leave the `employees` attribute and the `cost_to_make` attribute empty when initializing."
      ]
    },
    {
      "cell_type": "code",
      "execution_count": 2,
      "metadata": {
        "id": "1D4AXUx1D0f_"
      },
      "outputs": [],
      "source": [
        "from typing import List, Dict\n",
        "\n",
        "class Factory:\n",
        "\n",
        "    def __init__ (self, name: str, cookies: List[Cookie], employees: List[str] = None, cost_to_make: Dict[str,float] = None) :\n",
        "        self.name = name\n",
        "        self.cookies = cookies\n",
        "        self.employees = employees\n",
        "        self.cost_to_make = cost_to_make\n",
        "\n",
        "    def set_name(self, new_name: str) -> None:\n",
        "        self.name = new_name\n",
        "        \n",
        "    def set_cookies(self, new_cookies: List[Cookie]) -> None:\n",
        "        self.cookies = new_cookies\n",
        "        \n",
        "    def set_cost_to_make(self, new_cost_to_make: Dict[str, float]) -> None:\n",
        "        self.cost_to_make = new_cost_to_make\n",
        "\n",
        "    def set_employees(self, new_employees: List[str]) -> None:\n",
        "        self.employees = new_employees\n",
        "\n",
        "    def __add_cookie_to_box(self, cookie: Cookie) -> None:\n",
        "        self.cookies.append(cookie)\n",
        "\n",
        "    def __sort_box_by_name(self) -> None:\n",
        "        self.cookies.sort(key = lambda cookie: cookie.name)\n",
        "\n",
        "    def __adjust_cookie_costs(self, price_adjustments: Dict[str, float]) -> None:\n",
        "        for cookie in self.cookies:\n",
        "            if cookie.name in price_adjustments:\n",
        "                self.cost_to_make[cookie.name] *= (1 + price_adjustments[cookie.name])\n",
        "\n",
        "    def __sort_cookies_by_ingredients(self, ingredients: List[str]) -> None:\n",
        "        self.cookies.sort(key= lambda cookie: sum([1 for ingredient in ingredients if ingredient in cookie.ingredients]), reverse = True)\n"
      ]
    },
    {
      "cell_type": "markdown",
      "metadata": {
        "id": "t1QOPU_CD0gA"
      },
      "source": [
        "c) (**2 pts**) Implement the `__add_cookie_to_box` method above. This method should take in a `Cookie` object and add it to the `cookies` attribute of the `Factory` object. Be sure to write your code in the space provided."
      ]
    },
    {
      "cell_type": "markdown",
      "metadata": {
        "id": "lefKV3CBD0gA"
      },
      "source": [
        "d) (**2 pts**) Implement the `__sort_box_by_name` method above. This method should sort the `cookies` attribute of the `Factory` object by the `name` attribute of the `Cookie` objects. Be sure to write your code in the space provided."
      ]
    },
    {
      "cell_type": "markdown",
      "metadata": {
        "id": "vBpM7H-UD0gB"
      },
      "source": [
        "e) (**5 pts**) Implement the `__adjust_cookie_costs` method above. This method should take in a `price_adjustments` dictionary and adjust the `cost_to_make` value for that cookie by multiplying the current cost with the corresponding adjustment (see method doc string for more info). Be sure to write your code in the space provided.\n",
        "\n",
        "Note: `price_adjustments` keys are cookie names (string) and values are percentages (float) that inflate or deflate the cost of making a cookie"
      ]
    },
    {
      "cell_type": "markdown",
      "metadata": {
        "id": "2dOLjrGQD0gB"
      },
      "source": [
        "f) **(8 pts)** Implement the `__sort_cookies_by_certain_ingredients` method above. This method should sort the `cookies` attribute of the `Factory` object by the number of `ingredients` passed in is shared with a cookie attribute. For example, if the ingredients passed in are [\"flour\", \"sugar\"], then the cookies in the cookies field that have both flour and sugar should be at the front of the list, followed by cookies that have only flour or sugar. Cookies that have neither should be at the end of the list (You don't have to worry about tie breakers!). Be sure to write your code in the space provided."
      ]
    },
    {
      "cell_type": "markdown",
      "metadata": {
        "id": "9Bqukia1D0gC"
      },
      "source": [
        "### Launching the Stores"
      ]
    },
    {
      "cell_type": "markdown",
      "metadata": {
        "id": "XpLeKHV8D0gC"
      },
      "source": [
        "Now that Rico has his factory all ready to go, he wants to make a store to sell his cookies. Below is a `CookieStore` _interface_ that has the following attributes:\n",
        "\n",
        "- `factories`: list of `Factory` objects that are used by the store to obtain their products (sadly, the cookies are not made in the store)\n",
        "- `prices`: dictionary of prices for each sold item keyed by item name (in dollars)\n",
        "- `employees`: list of strings of employee names that work in the specific store\n",
        "- `stock`: dictionary of stock for each sold item where the key is the item name and the value is the leftover quantity (how many of each item are left to sell in the store)\n",
        "- `sold_details`: dictionary of sold items where the key is the item name and the value is the total quantity sold for that item."
      ]
    },
    {
      "cell_type": "code",
      "execution_count": 3,
      "metadata": {
        "id": "m2eTa0RoD0gC"
      },
      "outputs": [],
      "source": [
        "# DO NOT EDIT THIS CELL\n",
        "# This is the CookieStore interface.\n",
        "\n",
        "import abc #abstract base class\n",
        "from typing import List, Dict\n",
        "\n",
        "class CookieStore(abc.ABC):\n",
        "    def __init__(self,\n",
        "        factories: List[Factory],\n",
        "        prices: Dict[str, float],\n",
        "        employees: List[str],\n",
        "        stock: Dict[str, int],\n",
        "        sold_details: Dict[str, int]\n",
        "    ) -> None:\n",
        "        \"\"\"\n",
        "        This method initializes a store.\n",
        "        \"\"\"\n",
        "        self.factories = factories\n",
        "        self.prices = prices\n",
        "        self.employees = employees\n",
        "        self.stock = stock\n",
        "        self.sold_details = sold_details\n",
        "\n",
        "    @abc.abstractclassmethod\n",
        "    def restock(self, factory: Factory) -> None:\n",
        "        \"\"\"\n",
        "        This method will restock the store with items from the factory.\n",
        "        However, each store will restock differently, so this method is abstract.\n",
        "        You may assume that the factory will have enough items to restock the store.\n",
        "        \"\"\"\n",
        "        pass\n",
        "\n",
        "    @abc.abstractclassmethod\n",
        "    def calculate_revenue(self) -> float:\n",
        "        \"\"\"\n",
        "        This method will compute the revenue of the store by only looking at all the sold items' profit.\n",
        "        However, each store will compute revenue differently, so this method is abstract.\n",
        "        \"\"\"\n",
        "        pass"
      ]
    },
    {
      "cell_type": "markdown",
      "metadata": {
        "id": "5xVfj2OgD0gD"
      },
      "source": [
        "As this is Rico's Bisquitos, he will have his own cookie store, which is a `RicosBisquitos` class. This class will inherit from the `CookieStore` class. You will have to implement the methods that are not implemented --- `restock` and `calculate_revenue`.\n",
        "\n",
        "However, as this is a franchise, another field is added to this store: `location`. This is a string that represents the location of the store. This is the only attribute that is not in the `CookieStore` interface."
      ]
    },
    {
      "cell_type": "code",
      "execution_count": 4,
      "metadata": {
        "id": "gVbaOlT-D0gD"
      },
      "outputs": [],
      "source": [
        "#NOTE: when working on parts g) - h), you will have to edit this cell to fill in the methods!\n",
        "from typing import List, Dict\n",
        "\n",
        "class RicosBisquitos(CookieStore):\n",
        "    \"\"\"\n",
        "    This class represents a Ricos Bisquitos store.\n",
        "    \"\"\"\n",
        "    def __init__(self,\n",
        "        factories: List[Factory],\n",
        "        prices: Dict[str, float],\n",
        "        employees: List[str],\n",
        "        stock: Dict[str, int],\n",
        "        sold_details: Dict[str, int],\n",
        "        location: str #new field\n",
        "    ) -> None:\n",
        "        super().__init__(factories, prices, employees, stock, sold_details)\n",
        "        self.location = location\n",
        "\n",
        "    def restock(self, factory: Factory) -> None:\n",
        "        \"\"\"\n",
        "        This method will restock the store with cookies from the factory.\n",
        "        \"\"\"\n",
        "        for cookie_item in factory.cookies:\n",
        "            self.stock[cookie_item] += 50\n",
        "    \n",
        "    def calculate_revenue(self) -> float:\n",
        "        \"\"\"\n",
        "        This method will compute the revenue of the store by only looking at the sold item's profit.\n",
        "        \"\"\"\n",
        "        total_revenue = 0.0\n",
        "        \n",
        "        for cookie, quantity in self.sold_details.items():\n",
        "            min_price = self.prices[cookie]\n",
        "            factory_costs = []\n",
        "\n",
        "            for factory in self.factories:\n",
        "                for cookie_type in factory.cookies:\n",
        "                    if cookie == cookie_type.name:\n",
        "                        factory_costs += [factory.cost_to_make[cookie]]\n",
        "            \n",
        "            min_price -= min(factory_costs)\n",
        "            total_revenue += min_price * quantity\n",
        "\n",
        "        return total_revenue\n",
        "\n",
        "\n",
        "\n",
        "    #NOTE: do not edit this method!\n",
        "    def __str__(self) -> str:\n",
        "        \"\"\"\n",
        "        This method returns a string representation of the store.\n",
        "        \"\"\"\n",
        "        return f\"Ricos Bisquitos at {self.location}\"\n"
      ]
    },
    {
      "cell_type": "markdown",
      "metadata": {
        "id": "0m08nlg3D0gE"
      },
      "source": [
        "g) **(5 pts)** Implement the `__restock` method above. This method should take in a `Factory` object and for each cookie in the `cookies` attribute of the `Factory` object (for all the cookies the factory has), the store's stock for each cookie should be increased by 50. Be sure to write your code in the space provided above."
      ]
    },
    {
      "cell_type": "markdown",
      "metadata": {
        "id": "xk-sapc6D0gF"
      },
      "source": [
        "h) (**10 pts**) Implement the `__calculate_revenue` method above. This method should take in a `Factory` object and compute the revenue of the store. The revenue is computed by taking the price of each cookie sold and subtracting it by its cost per cookie. Note that the cost per cookie is stored in the `cost_to_make` attribute of the `Factory` object and multiple cookies could be sold (held in the `sold_details` attribute of the `Store` object). \n",
        "\n",
        "---\n",
        "\n",
        "**Clarifying Questions you asked Rico:**:\n",
        "\n",
        "_\"If multiple factories sell the same cookie, which price do I use?\"_\n",
        "\n",
        "**Rico:** _You would use the cheapest cost option, as I want to maximize profits!_\n",
        "\n",
        "_\"How much do employees get paid?\"_\n",
        "\n",
        "**Rico:** _They are all volunteers_\n",
        "\n",
        "_\"Does the `stock` affect the `sold_details`?\"_\n",
        "\n",
        "**Rico:** _No, the stock is only used to keep track of how many cookies are left to sell._\n",
        "\n",
        "_\"What error cases should we look out for? E.g. if each of the `Factory` objects in `factories` does not have the same cookies as the `Store` object?\"_\n",
        "\n",
        "**Rico:** Don't worry about error cases right now. You can assume the store would not make such a blunder.\n",
        "\n",
        "---\n",
        "\n",
        "Be sure to write your code in the space provided above."
      ]
    },
    {
      "cell_type": "markdown",
      "metadata": {
        "id": "uA_wbhaHD0gF"
      },
      "source": [
        "#### Testing `calculate_revenue`\n",
        "\n",
        "Below is an example test case for the `calculate_revenue` method:"
      ]
    },
    {
      "cell_type": "code",
      "execution_count": 5,
      "metadata": {
        "colab": {
          "base_uri": "https://localhost:8080/"
        },
        "id": "KkwwEt5HD0gG",
        "outputId": "804207f8-182d-4b81-ae3d-94e305dca195"
      },
      "outputs": [
        {
          "name": "stdout",
          "output_type": "stream",
          "text": [
            "Ricos Bisquitos at New York made 1618.0 dollars profit!\n"
          ]
        }
      ],
      "source": [
        "laddoo_lemon = Cookie(\"laddoo lemon\", [\"flour\", \"laddoo\", \"brown sugar\", \"taquitos\"], 100, 1.12)\n",
        "peach_pikachu = Cookie(\"peach pikachu\", [\"almond flour\", \"peach\", \"white sugar\", \"2 eggs\", \"10 oz pikachu\"], 230, 1.23)\n",
        "limon_de_laddoo = Cookie(\"laddoo lemon\", [\"flour\", \"laddoo\", \"brown sugar\", \"taquitos\"], 150, 1.29)\n",
        "velvet_vanilla = Cookie(\"vanilla velvet\", [\"vanilla extract\", \"white sugar\", \"2 eggs\", \"whole wheat flour\", \"red velvet\"], 200, 1.17)\n",
        "\n",
        "factory_a23 = Factory(\"Factory A23\", [laddoo_lemon, peach_pikachu], [\"X AE A-12\"], {\"laddoo lemon\": 0.65, \"peach pikachu\": 0.75})\n",
        "factory_x62 = Factory(\"Factory X62\", [limon_de_laddoo, velvet_vanilla], [\"Spongeboy\"], {\"laddoo lemon\": 0.55, \"vanilla velvet\": 0.90})\n",
        "\n",
        "store = RicosBisquitos(\n",
        "    [factory_a23, factory_x62],\n",
        "    { # prices\n",
        "        \"laddoo lemon\": 1.29, \n",
        "        \"peach pikachu\": 1.99, \n",
        "        \"vanilla velvet\": 2.19\n",
        "    }, \n",
        "    [ # employees\n",
        "        \"Bob\", \n",
        "        \"Alice\"\n",
        "    ], \n",
        "    { # stock\n",
        "        \"laddoo lemon\": 52,\n",
        "        \"peach pikachu\": 44,\n",
        "        \"vanilla velvet\": 91\n",
        "    }, \n",
        "    { # sold_details\n",
        "        \"laddoo lemon\": 1000,\n",
        "        \"peach pikachu\": 500,\n",
        "        \"vanilla velvet\": 200\n",
        "    }, \n",
        "    \"New York\"\n",
        ")\n",
        "\n",
        "\n",
        "# Compute the revenue\n",
        "print(f\"{str(store)} made {store.calculate_revenue()} dollars profit!\")"
      ]
    },
    {
      "cell_type": "markdown",
      "metadata": {
        "id": "oHs6j5vJD0gH"
      },
      "source": [
        "This should output:\n",
        "\n",
        "`Ricos Bisquitos at New York made 1618.0 dollars profit!`\n",
        "\n",
        "##### Explanation\n",
        "\n",
        "With `laddoo lemon`, the store sold 1000 cookies. The price of the cookie is 1.29 dollars, but the _cheapest_ cost to make the cookie is 0.55 dollars. So the store made 0.74 dollars per cookie. The store sold 1000 cookies, so the store made 740 dollars. \n",
        "\n",
        "With `peach pikachu`, the store sold 500 cookies. The price of the cookie is 1.99 dollars, but the cost to make the cookie is 0.75 dollars. So the store made 1.24 dollars per cookie. The store sold 500 cookies, so the store made 620 dollars.\n",
        "\n",
        "With `vanilla velvet`, the store sold 200 cookies. The price of the cookie is 2.19 dollars, but the cost to make the cookie is 0.90 dollars. So the store made 1.29 dollars per cookie. The store sold 200 cookies, so the store made 258 dollars.\n",
        "\n",
        "So the store made 740 + 620 + 258 = 1618 dollars."
      ]
    },
    {
      "cell_type": "markdown",
      "metadata": {
        "id": "p2jgJy4yD0gH"
      },
      "source": [
        "### Global Expansion"
      ]
    },
    {
      "cell_type": "markdown",
      "metadata": {
        "id": "0Bv4K0MkD0gI"
      },
      "source": [
        "With your help, Rico's stores in the United States have been a massive success! Hence, he wants to expand his business to other countries.\n",
        "\n",
        "He is thinking of opening a store in each of the following countries: \n",
        "```python \n",
        "[\"Spain\", \"India\", \"Ecuador\", \"Mexico\", \"Canada\", \"United Kingdom\", \"France\", \"Germany\", \"Italy\"] \n",
        "```\n",
        "However, he wants to start his global expansion by opening in only 3 countries.\n",
        "\n",
        "Rico believes that the best way to promote his business is to open stores in countries with the highest population. Hence, he wants to open his stores in the 3 countries with the highest population.\n",
        "\n",
        "However, we know that people tend to move around a lot, so Rico has collected a stochastic matrix that represents the probability of a person moving from one country to another in the span of one year.\n",
        "\n",
        "| Country | Spain | India | Ecuador | Mexico | Canada | United Kingdom | France | Germany | Italy |\n",
        "|:-------:|:-----:|:-----:|:-------:|:------:|:------:|:--------------:|:------:|:-------:|:-----:|\n",
        "| Spain | 0.4 | 0.01 | 0.2 | 0.1 | 0.09 | 0.05 | 0.05 | 0.05 | 0.05 |\n",
        "| India | 0.05 | 0.55 | 0.05 | 0 | 0 | 0.05 | 0.1 | 0.1 | 0.1 |\n",
        "| Ecuador | 0.2 | 0.01 | 0.3 | 0.19 | 0.1 | 0.05 | 0.05 | 0.05 | 0.05 |\n",
        "| Mexico | 0.1 | 0 | 0.19 | 0.3 | 0.01 | 0.1 | 0.1 | 0.1 | 0.1 |\n",
        "| Canada | 0.35 | 0 | 0.1 | 0.01 | 0.3 | 0.05 | 0.05 | 0.05 | 0.05 |\n",
        "| United Kingdom | 0.02 | 0.02 | 0.02 | 0.02 | 0.02 | 0.4 | 0.2 | 0.1 | 0.2 |\n",
        "| France | 0.15 | 0.02 | 0.02 | 0.02 | 0.02 | 0.27 | 0.4 | 0.05 | 0.05 |\n",
        "| Germany | 0.2 | 0 | 0 | 0 | 0 | 0.2 | 0.1 | 0.4 | 0.1 |\n",
        "| Italy | 0 | 0.4 | 0 | 0 | 0 | 0.3 | 0 | 0 | 0.3 |\n",
        "\n",
        "For example, if a person is in Spain, there is a 40% chance that they will stay in the country, a 1% chance that they will move to India, a 20% chance that they will move to Ecuador, and so on.\n",
        "\n",
        "_You may assume the probability of a person moving from one country to another is the same for all people and this stochastic matrix stays the same every year._"
      ]
    },
    {
      "cell_type": "markdown",
      "metadata": {
        "id": "wRF-PtstD0gI"
      },
      "source": [
        "i) **(10 pts)** Rico wants to know which countries he should open his stores in accounting for what the population will be in the next X number of years. Write a method called `get_best_countries` that takes a stochastic matrix, initial populations, and the number of years to look forward in the future and returns a list of the 3 countries with the highest population. Here, as you will see, you will be allowed to use `numpy` library (only for this problem!)\n",
        "\n",
        "For example, if we want to look at the population in 5 years, we would do the following:\n",
        "\n",
        "```python\n",
        "get_best_countries(stochastic_matrix, initial_populations, 5)\n",
        "```\n",
        "\n",
        "You should create your own tests to ensure that your function is correct. Using a smaller matrix and number of cities that you can compute manually is a good place to start for a test case.\n",
        "\n",
        "**Note:** the code below also provides you the initial population of each country. Also don't worry if you've never seen this mathematical jargon before! Only a basic understanding of matrices and vectors is required for this exercise.\n",
        "\n",
        "_(Hint: check out the wikipedia page for stochastic matrix: https://en.wikipedia.org/wiki/Stochastic_matrix and you can also check out this youtube video: https://www.youtube.com/watch?v=kIk4y1PdAQc&ab_channel=STEMSupport)_\n"
      ]
    },
    {
      "cell_type": "code",
      "execution_count": 6,
      "metadata": {
        "colab": {
          "base_uri": "https://localhost:8080/"
        },
        "id": "Sw8uBkCDD0gJ",
        "outputId": "5c97bdd9-6760-4c03-af66-b3d72c99a0fe"
      },
      "outputs": [
        {
          "name": "stdout",
          "output_type": "stream",
          "text": [
            "['Spain', 'United Kingdom', 'France']\n"
          ]
        }
      ],
      "source": [
        "from typing import List\n",
        "\n",
        "#This matrix is the same as the one described above\n",
        "stochastic_matrix = [\n",
        "    [0.4, 0.01, 0.2, 0.1, 0.09, 0.05, 0.05, 0.05, 0.05],\n",
        "    [0.05, 0.55, 0.05, 0, 0, 0.05, 0.1, 0.1, 0.1],\n",
        "    [0.2, 0.01, 0.3, 0.19, 0.1, 0.05, 0.05, 0.05, 0.05],\n",
        "    [0.1, 0, 0.19, 0.3, 0.01, 0.1, 0.1, 0.1, 0.1],\n",
        "    [0.35, 0, 0.1, 0.01, 0.3, 0.05, 0.05, 0.05, 0.05],\n",
        "    [0.02, 0.02, 0.02, 0.02, 0.02, 0.4, 0.2, 0.1, 0.2],\n",
        "    [0.15, 0.02, 0.02, 0.02, 0.02, 0.27, 0.4, 0.05, 0.05],\n",
        "    [0.2, 0, 0, 0, 0, 0.2, 0.1, 0.4, 0.1],\n",
        "    [0, 0.4, 0, 0, 0, 0.3, 0, 0, 0.3]\n",
        "]\n",
        "\n",
        "initial_populations = [\n",
        "    100940392,  #Spain's population\n",
        "    49308432,   #India's population\n",
        "    5494380928, #Ecuador's population\n",
        "    9453028021, #Mexico's population\n",
        "    439883280,  #Canada's population\n",
        "    68903890,   #United Kingdom's population\n",
        "    8593048902, #France's population\n",
        "    5480938209, #Germany's population\n",
        "    6893089024, #Italy's population\n",
        "]\n",
        "\n",
        "def get_best_countries(matrix: List[List[float]], initial_populations: List[int], years_ahead: int) -> List[str]:\n",
        "    \"\"\"\n",
        "    This method will return the top 3 *countries* with the highest population,\n",
        "    given a stochastic matrix and a list of initial populations, where the\n",
        "    country with the highest population is the first element and the third \n",
        "    highest is the last element.\n",
        "    \"\"\"\n",
        "    import numpy as np\n",
        "    #TODO: implement this method and remove the pass\n",
        "    \n",
        "    allcountries = [\"Spain\", \"India\", \"Ecuador\", \"Mexico\", \"Canada\", \"United Kingdom\", \"France\", \"Germany\", \"Italy\"] \n",
        "    countries = []\n",
        "\n",
        "    for i in range(years_ahead):\n",
        "        initial_populations = np.dot(initial_populations, matrix)\n",
        "    \n",
        "    sorted_populations = sorted(initial_populations, reverse=True)\n",
        "    third_max = sorted_populations[2] if len(sorted_populations) > 2 else sorted_populations[0]\n",
        "\n",
        "    for i in range(len(allcountries)):\n",
        "        if len(countries) < 3 and initial_populations[i] >= third_max:\n",
        "            countries.append(allcountries[i])\n",
        "\n",
        "    return countries\n",
        "    \n",
        "print (get_best_countries(stochastic_matrix,initial_populations, 5))"
      ]
    },
    {
      "cell_type": "markdown",
      "metadata": {
        "id": "PyzskI0vD0gK"
      },
      "source": [
        "## Exercise 2 (50 Points)\n",
        "\n",
        "In this exercise we will be writing a sudoku solver.\n",
        "\n",
        "a) Similarly to how we defined classes above, define the sudoku board using a `Board` class comprised of nine rows of nine elements. Write a `repr` method to print the board neatly to the command line. Print an empty board. **-5pts**"
      ]
    },
    {
      "cell_type": "code",
      "execution_count": 7,
      "metadata": {
        "colab": {
          "base_uri": "https://localhost:8080/"
        },
        "id": "wQUma33-D0gK",
        "outputId": "aa097fff-0f9c-42d5-aff2-c03f40d212d4"
      },
      "outputs": [
        {
          "name": "stdout",
          "output_type": "stream",
          "text": [
            "-------------------------\n",
            "| 0 0 0 | 0 0 0 | 0 0 0|\n",
            "| 0 0 0 | 0 0 0 | 0 0 0|\n",
            "| 0 0 0 | 0 0 0 | 0 0 0|\n",
            "-------------------------\n",
            "| 0 0 0 | 0 0 0 | 0 0 0|\n",
            "| 0 0 0 | 0 0 0 | 0 0 0|\n",
            "| 0 0 0 | 0 0 0 | 0 0 0|\n",
            "-------------------------\n",
            "| 0 0 0 | 0 0 0 | 0 0 0|\n",
            "| 0 0 0 | 0 0 0 | 0 0 0|\n",
            "| 0 0 0 | 0 0 0 | 0 0 0|\n",
            "-------------------------\n",
            "\n"
          ]
        }
      ],
      "source": [
        "class Board:\n",
        "    def __init__(self):\n",
        "        self.board = [[0 for x in range(9)] for y in range(9)]\n",
        "\n",
        "    def __repr__(self):\n",
        "        board_str = ''\n",
        "        for i in range(9):\n",
        "            if i % 3 == 0:\n",
        "                board_str += '-' * 25 + '\\n'\n",
        "            for j in range(9):\n",
        "                if j % 3 == 0:\n",
        "                    board_str += '| '\n",
        "                board_str += str(self.board[i][j]) + ' '\n",
        "            board_str = board_str.rstrip() + '|\\n'\n",
        "        board_str += '-' * 25 + '\\n'\n",
        "        return board_str\n",
        "\n",
        "    def get_col(self, col):\n",
        "        return [self.board[i][col] for i in range(9)]\n",
        "\n",
        "    def get_row(self, row):\n",
        "        return self.board[row]\n",
        "\n",
        "    def get_elm(self, row, col):\n",
        "        return self.board[row][col]\n",
        "\n",
        "    def set_row(self, row, values):\n",
        "        self.board[row] = values\n",
        "\n",
        "    def set_elm(self, row, col, value):\n",
        "        self.board[row][col] = value\n",
        "\n",
        "    def get_box(self, row, col):\n",
        "        col_start = (col // 3) * 3\n",
        "        row_start = (row // 3) * 3\n",
        "        box_arr = []\n",
        "        for r in range(row_start, row_start + 3):\n",
        "            for c in range(col_start, col_start + 3):\n",
        "                box_arr.append(self.board[r][c])\n",
        "        return box_arr\n",
        "        \n",
        "    def is_move_valid(self, row, col, value):\n",
        "        if self.board[row][col] != 0:\n",
        "            return False  \n",
        "        if value not in range(1, 10):\n",
        "            return False  \n",
        "        if value in self.get_col(col) or value in self.get_row(row) or value in self.get_box(row, col):\n",
        "            return False  \n",
        "        return True\n",
        "\n",
        "    def solve(self):\n",
        "        for row in range(9):\n",
        "            for col in range(9):\n",
        "                if self.board[row][col] == 0:\n",
        "                    for value in range(1, 10):\n",
        "                        if self.is_move_valid(row, col, value):\n",
        "                            self.board[row][col] = value\n",
        "                            if self.solve():\n",
        "                                return True\n",
        "                            self.board[row][col] = 0\n",
        "                    return False\n",
        "        return True\n",
        "\n",
        "\n",
        "sudoku = Board()\n",
        "print(sudoku)\n"
      ]
    },
    {
      "cell_type": "markdown",
      "metadata": {
        "id": "ohO2a6EcD0gK"
      },
      "source": [
        "b) In the `Board` class above, write getter and setter methods. **-5pts**\n",
        "\n",
        "`Board` class should have:\n",
        "\n",
        "- `get_col` to get a specified column of the board.\n",
        "- `get_row` to get a specified row of the board.\n",
        "- `set_row` to set a specified row of the board.\n",
        "- `get_elm` to get an element at a particular row and column.\n",
        "- `set_elm` to set an element at a particular row and column.\n",
        "- `get_box` to get the box containing a (row, col) location."
      ]
    },
    {
      "cell_type": "markdown",
      "metadata": {
        "id": "JTgbxQBWD0gL"
      },
      "source": [
        "*c*) Define and print the following sudoku. **-5pts**"
      ]
    },
    {
      "cell_type": "code",
      "execution_count": 8,
      "metadata": {
        "colab": {
          "base_uri": "https://localhost:8080/"
        },
        "id": "YNpTCy-RD0gM",
        "outputId": "2bb1a730-e45d-473a-944d-651aeca6dfea"
      },
      "outputs": [
        {
          "name": "stdout",
          "output_type": "stream",
          "text": [
            "-------------------------\n",
            "| 2 6 0 | 0 7 0 | 4 8 3|\n",
            "| 3 1 0 | 0 0 0 | 0 0 9|\n",
            "| 5 7 0 | 3 4 0 | 0 0 2|\n",
            "-------------------------\n",
            "| 1 0 0 | 0 0 0 | 9 0 0|\n",
            "| 0 8 0 | 0 9 0 | 0 3 0|\n",
            "| 0 0 7 | 0 0 0 | 0 0 5|\n",
            "-------------------------\n",
            "| 7 0 0 | 0 5 2 | 0 9 4|\n",
            "| 8 0 0 | 0 0 0 | 0 5 7|\n",
            "| 9 5 6 | 0 3 0 | 0 2 1|\n",
            "-------------------------\n",
            "\n"
          ]
        }
      ],
      "source": [
        "sudoko = Board()\n",
        "sudoko.set_row(0, [2, 6, 0, 0, 7, 0, 4, 8, 3])\n",
        "sudoko.set_row(1, [3, 1, 0, 0, 0, 0, 0, 0, 9])\n",
        "sudoko.set_row(2, [5, 7, 0, 3, 4, 0, 0, 0, 2])\n",
        "sudoko.set_row(3, [1, 0, 0, 0, 0, 0, 9, 0, 0])\n",
        "sudoko.set_row(4, [0, 8, 0, 0, 9, 0, 0, 3, 0])\n",
        "sudoko.set_row(5, [0, 0, 7, 0, 0, 0, 0, 0, 5])\n",
        "sudoko.set_row(6, [7, 0, 0, 0, 5, 2, 0, 9, 4])\n",
        "sudoko.set_row(7, [8, 0, 0, 0, 0, 0, 0, 5, 7])\n",
        "sudoko.set_row(8, [9, 5, 6, 0, 3, 0, 0, 2, 1])\n",
        "print(sudoko)"
      ]
    },
    {
      "cell_type": "code",
      "execution_count": 9,
      "metadata": {
        "colab": {
          "base_uri": "https://localhost:8080/"
        },
        "id": "NXN3XTThJOxj",
        "outputId": "50392326-ba5a-4a42-ad39-c7cf4d993d4a"
      },
      "outputs": [
        {
          "name": "stdout",
          "output_type": "stream",
          "text": [
            "-------------------------\n",
            "| 2 6 9 | 1 7 5 | 4 8 3|\n",
            "| 3 1 4 | 6 2 8 | 5 7 9|\n",
            "| 5 7 8 | 3 4 9 | 1 6 2|\n",
            "-------------------------\n",
            "| 1 2 3 | 5 6 7 | 9 4 8|\n",
            "| 4 8 5 | 2 9 1 | 7 3 6|\n",
            "| 6 9 7 | 4 8 3 | 2 1 5|\n",
            "-------------------------\n",
            "| 7 3 1 | 8 5 2 | 6 9 4|\n",
            "| 8 4 2 | 9 1 6 | 3 5 7|\n",
            "| 9 5 6 | 7 3 4 | 8 2 1|\n",
            "-------------------------\n",
            "\n"
          ]
        }
      ],
      "source": [
        "sudoko.solve()\n",
        "print(sudoko)\n"
      ]
    },
    {
      "cell_type": "markdown",
      "metadata": {
        "id": "_dSC3rP8D0gM"
      },
      "source": [
        "d) Add to the `Board` class above a method to determine whether a given move at a specified location on the board is legal. Recall in sudoku there can be no repeating integers in the row, column, or box and each element must be an integer between 1 and 9 inclusive. Also, you cannot overwrite elements that are set by the puzzle. For example, in the above sudoku, the top left element is set by the puzzle as \"2\" and changing that element is invalid. **-10pts**"
      ]
    },
    {
      "cell_type": "markdown",
      "metadata": {
        "id": "kojz4ll2D0gM"
      },
      "source": [
        "e) Add to the `Board` class a method that searches for solutions uing depth first search and returns the first it finds. Here is the breakdown of the algorithm you should implement:\n",
        "\n",
        "Start with the first row and go through each element of the row from left to right:\n",
        "- if the element is not set, start by trying the integer 1\n",
        "- if this is a valid move according to the rules of sudoku, then move on to the next element\n",
        "- if this is not a valid move then try the next possible integer in ascending order\n",
        "- if you've tried all possible integers and none are valid moves, then unset the element and backtrack to the previous element. Increment it to the next possible integer. (if that still isn't possible, you should keep backtracking)\n",
        "\n",
        "When you've explored all elements of a row, move on to the next row. If you reach the end of the board and have a valid sudoku, you have solved the puzzle. If you backtrack all the way to the first (top left) element and there are no valid integers, then the puzzle is impossible.\n",
        "\n",
        "Test your code on the sudoku from 2 c).\n",
        "\n",
        "**Note:** Your code should follow a very similar pattern as the 8 queen problem we will do in class on 02/01.\n",
        "\n",
        "**-25pts**"
      ]
    },
    {
      "cell_type": "markdown",
      "metadata": {
        "id": "3gp1YJM6D0gM"
      },
      "source": [
        "## Bonus (10 points)\n",
        "\n",
        "No points will be awarded for partial solutions.\n",
        "\n",
        "A diagonal sudoku is a sudoku with the added constraint that elements on the two main diagonals must not have repeating integers. Copy your `Board` class below and modify it to solve the diagonal sudoku below. Suggestion: add an optional parameter to your method from 2 e) called `is_diag` and a new validation method that includes that constraint. **-10pts**"
      ]
    },
    {
      "cell_type": "code",
      "execution_count": 10,
      "metadata": {
        "colab": {
          "base_uri": "https://localhost:8080/"
        },
        "id": "WYMs7ASuD0gN",
        "outputId": "8aa70327-8a69-4f4c-bfdc-8374602cb15f"
      },
      "outputs": [
        {
          "name": "stdout",
          "output_type": "stream",
          "text": [
            "-------------------------\n",
            "| 0 0 0 | 0 0 0 | 0 0 0|\n",
            "| 0 0 0 | 0 0 0 | 0 0 0|\n",
            "| 0 0 0 | 0 0 0 | 0 0 0|\n",
            "-------------------------\n",
            "| 0 0 0 | 0 0 0 | 0 0 0|\n",
            "| 0 0 0 | 0 0 0 | 0 0 0|\n",
            "| 0 0 0 | 0 0 0 | 0 0 0|\n",
            "-------------------------\n",
            "| 0 0 0 | 0 0 0 | 0 0 0|\n",
            "| 0 0 0 | 0 0 0 | 0 0 0|\n",
            "| 0 0 0 | 0 0 0 | 0 0 0|\n",
            "-------------------------\n",
            "\n"
          ]
        }
      ],
      "source": [
        "class Board:\n",
        "\n",
        "    def __init__(self):\n",
        "        self.board = [[0 for x in range(9)] for y in range(9)]\n",
        "\n",
        "    def __repr__(self):\n",
        "        board_str = ''\n",
        "        for i in range(9):\n",
        "            if i % 3 == 0:\n",
        "                board_str += '-' * 25 + '\\n'\n",
        "            for j in range(9):\n",
        "                if j % 3 == 0:\n",
        "                    board_str += '| '\n",
        "                board_str += str(self.board[i][j]) + ' '\n",
        "            board_str = board_str.rstrip() + '|\\n'\n",
        "        board_str += '-' * 25 + '\\n'\n",
        "        return board_str\n",
        "\n",
        "    def get_col(self, col):\n",
        "        return [self.board[i][col] for i in range(9)]\n",
        "\n",
        "    def get_row(self, row):\n",
        "        return self.board[row]\n",
        "\n",
        "    def set_row(self, row, values):\n",
        "        self.board[row] = values\n",
        "\n",
        "    def get_elm(self, row, col):\n",
        "        return self.board[row][col]\n",
        "\n",
        "    def set_elm(self, row, col, value):\n",
        "        self.board[row][col] = value\n",
        "\n",
        "    def get_box(self, row, col):\n",
        "        row_start = (row // 3) * 3\n",
        "        col_start = (col // 3) * 3\n",
        "        box = []\n",
        "        for i in range(row_start, row_start + 3):\n",
        "            for j in range(col_start, col_start + 3):\n",
        "                box.append(self.board[i][j])\n",
        "        return box\n",
        "        \n",
        "    def is_move_valid(self, row, col, value, is_diag=False):\n",
        "        if self.board[row][col] != 0:\n",
        "            return False  \n",
        "        if value not in range(1, 10):\n",
        "            return False  \n",
        "        if value in self.get_row(row) or value in self.get_col(col) or value in self.get_box(row, col):\n",
        "            return False \n",
        "        if is_diag and (row == col or row + col == 8) and (value in [self.board[i][i] for i in range(9)] or value in [self.board[i][8-i] for i in range(9)]):\n",
        "            return False\n",
        "        return True\n",
        "\n",
        "    def solve(self, is_diag=False):\n",
        "        for row in range(9):\n",
        "            for col in range(9):\n",
        "                if self.board[row][col] == 0:\n",
        "                    for value in range(1, 10):\n",
        "                        if self.is_move_valid(row, col, value, is_diag):\n",
        "                            self.board[row][col] = value\n",
        "                            if self.solve(is_diag):\n",
        "                                return True\n",
        "                            self.board[row][col] = 0\n",
        "                    return False\n",
        "        return True\n",
        "\n",
        "sudoko = Board()\n",
        "print(sudoku)\n"
      ]
    },
    {
      "cell_type": "code",
      "execution_count": 11,
      "metadata": {
        "colab": {
          "base_uri": "https://localhost:8080/"
        },
        "id": "czVQwpdFNZDo",
        "outputId": "4df0c0e0-1882-451d-82d7-c5b52e6953c0"
      },
      "outputs": [
        {
          "name": "stdout",
          "output_type": "stream",
          "text": [
            "-------------------------\n",
            "| 0 0 0 | 1 0 8 | 0 0 0|\n",
            "| 1 0 0 | 3 0 0 | 5 0 0|\n",
            "| 8 0 0 | 0 7 0 | 0 0 0|\n",
            "-------------------------\n",
            "| 0 0 0 | 2 1 0 | 7 8 9|\n",
            "| 0 0 1 | 0 0 0 | 0 0 0|\n",
            "| 2 0 0 | 0 0 5 | 0 0 0|\n",
            "-------------------------\n",
            "| 0 3 4 | 0 0 0 | 0 5 0|\n",
            "| 0 0 0 | 5 0 0 | 0 7 0|\n",
            "| 0 8 0 | 0 0 0 | 9 6 3|\n",
            "-------------------------\n",
            "\n"
          ]
        }
      ],
      "source": [
        "sudoko = Board()\n",
        "sudoko.set_row(0, [0, 0, 0, 1, 0, 8, 0, 0, 0])\n",
        "sudoko.set_row(1, [1, 0, 0, 3, 0, 0, 5, 0, 0])\n",
        "sudoko.set_row(2, [8, 0, 0, 0, 7, 0, 0, 0, 0])\n",
        "sudoko.set_row(3, [0, 0, 0, 2, 1, 0, 7, 8, 9])\n",
        "sudoko.set_row(4, [0, 0, 1, 0, 0, 0, 0, 0, 0])\n",
        "sudoko.set_row(5, [2, 0, 0, 0, 0, 5, 0, 0, 0])\n",
        "sudoko.set_row(6, [0, 3, 4, 0, 0, 0, 0, 5, 0])\n",
        "sudoko.set_row(7, [0, 0, 0, 5, 0, 0, 0, 7, 0])\n",
        "sudoko.set_row(8, [0, 8, 0, 0, 0, 0, 9, 6, 3])\n",
        "print(sudoko)"
      ]
    },
    {
      "cell_type": "code",
      "execution_count": 12,
      "metadata": {
        "colab": {
          "base_uri": "https://localhost:8080/"
        },
        "id": "4Xl5nw0mOi0W",
        "outputId": "b20cb860-04cf-4dc4-f931-3d1933576a26"
      },
      "outputs": [
        {
          "name": "stdout",
          "output_type": "stream",
          "text": [
            "-------------------------\n",
            "| 3 2 6 | 1 5 8 | 4 9 7|\n",
            "| 1 7 9 | 3 6 4 | 5 2 8|\n",
            "| 8 4 5 | 9 7 2 | 3 1 6|\n",
            "-------------------------\n",
            "| 4 5 3 | 2 1 6 | 7 8 9|\n",
            "| 7 6 1 | 8 3 9 | 2 4 5|\n",
            "| 2 9 8 | 7 4 5 | 6 3 1|\n",
            "-------------------------\n",
            "| 9 3 4 | 6 8 7 | 1 5 2|\n",
            "| 6 1 2 | 5 9 3 | 8 7 4|\n",
            "| 5 8 7 | 4 2 1 | 9 6 3|\n",
            "-------------------------\n",
            "\n"
          ]
        }
      ],
      "source": [
        "sudoko.solve()\n",
        "print(sudoko)\n"
      ]
    }
  ],
  "metadata": {
    "colab": {
      "provenance": []
    },
    "kernelspec": {
      "display_name": "Python 3",
      "language": "python",
      "name": "python3"
    },
    "language_info": {
      "codemirror_mode": {
        "name": "ipython",
        "version": 3
      },
      "file_extension": ".py",
      "mimetype": "text/x-python",
      "name": "python",
      "nbconvert_exporter": "python",
      "pygments_lexer": "ipython3",
      "version": "3.10.7"
    },
    "orig_nbformat": 4,
    "vscode": {
      "interpreter": {
        "hash": "aee8b7b246df8f9039afb4144a1f6fd8d2ca17a180786b69acc140d282b71a49"
      }
    }
  },
  "nbformat": 4,
  "nbformat_minor": 0
}
